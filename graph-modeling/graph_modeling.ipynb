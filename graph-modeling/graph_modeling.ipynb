{
 "cells": [
  {
   "cell_type": "code",
   "execution_count": 3,
   "metadata": {},
   "outputs": [],
   "source": [
    "import networkx as nx\n",
    "import pandas as pd\n",
    "import random\n",
    "import torch\n",
    "import pickle"
   ]
  },
  {
   "attachments": {},
   "cell_type": "markdown",
   "metadata": {},
   "source": [
    "## Load W Start Time"
   ]
  },
  {
   "cell_type": "code",
   "execution_count": 25,
   "metadata": {},
   "outputs": [],
   "source": [
    "### import parquet file\n",
    "unsw_w_st = pd.read_parquet(\"C:\\\\Users\\\\asus\\\\Documents\\\\nids-pcap-dataset\\\\unsw_parquet_used_dataset\\\\labeled_w_start_time.parquet\",)"
   ]
  },
  {
   "cell_type": "code",
   "execution_count": 26,
   "metadata": {},
   "outputs": [
    {
     "data": {
      "text/html": [
       "<div>\n",
       "<style scoped>\n",
       "    .dataframe tbody tr th:only-of-type {\n",
       "        vertical-align: middle;\n",
       "    }\n",
       "\n",
       "    .dataframe tbody tr th {\n",
       "        vertical-align: top;\n",
       "    }\n",
       "\n",
       "    .dataframe thead th {\n",
       "        text-align: right;\n",
       "    }\n",
       "</style>\n",
       "<table border=\"1\" class=\"dataframe\">\n",
       "  <thead>\n",
       "    <tr style=\"text-align: right;\">\n",
       "      <th></th>\n",
       "      <th>source_ip</th>\n",
       "      <th>destination_ip</th>\n",
       "      <th>source_port</th>\n",
       "      <th>destination_port</th>\n",
       "      <th>protocol_x</th>\n",
       "      <th>info_message</th>\n",
       "      <th>attack_category</th>\n",
       "      <th>is_malware</th>\n",
       "      <th>source_ip_info</th>\n",
       "      <th>source_port_info</th>\n",
       "    </tr>\n",
       "  </thead>\n",
       "  <tbody>\n",
       "    <tr>\n",
       "      <th>0</th>\n",
       "      <td>149.171.126.18</td>\n",
       "      <td>175.45.176.1</td>\n",
       "      <td>80</td>\n",
       "      <td>4657</td>\n",
       "      <td>HTTP</td>\n",
       "      <td>HTTP/1.1 200 OK [Malformed Packet]</td>\n",
       "      <td>NaN</td>\n",
       "      <td>0</td>\n",
       "      <td>149.171.126.18 HTTP/1.1 200 OK [Malformed Packet]</td>\n",
       "      <td>80 HTTP/1.1 200 OK [Malformed Packet]</td>\n",
       "    </tr>\n",
       "    <tr>\n",
       "      <th>1</th>\n",
       "      <td>175.45.176.1</td>\n",
       "      <td>149.171.126.18</td>\n",
       "      <td>4657</td>\n",
       "      <td>80</td>\n",
       "      <td>HTTP</td>\n",
       "      <td>GET /oKmwKoVbq HTTP/1.1</td>\n",
       "      <td>NaN</td>\n",
       "      <td>0</td>\n",
       "      <td>175.45.176.1 GET /oKmwKoVbq HTTP/1.1</td>\n",
       "      <td>4657 GET /oKmwKoVbq HTTP/1.1</td>\n",
       "    </tr>\n",
       "    <tr>\n",
       "      <th>2</th>\n",
       "      <td>175.45.176.3</td>\n",
       "      <td>149.171.126.18</td>\n",
       "      <td>32473</td>\n",
       "      <td>80</td>\n",
       "      <td>HTTP</td>\n",
       "      <td>GET /level/15/exec/-/buffers/assigned/dump HTT...</td>\n",
       "      <td>NaN</td>\n",
       "      <td>0</td>\n",
       "      <td>175.45.176.3 GET /level/15/exec/-/buffers/assi...</td>\n",
       "      <td>32473 GET /level/15/exec/-/buffers/assigned/du...</td>\n",
       "    </tr>\n",
       "    <tr>\n",
       "      <th>3</th>\n",
       "      <td>175.45.176.2</td>\n",
       "      <td>149.171.126.19</td>\n",
       "      <td>59386</td>\n",
       "      <td>8020</td>\n",
       "      <td>HTTP</td>\n",
       "      <td>POST /HttpFileUpload/FileUploadController.do H...</td>\n",
       "      <td>NaN</td>\n",
       "      <td>0</td>\n",
       "      <td>175.45.176.2 POST /HttpFileUpload/FileUploadCo...</td>\n",
       "      <td>59386 POST /HttpFileUpload/FileUploadControlle...</td>\n",
       "    </tr>\n",
       "    <tr>\n",
       "      <th>4</th>\n",
       "      <td>149.171.126.14</td>\n",
       "      <td>175.45.176.0</td>\n",
       "      <td>80</td>\n",
       "      <td>21873</td>\n",
       "      <td>HTTP</td>\n",
       "      <td>[TCP ACKed unseen segment] HTTP/1.1 200 OK  (t...</td>\n",
       "      <td>NaN</td>\n",
       "      <td>0</td>\n",
       "      <td>149.171.126.14 [TCP ACKed unseen segment] HTTP...</td>\n",
       "      <td>80 [TCP ACKed unseen segment] HTTP/1.1 200 OK ...</td>\n",
       "    </tr>\n",
       "  </tbody>\n",
       "</table>\n",
       "</div>"
      ],
      "text/plain": [
       "        source_ip  destination_ip source_port  destination_port protocol_x   \n",
       "0  149.171.126.18    175.45.176.1          80              4657       HTTP  \\\n",
       "1    175.45.176.1  149.171.126.18        4657                80       HTTP   \n",
       "2    175.45.176.3  149.171.126.18       32473                80       HTTP   \n",
       "3    175.45.176.2  149.171.126.19       59386              8020       HTTP   \n",
       "4  149.171.126.14    175.45.176.0          80             21873       HTTP   \n",
       "\n",
       "                                        info_message attack_category   \n",
       "0                 HTTP/1.1 200 OK [Malformed Packet]             NaN  \\\n",
       "1                           GET /oKmwKoVbq HTTP/1.1              NaN   \n",
       "2  GET /level/15/exec/-/buffers/assigned/dump HTT...             NaN   \n",
       "3  POST /HttpFileUpload/FileUploadController.do H...             NaN   \n",
       "4  [TCP ACKed unseen segment] HTTP/1.1 200 OK  (t...             NaN   \n",
       "\n",
       "   is_malware                                     source_ip_info   \n",
       "0           0  149.171.126.18 HTTP/1.1 200 OK [Malformed Packet]  \\\n",
       "1           0              175.45.176.1 GET /oKmwKoVbq HTTP/1.1    \n",
       "2           0  175.45.176.3 GET /level/15/exec/-/buffers/assi...   \n",
       "3           0  175.45.176.2 POST /HttpFileUpload/FileUploadCo...   \n",
       "4           0  149.171.126.14 [TCP ACKed unseen segment] HTTP...   \n",
       "\n",
       "                                    source_port_info  \n",
       "0              80 HTTP/1.1 200 OK [Malformed Packet]  \n",
       "1                      4657 GET /oKmwKoVbq HTTP/1.1   \n",
       "2  32473 GET /level/15/exec/-/buffers/assigned/du...  \n",
       "3  59386 POST /HttpFileUpload/FileUploadControlle...  \n",
       "4  80 [TCP ACKed unseen segment] HTTP/1.1 200 OK ...  "
      ]
     },
     "execution_count": 26,
     "metadata": {},
     "output_type": "execute_result"
    }
   ],
   "source": [
    "unsw_w_st.head()"
   ]
  },
  {
   "attachments": {},
   "cell_type": "markdown",
   "metadata": {},
   "source": [
    "## Graph Modeling"
   ]
  },
  {
   "cell_type": "code",
   "execution_count": 4,
   "metadata": {},
   "outputs": [],
   "source": [
    "import pickle"
   ]
  },
  {
   "attachments": {},
   "cell_type": "markdown",
   "metadata": {},
   "source": [
    "### nD w source_ip_info"
   ]
  },
  {
   "cell_type": "code",
   "execution_count": 27,
   "metadata": {},
   "outputs": [],
   "source": [
    "nD_unsw_w_st = unsw_w_st.drop_duplicates(subset=['source_ip_info'], keep='first')"
   ]
  },
  {
   "cell_type": "code",
   "execution_count": 28,
   "metadata": {},
   "outputs": [
    {
     "data": {
      "text/plain": [
       "is_malware\n",
       "0    15673\n",
       "1       93\n",
       "Name: count, dtype: int64"
      ]
     },
     "execution_count": 28,
     "metadata": {},
     "output_type": "execute_result"
    }
   ],
   "source": [
    "nD_unsw_w_st.is_malware.value_counts()"
   ]
  },
  {
   "attachments": {},
   "cell_type": "markdown",
   "metadata": {},
   "source": [
    "#### source ip as edge "
   ]
  },
  {
   "cell_type": "code",
   "execution_count": null,
   "metadata": {},
   "outputs": [],
   "source": [
    "nD_graph_w_st_ip = nx.Graph()\n",
    "\n",
    "for info_message in nD_unsw_w_st[\"info_message\"].unique():\n",
    "    nD_graph_w_st_ip.add_node(info_message)\n",
    "\n",
    "for (source_ip), group in nD_unsw_w_st.groupby([\"source_ip\"]):\n",
    "    for i in range(len(group) - 1):\n",
    "        from_node = group.iloc[i][\"info_message\"]\n",
    "        to_node = group.iloc[i+1][\"info_message\"]\n",
    "        if nD_graph_w_st_ip.has_edge(from_node, to_node):\n",
    "            nD_graph_w_st_ip[from_node][to_node][\"weight\"] += 1\n",
    "        else:\n",
    "            nD_graph_w_st_ip.add_edge(from_node, to_node, weight=1)"
   ]
  },
  {
   "cell_type": "code",
   "execution_count": 48,
   "metadata": {},
   "outputs": [],
   "source": [
    "# Create a new undirected graph\n",
    "nD_graph_w_st_ip = nx.Graph()\n",
    "node_features = []\n",
    "\n",
    "# Add nodes for each unique info_message\n",
    "for source_ip_info in nD_unsw_w_st[\"source_ip_info\"].unique():\n",
    "    # Get the corresponding is_malware value for the info_message\n",
    "    is_malware = nD_unsw_w_st[nD_unsw_w_st[\"source_ip_info\"] == source_ip_info][\"is_malware\"].iloc[0]\n",
    "    # Add the node with the is_malware value as an attribute\n",
    "    nD_graph_w_st_ip.add_node(source_ip_info, is_malware=is_malware)\n",
    "    # Assign node feature value based on is_malware\n",
    "    # node_features.append([float(is_malware)]) \n",
    "    node_features.append([float(random.random())]) # Use float conversion if needed\n",
    "\n",
    "# Add edges for each unique combination of source_ip and source_port\n",
    "for (source_ip), group in nD_unsw_w_st.groupby([\"source_ip\"]):\n",
    "    # Add edges between each pair of adjacent nodes in the group\n",
    "    for i in range(len(group) - 1):\n",
    "        from_node = group.iloc[i][\"source_ip_info\"]\n",
    "        to_node = group.iloc[i+1][\"source_ip_info\"]\n",
    "        # Add the edge with the correct weight\n",
    "        if nD_graph_w_st_ip.has_edge(from_node, to_node):\n",
    "            nD_graph_w_st_ip[from_node][to_node][\"weight\"] += 1\n",
    "        else:\n",
    "            nD_graph_w_st_ip.add_edge(from_node, to_node, weight=1)"
   ]
  },
  {
   "cell_type": "code",
   "execution_count": 49,
   "metadata": {},
   "outputs": [],
   "source": [
    "pickle.dump(nD_graph_w_st_ip, open('graph_modeling/nD_graph_w_st_ip.pickle', 'wb'))"
   ]
  },
  {
   "cell_type": "code",
   "execution_count": 50,
   "metadata": {},
   "outputs": [],
   "source": [
    "node_features_tensor = torch.tensor(node_features)"
   ]
  },
  {
   "cell_type": "code",
   "execution_count": 51,
   "metadata": {},
   "outputs": [],
   "source": [
    "torch.save(node_features_tensor, 'graph_modeling/nD_graph_w_st/node_features_ip.pt')"
   ]
  },
  {
   "cell_type": "code",
   "execution_count": 52,
   "metadata": {},
   "outputs": [
    {
     "name": "stdout",
     "output_type": "stream",
     "text": [
      "Isolated nodes: 0 \n",
      "\n"
     ]
    }
   ],
   "source": [
    "# Get a list of nodes with no edges\n",
    "isolated_nodes = list(nx.isolates(nD_graph_w_st_ip))\n",
    "\n",
    "# Print the isolated nodes\n",
    "print(\"Isolated nodes:\", len(isolated_nodes), \"\\n\")"
   ]
  },
  {
   "cell_type": "code",
   "execution_count": 53,
   "metadata": {},
   "outputs": [
    {
     "name": "stdout",
     "output_type": "stream",
     "text": [
      "Number of nodes: 15766 \n",
      "\n"
     ]
    }
   ],
   "source": [
    "# get the number of nodes in the graph\n",
    "print(\"Number of nodes:\", len(nD_graph_w_st_ip.nodes()), \"\\n\")"
   ]
  },
  {
   "attachments": {},
   "cell_type": "markdown",
   "metadata": {},
   "source": [
    "#### source port as edge"
   ]
  },
  {
   "cell_type": "code",
   "execution_count": null,
   "metadata": {},
   "outputs": [],
   "source": [
    "nD_graph_w_st_port = nx.Graph()\n",
    "for info_message in nD_unsw_w_st[\"info_message\"].unique():\n",
    "    nD_graph_w_st_port.add_node(info_message)\n",
    "\n",
    "for (source_port), group in nD_unsw_w_st.groupby([\"source_port\"]):\n",
    "    for i in range(len(group) - 1):\n",
    "        from_node = group.iloc[i][\"info_message\"]\n",
    "        to_node = group.iloc[i+1][\"info_message\"]\n",
    "        if nD_graph_w_st_port.has_edge(from_node, to_node):\n",
    "            nD_graph_w_st_port[from_node][to_node][\"weight\"] += 1\n",
    "        else:\n",
    "            nD_graph_w_st_port.add_edge(from_node, to_node, weight=1)"
   ]
  },
  {
   "cell_type": "code",
   "execution_count": null,
   "metadata": {},
   "outputs": [],
   "source": [
    "# Get a list of nodes with no edges\n",
    "isolated_nodes = list(nx.isolates(nD_graph_w_st_port))\n",
    "\n",
    "# Print the isolated nodes\n",
    "print(\"Isolated nodes:\", len(isolated_nodes), \"\\n\")"
   ]
  },
  {
   "cell_type": "code",
   "execution_count": null,
   "metadata": {},
   "outputs": [],
   "source": [
    "# get the number of nodes in the graph\n",
    "print(\"Number of nodes:\", len(nD_graph_w_st_port.nodes()), \"\\n\")"
   ]
  },
  {
   "cell_type": "code",
   "execution_count": null,
   "metadata": {},
   "outputs": [],
   "source": [
    "pickle.dump(nD_graph_w_st_port, open('graph_modeling/nD_graph_w_st_port.pickle', 'wb'))"
   ]
  },
  {
   "attachments": {},
   "cell_type": "markdown",
   "metadata": {},
   "source": [
    "#### source port & source ip as edge"
   ]
  },
  {
   "cell_type": "code",
   "execution_count": null,
   "metadata": {},
   "outputs": [],
   "source": [
    "nD_graph_w_st_ip_port = nx.Graph()\n",
    "\n",
    "for info_message in nD_unsw_w_st[\"info_message\"].unique():\n",
    "    nD_graph_w_st_ip_port.add_node(info_message, is_malware=is_malware)\n",
    "\n",
    "for (source_ip, source_port), group in nD_unsw_w_st.groupby([\"source_ip\", \"source_port\"]):\n",
    "    for i in range(len(group) - 1):\n",
    "        from_node = group.iloc[i][\"info_message\"]\n",
    "        to_node = group.iloc[i+1][\"info_message\"]\n",
    "        if nD_graph_w_st_ip_port.has_edge(from_node, to_node):\n",
    "            nD_graph_w_st_ip_port[from_node][to_node][\"weight\"] += 1\n",
    "        else:\n",
    "            nD_graph_w_st_ip_port.add_edge(from_node, to_node, weight=1)"
   ]
  },
  {
   "cell_type": "code",
   "execution_count": null,
   "metadata": {},
   "outputs": [],
   "source": [
    "# Get a list of nodes with no edges\n",
    "isolated_nodes = list(nx.isolates(nD_graph_w_st_ip_port))\n",
    "\n",
    "# Print the isolated nodes\n",
    "print(\"Isolated nodes:\", len(isolated_nodes), \"\\n\")"
   ]
  },
  {
   "cell_type": "code",
   "execution_count": null,
   "metadata": {},
   "outputs": [],
   "source": [
    "# get the number of nodes in the graph\n",
    "print(\"Number of nodes:\", len(nD_graph_w_st_ip_port.nodes()), \"\\n\")"
   ]
  },
  {
   "cell_type": "code",
   "execution_count": null,
   "metadata": {},
   "outputs": [],
   "source": [
    "pickle.dump(nD_graph_w_st_port, open('graph_modeling/nD_graph_w_st_ip_port.pickle', 'wb'))"
   ]
  },
  {
   "attachments": {},
   "cell_type": "markdown",
   "metadata": {},
   "source": [
    "## Load WO Start Time"
   ]
  },
  {
   "cell_type": "code",
   "execution_count": 4,
   "metadata": {},
   "outputs": [],
   "source": [
    "### import parquet file\n",
    "unsw_wo_st = pd.read_parquet(\"C:\\\\Users\\\\asus\\\\Documents\\\\nids-pcap-dataset\\\\unsw_parquet_used_dataset\\\\labeled_wo_start_time.parquet\",)"
   ]
  },
  {
   "cell_type": "code",
   "execution_count": 5,
   "metadata": {},
   "outputs": [
    {
     "data": {
      "text/html": [
       "<div>\n",
       "<style scoped>\n",
       "    .dataframe tbody tr th:only-of-type {\n",
       "        vertical-align: middle;\n",
       "    }\n",
       "\n",
       "    .dataframe tbody tr th {\n",
       "        vertical-align: top;\n",
       "    }\n",
       "\n",
       "    .dataframe thead th {\n",
       "        text-align: right;\n",
       "    }\n",
       "</style>\n",
       "<table border=\"1\" class=\"dataframe\">\n",
       "  <thead>\n",
       "    <tr style=\"text-align: right;\">\n",
       "      <th></th>\n",
       "      <th>source_ip</th>\n",
       "      <th>destination_ip</th>\n",
       "      <th>source_port</th>\n",
       "      <th>destination_port</th>\n",
       "      <th>protocol_x</th>\n",
       "      <th>info_message</th>\n",
       "      <th>attack_category</th>\n",
       "      <th>is_malware</th>\n",
       "      <th>source_ip_info</th>\n",
       "      <th>source_port_info</th>\n",
       "    </tr>\n",
       "  </thead>\n",
       "  <tbody>\n",
       "    <tr>\n",
       "      <th>0</th>\n",
       "      <td>149.171.126.18</td>\n",
       "      <td>175.45.176.1</td>\n",
       "      <td>80</td>\n",
       "      <td>4657</td>\n",
       "      <td>HTTP</td>\n",
       "      <td>HTTP/1.1 200 OK [Malformed Packet]</td>\n",
       "      <td>NaN</td>\n",
       "      <td>0</td>\n",
       "      <td>149.171.126.18 HTTP/1.1 200 OK [Malformed Packet]</td>\n",
       "      <td>80 HTTP/1.1 200 OK [Malformed Packet]</td>\n",
       "    </tr>\n",
       "    <tr>\n",
       "      <th>1</th>\n",
       "      <td>175.45.176.1</td>\n",
       "      <td>149.171.126.18</td>\n",
       "      <td>4657</td>\n",
       "      <td>80</td>\n",
       "      <td>HTTP</td>\n",
       "      <td>GET /oKmwKoVbq HTTP/1.1</td>\n",
       "      <td>NaN</td>\n",
       "      <td>0</td>\n",
       "      <td>175.45.176.1 GET /oKmwKoVbq HTTP/1.1</td>\n",
       "      <td>4657 GET /oKmwKoVbq HTTP/1.1</td>\n",
       "    </tr>\n",
       "    <tr>\n",
       "      <th>2</th>\n",
       "      <td>175.45.176.3</td>\n",
       "      <td>149.171.126.18</td>\n",
       "      <td>32473</td>\n",
       "      <td>80</td>\n",
       "      <td>HTTP</td>\n",
       "      <td>GET /level/15/exec/-/buffers/assigned/dump HTT...</td>\n",
       "      <td>NaN</td>\n",
       "      <td>0</td>\n",
       "      <td>175.45.176.3 GET /level/15/exec/-/buffers/assi...</td>\n",
       "      <td>32473 GET /level/15/exec/-/buffers/assigned/du...</td>\n",
       "    </tr>\n",
       "    <tr>\n",
       "      <th>3</th>\n",
       "      <td>175.45.176.2</td>\n",
       "      <td>149.171.126.19</td>\n",
       "      <td>59386</td>\n",
       "      <td>8020</td>\n",
       "      <td>HTTP</td>\n",
       "      <td>POST /HttpFileUpload/FileUploadController.do H...</td>\n",
       "      <td>NaN</td>\n",
       "      <td>0</td>\n",
       "      <td>175.45.176.2 POST /HttpFileUpload/FileUploadCo...</td>\n",
       "      <td>59386 POST /HttpFileUpload/FileUploadControlle...</td>\n",
       "    </tr>\n",
       "    <tr>\n",
       "      <th>4</th>\n",
       "      <td>149.171.126.14</td>\n",
       "      <td>175.45.176.0</td>\n",
       "      <td>80</td>\n",
       "      <td>21873</td>\n",
       "      <td>HTTP</td>\n",
       "      <td>[TCP ACKed unseen segment] HTTP/1.1 200 OK  (t...</td>\n",
       "      <td>NaN</td>\n",
       "      <td>0</td>\n",
       "      <td>149.171.126.14 [TCP ACKed unseen segment] HTTP...</td>\n",
       "      <td>80 [TCP ACKed unseen segment] HTTP/1.1 200 OK ...</td>\n",
       "    </tr>\n",
       "  </tbody>\n",
       "</table>\n",
       "</div>"
      ],
      "text/plain": [
       "        source_ip  destination_ip source_port  destination_port protocol_x   \n",
       "0  149.171.126.18    175.45.176.1          80              4657       HTTP  \\\n",
       "1    175.45.176.1  149.171.126.18        4657                80       HTTP   \n",
       "2    175.45.176.3  149.171.126.18       32473                80       HTTP   \n",
       "3    175.45.176.2  149.171.126.19       59386              8020       HTTP   \n",
       "4  149.171.126.14    175.45.176.0          80             21873       HTTP   \n",
       "\n",
       "                                        info_message attack_category   \n",
       "0                 HTTP/1.1 200 OK [Malformed Packet]             NaN  \\\n",
       "1                           GET /oKmwKoVbq HTTP/1.1              NaN   \n",
       "2  GET /level/15/exec/-/buffers/assigned/dump HTT...             NaN   \n",
       "3  POST /HttpFileUpload/FileUploadController.do H...             NaN   \n",
       "4  [TCP ACKed unseen segment] HTTP/1.1 200 OK  (t...             NaN   \n",
       "\n",
       "   is_malware                                     source_ip_info   \n",
       "0           0  149.171.126.18 HTTP/1.1 200 OK [Malformed Packet]  \\\n",
       "1           0              175.45.176.1 GET /oKmwKoVbq HTTP/1.1    \n",
       "2           0  175.45.176.3 GET /level/15/exec/-/buffers/assi...   \n",
       "3           0  175.45.176.2 POST /HttpFileUpload/FileUploadCo...   \n",
       "4           0  149.171.126.14 [TCP ACKed unseen segment] HTTP...   \n",
       "\n",
       "                                    source_port_info  \n",
       "0              80 HTTP/1.1 200 OK [Malformed Packet]  \n",
       "1                      4657 GET /oKmwKoVbq HTTP/1.1   \n",
       "2  32473 GET /level/15/exec/-/buffers/assigned/du...  \n",
       "3  59386 POST /HttpFileUpload/FileUploadControlle...  \n",
       "4  80 [TCP ACKed unseen segment] HTTP/1.1 200 OK ...  "
      ]
     },
     "execution_count": 5,
     "metadata": {},
     "output_type": "execute_result"
    }
   ],
   "source": [
    "unsw_wo_st.head()"
   ]
  },
  {
   "cell_type": "code",
   "execution_count": 6,
   "metadata": {},
   "outputs": [
    {
     "data": {
      "text/plain": [
       "is_malware\n",
       "0    472933\n",
       "1     17093\n",
       "Name: count, dtype: int64"
      ]
     },
     "execution_count": 6,
     "metadata": {},
     "output_type": "execute_result"
    }
   ],
   "source": [
    "unsw_wo_st.is_malware.value_counts()"
   ]
  },
  {
   "attachments": {},
   "cell_type": "markdown",
   "metadata": {},
   "source": [
    "## Graph Modeling Source IP and Info Message"
   ]
  },
  {
   "attachments": {},
   "cell_type": "markdown",
   "metadata": {},
   "source": [
    "### nD w source_ip_info"
   ]
  },
  {
   "cell_type": "code",
   "execution_count": 7,
   "metadata": {},
   "outputs": [],
   "source": [
    "nD_unsw_wo_st = unsw_wo_st.drop_duplicates(subset=['source_ip_info'])"
   ]
  },
  {
   "cell_type": "code",
   "execution_count": 8,
   "metadata": {},
   "outputs": [
    {
     "data": {
      "text/plain": [
       "is_malware\n",
       "1    10707\n",
       "0     5059\n",
       "Name: count, dtype: int64"
      ]
     },
     "execution_count": 8,
     "metadata": {},
     "output_type": "execute_result"
    }
   ],
   "source": [
    "nD_unsw_wo_st.is_malware.value_counts()"
   ]
  },
  {
   "attachments": {},
   "cell_type": "markdown",
   "metadata": {},
   "source": [
    "#### source ip as edge "
   ]
  },
  {
   "cell_type": "code",
   "execution_count": null,
   "metadata": {},
   "outputs": [],
   "source": [
    "# Create a new undirected graph\n",
    "nD_graph_wo_st_ip = nx.Graph()\n",
    "\n",
    "# Add nodes for each unique info_message\n",
    "for source_ip_info in nD_unsw_wo_st[\"source_ip_info\"].unique():\n",
    "    # Get the corresponding is_malware value for the info_message\n",
    "    is_malware = nD_unsw_wo_st[nD_unsw_wo_st[\"source_ip_info\"] == source_ip_info][\"is_malware\"].iloc[0]\n",
    "    # Add the node with the is_malware value as an attribute\n",
    "    nD_graph_wo_st_ip.add_node(source_ip_info, is_malware=is_malware)\n",
    "\n",
    "# Add edges for each unique combination of source_ip and source_port\n",
    "for (source_ip), group in nD_unsw_wo_st.groupby([\"source_ip\"]):\n",
    "    # Add edges between each pair of adjacent nodes in the group\n",
    "    for i in range(len(group) - 1):\n",
    "        from_node = group.iloc[i][\"source_ip_info\"]\n",
    "        to_node = group.iloc[i+1][\"source_ip_info\"]\n",
    "        # Add the edge with the correct weight\n",
    "        if nD_graph_wo_st_ip.has_edge(from_node, to_node):\n",
    "            nD_graph_wo_st_ip[from_node][to_node][\"weight\"] += 1\n",
    "        else:\n",
    "            nD_graph_wo_st_ip.add_edge(from_node, to_node, weight=1)"
   ]
  },
  {
   "cell_type": "code",
   "execution_count": 72,
   "metadata": {},
   "outputs": [],
   "source": [
    "# Create a new undirected graph\n",
    "nD_graph_wo_st_ip = nx.Graph()\n",
    "node_features = []\n",
    "\n",
    "# Add nodes for each unique info_message\n",
    "for source_ip_info in nD_unsw_wo_st[\"source_ip_info\"].unique():\n",
    "    # Get the corresponding is_malware value for the info_message\n",
    "    is_malware = nD_unsw_wo_st[nD_unsw_wo_st[\"source_ip_info\"] == source_ip_info][\"is_malware\"].iloc[0]\n",
    "    # Add the node with the is_malware value as an attribute\n",
    "    nD_graph_wo_st_ip.add_node(source_ip_info, is_malware=is_malware)\n",
    "    # Assign node feature value based on is_malware\n",
    "    # node_features.append([float(is_malware)])\n",
    "    # node_features.append([float(1.0)])\n",
    "    node_features.append([float(len(source_ip_info))]) \n",
    "    # node_features.append([[float(random.random())]]) # Use float conversion if needed\n",
    "\n",
    "# Add edges for each unique combination of source_ip and source_port\n",
    "for (source_ip), group in nD_unsw_wo_st.groupby([\"source_ip\"]):\n",
    "    for i in range(len(group) - 1):\n",
    "        from_node = group.iloc[i][\"source_ip_info\"]\n",
    "        to_node = group.iloc[i+1][\"source_ip_info\"]\n",
    "        # Add the edge with the correct weight\n",
    "        if nD_graph_wo_st_ip.has_edge(from_node, to_node):\n",
    "            nD_graph_wo_st_ip[from_node][to_node][\"weight\"] += 1\n",
    "        else:\n",
    "            nD_graph_wo_st_ip.add_edge(from_node, to_node, weight=1)"
   ]
  },
  {
   "cell_type": "code",
   "execution_count": 73,
   "metadata": {},
   "outputs": [],
   "source": [
    "import torch"
   ]
  },
  {
   "cell_type": "code",
   "execution_count": 74,
   "metadata": {},
   "outputs": [],
   "source": [
    "import pickle"
   ]
  },
  {
   "cell_type": "code",
   "execution_count": 75,
   "metadata": {},
   "outputs": [],
   "source": [
    "node_features_tensor = torch.tensor(node_features)"
   ]
  },
  {
   "cell_type": "code",
   "execution_count": 76,
   "metadata": {},
   "outputs": [],
   "source": [
    "node_features_tensor = torch.nn.functional.normalize(node_features_tensor, p=4.0, dim=0, eps=1e-12, out=None)"
   ]
  },
  {
   "cell_type": "code",
   "execution_count": 63,
   "metadata": {},
   "outputs": [],
   "source": [
    "# node_feature_tensor = node_features_tensor.unsqueeze(1)"
   ]
  },
  {
   "cell_type": "code",
   "execution_count": null,
   "metadata": {},
   "outputs": [
    {
     "name": "stdout",
     "output_type": "stream",
     "text": [
      "0.089242    15766\n",
      "Name: count, dtype: int64\n"
     ]
    }
   ],
   "source": [
    "# Convert the node_features_tensor to a pandas Series\n",
    "node_features_series = pd.Series(node_features_tensor.tolist())\n",
    "\n",
    "# Use the value_counts() method to get the count of unique values\n",
    "value_counts = node_features_series.value_counts()\n",
    "\n",
    "# Print the value counts\n",
    "print(value_counts)"
   ]
  },
  {
   "cell_type": "code",
   "execution_count": 77,
   "metadata": {},
   "outputs": [],
   "source": [
    "torch.save(node_features_tensor, 'graph_modeling/nD_graph_wo_st/node_features_ip.pt')"
   ]
  },
  {
   "cell_type": "code",
   "execution_count": 78,
   "metadata": {},
   "outputs": [],
   "source": [
    "pickle.dump(nD_graph_wo_st_ip, open('graph_modeling/nD_graph_wo_st/nD_graph_wo_st_ip.pickle', 'wb'))"
   ]
  },
  {
   "cell_type": "code",
   "execution_count": 79,
   "metadata": {},
   "outputs": [
    {
     "name": "stdout",
     "output_type": "stream",
     "text": [
      "Isolated nodes: 0 \n",
      "\n"
     ]
    }
   ],
   "source": [
    "# Get a list of nodes with no edges\n",
    "isolated_nodes = list(nx.isolates(nD_graph_wo_st_ip))\n",
    "\n",
    "# Print the isolated nodes\n",
    "print(\"Isolated nodes:\", len(isolated_nodes), \"\\n\")"
   ]
  },
  {
   "cell_type": "code",
   "execution_count": 80,
   "metadata": {},
   "outputs": [
    {
     "name": "stdout",
     "output_type": "stream",
     "text": [
      "Number of nodes: 15766 \n",
      "\n"
     ]
    }
   ],
   "source": [
    "# get the number of nodes in the graph\n",
    "print(\"Number of nodes:\", len(nD_graph_wo_st_ip.nodes()), \"\\n\")"
   ]
  },
  {
   "attachments": {},
   "cell_type": "markdown",
   "metadata": {},
   "source": [
    "#### source port as edge "
   ]
  },
  {
   "cell_type": "code",
   "execution_count": null,
   "metadata": {},
   "outputs": [],
   "source": [
    "# Create a new undirected graph\n",
    "nD_graph_wo_st_port = nx.Graph()\n",
    "\n",
    "# Add nodes for each unique source_ip_info\n",
    "for source_ip_info in nD_unsw_wo_st[\"source_ip_info\"].unique():\n",
    "    # Get the corresponding is_malware value for the source_ip_info\n",
    "    is_malware = nD_unsw_wo_st[nD_unsw_wo_st[\"source_ip_info\"] == source_ip_info][\"is_malware\"].iloc[0]\n",
    "    # Add the node with the is_malware value as an attribute\n",
    "    nD_graph_wo_st_port.add_node(source_ip_info, is_malware=is_malware)\n",
    "\n",
    "# Add edges for each unique combination of source_ip and source_port\n",
    "for (source_port), group in nD_unsw_wo_st.groupby([\"source_port\"]):\n",
    "    # Add edges between each pair of adjacent nodes in the group\n",
    "    for i in range(len(group) - 1):\n",
    "        from_node = group.iloc[i][\"source_ip_info\"]\n",
    "        to_node = group.iloc[i+1][\"source_ip_info\"]\n",
    "        # Add the edge with the correct weight\n",
    "        if nD_graph_wo_st_port.has_edge(from_node, to_node):\n",
    "            nD_graph_wo_st_port[from_node][to_node][\"weight\"] += 1\n",
    "        else:\n",
    "            nD_graph_wo_st_port.add_edge(from_node, to_node, weight=1)"
   ]
  },
  {
   "cell_type": "code",
   "execution_count": null,
   "metadata": {},
   "outputs": [],
   "source": [
    "# Get a list of nodes with no edges\n",
    "isolated_nodes = list(nx.isolates(nD_graph_wo_st_port))\n",
    "\n",
    "# Print the isolated nodes\n",
    "print(\"Isolated nodes:\", len(isolated_nodes), \"\\n\")"
   ]
  },
  {
   "cell_type": "code",
   "execution_count": null,
   "metadata": {},
   "outputs": [],
   "source": [
    "# get the number of nodes in the graph\n",
    "print(\"Number of nodes:\", len(nD_graph_wo_st_port.nodes()), \"\\n\")"
   ]
  },
  {
   "cell_type": "code",
   "execution_count": null,
   "metadata": {},
   "outputs": [],
   "source": [
    "pickle.dump(nD_graph_wo_st_port, open('graph_modeling/nD_graph_wo_st/nD_graph_wo_st_port.pickle', 'wb'))"
   ]
  },
  {
   "attachments": {},
   "cell_type": "markdown",
   "metadata": {},
   "source": [
    "#### source ip & source port as edge"
   ]
  },
  {
   "cell_type": "code",
   "execution_count": null,
   "metadata": {},
   "outputs": [],
   "source": [
    "# Create a new undirected graph\n",
    "nD_graph_wo_st_ip_port = nx.Graph()\n",
    "\n",
    "# Add nodes for each unique source_ip_info\n",
    "for source_ip_info in nD_unsw_wo_st[\"source_ip_info\"].unique():\n",
    "    # Get the corresponding is_malware value for the source_ip_info\n",
    "    is_malware = nD_unsw_wo_st[nD_unsw_wo_st[\"source_ip_info\"] == source_ip_info][\"is_malware\"].iloc[0]\n",
    "    # Add the node with the is_malware value as an attribute\n",
    "    nD_graph_wo_st_ip_port.add_node(source_ip_info, is_malware=is_malware)\n",
    "\n",
    "# Add edges for each unique combination of source_ip and source_port\n",
    "for (source_ip, source_port), group in nD_unsw_wo_st.groupby([\"source_ip\", \"source_port\"]):\n",
    "    # Add edges between each pair ofac adjent nodes in the group\n",
    "    for i in range(len(group) - 1):\n",
    "        from_node = group.iloc[i][\"source_ip_info\"]\n",
    "        to_node = group.iloc[i+1][\"source_ip_info\"]\n",
    "        # Add the edge with the correct weight\n",
    "        if nD_graph_wo_st_ip_port.has_edge(from_node, to_node):\n",
    "            nD_graph_wo_st_ip_port[from_node][to_node][\"weight\"] += 1\n",
    "        else:\n",
    "            nD_graph_wo_st_ip_port.add_edge(from_node, to_node, weight=1)"
   ]
  },
  {
   "cell_type": "code",
   "execution_count": null,
   "metadata": {},
   "outputs": [],
   "source": [
    "# Get a list of nodes with no edges\n",
    "isolated_nodes = list(nx.isolates(nD_graph_wo_st_ip_port))\n",
    "\n",
    "# Print the isolated nodes\n",
    "print(\"Isolated nodes:\", len(isolated_nodes), \"\\n\")"
   ]
  },
  {
   "cell_type": "code",
   "execution_count": null,
   "metadata": {},
   "outputs": [],
   "source": [
    "# get the number of nodes in the graph\n",
    "print(\"Number of nodes:\", len(nD_graph_wo_st_port.nodes()), \"\\n\")"
   ]
  },
  {
   "cell_type": "code",
   "execution_count": null,
   "metadata": {},
   "outputs": [],
   "source": [
    "pickle.dump(nD_graph_wo_st_ip_port, open('graph_modeling/nD_graph_wo_st/nD_graph_wo_st_ip_port.pickle', 'wb'))"
   ]
  },
  {
   "attachments": {},
   "cell_type": "markdown",
   "metadata": {},
   "source": [
    "## Graph Modeling Source Port and Info Message"
   ]
  },
  {
   "cell_type": "code",
   "execution_count": 7,
   "metadata": {},
   "outputs": [],
   "source": [
    "nD_unsw_spi_wo_st = unsw_wo_st.drop_duplicates(subset=['source_port_info'])"
   ]
  },
  {
   "cell_type": "code",
   "execution_count": 8,
   "metadata": {},
   "outputs": [
    {
     "data": {
      "text/plain": [
       "is_malware\n",
       "0    81167\n",
       "1    15336\n",
       "Name: count, dtype: int64"
      ]
     },
     "execution_count": 8,
     "metadata": {},
     "output_type": "execute_result"
    }
   ],
   "source": [
    "nD_unsw_spi_wo_st.is_malware.value_counts()"
   ]
  },
  {
   "attachments": {},
   "cell_type": "markdown",
   "metadata": {},
   "source": [
    "#### source ip as edge"
   ]
  },
  {
   "cell_type": "code",
   "execution_count": 30,
   "metadata": {},
   "outputs": [],
   "source": [
    "# Create a new undirected graph\n",
    "nD_graph_spi_wo_st_ip = nx.Graph()\n",
    "node_features = []\n",
    "\n",
    "# Add nodes for each unique info_message\n",
    "for source_ip_info in nD_unsw_spi_wo_st[\"source_port_info\"].unique():\n",
    "    # Get the corresponding is_malware value for the info_message\n",
    "    is_malware = nD_unsw_spi_wo_st[nD_unsw_spi_wo_st[\"source_port_info\"] == source_ip_info][\"is_malware\"].iloc[0]\n",
    "    # Add the node with the is_malware value as an attribute\n",
    "    nD_graph_spi_wo_st_ip.add_node(source_ip_info, is_malware=is_malware)\n",
    "    # Assign node feature value based on is_malware\n",
    "    node_features.append([float(is_malware)])\n",
    "    # node_features.append([float(1.0)]) \n",
    "    # node_features.append([float(random.random())]) # Use float conversion if needed\n",
    "\n",
    "# Add edges for each unique combination of source_ip and source_port\n",
    "for (source_ip), group in nD_unsw_spi_wo_st.groupby([\"source_ip\"]):\n",
    "    # Add edges between each pair of adjacent nodes in the group\n",
    "    for i in range(len(group) - 1):\n",
    "        from_node = group.iloc[i][\"source_port_info\"]\n",
    "        to_node = group.iloc[i+1][\"source_port_info\"]\n",
    "        # Add the edge with the correct weight\n",
    "        if nD_graph_spi_wo_st_ip.has_edge(from_node, to_node):\n",
    "            nD_graph_spi_wo_st_ip[from_node][to_node][\"weight\"] += 1\n",
    "        else:\n",
    "            nD_graph_spi_wo_st_ip.add_edge(from_node, to_node, weight=1)"
   ]
  },
  {
   "cell_type": "code",
   "execution_count": 31,
   "metadata": {},
   "outputs": [],
   "source": [
    "node_features_tensor = torch.tensor(node_features)"
   ]
  },
  {
   "cell_type": "code",
   "execution_count": 32,
   "metadata": {},
   "outputs": [],
   "source": [
    "torch.save(node_features_tensor, 'graph_modeling/nD_graph_wo_st/node_features_spi_ip.pt')"
   ]
  },
  {
   "cell_type": "code",
   "execution_count": 33,
   "metadata": {},
   "outputs": [],
   "source": [
    "pickle.dump(nD_graph_spi_wo_st_ip, open('graph_modeling/nD_graph_wo_st/nD_graph_spi_wo_st_ip.pickle', 'wb'))"
   ]
  },
  {
   "cell_type": "code",
   "execution_count": 34,
   "metadata": {},
   "outputs": [
    {
     "name": "stdout",
     "output_type": "stream",
     "text": [
      "Isolated nodes: 4 \n",
      "\n"
     ]
    }
   ],
   "source": [
    "# Get a list of nodes with no edges\n",
    "isolated_nodes = list(nx.isolates(nD_graph_spi_wo_st_ip))\n",
    "\n",
    "# Print the isolated nodes\n",
    "print(\"Isolated nodes:\", len(isolated_nodes), \"\\n\")"
   ]
  },
  {
   "cell_type": "code",
   "execution_count": 35,
   "metadata": {},
   "outputs": [
    {
     "name": "stdout",
     "output_type": "stream",
     "text": [
      "Number of nodes: 96503 \n",
      "\n"
     ]
    }
   ],
   "source": [
    "# get the number of nodes in the graph\n",
    "print(\"Number of nodes:\", len(nD_graph_spi_wo_st_ip.nodes()), \"\\n\")"
   ]
  },
  {
   "attachments": {},
   "cell_type": "markdown",
   "metadata": {},
   "source": [
    "## Trial"
   ]
  },
  {
   "cell_type": "code",
   "execution_count": 52,
   "metadata": {},
   "outputs": [],
   "source": [
    "nD_unsw_wo_st = unsw_wo_st.drop_duplicates(subset=['source_ip_info'])"
   ]
  },
  {
   "cell_type": "code",
   "execution_count": 53,
   "metadata": {},
   "outputs": [
    {
     "data": {
      "text/plain": [
       "is_malware\n",
       "1    10707\n",
       "0     5059\n",
       "Name: count, dtype: int64"
      ]
     },
     "execution_count": 53,
     "metadata": {},
     "output_type": "execute_result"
    }
   ],
   "source": [
    "nD_unsw_wo_st.is_malware.value_counts()"
   ]
  },
  {
   "cell_type": "code",
   "execution_count": 54,
   "metadata": {},
   "outputs": [
    {
     "data": {
      "text/plain": [
       "15013"
      ]
     },
     "execution_count": 54,
     "metadata": {},
     "output_type": "execute_result"
    }
   ],
   "source": [
    "len(nD_unsw_wo_st.source_port_info.unique())"
   ]
  },
  {
   "cell_type": "code",
   "execution_count": 33,
   "metadata": {},
   "outputs": [],
   "source": [
    "value_counts = nD_unsw_wo_st.is_malware.value_counts()\n",
    "if value_counts[1] > 4500:\n",
    "    df_to_lower = nD_unsw_wo_st[nD_unsw_wo_st['is_malware'] == 1].sample(n=4500, random_state=0)\n",
    "    nD_unsw_wo_st = pd.concat([nD_unsw_wo_st[nD_unsw_wo_st['is_malware'] == 0], df_to_lower])"
   ]
  },
  {
   "cell_type": "code",
   "execution_count": 34,
   "metadata": {},
   "outputs": [
    {
     "name": "stdout",
     "output_type": "stream",
     "text": [
      "is_malware\n",
      "0    5059\n",
      "1    4500\n",
      "Name: count, dtype: int64\n"
     ]
    }
   ],
   "source": [
    "updated_value_counts = nD_unsw_wo_st['is_malware'].value_counts()\n",
    "print(updated_value_counts)"
   ]
  },
  {
   "cell_type": "code",
   "execution_count": 35,
   "metadata": {},
   "outputs": [],
   "source": [
    "nD_unsw_wo_st = nD_unsw_wo_st.drop_duplicates(subset=['source_ip_info'])"
   ]
  },
  {
   "cell_type": "code",
   "execution_count": 55,
   "metadata": {},
   "outputs": [
    {
     "name": "stdout",
     "output_type": "stream",
     "text": [
      "Number of unique source_ip_info: 15766 \n",
      "\n"
     ]
    }
   ],
   "source": [
    "## print number of unique source_port_info\n",
    "print(\"Number of unique source_ip_info:\", len(nD_unsw_wo_st[\"source_ip_info\"].unique()), \"\\n\")"
   ]
  },
  {
   "cell_type": "code",
   "execution_count": 56,
   "metadata": {},
   "outputs": [],
   "source": [
    "# Create a new undirected graph\n",
    "nD_graph_trial = nx.Graph()\n",
    "node_features = []\n",
    "\n",
    "# Add nodes for each unique info_message\n",
    "for source_ip_info in nD_unsw_wo_st[\"source_ip_info\"].unique():\n",
    "    # Get the corresponding is_malware value for the info_message\n",
    "    is_malware = nD_unsw_wo_st[nD_unsw_wo_st[\"source_ip_info\"] == source_ip_info][\"is_malware\"].iloc[0]\n",
    "    # Add the node with the is_malware value as an attribute\n",
    "    nD_graph_trial.add_node(source_ip_info, is_malware=is_malware)\n",
    "    # Assign node feature value based on is_malware\n",
    "    node_features.append([float(len(nD_unsw_wo_st.info_message))])\n",
    "    # node_features.append([float(round(random.random(),4))]) # Use float conversion if needed\n",
    "\n",
    "# Add edges for each unique combination of source_ip and source_port\n",
    "for (source_ip), group in nD_unsw_wo_st.groupby([\"source_ip\"]):\n",
    "    # Add edges between each pair of adjacent nodes in the group\n",
    "    for i in range(len(group) - 1):\n",
    "        from_node = group.iloc[i][\"source_ip_info\"]\n",
    "        to_node = group.iloc[i+1][\"source_ip_info\"]\n",
    "        # Add the edge with the correct weight\n",
    "        if nD_graph_trial.has_edge(from_node, to_node):\n",
    "            nD_graph_trial[from_node][to_node][\"weight\"] += 1\n",
    "        else:\n",
    "            nD_graph_trial.add_edge(from_node, to_node, weight=1)"
   ]
  },
  {
   "cell_type": "code",
   "execution_count": 64,
   "metadata": {},
   "outputs": [
    {
     "data": {
      "text/plain": [
       "{1: 2.0, 2: 1.9978341189960505}"
      ]
     },
     "execution_count": 64,
     "metadata": {},
     "output_type": "execute_result"
    }
   ],
   "source": [
    "nx.average_degree_connectivity(nD_graph_trial)"
   ]
  },
  {
   "cell_type": "code",
   "execution_count": 57,
   "metadata": {},
   "outputs": [],
   "source": [
    "node_features_tensor = torch.tensor(node_features)"
   ]
  },
  {
   "cell_type": "code",
   "execution_count": 58,
   "metadata": {},
   "outputs": [],
   "source": [
    "node_features_tensor = torch.nn.functional.normalize(node_features_tensor, p=4.0, dim=0, eps=1e-12, out=None)"
   ]
  },
  {
   "cell_type": "code",
   "execution_count": 59,
   "metadata": {},
   "outputs": [],
   "source": [
    "torch.save(node_features_tensor, 'graph_modeling/nD_graph_wo_st/node_features_ip_trial.pt')"
   ]
  },
  {
   "cell_type": "code",
   "execution_count": 60,
   "metadata": {},
   "outputs": [],
   "source": [
    "pickle.dump(nD_graph_trial, open('graph_modeling/nD_graph_wo_st/nD_graph_trial.pickle', 'wb'))"
   ]
  },
  {
   "cell_type": "code",
   "execution_count": 61,
   "metadata": {},
   "outputs": [
    {
     "name": "stdout",
     "output_type": "stream",
     "text": [
      "Number of nodes: 15766 \n",
      "\n"
     ]
    }
   ],
   "source": [
    "# get the number of nodes in the graph\n",
    "print(\"Number of nodes:\", len(nD_graph_trial.nodes()), \"\\n\")"
   ]
  },
  {
   "cell_type": "code",
   "execution_count": 62,
   "metadata": {},
   "outputs": [],
   "source": [
    "label = nD_unsw_wo_st['is_malware'].to_numpy()\n",
    "label_trial = torch.tensor(label, dtype=torch.float)\n",
    "# label_trial = torch.tensor(nD_unsw_wo_st['is_malware'].values)"
   ]
  },
  {
   "cell_type": "code",
   "execution_count": 63,
   "metadata": {},
   "outputs": [
    {
     "data": {
      "text/plain": [
       "15766"
      ]
     },
     "execution_count": 63,
     "metadata": {},
     "output_type": "execute_result"
    }
   ],
   "source": [
    "torch.save(label_trial, 'graph_modeling/nD_graph_wo_st/label_trial.pt')\n",
    "len(label_trial)\n"
   ]
  },
  {
   "cell_type": "code",
   "execution_count": null,
   "metadata": {},
   "outputs": [],
   "source": []
  },
  {
   "cell_type": "code",
   "execution_count": null,
   "metadata": {},
   "outputs": [],
   "source": []
  }
 ],
 "metadata": {
  "kernelspec": {
   "display_name": "Python 3",
   "language": "python",
   "name": "python3"
  },
  "language_info": {
   "codemirror_mode": {
    "name": "ipython",
    "version": 3
   },
   "file_extension": ".py",
   "mimetype": "text/x-python",
   "name": "python",
   "nbconvert_exporter": "python",
   "pygments_lexer": "ipython3",
   "version": "3.8.0"
  },
  "orig_nbformat": 4
 },
 "nbformat": 4,
 "nbformat_minor": 2
}
