{
 "cells": [
  {
   "cell_type": "code",
   "execution_count": 1,
   "metadata": {},
   "outputs": [],
   "source": [
    "import networkx as nx\n",
    "import pandas as pd\n",
    "import random\n",
    "import torch\n",
    "import pickle\n",
    "from sklearn.model_selection import train_test_split"
   ]
  },
  {
   "cell_type": "code",
   "execution_count": 2,
   "metadata": {},
   "outputs": [],
   "source": [
    "### import parquet file\n",
    "unsw_wo_st = pd.read_parquet(\"C:\\\\Users\\\\asus\\\\Documents\\\\nids-pcap-dataset\\\\unsw_parquet_used_dataset\\\\labeled_wo_start_time.parquet\",)"
   ]
  },
  {
   "cell_type": "code",
   "execution_count": 7,
   "metadata": {},
   "outputs": [],
   "source": [
    "unsw_wo_st = unsw_wo_st[unsw_wo_st['destination_port'] == '80']"
   ]
  },
  {
   "cell_type": "code",
   "execution_count": null,
   "metadata": {},
   "outputs": [],
   "source": [
    "unsw_wo_st['destination_port'] = unsw_wo_st['destination_port'].astype('int32')"
   ]
  },
  {
   "cell_type": "code",
   "execution_count": 9,
   "metadata": {},
   "outputs": [
    {
     "data": {
      "text/plain": [
       "is_malware\n",
       "0    109534\n",
       "1     15811\n",
       "Name: count, dtype: int64"
      ]
     },
     "execution_count": 9,
     "metadata": {},
     "output_type": "execute_result"
    }
   ],
   "source": [
    "unsw_wo_st.is_malware.value_counts()"
   ]
  },
  {
   "cell_type": "code",
   "execution_count": 3,
   "metadata": {},
   "outputs": [
    {
     "name": "stdout",
     "output_type": "stream",
     "text": [
      "<class 'pandas.core.frame.DataFrame'>\n",
      "RangeIndex: 490026 entries, 0 to 490025\n",
      "Data columns (total 11 columns):\n",
      " #   Column            Non-Null Count   Dtype   \n",
      "---  ------            --------------   -----   \n",
      " 0   source_ip         490026 non-null  object  \n",
      " 1   destination_ip    490026 non-null  object  \n",
      " 2   source_port       490026 non-null  object  \n",
      " 3   destination_port  490026 non-null  object  \n",
      " 4   info_message      490026 non-null  object  \n",
      " 5   attack_category   17093 non-null   category\n",
      " 6   is_malware        490026 non-null  int32   \n",
      " 7   source_ip_info    490026 non-null  object  \n",
      " 8   source_port_info  490026 non-null  object  \n",
      " 9   dest_ip_info      490026 non-null  object  \n",
      " 10  dest_port_info    490026 non-null  object  \n",
      "dtypes: category(1), int32(1), object(9)\n",
      "memory usage: 350.1 MB\n"
     ]
    },
    {
     "data": {
      "text/html": [
       "<div>\n",
       "<style scoped>\n",
       "    .dataframe tbody tr th:only-of-type {\n",
       "        vertical-align: middle;\n",
       "    }\n",
       "\n",
       "    .dataframe tbody tr th {\n",
       "        vertical-align: top;\n",
       "    }\n",
       "\n",
       "    .dataframe thead th {\n",
       "        text-align: right;\n",
       "    }\n",
       "</style>\n",
       "<table border=\"1\" class=\"dataframe\">\n",
       "  <thead>\n",
       "    <tr style=\"text-align: right;\">\n",
       "      <th></th>\n",
       "      <th>source_ip</th>\n",
       "      <th>destination_ip</th>\n",
       "      <th>source_port</th>\n",
       "      <th>destination_port</th>\n",
       "      <th>info_message</th>\n",
       "      <th>attack_category</th>\n",
       "      <th>is_malware</th>\n",
       "      <th>source_ip_info</th>\n",
       "      <th>source_port_info</th>\n",
       "      <th>dest_ip_info</th>\n",
       "      <th>dest_port_info</th>\n",
       "    </tr>\n",
       "  </thead>\n",
       "  <tbody>\n",
       "    <tr>\n",
       "      <th>0</th>\n",
       "      <td>149.171.126.18</td>\n",
       "      <td>175.45.176.1</td>\n",
       "      <td>80</td>\n",
       "      <td>4657</td>\n",
       "      <td>HTTP/1.1 200 OK [Malformed Packet]</td>\n",
       "      <td>NaN</td>\n",
       "      <td>0</td>\n",
       "      <td>149.171.126.18 HTTP/1.1 200 OK [Malformed Packet]</td>\n",
       "      <td>80 HTTP/1.1 200 OK [Malformed Packet]</td>\n",
       "      <td>175.45.176.1 HTTP/1.1 200 OK [Malformed Packet]</td>\n",
       "      <td>4657 HTTP/1.1 200 OK [Malformed Packet]</td>\n",
       "    </tr>\n",
       "    <tr>\n",
       "      <th>1</th>\n",
       "      <td>175.45.176.1</td>\n",
       "      <td>149.171.126.18</td>\n",
       "      <td>4657</td>\n",
       "      <td>80</td>\n",
       "      <td>GET /oKmwKoVbq HTTP/1.1</td>\n",
       "      <td>NaN</td>\n",
       "      <td>0</td>\n",
       "      <td>175.45.176.1 GET /oKmwKoVbq HTTP/1.1</td>\n",
       "      <td>4657 GET /oKmwKoVbq HTTP/1.1</td>\n",
       "      <td>149.171.126.18 GET /oKmwKoVbq HTTP/1.1</td>\n",
       "      <td>80 GET /oKmwKoVbq HTTP/1.1</td>\n",
       "    </tr>\n",
       "    <tr>\n",
       "      <th>2</th>\n",
       "      <td>175.45.176.3</td>\n",
       "      <td>149.171.126.18</td>\n",
       "      <td>32473</td>\n",
       "      <td>80</td>\n",
       "      <td>GET /level/15/exec/-/buffers/assigned/dump HTT...</td>\n",
       "      <td>NaN</td>\n",
       "      <td>0</td>\n",
       "      <td>175.45.176.3 GET /level/15/exec/-/buffers/assi...</td>\n",
       "      <td>32473 GET /level/15/exec/-/buffers/assigned/du...</td>\n",
       "      <td>149.171.126.18 GET /level/15/exec/-/buffers/as...</td>\n",
       "      <td>80 GET /level/15/exec/-/buffers/assigned/dump ...</td>\n",
       "    </tr>\n",
       "    <tr>\n",
       "      <th>3</th>\n",
       "      <td>175.45.176.2</td>\n",
       "      <td>149.171.126.19</td>\n",
       "      <td>59386</td>\n",
       "      <td>8020</td>\n",
       "      <td>POST /HttpFileUpload/FileUploadController.do H...</td>\n",
       "      <td>NaN</td>\n",
       "      <td>0</td>\n",
       "      <td>175.45.176.2 POST /HttpFileUpload/FileUploadCo...</td>\n",
       "      <td>59386 POST /HttpFileUpload/FileUploadControlle...</td>\n",
       "      <td>149.171.126.19 POST /HttpFileUpload/FileUpload...</td>\n",
       "      <td>8020 POST /HttpFileUpload/FileUploadController...</td>\n",
       "    </tr>\n",
       "    <tr>\n",
       "      <th>4</th>\n",
       "      <td>149.171.126.14</td>\n",
       "      <td>175.45.176.0</td>\n",
       "      <td>80</td>\n",
       "      <td>21873</td>\n",
       "      <td>[TCP ACKed unseen segment] HTTP/1.1 200 OK  (t...</td>\n",
       "      <td>NaN</td>\n",
       "      <td>0</td>\n",
       "      <td>149.171.126.14 [TCP ACKed unseen segment] HTTP...</td>\n",
       "      <td>80 [TCP ACKed unseen segment] HTTP/1.1 200 OK ...</td>\n",
       "      <td>175.45.176.0 [TCP ACKed unseen segment] HTTP/1...</td>\n",
       "      <td>21873 [TCP ACKed unseen segment] HTTP/1.1 200 ...</td>\n",
       "    </tr>\n",
       "  </tbody>\n",
       "</table>\n",
       "</div>"
      ],
      "text/plain": [
       "        source_ip  destination_ip source_port destination_port   \n",
       "0  149.171.126.18    175.45.176.1          80             4657  \\\n",
       "1    175.45.176.1  149.171.126.18        4657               80   \n",
       "2    175.45.176.3  149.171.126.18       32473               80   \n",
       "3    175.45.176.2  149.171.126.19       59386             8020   \n",
       "4  149.171.126.14    175.45.176.0          80            21873   \n",
       "\n",
       "                                        info_message attack_category   \n",
       "0                 HTTP/1.1 200 OK [Malformed Packet]             NaN  \\\n",
       "1                           GET /oKmwKoVbq HTTP/1.1              NaN   \n",
       "2  GET /level/15/exec/-/buffers/assigned/dump HTT...             NaN   \n",
       "3  POST /HttpFileUpload/FileUploadController.do H...             NaN   \n",
       "4  [TCP ACKed unseen segment] HTTP/1.1 200 OK  (t...             NaN   \n",
       "\n",
       "   is_malware                                     source_ip_info   \n",
       "0           0  149.171.126.18 HTTP/1.1 200 OK [Malformed Packet]  \\\n",
       "1           0              175.45.176.1 GET /oKmwKoVbq HTTP/1.1    \n",
       "2           0  175.45.176.3 GET /level/15/exec/-/buffers/assi...   \n",
       "3           0  175.45.176.2 POST /HttpFileUpload/FileUploadCo...   \n",
       "4           0  149.171.126.14 [TCP ACKed unseen segment] HTTP...   \n",
       "\n",
       "                                    source_port_info   \n",
       "0              80 HTTP/1.1 200 OK [Malformed Packet]  \\\n",
       "1                      4657 GET /oKmwKoVbq HTTP/1.1    \n",
       "2  32473 GET /level/15/exec/-/buffers/assigned/du...   \n",
       "3  59386 POST /HttpFileUpload/FileUploadControlle...   \n",
       "4  80 [TCP ACKed unseen segment] HTTP/1.1 200 OK ...   \n",
       "\n",
       "                                        dest_ip_info   \n",
       "0    175.45.176.1 HTTP/1.1 200 OK [Malformed Packet]  \\\n",
       "1            149.171.126.18 GET /oKmwKoVbq HTTP/1.1    \n",
       "2  149.171.126.18 GET /level/15/exec/-/buffers/as...   \n",
       "3  149.171.126.19 POST /HttpFileUpload/FileUpload...   \n",
       "4  175.45.176.0 [TCP ACKed unseen segment] HTTP/1...   \n",
       "\n",
       "                                      dest_port_info  \n",
       "0            4657 HTTP/1.1 200 OK [Malformed Packet]  \n",
       "1                        80 GET /oKmwKoVbq HTTP/1.1   \n",
       "2  80 GET /level/15/exec/-/buffers/assigned/dump ...  \n",
       "3  8020 POST /HttpFileUpload/FileUploadController...  \n",
       "4  21873 [TCP ACKed unseen segment] HTTP/1.1 200 ...  "
      ]
     },
     "execution_count": 3,
     "metadata": {},
     "output_type": "execute_result"
    }
   ],
   "source": [
    "unsw_wo_st.info(memory_usage='deep')\n",
    "unsw_wo_st.head(5)"
   ]
  },
  {
   "cell_type": "code",
   "execution_count": 4,
   "metadata": {},
   "outputs": [
    {
     "data": {
      "text/plain": [
       "is_malware\n",
       "0    472933\n",
       "1     17093\n",
       "Name: count, dtype: int64"
      ]
     },
     "execution_count": 4,
     "metadata": {},
     "output_type": "execute_result"
    }
   ],
   "source": [
    "unsw_wo_st.is_malware.value_counts()"
   ]
  },
  {
   "cell_type": "code",
   "execution_count": 5,
   "metadata": {},
   "outputs": [],
   "source": [
    "list_of_words = [\"GET\", \"HTTP\"]"
   ]
  },
  {
   "cell_type": "code",
   "execution_count": 6,
   "metadata": {},
   "outputs": [],
   "source": [
    "info = []\n",
    "if unsw_wo_st.info_message.str.contains('|'.join(list_of_words)).any():\n",
    "    info.extend(unsw_wo_st.loc[unsw_wo_st.info_message.str.contains('|'.join(list_of_words)), 'info_message'])"
   ]
  },
  {
   "cell_type": "code",
   "execution_count": 7,
   "metadata": {},
   "outputs": [],
   "source": [
    "unsw_wo_st = unsw_wo_st[unsw_wo_st.info_message.isin(info)]"
   ]
  },
  {
   "cell_type": "code",
   "execution_count": 8,
   "metadata": {},
   "outputs": [
    {
     "data": {
      "text/plain": [
       "is_malware\n",
       "0    471569\n",
       "1     16889\n",
       "Name: count, dtype: int64"
      ]
     },
     "execution_count": 8,
     "metadata": {},
     "output_type": "execute_result"
    }
   ],
   "source": [
    "unsw_wo_st.is_malware.value_counts()"
   ]
  },
  {
   "cell_type": "code",
   "execution_count": 84,
   "metadata": {},
   "outputs": [],
   "source": [
    "query_result = unsw_wo_st.query(\"is_malware == 1\").groupby(\"info_message\")['is_malware'].count()"
   ]
  },
  {
   "cell_type": "code",
   "execution_count": 85,
   "metadata": {},
   "outputs": [
    {
     "data": {
      "text/plain": [
       "info_message\n",
       "GET   / HTTP/1.1                                                                                                                                                                                                                                                                                                                                                                                                                                                                                                                                                                                                                                                                                                                                                                                                                                6\n",
       "GET %207U%5d0.dochtml HTTP/1.1                                                                                                                                                                                                                                                                                                                                                                                                                                                                                                                                                                                                                                                                                                                                                                                                                  1\n",
       "GET %20o-%3b%26.aspx HTTP/1.1                                                                                                                                                                                                                                                                                                                                                                                                                                                                                                                                                                                                                                                                                                                                                                                                                   1\n",
       "GET %24Y%23uiR.htmls HTTP/1.1                                                                                                                                                                                                                                                                                                                                                                                                                                                                                                                                                                                                                                                                                                                                                                                                                   1\n",
       "GET %24yd%21.dochtml HTTP/1.1                                                                                                                                                                                                                                                                                                                                                                                                                                                                                                                                                                                                                                                                                                                                                                                                                   1\n",
       "                                                                                                                                                                                                                                                                                                                                                                                                                                                                                                                                                                                                                                                                                                                                                                                                                                               ..\n",
       "[TCP ACKed unseen segment] GET /spywall/ldap_latest.php?ip=679%20UNiOn%20selECT%20%27TYPE%3dtRiGgeRs%27%20iNto%20OUtFILe%20%27/VAr/lIb/MYsQl/spYwALl_DB/EVentLog.trG%27%20liNeS%20teRMInatED%20BY%20%27%0aTriggerS%3d%27crEAtE%20DeFinEr%3d%60SHADm%60%40%60LOcAlHost%60%20TRIGGeR%20rpikL177w5uZHr%20aFTer%20iNsErt%20ON%20eVeNTLog%5cNfoR%20eaCH%20Row%5cnBEgin%5cNInseRt%20InTo%20uSERS%20VAlUes%28%22FI2C%22,%22D9dd061d41D7564b5e92Fa40FE1791D0%22,%22nulL%22,%224773%22,%222%22,%223%22,%22n/a%22,%220%22,%220%22,%220%22,%22%22,%22H4aXIW8a2HjLdMFJJzz84%40npuFSwCX.CoM%22,%221421797836%22,%220%22,%220%22,%220%22%29%3b%5cnEnd%27%0asqL_mODeS%3d0%0adEFIneRS%3d%27shAdM%40loCALHOSt%27%0aClIeNt_CS_NameS%3d%27LAtin1%27%0aCONNecTION_cL_Names%3d%27lATin1_sWEDiSh_Ci%27%0adB_Cl_naMes%3d%27LaTIN1_SwEDIsH_Ci%27%0a%27%3b- HTTP/1.1     1\n",
       "[TCP Window Full] GET /BYJcwsMNlqZRaJ HTTP/1.1 GET /BYJcwsMNlqZRaJ HTTP/1.1                                                                                                                                                                                                                                                                                                                                                                                                                                                                                                                                                                                                                                                                                                                                                                     1\n",
       "[TCP Window Full] GET /QmKZlmgQiTKzgW HTTP/1.1 GET /QmKZlmgQiTKzgW HTTP/1.1 GET /QmKZlmgQiTKzgW HTTP/1.1                                                                                                                                                                                                                                                                                                                                                                                                                                                                                                                                                                                                                                                                                                                                        1\n",
       "[TCP Window Full] POST /FxnrP HTTP/1.1 POST /FxnrP HTTP/1.1                                                                                                                                                                                                                                                                                                                                                                                                                                                                                                                                                                                                                                                                                                                                                                                     2\n",
       "[TCP Window Full] POST /eETMeKcWhivOiT HTTP/1.1 POST /eETMeKcWhivOiT HTTP/1.1                                                                                                                                                                                                                                                                                                                                                                                                                                                                                                                                                                                                                                                                                                                                                                   1\n",
       "Name: is_malware, Length: 8691, dtype: int64"
      ]
     },
     "execution_count": 85,
     "metadata": {},
     "output_type": "execute_result"
    }
   ],
   "source": [
    "query_result"
   ]
  },
  {
   "cell_type": "code",
   "execution_count": 86,
   "metadata": {},
   "outputs": [],
   "source": [
    "result = unsw_wo_st.groupby(\"source_ip_info\").agg(benign = ('is_malware', lambda x: (x == 0).sum()),\n",
    "                                                 malware = ('is_malware', lambda x: (x == 1).sum()))"
   ]
  },
  {
   "cell_type": "code",
   "execution_count": 87,
   "metadata": {},
   "outputs": [
    {
     "data": {
      "text/html": [
       "<div>\n",
       "<style scoped>\n",
       "    .dataframe tbody tr th:only-of-type {\n",
       "        vertical-align: middle;\n",
       "    }\n",
       "\n",
       "    .dataframe tbody tr th {\n",
       "        vertical-align: top;\n",
       "    }\n",
       "\n",
       "    .dataframe thead th {\n",
       "        text-align: right;\n",
       "    }\n",
       "</style>\n",
       "<table border=\"1\" class=\"dataframe\">\n",
       "  <thead>\n",
       "    <tr style=\"text-align: right;\">\n",
       "      <th></th>\n",
       "      <th>benign</th>\n",
       "      <th>malware</th>\n",
       "    </tr>\n",
       "    <tr>\n",
       "      <th>source_ip_info</th>\n",
       "      <th></th>\n",
       "      <th></th>\n",
       "    </tr>\n",
       "  </thead>\n",
       "  <tbody>\n",
       "    <tr>\n",
       "      <th>149.171.126.0 HTTP/1.0 200 OK  (text/plain)</th>\n",
       "      <td>2060</td>\n",
       "      <td>0</td>\n",
       "    </tr>\n",
       "    <tr>\n",
       "      <th>149.171.126.0 HTTP/1.1 200 OK  (audio/x-ms-wma)</th>\n",
       "      <td>173</td>\n",
       "      <td>0</td>\n",
       "    </tr>\n",
       "    <tr>\n",
       "      <th>149.171.126.0 HTTP/1.1 200 OK  (text/html)</th>\n",
       "      <td>15496</td>\n",
       "      <td>0</td>\n",
       "    </tr>\n",
       "    <tr>\n",
       "      <th>149.171.126.0 HTTP/1.1 200 OK  (video/fli)</th>\n",
       "      <td>1850</td>\n",
       "      <td>0</td>\n",
       "    </tr>\n",
       "    <tr>\n",
       "      <th>149.171.126.0 HTTP/1.1 404 Not Found</th>\n",
       "      <td>15492</td>\n",
       "      <td>0</td>\n",
       "    </tr>\n",
       "    <tr>\n",
       "      <th>...</th>\n",
       "      <td>...</td>\n",
       "      <td>...</td>\n",
       "    </tr>\n",
       "    <tr>\n",
       "      <th>59.166.0.9 GET /audio.wma HTTP/1.1</th>\n",
       "      <td>79</td>\n",
       "      <td>0</td>\n",
       "    </tr>\n",
       "    <tr>\n",
       "      <th>59.166.0.9 GET /notthere.html HTTP/1.1</th>\n",
       "      <td>4546</td>\n",
       "      <td>0</td>\n",
       "    </tr>\n",
       "    <tr>\n",
       "      <th>59.166.0.9 GET /video.fli HTTP/1.1</th>\n",
       "      <td>567</td>\n",
       "      <td>0</td>\n",
       "    </tr>\n",
       "    <tr>\n",
       "      <th>59.166.0.9 [TCP ACKed unseen segment] GET /notthere.html HTTP/1.1</th>\n",
       "      <td>6</td>\n",
       "      <td>0</td>\n",
       "    </tr>\n",
       "    <tr>\n",
       "      <th>59.166.0.9 [TCP ACKed unseen segment] [TCP Previous segment not captured] GET /notthere.html HTTP/1.1</th>\n",
       "      <td>2</td>\n",
       "      <td>0</td>\n",
       "    </tr>\n",
       "  </tbody>\n",
       "</table>\n",
       "<p>15467 rows × 2 columns</p>\n",
       "</div>"
      ],
      "text/plain": [
       "                                                    benign  malware\n",
       "source_ip_info                                                     \n",
       "149.171.126.0 HTTP/1.0 200 OK  (text/plain)           2060        0\n",
       "149.171.126.0 HTTP/1.1 200 OK  (audio/x-ms-wma)        173        0\n",
       "149.171.126.0 HTTP/1.1 200 OK  (text/html)           15496        0\n",
       "149.171.126.0 HTTP/1.1 200 OK  (video/fli)            1850        0\n",
       "149.171.126.0 HTTP/1.1 404 Not Found                 15492        0\n",
       "...                                                    ...      ...\n",
       "59.166.0.9 GET /audio.wma HTTP/1.1                      79        0\n",
       "59.166.0.9 GET /notthere.html HTTP/1.1                4546        0\n",
       "59.166.0.9 GET /video.fli HTTP/1.1                     567        0\n",
       "59.166.0.9 [TCP ACKed unseen segment] GET /nott...       6        0\n",
       "59.166.0.9 [TCP ACKed unseen segment] [TCP Prev...       2        0\n",
       "\n",
       "[15467 rows x 2 columns]"
      ]
     },
     "execution_count": 87,
     "metadata": {},
     "output_type": "execute_result"
    }
   ],
   "source": [
    "result"
   ]
  },
  {
   "cell_type": "code",
   "execution_count": 88,
   "metadata": {},
   "outputs": [
    {
     "data": {
      "text/html": [
       "<div>\n",
       "<style scoped>\n",
       "    .dataframe tbody tr th:only-of-type {\n",
       "        vertical-align: middle;\n",
       "    }\n",
       "\n",
       "    .dataframe tbody tr th {\n",
       "        vertical-align: top;\n",
       "    }\n",
       "\n",
       "    .dataframe thead th {\n",
       "        text-align: right;\n",
       "    }\n",
       "</style>\n",
       "<table border=\"1\" class=\"dataframe\">\n",
       "  <thead>\n",
       "    <tr style=\"text-align: right;\">\n",
       "      <th></th>\n",
       "      <th>benign</th>\n",
       "      <th>malware</th>\n",
       "    </tr>\n",
       "    <tr>\n",
       "      <th>source_ip_info</th>\n",
       "      <th></th>\n",
       "      <th></th>\n",
       "    </tr>\n",
       "  </thead>\n",
       "  <tbody>\n",
       "    <tr>\n",
       "      <th>175.45.176.0 GET / HTTP/1.1 \"</th>\n",
       "      <td>1</td>\n",
       "      <td>1</td>\n",
       "    </tr>\n",
       "    <tr>\n",
       "      <th>175.45.176.0 GET /%22 HTTP/1.1</th>\n",
       "      <td>1</td>\n",
       "      <td>1</td>\n",
       "    </tr>\n",
       "    <tr>\n",
       "      <th>175.45.176.0 GET /%25%25n%25%25n%25%25n%25%25n%25%25n%25%25n%25%25n%25%25n%25%25n%25%25n%25%25n%25%25n%25%25n%25%25n%25%25n%25%25n%25%25n%25%25n%25%25n%25%25n%25%25n%25%25n%25%25n%25%25n%25%25n%25%25n%25%25n%25%25n%25%25n%25%25n%25%25n%25%25n HTTP/1.1</th>\n",
       "      <td>1</td>\n",
       "      <td>1</td>\n",
       "    </tr>\n",
       "    <tr>\n",
       "      <th>175.45.176.0 GET /%25%25s%25%25s%25%25s%25%25s%25%25s%25%25s%25%25s%25%25s%25%25s%25%25s%25%25s%25%25s%25%25s%25%25s%25%25s%25%25s%25%25s%25%25s%25%25s%25%25s%25%25s%25%25s%25%25s%25%25s%25%25s%25%25s%25%25s%25%25s%25%25s%25%25s%25%25s%25%25s HTTP/1.1</th>\n",
       "      <td>1</td>\n",
       "      <td>1</td>\n",
       "    </tr>\n",
       "    <tr>\n",
       "      <th>175.45.176.0 GET /%2599999999d HTTP/1.1</th>\n",
       "      <td>1</td>\n",
       "      <td>1</td>\n",
       "    </tr>\n",
       "    <tr>\n",
       "      <th>...</th>\n",
       "      <td>...</td>\n",
       "      <td>...</td>\n",
       "    </tr>\n",
       "    <tr>\n",
       "      <th>175.45.176.3 GET /~ywang/poc.xls HTTP/1.1</th>\n",
       "      <td>1</td>\n",
       "      <td>1</td>\n",
       "    </tr>\n",
       "    <tr>\n",
       "      <th>175.45.176.3 POST /OvCgi/jovgraph.exe HTTP/1.1</th>\n",
       "      <td>1</td>\n",
       "      <td>1</td>\n",
       "    </tr>\n",
       "    <tr>\n",
       "      <th>175.45.176.3 POST /SiteScope/services/APIBSMIntegrationImpl HTTP/1.1</th>\n",
       "      <td>1</td>\n",
       "      <td>1</td>\n",
       "    </tr>\n",
       "    <tr>\n",
       "      <th>175.45.176.3 POST /end-user/index.php?c=blocked&amp;action=continue HTTP/1.1  (application/x-www-form-urlencoded)\"</th>\n",
       "      <td>1</td>\n",
       "      <td>1</td>\n",
       "    </tr>\n",
       "    <tr>\n",
       "      <th>175.45.176.3 POST /phpMyAdmin/server_sync.php HTTP/1.1 Continuation</th>\n",
       "      <td>1</td>\n",
       "      <td>1</td>\n",
       "    </tr>\n",
       "  </tbody>\n",
       "</table>\n",
       "<p>115 rows × 2 columns</p>\n",
       "</div>"
      ],
      "text/plain": [
       "                                                    benign  malware\n",
       "source_ip_info                                                     \n",
       "175.45.176.0 GET / HTTP/1.1 \"                            1        1\n",
       "175.45.176.0 GET /%22 HTTP/1.1                           1        1\n",
       "175.45.176.0 GET /%25%25n%25%25n%25%25n%25%25n%...       1        1\n",
       "175.45.176.0 GET /%25%25s%25%25s%25%25s%25%25s%...       1        1\n",
       "175.45.176.0 GET /%2599999999d HTTP/1.1                  1        1\n",
       "...                                                    ...      ...\n",
       "175.45.176.3 GET /~ywang/poc.xls HTTP/1.1                1        1\n",
       "175.45.176.3 POST /OvCgi/jovgraph.exe HTTP/1.1           1        1\n",
       "175.45.176.3 POST /SiteScope/services/APIBSMInt...       1        1\n",
       "175.45.176.3 POST /end-user/index.php?c=blocked...       1        1\n",
       "175.45.176.3 POST /phpMyAdmin/server_sync.php H...       1        1\n",
       "\n",
       "[115 rows x 2 columns]"
      ]
     },
     "execution_count": 88,
     "metadata": {},
     "output_type": "execute_result"
    }
   ],
   "source": [
    "result.loc[(result['malware'] == 1) & (result['benign'] == 1)]"
   ]
  },
  {
   "attachments": {},
   "cell_type": "markdown",
   "metadata": {},
   "source": [
    "#### dump's"
   ]
  },
  {
   "cell_type": "code",
   "execution_count": 10,
   "metadata": {},
   "outputs": [],
   "source": [
    "trial = unsw_wo_st[['info_message', 'is_malware']].copy()"
   ]
  },
  {
   "cell_type": "code",
   "execution_count": 11,
   "metadata": {},
   "outputs": [
    {
     "name": "stdout",
     "output_type": "stream",
     "text": [
      "<class 'pandas.core.frame.DataFrame'>\n",
      "Index: 125345 entries, 1 to 490022\n",
      "Data columns (total 2 columns):\n",
      " #   Column        Non-Null Count   Dtype \n",
      "---  ------        --------------   ----- \n",
      " 0   info_message  125345 non-null  object\n",
      " 1   is_malware    125345 non-null  int32 \n",
      "dtypes: int32(1), object(1)\n",
      "memory usage: 2.4+ MB\n"
     ]
    }
   ],
   "source": [
    "trial.info()"
   ]
  },
  {
   "cell_type": "code",
   "execution_count": 12,
   "metadata": {},
   "outputs": [
    {
     "data": {
      "text/html": [
       "<div>\n",
       "<style scoped>\n",
       "    .dataframe tbody tr th:only-of-type {\n",
       "        vertical-align: middle;\n",
       "    }\n",
       "\n",
       "    .dataframe tbody tr th {\n",
       "        vertical-align: top;\n",
       "    }\n",
       "\n",
       "    .dataframe thead th {\n",
       "        text-align: right;\n",
       "    }\n",
       "</style>\n",
       "<table border=\"1\" class=\"dataframe\">\n",
       "  <thead>\n",
       "    <tr style=\"text-align: right;\">\n",
       "      <th></th>\n",
       "      <th>info_message</th>\n",
       "      <th>is_malware</th>\n",
       "    </tr>\n",
       "  </thead>\n",
       "  <tbody>\n",
       "    <tr>\n",
       "      <th>1</th>\n",
       "      <td>GET /oKmwKoVbq HTTP/1.1</td>\n",
       "      <td>0</td>\n",
       "    </tr>\n",
       "    <tr>\n",
       "      <th>2</th>\n",
       "      <td>GET /level/15/exec/-/buffers/assigned/dump HTT...</td>\n",
       "      <td>0</td>\n",
       "    </tr>\n",
       "    <tr>\n",
       "      <th>6</th>\n",
       "      <td>GET eLWfxXSPkc HTTP/1.1</td>\n",
       "      <td>0</td>\n",
       "    </tr>\n",
       "    <tr>\n",
       "      <th>9</th>\n",
       "      <td>GET / HTTP/1.1</td>\n",
       "      <td>0</td>\n",
       "    </tr>\n",
       "    <tr>\n",
       "      <th>10</th>\n",
       "      <td>GET /scripts/cbag/ag.exe?page=FileDownload&amp;id=...</td>\n",
       "      <td>0</td>\n",
       "    </tr>\n",
       "  </tbody>\n",
       "</table>\n",
       "</div>"
      ],
      "text/plain": [
       "                                         info_message  is_malware\n",
       "1                            GET /oKmwKoVbq HTTP/1.1            0\n",
       "2   GET /level/15/exec/-/buffers/assigned/dump HTT...           0\n",
       "6                            GET eLWfxXSPkc HTTP/1.1            0\n",
       "9                                     GET / HTTP/1.1            0\n",
       "10  GET /scripts/cbag/ag.exe?page=FileDownload&id=...           0"
      ]
     },
     "execution_count": 12,
     "metadata": {},
     "output_type": "execute_result"
    }
   ],
   "source": [
    "trial.head()"
   ]
  },
  {
   "cell_type": "code",
   "execution_count": 13,
   "metadata": {},
   "outputs": [],
   "source": [
    "trial['count_benign'] = trial.groupby(['info_message'])['is_malware'].transform(lambda x: (x == 0).sum())\n",
    "trial['count_malware'] = trial.groupby(['info_message'])['is_malware'].transform(lambda x: (x == 1).sum())"
   ]
  },
  {
   "cell_type": "code",
   "execution_count": 14,
   "metadata": {},
   "outputs": [],
   "source": [
    "trial['label_fix'] = trial.apply(lambda x: 1 if x['count_malware'] > x['count_benign'] else 0, axis=1)"
   ]
  },
  {
   "cell_type": "code",
   "execution_count": 15,
   "metadata": {},
   "outputs": [
    {
     "data": {
      "text/html": [
       "<div>\n",
       "<style scoped>\n",
       "    .dataframe tbody tr th:only-of-type {\n",
       "        vertical-align: middle;\n",
       "    }\n",
       "\n",
       "    .dataframe tbody tr th {\n",
       "        vertical-align: top;\n",
       "    }\n",
       "\n",
       "    .dataframe thead th {\n",
       "        text-align: right;\n",
       "    }\n",
       "</style>\n",
       "<table border=\"1\" class=\"dataframe\">\n",
       "  <thead>\n",
       "    <tr style=\"text-align: right;\">\n",
       "      <th></th>\n",
       "      <th>info_message</th>\n",
       "      <th>is_malware</th>\n",
       "      <th>count_benign</th>\n",
       "      <th>count_malware</th>\n",
       "      <th>label_fix</th>\n",
       "    </tr>\n",
       "  </thead>\n",
       "  <tbody>\n",
       "    <tr>\n",
       "      <th>1</th>\n",
       "      <td>GET /oKmwKoVbq HTTP/1.1</td>\n",
       "      <td>0</td>\n",
       "      <td>1</td>\n",
       "      <td>0</td>\n",
       "      <td>0</td>\n",
       "    </tr>\n",
       "    <tr>\n",
       "      <th>2</th>\n",
       "      <td>GET /level/15/exec/-/buffers/assigned/dump HTT...</td>\n",
       "      <td>0</td>\n",
       "      <td>1</td>\n",
       "      <td>7</td>\n",
       "      <td>1</td>\n",
       "    </tr>\n",
       "    <tr>\n",
       "      <th>6</th>\n",
       "      <td>GET eLWfxXSPkc HTTP/1.1</td>\n",
       "      <td>0</td>\n",
       "      <td>1</td>\n",
       "      <td>0</td>\n",
       "      <td>0</td>\n",
       "    </tr>\n",
       "    <tr>\n",
       "      <th>9</th>\n",
       "      <td>GET / HTTP/1.1</td>\n",
       "      <td>0</td>\n",
       "      <td>46862</td>\n",
       "      <td>1313</td>\n",
       "      <td>0</td>\n",
       "    </tr>\n",
       "    <tr>\n",
       "      <th>10</th>\n",
       "      <td>GET /scripts/cbag/ag.exe?page=FileDownload&amp;id=...</td>\n",
       "      <td>0</td>\n",
       "      <td>1</td>\n",
       "      <td>0</td>\n",
       "      <td>0</td>\n",
       "    </tr>\n",
       "  </tbody>\n",
       "</table>\n",
       "</div>"
      ],
      "text/plain": [
       "                                         info_message  is_malware   \n",
       "1                            GET /oKmwKoVbq HTTP/1.1            0  \\\n",
       "2   GET /level/15/exec/-/buffers/assigned/dump HTT...           0   \n",
       "6                            GET eLWfxXSPkc HTTP/1.1            0   \n",
       "9                                     GET / HTTP/1.1            0   \n",
       "10  GET /scripts/cbag/ag.exe?page=FileDownload&id=...           0   \n",
       "\n",
       "    count_benign  count_malware  label_fix  \n",
       "1              1              0          0  \n",
       "2              1              7          1  \n",
       "6              1              0          0  \n",
       "9          46862           1313          0  \n",
       "10             1              0          0  "
      ]
     },
     "execution_count": 15,
     "metadata": {},
     "output_type": "execute_result"
    }
   ],
   "source": [
    "trial.head()"
   ]
  },
  {
   "cell_type": "code",
   "execution_count": 16,
   "metadata": {},
   "outputs": [],
   "source": [
    "import numpy as np"
   ]
  },
  {
   "cell_type": "code",
   "execution_count": 17,
   "metadata": {},
   "outputs": [],
   "source": [
    "unsw_wo_st['is_malware']  = np.where(unsw_wo_st['info_message'] == trial['info_message'], trial['label_fix'], trial['label_fix'])"
   ]
  },
  {
   "cell_type": "code",
   "execution_count": 18,
   "metadata": {},
   "outputs": [],
   "source": [
    "unsw_wo_st['count_benign'] = trial['count_benign'].copy()\n",
    "unsw_wo_st['count_malware'] = trial['count_malware'].copy()"
   ]
  },
  {
   "cell_type": "code",
   "execution_count": null,
   "metadata": {},
   "outputs": [],
   "source": [
    "trial = unsw_wo_st[['info_message', 'is_malware']].copy()\n",
    "trial['count_benign'] = trial.groupby(['info_message'])['is_malware'].transform(lambda x: (x == 0).sum())\n",
    "trial['count_malware'] = trial.groupby(['info_message'])['is_malware'].transform(lambda x: (x == 1).sum())\n",
    "trial['label_fix'] = trial.apply(lambda x: 1 if x['count_malware'] > x['count_benign'] else 0, axis=1)\n",
    "unsw_wo_st['is_malware']  = np.where(unsw_wo_st['info_message'] == trial['info_message'], trial['label_fix'], trial['label_fix'])\n",
    "unsw_wo_st['count_benign'] = trial['count_benign'].copy()\n",
    "unsw_wo_st['count_malware'] = trial['count_malware'].copy()"
   ]
  },
  {
   "cell_type": "code",
   "execution_count": 19,
   "metadata": {},
   "outputs": [
    {
     "data": {
      "text/html": [
       "<div>\n",
       "<style scoped>\n",
       "    .dataframe tbody tr th:only-of-type {\n",
       "        vertical-align: middle;\n",
       "    }\n",
       "\n",
       "    .dataframe tbody tr th {\n",
       "        vertical-align: top;\n",
       "    }\n",
       "\n",
       "    .dataframe thead th {\n",
       "        text-align: right;\n",
       "    }\n",
       "</style>\n",
       "<table border=\"1\" class=\"dataframe\">\n",
       "  <thead>\n",
       "    <tr style=\"text-align: right;\">\n",
       "      <th></th>\n",
       "      <th>source_ip</th>\n",
       "      <th>destination_ip</th>\n",
       "      <th>source_port</th>\n",
       "      <th>destination_port</th>\n",
       "      <th>info_message</th>\n",
       "      <th>attack_category</th>\n",
       "      <th>is_malware</th>\n",
       "      <th>source_ip_info</th>\n",
       "      <th>source_port_info</th>\n",
       "      <th>dest_ip_info</th>\n",
       "      <th>dest_port_info</th>\n",
       "      <th>count_benign</th>\n",
       "      <th>count_malware</th>\n",
       "    </tr>\n",
       "  </thead>\n",
       "  <tbody>\n",
       "    <tr>\n",
       "      <th>1</th>\n",
       "      <td>175.45.176.1</td>\n",
       "      <td>149.171.126.18</td>\n",
       "      <td>4657</td>\n",
       "      <td>80</td>\n",
       "      <td>GET /oKmwKoVbq HTTP/1.1</td>\n",
       "      <td>NaN</td>\n",
       "      <td>0</td>\n",
       "      <td>175.45.176.1 GET /oKmwKoVbq HTTP/1.1</td>\n",
       "      <td>4657 GET /oKmwKoVbq HTTP/1.1</td>\n",
       "      <td>149.171.126.18 GET /oKmwKoVbq HTTP/1.1</td>\n",
       "      <td>80 GET /oKmwKoVbq HTTP/1.1</td>\n",
       "      <td>1</td>\n",
       "      <td>0</td>\n",
       "    </tr>\n",
       "    <tr>\n",
       "      <th>2</th>\n",
       "      <td>175.45.176.3</td>\n",
       "      <td>149.171.126.18</td>\n",
       "      <td>32473</td>\n",
       "      <td>80</td>\n",
       "      <td>GET /level/15/exec/-/buffers/assigned/dump HTT...</td>\n",
       "      <td>NaN</td>\n",
       "      <td>1</td>\n",
       "      <td>175.45.176.3 GET /level/15/exec/-/buffers/assi...</td>\n",
       "      <td>32473 GET /level/15/exec/-/buffers/assigned/du...</td>\n",
       "      <td>149.171.126.18 GET /level/15/exec/-/buffers/as...</td>\n",
       "      <td>80 GET /level/15/exec/-/buffers/assigned/dump ...</td>\n",
       "      <td>1</td>\n",
       "      <td>7</td>\n",
       "    </tr>\n",
       "    <tr>\n",
       "      <th>6</th>\n",
       "      <td>175.45.176.0</td>\n",
       "      <td>149.171.126.17</td>\n",
       "      <td>49194</td>\n",
       "      <td>80</td>\n",
       "      <td>GET eLWfxXSPkc HTTP/1.1</td>\n",
       "      <td>NaN</td>\n",
       "      <td>0</td>\n",
       "      <td>175.45.176.0 GET eLWfxXSPkc HTTP/1.1</td>\n",
       "      <td>49194 GET eLWfxXSPkc HTTP/1.1</td>\n",
       "      <td>149.171.126.17 GET eLWfxXSPkc HTTP/1.1</td>\n",
       "      <td>80 GET eLWfxXSPkc HTTP/1.1</td>\n",
       "      <td>1</td>\n",
       "      <td>0</td>\n",
       "    </tr>\n",
       "    <tr>\n",
       "      <th>9</th>\n",
       "      <td>175.45.176.1</td>\n",
       "      <td>149.171.126.14</td>\n",
       "      <td>51435</td>\n",
       "      <td>80</td>\n",
       "      <td>GET / HTTP/1.1</td>\n",
       "      <td>NaN</td>\n",
       "      <td>0</td>\n",
       "      <td>175.45.176.1 GET / HTTP/1.1</td>\n",
       "      <td>51435 GET / HTTP/1.1</td>\n",
       "      <td>149.171.126.14 GET / HTTP/1.1</td>\n",
       "      <td>80 GET / HTTP/1.1</td>\n",
       "      <td>46862</td>\n",
       "      <td>1313</td>\n",
       "    </tr>\n",
       "    <tr>\n",
       "      <th>10</th>\n",
       "      <td>175.45.176.1</td>\n",
       "      <td>149.171.126.19</td>\n",
       "      <td>64694</td>\n",
       "      <td>80</td>\n",
       "      <td>GET /scripts/cbag/ag.exe?page=FileDownload&amp;id=...</td>\n",
       "      <td>NaN</td>\n",
       "      <td>0</td>\n",
       "      <td>175.45.176.1 GET /scripts/cbag/ag.exe?page=Fil...</td>\n",
       "      <td>64694 GET /scripts/cbag/ag.exe?page=FileDownlo...</td>\n",
       "      <td>149.171.126.19 GET /scripts/cbag/ag.exe?page=F...</td>\n",
       "      <td>80 GET /scripts/cbag/ag.exe?page=FileDownload&amp;...</td>\n",
       "      <td>1</td>\n",
       "      <td>0</td>\n",
       "    </tr>\n",
       "  </tbody>\n",
       "</table>\n",
       "</div>"
      ],
      "text/plain": [
       "       source_ip  destination_ip source_port destination_port   \n",
       "1   175.45.176.1  149.171.126.18        4657               80  \\\n",
       "2   175.45.176.3  149.171.126.18       32473               80   \n",
       "6   175.45.176.0  149.171.126.17       49194               80   \n",
       "9   175.45.176.1  149.171.126.14       51435               80   \n",
       "10  175.45.176.1  149.171.126.19       64694               80   \n",
       "\n",
       "                                         info_message attack_category   \n",
       "1                            GET /oKmwKoVbq HTTP/1.1              NaN  \\\n",
       "2   GET /level/15/exec/-/buffers/assigned/dump HTT...             NaN   \n",
       "6                            GET eLWfxXSPkc HTTP/1.1              NaN   \n",
       "9                                     GET / HTTP/1.1              NaN   \n",
       "10  GET /scripts/cbag/ag.exe?page=FileDownload&id=...             NaN   \n",
       "\n",
       "    is_malware                                     source_ip_info   \n",
       "1            0              175.45.176.1 GET /oKmwKoVbq HTTP/1.1   \\\n",
       "2            1  175.45.176.3 GET /level/15/exec/-/buffers/assi...   \n",
       "6            0              175.45.176.0 GET eLWfxXSPkc HTTP/1.1    \n",
       "9            0                       175.45.176.1 GET / HTTP/1.1    \n",
       "10           0  175.45.176.1 GET /scripts/cbag/ag.exe?page=Fil...   \n",
       "\n",
       "                                     source_port_info   \n",
       "1                       4657 GET /oKmwKoVbq HTTP/1.1   \\\n",
       "2   32473 GET /level/15/exec/-/buffers/assigned/du...   \n",
       "6                      49194 GET eLWfxXSPkc HTTP/1.1    \n",
       "9                               51435 GET / HTTP/1.1    \n",
       "10  64694 GET /scripts/cbag/ag.exe?page=FileDownlo...   \n",
       "\n",
       "                                         dest_ip_info   \n",
       "1             149.171.126.18 GET /oKmwKoVbq HTTP/1.1   \\\n",
       "2   149.171.126.18 GET /level/15/exec/-/buffers/as...   \n",
       "6             149.171.126.17 GET eLWfxXSPkc HTTP/1.1    \n",
       "9                      149.171.126.14 GET / HTTP/1.1    \n",
       "10  149.171.126.19 GET /scripts/cbag/ag.exe?page=F...   \n",
       "\n",
       "                                       dest_port_info  count_benign   \n",
       "1                         80 GET /oKmwKoVbq HTTP/1.1              1  \\\n",
       "2   80 GET /level/15/exec/-/buffers/assigned/dump ...             1   \n",
       "6                         80 GET eLWfxXSPkc HTTP/1.1              1   \n",
       "9                                  80 GET / HTTP/1.1          46862   \n",
       "10  80 GET /scripts/cbag/ag.exe?page=FileDownload&...             1   \n",
       "\n",
       "    count_malware  \n",
       "1               0  \n",
       "2               7  \n",
       "6               0  \n",
       "9            1313  \n",
       "10              0  "
      ]
     },
     "execution_count": 19,
     "metadata": {},
     "output_type": "execute_result"
    }
   ],
   "source": [
    "unsw_wo_st.head()"
   ]
  },
  {
   "cell_type": "code",
   "execution_count": 21,
   "metadata": {},
   "outputs": [
    {
     "data": {
      "text/plain": [
       "is_malware\n",
       "0    110294\n",
       "1     15051\n",
       "Name: count, dtype: int64"
      ]
     },
     "execution_count": 21,
     "metadata": {},
     "output_type": "execute_result"
    }
   ],
   "source": [
    "unsw_wo_st.is_malware.value_counts()"
   ]
  },
  {
   "cell_type": "code",
   "execution_count": 22,
   "metadata": {},
   "outputs": [],
   "source": [
    "unsw_wo_st = unsw_wo_st.drop(unsw_wo_st[unsw_wo_st.count_benign == unsw_wo_st.count_malware].index)\n"
   ]
  },
  {
   "cell_type": "code",
   "execution_count": 23,
   "metadata": {},
   "outputs": [
    {
     "data": {
      "text/plain": [
       "is_malware\n",
       "0    110274\n",
       "1     15051\n",
       "Name: count, dtype: int64"
      ]
     },
     "execution_count": 23,
     "metadata": {},
     "output_type": "execute_result"
    }
   ],
   "source": [
    "unsw_wo_st.is_malware.value_counts()"
   ]
  },
  {
   "cell_type": "code",
   "execution_count": null,
   "metadata": {},
   "outputs": [],
   "source": [
    "unsw_wo_st.to_parquet(\"C:\\\\Users\\\\asus\\\\Documents\\\\nids-pcap-dataset\\\\unsw_parquet_used_dataset\\\\labeled_wo_start_time_w_dup[port].parquet\")"
   ]
  },
  {
   "cell_type": "code",
   "execution_count": 24,
   "metadata": {},
   "outputs": [],
   "source": [
    "nD_unsw_wo_st = unsw_wo_st.drop_duplicates(subset=['dest_port_info'])"
   ]
  },
  {
   "cell_type": "code",
   "execution_count": 25,
   "metadata": {},
   "outputs": [
    {
     "data": {
      "text/plain": [
       "is_malware\n",
       "1    8038\n",
       "0    2252\n",
       "Name: count, dtype: int64"
      ]
     },
     "execution_count": 25,
     "metadata": {},
     "output_type": "execute_result"
    }
   ],
   "source": [
    "nD_unsw_wo_st.is_malware.value_counts()"
   ]
  },
  {
   "cell_type": "code",
   "execution_count": 23,
   "metadata": {},
   "outputs": [
    {
     "data": {
      "text/plain": [
       "source_port\n",
       "52727         1\n",
       "51310         1\n",
       "20209         1\n",
       "44253         1\n",
       "44459         1\n",
       "          ...  \n",
       "7144         14\n",
       "8082         14\n",
       "8028         17\n",
       "8080         88\n",
       "80       158304\n",
       "Name: count, Length: 2138, dtype: int64"
      ]
     },
     "execution_count": 23,
     "metadata": {},
     "output_type": "execute_result"
    }
   ],
   "source": [
    "nD_unsw_wo_st.loc[nD_unsw_wo_st['is_malware'] == 0, 'source_port'].value_counts().sort_values()"
   ]
  },
  {
   "cell_type": "code",
   "execution_count": 25,
   "metadata": {},
   "outputs": [
    {
     "data": {
      "text/plain": [
       "Series([], Name: count, dtype: int64)"
      ]
     },
     "execution_count": 25,
     "metadata": {},
     "output_type": "execute_result"
    }
   ],
   "source": [
    "nD_unsw_wo_st.loc[(nD_unsw_wo_st['is_malware'] == 1) & (nD_unsw_wo_st['source_port'] == 80), 'source_port'].value_counts().sort_values()"
   ]
  },
  {
   "cell_type": "code",
   "execution_count": 107,
   "metadata": {},
   "outputs": [],
   "source": [
    "nD_unsw_wo_st.reset_index(drop=True, inplace=True)"
   ]
  },
  {
   "cell_type": "code",
   "execution_count": 108,
   "metadata": {},
   "outputs": [],
   "source": [
    "nD_unsw_wo_st.to_parquet(\"C:\\\\Users\\\\asus\\\\Documents\\\\nids-pcap-dataset\\\\unsw_parquet_used_dataset\\\\labeled_wo_start_time_no_dup[port].parquet\")"
   ]
  },
  {
   "cell_type": "code",
   "execution_count": 105,
   "metadata": {},
   "outputs": [],
   "source": [
    "value_counts = nD_unsw_wo_st.is_malware.value_counts()\n",
    "if value_counts[0] > 14926:\n",
    "    df_to_lower = nD_unsw_wo_st[nD_unsw_wo_st['is_malware'] == 0].sample(n=14926, random_state=13)\n",
    "    nD_unsw_wo_st = pd.concat([nD_unsw_wo_st[nD_unsw_wo_st['is_malware'] == 1], df_to_lower])"
   ]
  },
  {
   "cell_type": "code",
   "execution_count": 74,
   "metadata": {},
   "outputs": [],
   "source": [
    "if value_counts[1] > 7463:\n",
    "    df_to_lower = nD_unsw_wo_st[nD_unsw_wo_st['is_malware'] == 1].sample(n=7463, random_state=13)\n",
    "    nD_unsw_wo_st = pd.concat([nD_unsw_wo_st[nD_unsw_wo_st['is_malware'] == 0], df_to_lower])"
   ]
  },
  {
   "cell_type": "code",
   "execution_count": 75,
   "metadata": {},
   "outputs": [
    {
     "data": {
      "text/plain": [
       "is_malware\n",
       "0    14926\n",
       "1     7463\n",
       "Name: count, dtype: int64"
      ]
     },
     "execution_count": 75,
     "metadata": {},
     "output_type": "execute_result"
    }
   ],
   "source": [
    "nD_unsw_wo_st.is_malware.value_counts()"
   ]
  },
  {
   "attachments": {},
   "cell_type": "markdown",
   "metadata": {},
   "source": [
    "#### continue"
   ]
  },
  {
   "cell_type": "code",
   "execution_count": 43,
   "metadata": {},
   "outputs": [
    {
     "data": {
      "text/plain": [
       "488458"
      ]
     },
     "execution_count": 43,
     "metadata": {},
     "output_type": "execute_result"
    }
   ],
   "source": [
    "sum(result['benign']+result['malware'])"
   ]
  },
  {
   "cell_type": "code",
   "execution_count": 44,
   "metadata": {},
   "outputs": [],
   "source": [
    "train_df, test_df = train_test_split(nD_unsw_wo_st, test_size=0.2, random_state=13)"
   ]
  },
  {
   "cell_type": "code",
   "execution_count": 47,
   "metadata": {},
   "outputs": [
    {
     "data": {
      "text/plain": [
       "is_malware\n",
       "0    11952\n",
       "1     5959\n",
       "Name: count, dtype: int64"
      ]
     },
     "execution_count": 47,
     "metadata": {},
     "output_type": "execute_result"
    }
   ],
   "source": [
    "train_df.is_malware.value_counts()"
   ]
  },
  {
   "cell_type": "code",
   "execution_count": 46,
   "metadata": {},
   "outputs": [
    {
     "data": {
      "text/plain": [
       "is_malware\n",
       "1    4882\n",
       "0     969\n",
       "Name: count, dtype: int64"
      ]
     },
     "execution_count": 46,
     "metadata": {},
     "output_type": "execute_result"
    }
   ],
   "source": [
    "nD_train_df = train_df.drop_duplicates(subset=['source_ip_info'], keep='first')\n",
    "nD_train_df.is_malware.value_counts()"
   ]
  },
  {
   "cell_type": "code",
   "execution_count": 7,
   "metadata": {},
   "outputs": [],
   "source": [
    "value_counts = nD_train_df.is_malware.value_counts()\n",
    "if value_counts[1] > 391:\n",
    "    df_to_lower = nD_train_df[nD_train_df['is_malware'] == 1].sample(n=391, random_state=72)\n",
    "    nD_train_df = pd.concat([nD_train_df[nD_train_df['is_malware'] == 0], df_to_lower])"
   ]
  },
  {
   "cell_type": "code",
   "execution_count": 8,
   "metadata": {},
   "outputs": [
    {
     "data": {
      "text/plain": [
       "is_malware\n",
       "0    3916\n",
       "1     391\n",
       "Name: count, dtype: int64"
      ]
     },
     "execution_count": 8,
     "metadata": {},
     "output_type": "execute_result"
    }
   ],
   "source": [
    "nD_train_df.is_malware.value_counts()"
   ]
  },
  {
   "cell_type": "code",
   "execution_count": 9,
   "metadata": {},
   "outputs": [
    {
     "data": {
      "text/plain": [
       "is_malware\n",
       "0    141858\n",
       "1      5150\n",
       "Name: count, dtype: int64"
      ]
     },
     "execution_count": 9,
     "metadata": {},
     "output_type": "execute_result"
    }
   ],
   "source": [
    "test_df.is_malware.value_counts()"
   ]
  },
  {
   "cell_type": "code",
   "execution_count": 10,
   "metadata": {},
   "outputs": [
    {
     "data": {
      "text/plain": [
       "is_malware\n",
       "1    3996\n",
       "0    2227\n",
       "Name: count, dtype: int64"
      ]
     },
     "execution_count": 10,
     "metadata": {},
     "output_type": "execute_result"
    }
   ],
   "source": [
    "nD_test_df = test_df.drop_duplicates(subset=['source_ip_info'])\n",
    "nD_test_df.is_malware.value_counts()"
   ]
  },
  {
   "cell_type": "code",
   "execution_count": 11,
   "metadata": {},
   "outputs": [],
   "source": [
    "value_counts = nD_test_df.is_malware.value_counts()\n",
    "if value_counts[1] > 222:\n",
    "    df_to_lower = nD_test_df[nD_test_df['is_malware'] == 1].sample(n=222, random_state=72)\n",
    "    # nD_test_df = pd.concat([nD_test_df, df_to_lower])\n",
    "    nD_test_df = pd.concat([nD_test_df[nD_test_df['is_malware'] == 0], df_to_lower])"
   ]
  },
  {
   "cell_type": "code",
   "execution_count": 12,
   "metadata": {},
   "outputs": [
    {
     "data": {
      "text/plain": [
       "is_malware\n",
       "0    2227\n",
       "1     222\n",
       "Name: count, dtype: int64"
      ]
     },
     "execution_count": 12,
     "metadata": {},
     "output_type": "execute_result"
    }
   ],
   "source": [
    "nD_test_df.is_malware.value_counts()"
   ]
  },
  {
   "cell_type": "code",
   "execution_count": 13,
   "metadata": {},
   "outputs": [],
   "source": [
    "nD_test_df.to_parquet('test.parquet')"
   ]
  },
  {
   "cell_type": "code",
   "execution_count": 14,
   "metadata": {},
   "outputs": [],
   "source": [
    "nD_train_df.to_parquet('train.parquet')"
   ]
  },
  {
   "attachments": {},
   "cell_type": "markdown",
   "metadata": {},
   "source": [
    "## Building_graph"
   ]
  },
  {
   "attachments": {},
   "cell_type": "markdown",
   "metadata": {},
   "source": [
    "#### train"
   ]
  },
  {
   "cell_type": "code",
   "execution_count": 15,
   "metadata": {},
   "outputs": [],
   "source": [
    "nD_graph_train = nx.Graph()\n",
    "node_features = []\n",
    "labels = []\n",
    "\n",
    "for source_ip_info in nD_train_df[\"source_ip_info\"].unique():\n",
    "    nD_graph_train.add_node(source_ip_info)\n",
    "    node_features.append([float(len(nD_train_df.info_message))])\n",
    "    labels.append([float(nD_train_df.is_malware.iloc[0])])\n",
    "    \n",
    "for (source_ip), group in nD_train_df.groupby([\"source_ip\"]):\n",
    "    for i in range(len(group) - 1):\n",
    "        from_node = group.iloc[i][\"source_ip_info\"]\n",
    "        to_node = group.iloc[i+1][\"source_ip_info\"]\n",
    "        if nD_graph_train.has_edge(from_node, to_node):\n",
    "            nD_graph_train[from_node][to_node][\"weight\"] += 1\n",
    "        else:\n",
    "            nD_graph_train.add_edge(from_node, to_node, weight=1)"
   ]
  },
  {
   "cell_type": "code",
   "execution_count": 16,
   "metadata": {},
   "outputs": [],
   "source": [
    "node_features_tensor = torch.tensor(node_features)\n",
    "label_tensor = torch.tensor(labels)\n",
    "node_features_tensor = node_features_tensor.cuda()\n",
    "label_tensor = label_tensor.cuda()"
   ]
  },
  {
   "cell_type": "code",
   "execution_count": 17,
   "metadata": {},
   "outputs": [],
   "source": [
    "torch.save(node_features_tensor, 'graph_modeling/te/node_features_train.pt')\n",
    "torch.save(label_tensor, 'graph_modeling/te/labels_train.pt')"
   ]
  },
  {
   "cell_type": "code",
   "execution_count": 18,
   "metadata": {},
   "outputs": [],
   "source": [
    "pickle.dump(nD_graph_train, open('graph_modeling/te/nD_graph_train.pickle', 'wb'))"
   ]
  },
  {
   "cell_type": "code",
   "execution_count": 19,
   "metadata": {},
   "outputs": [
    {
     "name": "stdout",
     "output_type": "stream",
     "text": [
      "Isolated nodes: 0 \n",
      "\n"
     ]
    }
   ],
   "source": [
    "isolated_nodes = list(nx.isolates(nD_graph_train))\n",
    "\n",
    "print(\"Isolated nodes:\", len(isolated_nodes), \"\\n\")"
   ]
  },
  {
   "attachments": {},
   "cell_type": "markdown",
   "metadata": {},
   "source": [
    "#### test"
   ]
  },
  {
   "cell_type": "code",
   "execution_count": 20,
   "metadata": {},
   "outputs": [],
   "source": [
    "nD_graph_test = nx.Graph()\n",
    "node_features_test = []\n",
    "labels_test = []\n",
    "\n",
    "for source_ip_info in nD_test_df[\"source_ip_info\"].unique():\n",
    "    nD_graph_test.add_node(source_ip_info)\n",
    "    node_features_test.append([float(len(nD_test_df.info_message))])\n",
    "    labels_test.append([float(nD_test_df.is_malware.iloc[0])])\n",
    "\n",
    "for (source_ip), group in nD_test_df.groupby([\"source_ip\"]):\n",
    "    for i in range(len(group) - 1):\n",
    "        from_node = group.iloc[i][\"source_ip_info\"]\n",
    "        to_node = group.iloc[i+1][\"source_ip_info\"]\n",
    "        if nD_graph_test.has_edge(from_node, to_node):\n",
    "            nD_graph_test[from_node][to_node][\"weight\"] += 1\n",
    "        else:\n",
    "            nD_graph_test.add_edge(from_node, to_node, weight=1)"
   ]
  },
  {
   "cell_type": "code",
   "execution_count": 21,
   "metadata": {},
   "outputs": [],
   "source": [
    "node_features_tensor_test = torch.tensor(node_features_test)\n",
    "label_tensor_test = torch.tensor(labels_test)\n",
    "node_features_tensor_test = node_features_tensor_test.cuda()\n",
    "label_tensor_test = label_tensor_test.cpu()"
   ]
  },
  {
   "cell_type": "code",
   "execution_count": 22,
   "metadata": {},
   "outputs": [],
   "source": [
    "torch.save(node_features_tensor_test, 'graph_modeling/te/node_features_test.pt')\n",
    "torch.save(label_tensor_test, 'graph_modeling/te/labels_test.pt')"
   ]
  },
  {
   "cell_type": "code",
   "execution_count": 23,
   "metadata": {},
   "outputs": [],
   "source": [
    "pickle.dump(nD_graph_test, open('graph_modeling/te/nD_graph_test.pickle', 'wb'))"
   ]
  },
  {
   "cell_type": "code",
   "execution_count": 24,
   "metadata": {},
   "outputs": [
    {
     "name": "stdout",
     "output_type": "stream",
     "text": [
      "Isolated nodes: 0 \n",
      "\n"
     ]
    }
   ],
   "source": [
    "# Get a list of nodes with no edges\n",
    "isolated_nodes = list(nx.isolates(nD_graph_test))\n",
    "\n",
    "# Print the isolated nodes\n",
    "print(\"Isolated nodes:\", len(isolated_nodes), \"\\n\")"
   ]
  },
  {
   "cell_type": "code",
   "execution_count": 25,
   "metadata": {},
   "outputs": [
    {
     "data": {
      "text/plain": [
       "2449"
      ]
     },
     "execution_count": 25,
     "metadata": {},
     "output_type": "execute_result"
    }
   ],
   "source": [
    "nD_graph_test.number_of_nodes()"
   ]
  },
  {
   "cell_type": "code",
   "execution_count": null,
   "metadata": {},
   "outputs": [],
   "source": []
  },
  {
   "cell_type": "code",
   "execution_count": null,
   "metadata": {},
   "outputs": [],
   "source": []
  }
 ],
 "metadata": {
  "kernelspec": {
   "display_name": "Python 3",
   "language": "python",
   "name": "python3"
  },
  "language_info": {
   "codemirror_mode": {
    "name": "ipython",
    "version": 3
   },
   "file_extension": ".py",
   "mimetype": "text/x-python",
   "name": "python",
   "nbconvert_exporter": "python",
   "pygments_lexer": "ipython3",
   "version": "3.8.0"
  },
  "orig_nbformat": 4
 },
 "nbformat": 4,
 "nbformat_minor": 2
}
