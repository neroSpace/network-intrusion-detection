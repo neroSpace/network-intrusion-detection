{
 "cells": [
  {
   "cell_type": "code",
   "execution_count": 1,
   "metadata": {},
   "outputs": [],
   "source": [
    "import pandas as pd\n",
    "import matplotlib.pyplot as plt\n",
    "import numpy as np\n",
    "import chardet"
   ]
  },
  {
   "attachments": {},
   "cell_type": "markdown",
   "metadata": {},
   "source": [
    "## Load Original Dataset"
   ]
  },
  {
   "cell_type": "code",
   "execution_count": 2,
   "metadata": {},
   "outputs": [],
   "source": [
    "origin = pd.read_csv(\"C:\\\\Users\\\\asus\\\\Documents\\\\nids-pcap-dataset\\\\unsw_dataset.csv\", encoding='MacRoman'\n",
    "                   ,on_bad_lines='skip', index_col=None\n",
    "                  # names=[\"time\", \"source_ip\", \"protocols\", \"info_message\"]\n",
    "                  )\n",
    "origin.rename(columns = {'_ws.col.Index':'index_ws',\n",
    "                       '_ws.col.Info':'info_message',\n",
    "                       '_ws.col.start_time':'start_time',\n",
    "                       '_ws.col.Source':'source_ip',\n",
    "                       '_ws.col.Destination':'destination_ip',\n",
    "                       '_ws.col.Protocol':'protocol',\n",
    "                       '_ws.col.sport':'source_port',\n",
    "                       '_ws.col.dport':'destination_port'}, inplace = True)"
   ]
  },
  {
   "cell_type": "code",
   "execution_count": 3,
   "metadata": {},
   "outputs": [
    {
     "data": {
      "text/html": [
       "<div>\n",
       "<style scoped>\n",
       "    .dataframe tbody tr th:only-of-type {\n",
       "        vertical-align: middle;\n",
       "    }\n",
       "\n",
       "    .dataframe tbody tr th {\n",
       "        vertical-align: top;\n",
       "    }\n",
       "\n",
       "    .dataframe thead th {\n",
       "        text-align: right;\n",
       "    }\n",
       "</style>\n",
       "<table border=\"1\" class=\"dataframe\">\n",
       "  <thead>\n",
       "    <tr style=\"text-align: right;\">\n",
       "      <th></th>\n",
       "      <th>source_ip</th>\n",
       "      <th>destination_ip</th>\n",
       "      <th>source_port</th>\n",
       "      <th>destination_port</th>\n",
       "      <th>protocol</th>\n",
       "      <th>start_time</th>\n",
       "      <th>info_message</th>\n",
       "    </tr>\n",
       "  </thead>\n",
       "  <tbody>\n",
       "    <tr>\n",
       "      <th>0</th>\n",
       "      <td>149.171.126.18</td>\n",
       "      <td>175.45.176.1</td>\n",
       "      <td>80</td>\n",
       "      <td>4657</td>\n",
       "      <td>HTTP</td>\n",
       "      <td>1.424219e+09</td>\n",
       "      <td>HTTP/1.1 200 OK [Malformed Packet]</td>\n",
       "    </tr>\n",
       "    <tr>\n",
       "      <th>1</th>\n",
       "      <td>175.45.176.1</td>\n",
       "      <td>149.171.126.18</td>\n",
       "      <td>4657</td>\n",
       "      <td>80</td>\n",
       "      <td>HTTP</td>\n",
       "      <td>1.424219e+09</td>\n",
       "      <td>GET /oKmwKoVbq HTTP/1.1</td>\n",
       "    </tr>\n",
       "    <tr>\n",
       "      <th>2</th>\n",
       "      <td>175.45.176.3</td>\n",
       "      <td>149.171.126.18</td>\n",
       "      <td>32473</td>\n",
       "      <td>80</td>\n",
       "      <td>HTTP</td>\n",
       "      <td>1.424219e+09</td>\n",
       "      <td>GET /level/15/exec/-/buffers/assigned/dump HTT...</td>\n",
       "    </tr>\n",
       "    <tr>\n",
       "      <th>3</th>\n",
       "      <td>175.45.176.2</td>\n",
       "      <td>149.171.126.19</td>\n",
       "      <td>59386</td>\n",
       "      <td>8020</td>\n",
       "      <td>HTTP</td>\n",
       "      <td>1.424219e+09</td>\n",
       "      <td>POST /HttpFileUpload/FileUploadController.do H...</td>\n",
       "    </tr>\n",
       "    <tr>\n",
       "      <th>4</th>\n",
       "      <td>149.171.126.14</td>\n",
       "      <td>175.45.176.0</td>\n",
       "      <td>80</td>\n",
       "      <td>21873</td>\n",
       "      <td>HTTP</td>\n",
       "      <td>1.424219e+09</td>\n",
       "      <td>[TCP ACKed unseen segment] HTTP/1.1 200 OK  (t...</td>\n",
       "    </tr>\n",
       "  </tbody>\n",
       "</table>\n",
       "</div>"
      ],
      "text/plain": [
       "        source_ip  destination_ip  source_port  destination_port protocol   \n",
       "0  149.171.126.18    175.45.176.1           80              4657     HTTP  \\\n",
       "1    175.45.176.1  149.171.126.18         4657                80     HTTP   \n",
       "2    175.45.176.3  149.171.126.18        32473                80     HTTP   \n",
       "3    175.45.176.2  149.171.126.19        59386              8020     HTTP   \n",
       "4  149.171.126.14    175.45.176.0           80             21873     HTTP   \n",
       "\n",
       "     start_time                                       info_message  \n",
       "0  1.424219e+09                 HTTP/1.1 200 OK [Malformed Packet]  \n",
       "1  1.424219e+09                           GET /oKmwKoVbq HTTP/1.1   \n",
       "2  1.424219e+09  GET /level/15/exec/-/buffers/assigned/dump HTT...  \n",
       "3  1.424219e+09  POST /HttpFileUpload/FileUploadController.do H...  \n",
       "4  1.424219e+09  [TCP ACKed unseen segment] HTTP/1.1 200 OK  (t...  "
      ]
     },
     "execution_count": 3,
     "metadata": {},
     "output_type": "execute_result"
    }
   ],
   "source": [
    "origin.head()"
   ]
  },
  {
   "cell_type": "code",
   "execution_count": 4,
   "metadata": {},
   "outputs": [
    {
     "name": "stdout",
     "output_type": "stream",
     "text": [
      "<class 'pandas.core.frame.DataFrame'>\n",
      "RangeIndex: 489203 entries, 0 to 489202\n",
      "Data columns (total 7 columns):\n",
      " #   Column            Non-Null Count   Dtype  \n",
      "---  ------            --------------   -----  \n",
      " 0   source_ip         489203 non-null  object \n",
      " 1   destination_ip    489203 non-null  object \n",
      " 2   source_port       489203 non-null  int64  \n",
      " 3   destination_port  489203 non-null  int64  \n",
      " 4   protocol          489203 non-null  object \n",
      " 5   start_time        489203 non-null  float64\n",
      " 6   info_message      489203 non-null  object \n",
      "dtypes: float64(1), int64(2), object(4)\n",
      "memory usage: 145.8 MB\n"
     ]
    }
   ],
   "source": [
    "origin.info(memory_usage='deep')"
   ]
  },
  {
   "cell_type": "code",
   "execution_count": 5,
   "metadata": {},
   "outputs": [
    {
     "name": "stdout",
     "output_type": "stream",
     "text": [
      "<class 'pandas.core.frame.DataFrame'>\n",
      "RangeIndex: 489203 entries, 0 to 489202\n",
      "Data columns (total 7 columns):\n",
      " #   Column            Non-Null Count   Dtype   \n",
      "---  ------            --------------   -----   \n",
      " 0   source_ip         489203 non-null  category\n",
      " 1   destination_ip    489203 non-null  category\n",
      " 2   source_port       489203 non-null  int32   \n",
      " 3   destination_port  489203 non-null  int32   \n",
      " 4   protocol          489203 non-null  category\n",
      " 5   start_time        489203 non-null  float32 \n",
      " 6   info_message      489203 non-null  category\n",
      "dtypes: category(4), float32(1), int32(2)\n",
      "memory usage: 10.9 MB\n"
     ]
    }
   ],
   "source": [
    "# memory optimization with fast.ai\n",
    "from fastai.tabular.core import df_shrink\n",
    "origin = df_shrink(origin)\n",
    "origin.info(memory_usage='deep')"
   ]
  },
  {
   "cell_type": "code",
   "execution_count": 6,
   "metadata": {},
   "outputs": [],
   "source": [
    "origin['start_time'] = origin['start_time'].astype('int32')"
   ]
  },
  {
   "attachments": {},
   "cell_type": "markdown",
   "metadata": {},
   "source": [
    "## Load GT Dataset"
   ]
  },
  {
   "cell_type": "code",
   "execution_count": 7,
   "metadata": {},
   "outputs": [],
   "source": [
    "gt = pd.read_csv(\"C:\\\\Users\\\\asus\\\\Documents\\\\nids-pcap-dataset\\\\unsw_ground_truth\\\\NUSW-NB15_GT.csv\"\n",
    "                   ,on_bad_lines='skip')"
   ]
  },
  {
   "cell_type": "code",
   "execution_count": 8,
   "metadata": {},
   "outputs": [],
   "source": [
    "import re\n",
    "def clean_colname(colname):\n",
    "    return re.sub(r'\\s+', '_', colname.lower())"
   ]
  },
  {
   "cell_type": "code",
   "execution_count": 9,
   "metadata": {},
   "outputs": [],
   "source": [
    "gt = gt.rename(columns={colname: clean_colname(colname) for colname in gt.columns})"
   ]
  },
  {
   "cell_type": "code",
   "execution_count": 10,
   "metadata": {},
   "outputs": [
    {
     "name": "stdout",
     "output_type": "stream",
     "text": [
      "<class 'pandas.core.frame.DataFrame'>\n",
      "RangeIndex: 174347 entries, 0 to 174346\n",
      "Data columns (total 12 columns):\n",
      " #   Column              Non-Null Count   Dtype \n",
      "---  ------              --------------   ----- \n",
      " 0   start_time          174347 non-null  int64 \n",
      " 1   last_time           174347 non-null  int64 \n",
      " 2   attack_category     174347 non-null  object\n",
      " 3   attack_subcategory  170250 non-null  object\n",
      " 4   protocol            174347 non-null  object\n",
      " 5   source_ip           174347 non-null  object\n",
      " 6   source_port         174347 non-null  int64 \n",
      " 7   destination_ip      174347 non-null  object\n",
      " 8   destination_port    174347 non-null  int64 \n",
      " 9   attack_name         174346 non-null  object\n",
      " 10  attack_reference    123709 non-null  object\n",
      " 11  .                   174347 non-null  object\n",
      "dtypes: int64(4), object(8)\n",
      "memory usage: 156.5 MB\n"
     ]
    }
   ],
   "source": [
    "gt.info(memory_usage='deep')"
   ]
  },
  {
   "cell_type": "code",
   "execution_count": 11,
   "metadata": {},
   "outputs": [
    {
     "data": {
      "text/html": [
       "<div>\n",
       "<style scoped>\n",
       "    .dataframe tbody tr th:only-of-type {\n",
       "        vertical-align: middle;\n",
       "    }\n",
       "\n",
       "    .dataframe tbody tr th {\n",
       "        vertical-align: top;\n",
       "    }\n",
       "\n",
       "    .dataframe thead th {\n",
       "        text-align: right;\n",
       "    }\n",
       "</style>\n",
       "<table border=\"1\" class=\"dataframe\">\n",
       "  <thead>\n",
       "    <tr style=\"text-align: right;\">\n",
       "      <th></th>\n",
       "      <th>start_time</th>\n",
       "      <th>last_time</th>\n",
       "      <th>attack_category</th>\n",
       "      <th>attack_subcategory</th>\n",
       "      <th>protocol</th>\n",
       "      <th>source_ip</th>\n",
       "      <th>source_port</th>\n",
       "      <th>destination_ip</th>\n",
       "      <th>destination_port</th>\n",
       "      <th>attack_name</th>\n",
       "      <th>attack_reference</th>\n",
       "      <th>.</th>\n",
       "    </tr>\n",
       "  </thead>\n",
       "  <tbody>\n",
       "    <tr>\n",
       "      <th>0</th>\n",
       "      <td>1421927414</td>\n",
       "      <td>1421927416</td>\n",
       "      <td>Reconnaissance</td>\n",
       "      <td>HTTP</td>\n",
       "      <td>tcp</td>\n",
       "      <td>175.45.176.0</td>\n",
       "      <td>13284</td>\n",
       "      <td>149.171.126.16</td>\n",
       "      <td>80</td>\n",
       "      <td>Domino Web Server Database Access: /doladmin.nsf (https://strikecenter.bpointsys.com/bps/strikes/recon/http/domino/access_domino_doladmin_nsf.xml)</td>\n",
       "      <td>-</td>\n",
       "      <td>.</td>\n",
       "    </tr>\n",
       "    <tr>\n",
       "      <th>1</th>\n",
       "      <td>1421927415</td>\n",
       "      <td>1421927415</td>\n",
       "      <td>Exploits</td>\n",
       "      <td>Unix 'r' Service</td>\n",
       "      <td>udp</td>\n",
       "      <td>175.45.176.3</td>\n",
       "      <td>21223</td>\n",
       "      <td>149.171.126.18</td>\n",
       "      <td>32780</td>\n",
       "      <td>Solaris rwalld Format String Vulnerability (https://strikecenter.bpointsys.com/bps/strikes/exploits/rservices/solaris_rwall_format_string.xml)</td>\n",
       "      <td>CVE 2002-0573 (http://cve.mitre.org/cgi-bin/cvename.cgi?name=2002%2d0573)BID 4639 (http://www.securityfocus.com/bid/4639)CVSS-High (https://strikecenter.bpointsys.com/bps/reference/CVSS/7.5%20%28AV%3aN%2fAC%3aL%2fAu%3aN%2fC%3aP%2fI%3aP%2fA%3aP%29)</td>\n",
       "      <td>.</td>\n",
       "    </tr>\n",
       "    <tr>\n",
       "      <th>2</th>\n",
       "      <td>1421927416</td>\n",
       "      <td>1421927416</td>\n",
       "      <td>Exploits</td>\n",
       "      <td>Browser</td>\n",
       "      <td>tcp</td>\n",
       "      <td>175.45.176.2</td>\n",
       "      <td>23357</td>\n",
       "      <td>149.171.126.16</td>\n",
       "      <td>80</td>\n",
       "      <td>Windows Metafile (WMF) SetAbortProc() Code Execution [009] (https://strikecenter.bpointsys.com/bps/strikes/exploits/browser/wmf_009.xml)</td>\n",
       "      <td>CVE 2005-4560 (http://cve.mitre.org/cgi-bin/cvename.cgi?name=2005%2d4560)BID 16074 (http://www.securityfocus.com/bid/16074)OSVDB 21987 (http://www.osvdb.org/21987)CVSS-High (https://strikecenter.bpointsys.com/bps/reference/CVSS/7.5%20%28AV%3aN%2fAC%3aL%2fAu%3aN%2fC%3aP%2fI%3aP%2fA%3aP%29)</td>\n",
       "      <td>.</td>\n",
       "    </tr>\n",
       "    <tr>\n",
       "      <th>3</th>\n",
       "      <td>1421927417</td>\n",
       "      <td>1421927417</td>\n",
       "      <td>Exploits</td>\n",
       "      <td>Miscellaneous Batch</td>\n",
       "      <td>tcp</td>\n",
       "      <td>175.45.176.2</td>\n",
       "      <td>13792</td>\n",
       "      <td>149.171.126.16</td>\n",
       "      <td>5555</td>\n",
       "      <td>HP Data Protector Backup (https://strikecenter.bpointsys.com/bps/strikes/exploits/misc/cve_2011_1729.xml)</td>\n",
       "      <td>CVE 2011-1729 (http://cve.mitre.org/cgi-bin/cvename.cgi?name=2011%2d1729)BID 47638 (http://www.securityfocus.com/bid/47638)OSVDB 72188 (http://www.osvdb.org/72188)CVSS-Critical (https://strikecenter.bpointsys.com/bps/reference/CVSS/10.0%20%28AV%3aN%2fAC%3aL%2fAu%3aN%2fC%3aC%2fI%3aC%2fA%3aC%29)</td>\n",
       "      <td>.</td>\n",
       "    </tr>\n",
       "    <tr>\n",
       "      <th>4</th>\n",
       "      <td>1421927418</td>\n",
       "      <td>1421927418</td>\n",
       "      <td>Exploits</td>\n",
       "      <td>Cisco IOS</td>\n",
       "      <td>tcp</td>\n",
       "      <td>175.45.176.2</td>\n",
       "      <td>26939</td>\n",
       "      <td>149.171.126.10</td>\n",
       "      <td>80</td>\n",
       "      <td>Cisco IOS HTTP Authentication Bypass Level 64 (https://strikecenter.bpointsys.com/bps/strikes/exploits/ios/cisco_auth_bypass_level_64.xml)</td>\n",
       "      <td>CVE 2001-0537 (http://cve.mitre.org/cgi-bin/cvename.cgi?name=2001%2d0537)BID 2936 (http://www.securityfocus.com/bid/2936)OSVDB 578 (http://www.osvdb.org/578)CVSS-High (https://strikecenter.bpointsys.com/bps/reference/CVSS/9.3%20%28AV%3aN%2fAC%3aM%2fAu%3aN%2fC%3aC%2fI%3aC%2fA%3aC%29)</td>\n",
       "      <td>.</td>\n",
       "    </tr>\n",
       "  </tbody>\n",
       "</table>\n",
       "</div>"
      ],
      "text/plain": [
       "   start_time   last_time attack_category   attack_subcategory protocol   \n",
       "0  1421927414  1421927416  Reconnaissance                 HTTP      tcp  \\\n",
       "1  1421927415  1421927415        Exploits     Unix 'r' Service      udp   \n",
       "2  1421927416  1421927416        Exploits              Browser      tcp   \n",
       "3  1421927417  1421927417        Exploits  Miscellaneous Batch      tcp   \n",
       "4  1421927418  1421927418        Exploits           Cisco IOS       tcp   \n",
       "\n",
       "      source_ip  source_port  destination_ip  destination_port   \n",
       "0  175.45.176.0        13284  149.171.126.16                80  \\\n",
       "1  175.45.176.3        21223  149.171.126.18             32780   \n",
       "2  175.45.176.2        23357  149.171.126.16                80   \n",
       "3  175.45.176.2        13792  149.171.126.16              5555   \n",
       "4  175.45.176.2        26939  149.171.126.10                80   \n",
       "\n",
       "                                                                                                                                          attack_name   \n",
       "0  Domino Web Server Database Access: /doladmin.nsf (https://strikecenter.bpointsys.com/bps/strikes/recon/http/domino/access_domino_doladmin_nsf.xml)  \\\n",
       "1      Solaris rwalld Format String Vulnerability (https://strikecenter.bpointsys.com/bps/strikes/exploits/rservices/solaris_rwall_format_string.xml)   \n",
       "2            Windows Metafile (WMF) SetAbortProc() Code Execution [009] (https://strikecenter.bpointsys.com/bps/strikes/exploits/browser/wmf_009.xml)   \n",
       "3                                           HP Data Protector Backup (https://strikecenter.bpointsys.com/bps/strikes/exploits/misc/cve_2011_1729.xml)   \n",
       "4          Cisco IOS HTTP Authentication Bypass Level 64 (https://strikecenter.bpointsys.com/bps/strikes/exploits/ios/cisco_auth_bypass_level_64.xml)   \n",
       "\n",
       "                                                                                                                                                                                                                                                                                         attack_reference   \n",
       "0                                                                                                                                                                                                                                                                                                       -  \\\n",
       "1                                                 CVE 2002-0573 (http://cve.mitre.org/cgi-bin/cvename.cgi?name=2002%2d0573)BID 4639 (http://www.securityfocus.com/bid/4639)CVSS-High (https://strikecenter.bpointsys.com/bps/reference/CVSS/7.5%20%28AV%3aN%2fAC%3aL%2fAu%3aN%2fC%3aP%2fI%3aP%2fA%3aP%29)   \n",
       "2       CVE 2005-4560 (http://cve.mitre.org/cgi-bin/cvename.cgi?name=2005%2d4560)BID 16074 (http://www.securityfocus.com/bid/16074)OSVDB 21987 (http://www.osvdb.org/21987)CVSS-High (https://strikecenter.bpointsys.com/bps/reference/CVSS/7.5%20%28AV%3aN%2fAC%3aL%2fAu%3aN%2fC%3aP%2fI%3aP%2fA%3aP%29)   \n",
       "3  CVE 2011-1729 (http://cve.mitre.org/cgi-bin/cvename.cgi?name=2011%2d1729)BID 47638 (http://www.securityfocus.com/bid/47638)OSVDB 72188 (http://www.osvdb.org/72188)CVSS-Critical (https://strikecenter.bpointsys.com/bps/reference/CVSS/10.0%20%28AV%3aN%2fAC%3aL%2fAu%3aN%2fC%3aC%2fI%3aC%2fA%3aC%29)   \n",
       "4             CVE 2001-0537 (http://cve.mitre.org/cgi-bin/cvename.cgi?name=2001%2d0537)BID 2936 (http://www.securityfocus.com/bid/2936)OSVDB 578 (http://www.osvdb.org/578)CVSS-High (https://strikecenter.bpointsys.com/bps/reference/CVSS/9.3%20%28AV%3aN%2fAC%3aM%2fAu%3aN%2fC%3aC%2fI%3aC%2fA%3aC%29)   \n",
       "\n",
       "   .  \n",
       "0  .  \n",
       "1  .  \n",
       "2  .  \n",
       "3  .  \n",
       "4  .  "
      ]
     },
     "execution_count": 11,
     "metadata": {},
     "output_type": "execute_result"
    }
   ],
   "source": [
    "gt.head()"
   ]
  },
  {
   "cell_type": "code",
   "execution_count": 12,
   "metadata": {},
   "outputs": [
    {
     "name": "stdout",
     "output_type": "stream",
     "text": [
      "<class 'pandas.core.frame.DataFrame'>\n",
      "RangeIndex: 174347 entries, 0 to 174346\n",
      "Data columns (total 12 columns):\n",
      " #   Column              Non-Null Count   Dtype   \n",
      "---  ------              --------------   -----   \n",
      " 0   start_time          174347 non-null  int32   \n",
      " 1   last_time           174347 non-null  int32   \n",
      " 2   attack_category     174347 non-null  category\n",
      " 3   attack_subcategory  170250 non-null  category\n",
      " 4   protocol            174347 non-null  category\n",
      " 5   source_ip           174347 non-null  category\n",
      " 6   source_port         174347 non-null  int32   \n",
      " 7   destination_ip      174347 non-null  category\n",
      " 8   destination_port    174347 non-null  int32   \n",
      " 9   attack_name         174346 non-null  category\n",
      " 10  attack_reference    123709 non-null  category\n",
      " 11  .                   174347 non-null  category\n",
      "dtypes: category(8), int32(4)\n",
      "memory usage: 11.8 MB\n"
     ]
    }
   ],
   "source": [
    "## memory optimization with fast.ai\n",
    "gt = df_shrink(gt)\n",
    "gt.info(memory_usage='deep')"
   ]
  },
  {
   "attachments": {},
   "cell_type": "markdown",
   "metadata": {},
   "source": [
    "## Joining origin with gt dataframe"
   ]
  },
  {
   "attachments": {},
   "cell_type": "markdown",
   "metadata": {},
   "source": [
    "### Labeled W start_time"
   ]
  },
  {
   "cell_type": "code",
   "execution_count": 13,
   "metadata": {},
   "outputs": [],
   "source": [
    "labeled = pd.merge(origin, gt, how='left', on=['source_ip', 'destination_ip', 'source_port', 'destination_port'])[\n",
    "                ['source_ip', 'destination_ip', 'source_port', 'destination_port', 'protocol_x', 'info_message', 'attack_category', 'start_time_x', 'start_time_y', 'last_time']\n",
    "                ]"
   ]
  },
  {
   "cell_type": "code",
   "execution_count": 15,
   "metadata": {},
   "outputs": [],
   "source": [
    "labeled = labeled[labeled['start_time_x'].between(labeled['start_time_y'], labeled['last_time'])]"
   ]
  },
  {
   "cell_type": "code",
   "execution_count": 17,
   "metadata": {},
   "outputs": [
    {
     "data": {
      "text/html": [
       "<div>\n",
       "<style scoped>\n",
       "    .dataframe tbody tr th:only-of-type {\n",
       "        vertical-align: middle;\n",
       "    }\n",
       "\n",
       "    .dataframe tbody tr th {\n",
       "        vertical-align: top;\n",
       "    }\n",
       "\n",
       "    .dataframe thead th {\n",
       "        text-align: right;\n",
       "    }\n",
       "</style>\n",
       "<table border=\"1\" class=\"dataframe\">\n",
       "  <thead>\n",
       "    <tr style=\"text-align: right;\">\n",
       "      <th></th>\n",
       "      <th>source_ip</th>\n",
       "      <th>destination_ip</th>\n",
       "      <th>source_port</th>\n",
       "      <th>destination_port</th>\n",
       "      <th>protocol_x</th>\n",
       "      <th>info_message</th>\n",
       "      <th>attack_category</th>\n",
       "      <th>start_time_x</th>\n",
       "      <th>start_time_y</th>\n",
       "      <th>last_time</th>\n",
       "      <th>is_malware</th>\n",
       "    </tr>\n",
       "  </thead>\n",
       "  <tbody>\n",
       "    <tr>\n",
       "      <th>1254</th>\n",
       "      <td>175.45.176.1</td>\n",
       "      <td>149.171.126.16</td>\n",
       "      <td>1943</td>\n",
       "      <td>80</td>\n",
       "      <td>HTTP</td>\n",
       "      <td>PROPFIND /yywTQjhxDFCSMtzUrCx.HtML HTTP/1.1</td>\n",
       "      <td>Exploits</td>\n",
       "      <td>1424220032</td>\n",
       "      <td>1.424220e+09</td>\n",
       "      <td>1.424220e+09</td>\n",
       "      <td>1</td>\n",
       "    </tr>\n",
       "    <tr>\n",
       "      <th>1255</th>\n",
       "      <td>175.45.176.1</td>\n",
       "      <td>149.171.126.16</td>\n",
       "      <td>1943</td>\n",
       "      <td>80</td>\n",
       "      <td>HTTP</td>\n",
       "      <td>GET /yywTQjhxDFCSMtzUrCx.HtML HTTP/1.1</td>\n",
       "      <td>Exploits</td>\n",
       "      <td>1424220032</td>\n",
       "      <td>1.424220e+09</td>\n",
       "      <td>1.424220e+09</td>\n",
       "      <td>1</td>\n",
       "    </tr>\n",
       "    <tr>\n",
       "      <th>2607</th>\n",
       "      <td>175.45.176.2</td>\n",
       "      <td>149.171.126.10</td>\n",
       "      <td>46354</td>\n",
       "      <td>80</td>\n",
       "      <td>HTTP</td>\n",
       "      <td>GET /cgi-bin/zsh HTTP/1.1</td>\n",
       "      <td>Reconnaissance</td>\n",
       "      <td>1424220288</td>\n",
       "      <td>1.424220e+09</td>\n",
       "      <td>1.424220e+09</td>\n",
       "      <td>1</td>\n",
       "    </tr>\n",
       "    <tr>\n",
       "      <th>2621</th>\n",
       "      <td>175.45.176.1</td>\n",
       "      <td>149.171.126.16</td>\n",
       "      <td>3773</td>\n",
       "      <td>80</td>\n",
       "      <td>HTTP</td>\n",
       "      <td>GET / HTTP/1.1</td>\n",
       "      <td>Exploits</td>\n",
       "      <td>1424220288</td>\n",
       "      <td>1.424220e+09</td>\n",
       "      <td>1.424220e+09</td>\n",
       "      <td>1</td>\n",
       "    </tr>\n",
       "    <tr>\n",
       "      <th>10542</th>\n",
       "      <td>175.45.176.2</td>\n",
       "      <td>149.171.126.14</td>\n",
       "      <td>59415</td>\n",
       "      <td>80</td>\n",
       "      <td>HTTP</td>\n",
       "      <td>GET 7cT3vI6X0X3 HTTP/1.1</td>\n",
       "      <td>Exploits</td>\n",
       "      <td>1424234880</td>\n",
       "      <td>1.424235e+09</td>\n",
       "      <td>1.424235e+09</td>\n",
       "      <td>1</td>\n",
       "    </tr>\n",
       "  </tbody>\n",
       "</table>\n",
       "</div>"
      ],
      "text/plain": [
       "          source_ip  destination_ip  source_port  destination_port protocol_x   \n",
       "1254   175.45.176.1  149.171.126.16         1943                80       HTTP  \\\n",
       "1255   175.45.176.1  149.171.126.16         1943                80       HTTP   \n",
       "2607   175.45.176.2  149.171.126.10        46354                80       HTTP   \n",
       "2621   175.45.176.1  149.171.126.16         3773                80       HTTP   \n",
       "10542  175.45.176.2  149.171.126.14        59415                80       HTTP   \n",
       "\n",
       "                                       info_message   attack_category   \n",
       "1254   PROPFIND /yywTQjhxDFCSMtzUrCx.HtML HTTP/1.1           Exploits  \\\n",
       "1255        GET /yywTQjhxDFCSMtzUrCx.HtML HTTP/1.1           Exploits   \n",
       "2607                     GET /cgi-bin/zsh HTTP/1.1    Reconnaissance    \n",
       "2621                                GET / HTTP/1.1           Exploits   \n",
       "10542                     GET 7cT3vI6X0X3 HTTP/1.1           Exploits   \n",
       "\n",
       "       start_time_x  start_time_y     last_time  is_malware  \n",
       "1254     1424220032  1.424220e+09  1.424220e+09           1  \n",
       "1255     1424220032  1.424220e+09  1.424220e+09           1  \n",
       "2607     1424220288  1.424220e+09  1.424220e+09           1  \n",
       "2621     1424220288  1.424220e+09  1.424220e+09           1  \n",
       "10542    1424234880  1.424235e+09  1.424235e+09           1  "
      ]
     },
     "execution_count": 17,
     "metadata": {},
     "output_type": "execute_result"
    }
   ],
   "source": [
    "labeled.head()"
   ]
  },
  {
   "cell_type": "code",
   "execution_count": 16,
   "metadata": {},
   "outputs": [
    {
     "ename": "SettingWithCopyError",
     "evalue": "\nA value is trying to be set on a copy of a slice from a DataFrame.\nTry using .loc[row_indexer,col_indexer] = value instead\n\nSee the caveats in the documentation: https://pandas.pydata.org/pandas-docs/stable/user_guide/indexing.html#returning-a-view-versus-a-copy",
     "output_type": "error",
     "traceback": [
      "\u001b[1;31m---------------------------------------------------------------------------\u001b[0m",
      "\u001b[1;31mSettingWithCopyError\u001b[0m                      Traceback (most recent call last)",
      "\u001b[1;32mc:\\Users\\asus\\Documents\\tugas-akhir-latest-update\\data-prep-related\\graph_modeling\\fix-ipnyb\\dataset_load.ipynb Cell 18\u001b[0m in \u001b[0;36m<cell line: 1>\u001b[1;34m()\u001b[0m\n\u001b[1;32m----> <a href='vscode-notebook-cell:/c%3A/Users/asus/Documents/tugas-akhir-latest-update/data-prep-related/graph_modeling/fix-ipnyb/dataset_load.ipynb#X22sZmlsZQ%3D%3D?line=0'>1</a>\u001b[0m labeled[\u001b[39m'\u001b[39m\u001b[39mis_malware\u001b[39m\u001b[39m'\u001b[39m] \u001b[39m=\u001b[39m np\u001b[39m.\u001b[39mwhere(labeled[\u001b[39m'\u001b[39m\u001b[39mattack_category\u001b[39m\u001b[39m'\u001b[39m]\u001b[39m.\u001b[39misnull(), \u001b[39m0\u001b[39m, \u001b[39m1\u001b[39m)\n",
      "File \u001b[1;32mc:\\Users\\asus\\AppData\\Local\\Programs\\Python\\Python38\\lib\\site-packages\\pandas\\core\\frame.py:3960\u001b[0m, in \u001b[0;36mDataFrame.__setitem__\u001b[1;34m(self, key, value)\u001b[0m\n\u001b[0;32m   3957\u001b[0m     \u001b[39mself\u001b[39m\u001b[39m.\u001b[39m_setitem_array([key], value)\n\u001b[0;32m   3958\u001b[0m \u001b[39melse\u001b[39;00m:\n\u001b[0;32m   3959\u001b[0m     \u001b[39m# set column\u001b[39;00m\n\u001b[1;32m-> 3960\u001b[0m     \u001b[39mself\u001b[39;49m\u001b[39m.\u001b[39;49m_set_item(key, value)\n",
      "File \u001b[1;32mc:\\Users\\asus\\AppData\\Local\\Programs\\Python\\Python38\\lib\\site-packages\\pandas\\core\\frame.py:4166\u001b[0m, in \u001b[0;36mDataFrame._set_item\u001b[1;34m(self, key, value)\u001b[0m\n\u001b[0;32m   4163\u001b[0m         \u001b[39mif\u001b[39;00m \u001b[39misinstance\u001b[39m(existing_piece, DataFrame):\n\u001b[0;32m   4164\u001b[0m             value \u001b[39m=\u001b[39m np\u001b[39m.\u001b[39mtile(value, (\u001b[39mlen\u001b[39m(existing_piece\u001b[39m.\u001b[39mcolumns), \u001b[39m1\u001b[39m))\u001b[39m.\u001b[39mT\n\u001b[1;32m-> 4166\u001b[0m \u001b[39mself\u001b[39;49m\u001b[39m.\u001b[39;49m_set_item_mgr(key, value)\n",
      "File \u001b[1;32mc:\\Users\\asus\\AppData\\Local\\Programs\\Python\\Python38\\lib\\site-packages\\pandas\\core\\frame.py:4131\u001b[0m, in \u001b[0;36mDataFrame._set_item_mgr\u001b[1;34m(self, key, value)\u001b[0m\n\u001b[0;32m   4127\u001b[0m \u001b[39m# check if we are modifying a copy\u001b[39;00m\n\u001b[0;32m   4128\u001b[0m \u001b[39m# try to set first as we want an invalid\u001b[39;00m\n\u001b[0;32m   4129\u001b[0m \u001b[39m# value exception to occur first\u001b[39;00m\n\u001b[0;32m   4130\u001b[0m \u001b[39mif\u001b[39;00m \u001b[39mlen\u001b[39m(\u001b[39mself\u001b[39m):\n\u001b[1;32m-> 4131\u001b[0m     \u001b[39mself\u001b[39;49m\u001b[39m.\u001b[39;49m_check_setitem_copy()\n",
      "File \u001b[1;32mc:\\Users\\asus\\AppData\\Local\\Programs\\Python\\Python38\\lib\\site-packages\\pandas\\core\\generic.py:4247\u001b[0m, in \u001b[0;36mNDFrame._check_setitem_copy\u001b[1;34m(self, t, force)\u001b[0m\n\u001b[0;32m   4236\u001b[0m     t \u001b[39m=\u001b[39m (\n\u001b[0;32m   4237\u001b[0m         \u001b[39m\"\u001b[39m\u001b[39m\\n\u001b[39;00m\u001b[39m\"\u001b[39m\n\u001b[0;32m   4238\u001b[0m         \u001b[39m\"\u001b[39m\u001b[39mA value is trying to be set on a copy of a slice from a \u001b[39m\u001b[39m\"\u001b[39m\n\u001b[1;32m   (...)\u001b[0m\n\u001b[0;32m   4243\u001b[0m         \u001b[39m\"\u001b[39m\u001b[39mindexing.html#returning-a-view-versus-a-copy\u001b[39m\u001b[39m\"\u001b[39m\n\u001b[0;32m   4244\u001b[0m     )\n\u001b[0;32m   4246\u001b[0m \u001b[39mif\u001b[39;00m value \u001b[39m==\u001b[39m \u001b[39m\"\u001b[39m\u001b[39mraise\u001b[39m\u001b[39m\"\u001b[39m:\n\u001b[1;32m-> 4247\u001b[0m     \u001b[39mraise\u001b[39;00m SettingWithCopyError(t)\n\u001b[0;32m   4248\u001b[0m \u001b[39mif\u001b[39;00m value \u001b[39m==\u001b[39m \u001b[39m\"\u001b[39m\u001b[39mwarn\u001b[39m\u001b[39m\"\u001b[39m:\n\u001b[0;32m   4249\u001b[0m     warnings\u001b[39m.\u001b[39mwarn(t, SettingWithCopyWarning, stacklevel\u001b[39m=\u001b[39mfind_stack_level())\n",
      "\u001b[1;31mSettingWithCopyError\u001b[0m: \nA value is trying to be set on a copy of a slice from a DataFrame.\nTry using .loc[row_indexer,col_indexer] = value instead\n\nSee the caveats in the documentation: https://pandas.pydata.org/pandas-docs/stable/user_guide/indexing.html#returning-a-view-versus-a-copy"
     ]
    }
   ],
   "source": [
    "labeled['is_malware'] = np.where(labeled['attack_category'].isnull(), 0, 1)"
   ]
  },
  {
   "cell_type": "code",
   "execution_count": 18,
   "metadata": {},
   "outputs": [
    {
     "data": {
      "text/plain": [
       "is_malware\n",
       "1    304\n",
       "Name: count, dtype: int64"
      ]
     },
     "execution_count": 18,
     "metadata": {},
     "output_type": "execute_result"
    }
   ],
   "source": [
    "labeled.is_malware.value_counts()"
   ]
  },
  {
   "cell_type": "code",
   "execution_count": 17,
   "metadata": {},
   "outputs": [
    {
     "name": "stdout",
     "output_type": "stream",
     "text": [
      "<class 'pandas.core.frame.DataFrame'>\n",
      "RangeIndex: 489203 entries, 0 to 489202\n",
      "Data columns (total 8 columns):\n",
      " #   Column            Non-Null Count   Dtype   \n",
      "---  ------            --------------   -----   \n",
      " 0   source_ip         489203 non-null  object  \n",
      " 1   destination_ip    489203 non-null  object  \n",
      " 2   source_port       489203 non-null  int32   \n",
      " 3   destination_port  489203 non-null  int32   \n",
      " 4   protocol_x        489203 non-null  category\n",
      " 5   info_message      489203 non-null  category\n",
      " 6   attack_category   134 non-null     category\n",
      " 7   is_malware        489203 non-null  int32   \n",
      "dtypes: category(3), int32(3), object(2)\n",
      "memory usage: 74.5 MB\n"
     ]
    }
   ],
   "source": [
    "labeled.info(memory_usage='deep')"
   ]
  },
  {
   "cell_type": "code",
   "execution_count": 27,
   "metadata": {},
   "outputs": [],
   "source": [
    "# Convert the categorical columns to strings\n",
    "labeled['source_ip'] = labeled['source_ip'].astype(str)\n",
    "labeled['source_port'] = labeled['source_port'].astype(str)\n",
    "labeled['info_message'] = labeled['info_message'].astype(str)\n",
    "\n",
    "# create new columns for graph modeling\n",
    "labeled['source_ip_info'] = labeled['source_ip'] + ' ' + labeled['info_message']\n",
    "labeled['source_ip_info'] = labeled['source_ip_info'].astype(str)\n",
    "labeled['source_port_info'] = labeled['source_port'] + ' ' + labeled['info_message']\n",
    "labeled['source_port_info'] = labeled['source_port_info'].astype(str)\n"
   ]
  },
  {
   "cell_type": "code",
   "execution_count": 28,
   "metadata": {},
   "outputs": [],
   "source": [
    "### Export to parquet\n",
    "labeled.to_parquet('C:\\\\Users\\\\asus\\\\Documents\\\\nids-pcap-dataset\\\\unsw_parquet_used_dataset\\\\labeled_w_start_time.parquet')"
   ]
  },
  {
   "attachments": {},
   "cell_type": "markdown",
   "metadata": {},
   "source": [
    "### Labeled WO start_time"
   ]
  },
  {
   "cell_type": "code",
   "execution_count": null,
   "metadata": {},
   "outputs": [],
   "source": [
    "origin = pd.read_csv(\"C:\\\\Users\\\\asus\\\\Documents\\\\nids-pcap-dataset\\\\unsw_dataset.csv\", encoding='MacRoman'\n",
    "                   ,on_bad_lines='skip', index_col=None\n",
    "                  # names=[\"time\", \"source_ip\", \"protocols\", \"info_message\"]\n",
    "                  )\n",
    "origin.rename(columns = {'_ws.col.Index':'index_ws',\n",
    "                       '_ws.col.Info':'info_message',\n",
    "                       '_ws.col.start_time':'start_time',\n",
    "                       '_ws.col.Source':'source_ip',\n",
    "                       '_ws.col.Destination':'destination_ip',\n",
    "                       '_ws.col.Protocol':'protocol',\n",
    "                       '_ws.col.sport':'source_port',\n",
    "                       '_ws.col.dport':'destination_port'}, inplace = True)\n",
    "gt = pd.read_csv(\"C:\\\\Users\\\\asus\\\\Documents\\\\nids-pcap-dataset\\\\unsw_ground_truth\\\\NUSW-NB15_GT.csv\"\n",
    "                   ,on_bad_lines='skip')\n",
    "labeled_wo_start_time = pd.merge(origin, gt, how='left', on=['source_ip', 'destination_ip', 'source_port', 'destination_port'])[\n",
    "                ['source_ip', 'destination_ip', 'source_port', 'destination_port', 'info_message', 'attack_category']\n",
    "                ]"
   ]
  },
  {
   "cell_type": "code",
   "execution_count": 13,
   "metadata": {},
   "outputs": [],
   "source": [
    "labeled_wo_start_time = pd.merge(origin, gt, how='left', on=['source_ip', 'destination_ip', 'source_port', 'destination_port'])[\n",
    "                ['source_ip', 'destination_ip', 'source_port', 'destination_port', 'info_message', 'attack_category']\n",
    "                ]"
   ]
  },
  {
   "cell_type": "code",
   "execution_count": 14,
   "metadata": {},
   "outputs": [],
   "source": [
    "labeled_wo_start_time['is_malware'] = np.where(labeled_wo_start_time['attack_category'].isnull(), 0, 1)"
   ]
  },
  {
   "cell_type": "code",
   "execution_count": 15,
   "metadata": {},
   "outputs": [
    {
     "data": {
      "text/html": [
       "<div>\n",
       "<style scoped>\n",
       "    .dataframe tbody tr th:only-of-type {\n",
       "        vertical-align: middle;\n",
       "    }\n",
       "\n",
       "    .dataframe tbody tr th {\n",
       "        vertical-align: top;\n",
       "    }\n",
       "\n",
       "    .dataframe thead th {\n",
       "        text-align: right;\n",
       "    }\n",
       "</style>\n",
       "<table border=\"1\" class=\"dataframe\">\n",
       "  <thead>\n",
       "    <tr style=\"text-align: right;\">\n",
       "      <th></th>\n",
       "      <th>source_ip</th>\n",
       "      <th>destination_ip</th>\n",
       "      <th>source_port</th>\n",
       "      <th>destination_port</th>\n",
       "      <th>info_message</th>\n",
       "      <th>attack_category</th>\n",
       "      <th>is_malware</th>\n",
       "    </tr>\n",
       "  </thead>\n",
       "  <tbody>\n",
       "    <tr>\n",
       "      <th>0</th>\n",
       "      <td>149.171.126.18</td>\n",
       "      <td>175.45.176.1</td>\n",
       "      <td>80</td>\n",
       "      <td>4657</td>\n",
       "      <td>HTTP/1.1 200 OK [Malformed Packet]</td>\n",
       "      <td>NaN</td>\n",
       "      <td>0</td>\n",
       "    </tr>\n",
       "    <tr>\n",
       "      <th>1</th>\n",
       "      <td>175.45.176.1</td>\n",
       "      <td>149.171.126.18</td>\n",
       "      <td>4657</td>\n",
       "      <td>80</td>\n",
       "      <td>GET /oKmwKoVbq HTTP/1.1</td>\n",
       "      <td>NaN</td>\n",
       "      <td>0</td>\n",
       "    </tr>\n",
       "    <tr>\n",
       "      <th>2</th>\n",
       "      <td>175.45.176.3</td>\n",
       "      <td>149.171.126.18</td>\n",
       "      <td>32473</td>\n",
       "      <td>80</td>\n",
       "      <td>GET /level/15/exec/-/buffers/assigned/dump HTTP/1.1</td>\n",
       "      <td>NaN</td>\n",
       "      <td>0</td>\n",
       "    </tr>\n",
       "    <tr>\n",
       "      <th>3</th>\n",
       "      <td>175.45.176.2</td>\n",
       "      <td>149.171.126.19</td>\n",
       "      <td>59386</td>\n",
       "      <td>8020</td>\n",
       "      <td>POST /HttpFileUpload/FileUploadController.do HTTP/1.1</td>\n",
       "      <td>NaN</td>\n",
       "      <td>0</td>\n",
       "    </tr>\n",
       "    <tr>\n",
       "      <th>4</th>\n",
       "      <td>149.171.126.14</td>\n",
       "      <td>175.45.176.0</td>\n",
       "      <td>80</td>\n",
       "      <td>21873</td>\n",
       "      <td>[TCP ACKed unseen segment] HTTP/1.1 200 OK  (text/html)</td>\n",
       "      <td>NaN</td>\n",
       "      <td>0</td>\n",
       "    </tr>\n",
       "  </tbody>\n",
       "</table>\n",
       "</div>"
      ],
      "text/plain": [
       "        source_ip  destination_ip  source_port  destination_port   \n",
       "0  149.171.126.18    175.45.176.1           80              4657  \\\n",
       "1    175.45.176.1  149.171.126.18         4657                80   \n",
       "2    175.45.176.3  149.171.126.18        32473                80   \n",
       "3    175.45.176.2  149.171.126.19        59386              8020   \n",
       "4  149.171.126.14    175.45.176.0           80             21873   \n",
       "\n",
       "                                              info_message attack_category   \n",
       "0                       HTTP/1.1 200 OK [Malformed Packet]             NaN  \\\n",
       "1                                 GET /oKmwKoVbq HTTP/1.1              NaN   \n",
       "2     GET /level/15/exec/-/buffers/assigned/dump HTTP/1.1              NaN   \n",
       "3   POST /HttpFileUpload/FileUploadController.do HTTP/1.1              NaN   \n",
       "4  [TCP ACKed unseen segment] HTTP/1.1 200 OK  (text/html)             NaN   \n",
       "\n",
       "   is_malware  \n",
       "0           0  \n",
       "1           0  \n",
       "2           0  \n",
       "3           0  \n",
       "4           0  "
      ]
     },
     "execution_count": 15,
     "metadata": {},
     "output_type": "execute_result"
    }
   ],
   "source": [
    "labeled_wo_start_time.head()"
   ]
  },
  {
   "cell_type": "code",
   "execution_count": 20,
   "metadata": {},
   "outputs": [
    {
     "data": {
      "image/png": "[encoded data removed]",
      "text/plain": [
       "<Figure size 432x288 with 1 Axes>"
      ]
     },
     "metadata": {
      "needs_background": "light"
     },
     "output_type": "display_data"
    }
   ],
   "source": [
    "labeled_wo_start_time.is_malware.value_counts().plot(kind='bar', title='Malware vs Benign')\n",
    "plt.xlabel('is_malware')\n",
    "plt.ylabel('count')\n",
    "value_counts = labeled_wo_start_time.is_malware.value_counts()\n",
    "for i, count in enumerate(value_counts):\n",
    "    plt.text(i, count, str(count), ha='center', va='bottom')\n",
    "plt.show()"
   ]
  },
  {
   "cell_type": "code",
   "execution_count": 16,
   "metadata": {},
   "outputs": [
    {
     "data": {
      "text/plain": [
       "is_malware\n",
       "0    472933\n",
       "1     17093\n",
       "Name: count, dtype: int64"
      ]
     },
     "execution_count": 16,
     "metadata": {},
     "output_type": "execute_result"
    }
   ],
   "source": [
    "labeled_wo_start_time.is_malware.value_counts()"
   ]
  },
  {
   "cell_type": "code",
   "execution_count": 18,
   "metadata": {},
   "outputs": [
    {
     "name": "stdout",
     "output_type": "stream",
     "text": [
      "<class 'pandas.core.frame.DataFrame'>\n",
      "RangeIndex: 490026 entries, 0 to 490025\n",
      "Data columns (total 7 columns):\n",
      " #   Column            Non-Null Count   Dtype   \n",
      "---  ------            --------------   -----   \n",
      " 0   source_ip         490026 non-null  object  \n",
      " 1   destination_ip    490026 non-null  object  \n",
      " 2   source_port       490026 non-null  int32   \n",
      " 3   destination_port  490026 non-null  int32   \n",
      " 4   info_message      490026 non-null  category\n",
      " 5   attack_category   17093 non-null   category\n",
      " 6   is_malware        490026 non-null  int32   \n",
      "dtypes: category(2), int32(3), object(2)\n",
      "memory usage: 74.1 MB\n"
     ]
    }
   ],
   "source": [
    "labeled_wo_start_time.info(memory_usage='deep')"
   ]
  },
  {
   "cell_type": "code",
   "execution_count": 19,
   "metadata": {},
   "outputs": [],
   "source": [
    "# Convert the categorical columns to strings\n",
    "labeled_wo_start_time['source_ip'] = labeled_wo_start_time['source_ip'].astype(str)\n",
    "labeled_wo_start_time['source_port'] = labeled_wo_start_time['source_port'].astype(str)\n",
    "labeled_wo_start_time['info_message'] = labeled_wo_start_time['info_message'].astype(str)\n",
    "\n",
    "# create new columns for graph modeling\n",
    "labeled_wo_start_time['source_ip_info'] = labeled_wo_start_time['source_ip'] + ' ' + labeled_wo_start_time['info_message']\n",
    "labeled_wo_start_time['source_ip_info'] = labeled_wo_start_time['source_ip_info'].astype(str)\n",
    "labeled_wo_start_time['source_port_info'] = labeled_wo_start_time['source_port'] + ' ' + labeled_wo_start_time['info_message']\n",
    "labeled_wo_start_time['source_port_info'] = labeled_wo_start_time['source_port_info'].astype(str)\n"
   ]
  },
  {
   "cell_type": "code",
   "execution_count": 20,
   "metadata": {},
   "outputs": [],
   "source": [
    "# Convert the categorical columns to strings\n",
    "labeled_wo_start_time['destination_ip'] = labeled_wo_start_time['destination_ip'].astype(str)\n",
    "labeled_wo_start_time['destination_port'] = labeled_wo_start_time['destination_port'].astype(str)\n",
    "\n",
    "labeled_wo_start_time['dest_ip_info'] = labeled_wo_start_time['destination_ip'] + ' ' + labeled_wo_start_time['info_message']\n",
    "labeled_wo_start_time['dest_ip_info'] = labeled_wo_start_time['dest_ip_info'].astype(str)\n",
    "labeled_wo_start_time['dest_port_info'] = labeled_wo_start_time['destination_port'] + ' ' + labeled_wo_start_time['info_message']\n",
    "labeled_wo_start_time['dest_port_info'] = labeled_wo_start_time['dest_port_info'].astype(str)"
   ]
  },
  {
   "cell_type": "code",
   "execution_count": 21,
   "metadata": {},
   "outputs": [],
   "source": [
    "### Export to parquet\n",
    "labeled_wo_start_time.to_parquet('C:\\\\Users\\\\asus\\\\Documents\\\\nids-pcap-dataset\\\\unsw_parquet_used_dataset\\\\labeled_wo_start_time.parquet')"
   ]
  },
  {
   "cell_type": "code",
   "execution_count": null,
   "metadata": {},
   "outputs": [],
   "source": []
  }
 ],
 "metadata": {
  "kernelspec": {
   "display_name": "Python 3",
   "language": "python",
   "name": "python3"
  },
  "language_info": {
   "codemirror_mode": {
    "name": "ipython",
    "version": 3
   },
   "file_extension": ".py",
   "mimetype": "text/x-python",
   "name": "python",
   "nbconvert_exporter": "python",
   "pygments_lexer": "ipython3",
   "version": "3.8.0"
  },
  "orig_nbformat": 4
 },
 "nbformat": 4,
 "nbformat_minor": 2
}
