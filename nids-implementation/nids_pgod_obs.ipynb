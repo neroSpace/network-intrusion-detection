{
 "cells": [
  {
   "cell_type": "code",
   "execution_count": 3,
   "metadata": {},
   "outputs": [],
   "source": [
    "import networkx as nx\n",
    "import pandas as pd\n",
    "import random\n",
    "import torch\n",
    "import pickle\n",
    "from sklearn.model_selection import train_test_split\n",
    "import sklearn.metrics as metrics\n",
    "import numpy as np"
   ]
  },
  {
   "cell_type": "code",
   "execution_count": 4,
   "metadata": {},
   "outputs": [],
   "source": [
    "import torch\n",
    "from torch_geometric.utils.convert import from_networkx\n",
    "from pygod.detector import DOMINANT, OCGNN, GUIDE, GAE, GAAN, AnomalyDAE, CONAD\n",
    "from pygod.metric import eval_f1, eval_precision_at_k, eval_recall_at_k\n",
    "from pygod.generator import gen_contextual_outlier, gen_structural_outlier\n",
    "import pickle\n",
    "import time\n",
    "device = torch.device('cuda')"
   ]
  },
  {
   "cell_type": "code",
   "execution_count": 5,
   "metadata": {},
   "outputs": [],
   "source": [
    "import torchvision.models as models\n",
    "import torch_geometric.nn as pyg_nn"
   ]
  },
  {
   "cell_type": "code",
   "execution_count": 7,
   "metadata": {},
   "outputs": [
    {
     "name": "stdout",
     "output_type": "stream",
     "text": [
      "|===========================================================================|\n",
      "|                  PyTorch CUDA memory summary, device ID 0                 |\n",
      "|---------------------------------------------------------------------------|\n",
      "|            CUDA OOMs: 0            |        cudaMalloc retries: 0         |\n",
      "|===========================================================================|\n",
      "|        Metric         | Cur Usage  | Peak Usage | Tot Alloc  | Tot Freed  |\n",
      "|---------------------------------------------------------------------------|\n",
      "| Allocated memory      |       0 B  |       0 B  |       0 B  |       0 B  |\n",
      "|       from large pool |       0 B  |       0 B  |       0 B  |       0 B  |\n",
      "|       from small pool |       0 B  |       0 B  |       0 B  |       0 B  |\n",
      "|---------------------------------------------------------------------------|\n",
      "| Active memory         |       0 B  |       0 B  |       0 B  |       0 B  |\n",
      "|       from large pool |       0 B  |       0 B  |       0 B  |       0 B  |\n",
      "|       from small pool |       0 B  |       0 B  |       0 B  |       0 B  |\n",
      "|---------------------------------------------------------------------------|\n",
      "| GPU reserved memory   |       0 B  |       0 B  |       0 B  |       0 B  |\n",
      "|       from large pool |       0 B  |       0 B  |       0 B  |       0 B  |\n",
      "|       from small pool |       0 B  |       0 B  |       0 B  |       0 B  |\n",
      "|---------------------------------------------------------------------------|\n",
      "| Non-releasable memory |       0 B  |       0 B  |       0 B  |       0 B  |\n",
      "|       from large pool |       0 B  |       0 B  |       0 B  |       0 B  |\n",
      "|       from small pool |       0 B  |       0 B  |       0 B  |       0 B  |\n",
      "|---------------------------------------------------------------------------|\n",
      "| Allocations           |       0    |       0    |       0    |       0    |\n",
      "|       from large pool |       0    |       0    |       0    |       0    |\n",
      "|       from small pool |       0    |       0    |       0    |       0    |\n",
      "|---------------------------------------------------------------------------|\n",
      "| Active allocs         |       0    |       0    |       0    |       0    |\n",
      "|       from large pool |       0    |       0    |       0    |       0    |\n",
      "|       from small pool |       0    |       0    |       0    |       0    |\n",
      "|---------------------------------------------------------------------------|\n",
      "| GPU reserved segments |       0    |       0    |       0    |       0    |\n",
      "|       from large pool |       0    |       0    |       0    |       0    |\n",
      "|       from small pool |       0    |       0    |       0    |       0    |\n",
      "|---------------------------------------------------------------------------|\n",
      "| Non-releasable allocs |       0    |       0    |       0    |       0    |\n",
      "|       from large pool |       0    |       0    |       0    |       0    |\n",
      "|       from small pool |       0    |       0    |       0    |       0    |\n",
      "|---------------------------------------------------------------------------|\n",
      "| Oversize allocations  |       0    |       0    |       0    |       0    |\n",
      "|---------------------------------------------------------------------------|\n",
      "| Oversize GPU segments |       0    |       0    |       0    |       0    |\n",
      "|===========================================================================|\n",
      "\n"
     ]
    }
   ],
   "source": [
    "print(torch.cuda.memory_summary(device=None, abbreviated=False))"
   ]
  },
  {
   "cell_type": "code",
   "execution_count": 1,
   "metadata": {},
   "outputs": [],
   "source": [
    "unsw_labeled_path = \"C:\\\\Users\\\\asus\\\\Documents\\\\nids-pcap-dataset\\\\unsw_parquet_used_dataset\\\\unsw_labeled.parquet\""
   ]
  },
  {
   "cell_type": "code",
   "execution_count": null,
   "metadata": {},
   "outputs": [],
   "source": []
  },
  {
   "cell_type": "code",
   "execution_count": 6,
   "metadata": {},
   "outputs": [],
   "source": [
    "unsw = pd.read_parquet(unsw_labeled_path)"
   ]
  },
  {
   "cell_type": "code",
   "execution_count": 7,
   "metadata": {},
   "outputs": [
    {
     "data": {
      "text/plain": [
       "is_malware\n",
       "0    110274\n",
       "1     14906\n",
       "Name: count, dtype: int64"
      ]
     },
     "execution_count": 7,
     "metadata": {},
     "output_type": "execute_result"
    }
   ],
   "source": [
    "unsw.is_malware.value_counts()"
   ]
  },
  {
   "cell_type": "code",
   "execution_count": 8,
   "metadata": {},
   "outputs": [],
   "source": [
    "#import plt\n",
    "import matplotlib.pyplot as plt\n",
    "def check_distribution(col_name):\n",
    "    unsw_nd = unsw.drop_duplicates(subset=[col_name], keep='first')\n",
    "    value_counts = unsw_nd.is_malware.value_counts()\n",
    "    colors = ['red' if value == 1 else 'green' for value in value_counts.index]\n",
    "    value_counts.plot(kind='bar', color=colors)\n",
    "    plt.xlabel('is_malware')\n",
    "    plt.ylabel('count')\n",
    "    plt.title(col_name +' sebagai Node')\n",
    "    for i, count in enumerate(value_counts):\n",
    "        plt.text(i, count, str(count), ha='center', va='bottom', color='black')\n",
    "    plt.show()"
   ]
  },
  {
   "cell_type": "code",
   "execution_count": 9,
   "metadata": {},
   "outputs": [
    {
     "data": {
      "image/png": "[encoded data removed]",
      "text/plain": [
       "<Figure size 432x288 with 1 Axes>"
      ]
     },
     "metadata": {
      "needs_background": "light"
     },
     "output_type": "display_data"
    }
   ],
   "source": [
    "check_distribution('dest_port_info')"
   ]
  },
  {
   "cell_type": "code",
   "execution_count": 10,
   "metadata": {},
   "outputs": [
    {
     "data": {
      "image/png": "[encoded data removed]",
      "text/plain": [
       "<Figure size 432x288 with 1 Axes>"
      ]
     },
     "metadata": {
      "needs_background": "light"
     },
     "output_type": "display_data"
    }
   ],
   "source": [
    "check_distribution('source_ip_info')"
   ]
  },
  {
   "cell_type": "code",
   "execution_count": 11,
   "metadata": {},
   "outputs": [
    {
     "data": {
      "image/png": "[encoded data removed]",
      "text/plain": [
       "<Figure size 432x288 with 1 Axes>"
      ]
     },
     "metadata": {
      "needs_background": "light"
     },
     "output_type": "display_data"
    }
   ],
   "source": [
    "check_distribution('info_message')"
   ]
  },
  {
   "cell_type": "code",
   "execution_count": 12,
   "metadata": {},
   "outputs": [
    {
     "data": {
      "image/png": "[encoded data removed]",
      "text/plain": [
       "<Figure size 432x288 with 1 Axes>"
      ]
     },
     "metadata": {
      "needs_background": "light"
     },
     "output_type": "display_data"
    }
   ],
   "source": [
    "check_distribution('source_port_info')"
   ]
  },
  {
   "cell_type": "code",
   "execution_count": 13,
   "metadata": {},
   "outputs": [
    {
     "data": {
      "image/png": "[encoded data removed]",
      "text/plain": [
       "<Figure size 432x288 with 1 Axes>"
      ]
     },
     "metadata": {
      "needs_background": "light"
     },
     "output_type": "display_data"
    }
   ],
   "source": [
    "check_distribution('dest_ip_info')"
   ]
  },
  {
   "cell_type": "code",
   "execution_count": 18,
   "metadata": {},
   "outputs": [],
   "source": [
    "def split_train_test(df, test_size=0.3, random_state = 0):\n",
    "    train, test = train_test_split(df, test_size=test_size)\n",
    "    return train, test"
   ]
  },
  {
   "cell_type": "code",
   "execution_count": 9,
   "metadata": {},
   "outputs": [],
   "source": [
    "def graph_modeling_1(df):\n",
    "    graph = nx.Graph()\n",
    "    node_features = []\n",
    "    labels = []\n",
    "\n",
    "    for source_port_info in df[\"source_port_info\"].unique():\n",
    "        graph.add_node(source_port_info)\n",
    "        info_message = df[df[\"source_port_info\"] == source_port_info][\"info_message\"].iloc[0]\n",
    "        label = df[df[\"source_port_info\"] == source_port_info][\"is_malware\"].iloc[0]\n",
    "        node_features.append([float(len(info_message))])\n",
    "        labels.append(label)\n",
    "        \n",
    "    for (source_ip, source_port), group in df.groupby([\"source_ip\", \"source_port\"]):\n",
    "        for i in range(len(group) - 1):\n",
    "            from_node = group.iloc[i][\"source_port_info\"]\n",
    "            to_node = group.iloc[i+1][\"source_port_info\"]\n",
    "            if graph.has_edge(from_node, to_node):\n",
    "                graph[from_node][to_node][\"weight\"] += 1\n",
    "            else:\n",
    "                graph.add_edge(from_node, to_node, weight=1)\n",
    "    return graph, node_features, labels"
   ]
  },
  {
   "cell_type": "code",
   "execution_count": 19,
   "metadata": {},
   "outputs": [],
   "source": [
    "train_df, test_df = split_train_test(unsw)"
   ]
  },
  {
   "cell_type": "code",
   "execution_count": 20,
   "metadata": {},
   "outputs": [
    {
     "data": {
      "text/plain": [
       "is_malware\n",
       "0    77213\n",
       "1    10413\n",
       "Name: count, dtype: int64"
      ]
     },
     "execution_count": 20,
     "metadata": {},
     "output_type": "execute_result"
    }
   ],
   "source": [
    "train_df.is_malware.value_counts()"
   ]
  },
  {
   "cell_type": "code",
   "execution_count": 21,
   "metadata": {},
   "outputs": [
    {
     "data": {
      "text/plain": [
       "is_malware\n",
       "0    33061\n",
       "1     4493\n",
       "Name: count, dtype: int64"
      ]
     },
     "execution_count": 21,
     "metadata": {},
     "output_type": "execute_result"
    }
   ],
   "source": [
    "test_df.is_malware.value_counts()"
   ]
  },
  {
   "cell_type": "code",
   "execution_count": 25,
   "metadata": {},
   "outputs": [
    {
     "data": {
      "text/plain": [
       "is_malware\n",
       "0    61623\n",
       "1     9676\n",
       "Name: count, dtype: int64"
      ]
     },
     "execution_count": 25,
     "metadata": {},
     "output_type": "execute_result"
    }
   ],
   "source": [
    "nD_train_df = train_df.drop_duplicates(subset=[\"source_port_info\"], keep='first')\n",
    "nD_train_df.is_malware.value_counts()"
   ]
  },
  {
   "cell_type": "code",
   "execution_count": 26,
   "metadata": {},
   "outputs": [
    {
     "data": {
      "text/plain": [
       "is_malware\n",
       "0    29850\n",
       "1     4297\n",
       "Name: count, dtype: int64"
      ]
     },
     "execution_count": 26,
     "metadata": {},
     "output_type": "execute_result"
    }
   ],
   "source": [
    "nD_test_df = test_df.drop_duplicates(subset=[\"source_port_info\"], keep='first')\n",
    "nD_test_df.is_malware.value_counts()"
   ]
  },
  {
   "cell_type": "code",
   "execution_count": 27,
   "metadata": {},
   "outputs": [],
   "source": [
    "value_counts = train_df.is_malware.value_counts()\n",
    "if value_counts[0] > 10398:\n",
    "    benign = train_df[train_df['is_malware'] == 0].sample(n=10398)\n",
    "    malicious = train_df[train_df['is_malware'] == 1].sample(n=5699)\n",
    "    train_df = pd.concat([benign, malicious])\n",
    "    # nD_train_df = train_df.copy()"
   ]
  },
  {
   "cell_type": "code",
   "execution_count": 28,
   "metadata": {},
   "outputs": [],
   "source": [
    "value_counts = test_df.is_malware.value_counts()\n",
    "if value_counts[0] > 5321:\n",
    "    df_to_lower = test_df[test_df['is_malware'] == 0].sample(n=5321)\n",
    "    test_df = pd.concat([test_df[test_df['is_malware'] == 1], df_to_lower])\n",
    "    # nD_test_df = test_df.copy()"
   ]
  },
  {
   "cell_type": "code",
   "execution_count": 14,
   "metadata": {},
   "outputs": [],
   "source": [
    "train_graph, train_node_features, label_train = graph_modeling_1(train_df)"
   ]
  },
  {
   "cell_type": "code",
   "execution_count": 15,
   "metadata": {},
   "outputs": [],
   "source": [
    "test_graph, test_node_features, label_test = graph_modeling_1(test_df)"
   ]
  },
  {
   "cell_type": "code",
   "execution_count": 16,
   "metadata": {},
   "outputs": [
    {
     "data": {
      "text/plain": [
       "71378"
      ]
     },
     "execution_count": 16,
     "metadata": {},
     "output_type": "execute_result"
    }
   ],
   "source": [
    "train_graph.number_of_nodes()"
   ]
  },
  {
   "cell_type": "code",
   "execution_count": 17,
   "metadata": {},
   "outputs": [
    {
     "data": {
      "text/plain": [
       "34209"
      ]
     },
     "execution_count": 17,
     "metadata": {},
     "output_type": "execute_result"
    }
   ],
   "source": [
    "test_graph.number_of_nodes()"
   ]
  },
  {
   "cell_type": "code",
   "execution_count": 18,
   "metadata": {},
   "outputs": [
    {
     "name": "stdout",
     "output_type": "stream",
     "text": [
      "30166\n"
     ]
    }
   ],
   "source": [
    "# print num of isolated nodes\n",
    "print(len(list(nx.isolates(train_graph))))"
   ]
  },
  {
   "cell_type": "code",
   "execution_count": 19,
   "metadata": {},
   "outputs": [
    {
     "name": "stdout",
     "output_type": "stream",
     "text": [
      "24667\n"
     ]
    }
   ],
   "source": [
    "# print num of isolated nodes\n",
    "print(len(list(nx.isolates(test_graph))))"
   ]
  },
  {
   "cell_type": "code",
   "execution_count": 27,
   "metadata": {},
   "outputs": [],
   "source": [
    "pickle.dump(train_graph, open('model_graph/train_graph_ip_port.pkl', 'wb'))\n",
    "pickle.dump(train_node_features, open('model_graph/train_node_features_ip_port.pkl', 'wb'))\n",
    "pickle.dump(label_train, open('model_graph/label_train_ip_port.pkl', 'wb'))"
   ]
  },
  {
   "cell_type": "code",
   "execution_count": 28,
   "metadata": {},
   "outputs": [],
   "source": [
    "pickle.dump(test_graph, open('model_graph/test_graph_ip_port.pkl', 'wb'))\n",
    "pickle.dump(test_node_features, open('model_graph/test_node_features_ip_port.pkl', 'wb'))\n",
    "pickle.dump(label_test, open('model_graph/label_test_ip_port.pkl', 'wb'))"
   ]
  },
  {
   "cell_type": "code",
   "execution_count": 8,
   "metadata": {},
   "outputs": [],
   "source": [
    "train_graph = pickle.load(open('model_graph/train_graph.pkl', 'rb'))\n",
    "label_train = pickle.load(open('model_graph/label_train.pkl', 'rb'))\n",
    "train_node_features = pickle.load(open('model_graph/train_node_features.pkl', 'rb'))"
   ]
  },
  {
   "cell_type": "code",
   "execution_count": 9,
   "metadata": {},
   "outputs": [],
   "source": [
    "test_graph = pickle.load(open('model_graph/test_graph.pkl', 'rb'))\n",
    "label_test = pickle.load(open('model_graph/label_test.pkl', 'rb'))\n",
    "test_node_features = pickle.load(open('model_graph/test_node_features.pkl', 'rb'))"
   ]
  },
  {
   "cell_type": "code",
   "execution_count": 10,
   "metadata": {},
   "outputs": [
    {
     "name": "stdout",
     "output_type": "stream",
     "text": [
      "15451\n",
      "9525\n"
     ]
    }
   ],
   "source": [
    "print(train_graph.number_of_nodes())\n",
    "print(test_graph.number_of_nodes())"
   ]
  },
  {
   "cell_type": "code",
   "execution_count": 11,
   "metadata": {},
   "outputs": [
    {
     "name": "stdout",
     "output_type": "stream",
     "text": [
      "0\n",
      "0\n"
     ]
    }
   ],
   "source": [
    "#print number of isolated node in train_graph\n",
    "print(len(list(nx.isolates(train_graph))))\n",
    "print(len(list(nx.isolates(test_graph))))"
   ]
  },
  {
   "attachments": {},
   "cell_type": "markdown",
   "metadata": {},
   "source": [
    "## DOMINANT"
   ]
  },
  {
   "cell_type": "code",
   "execution_count": 12,
   "metadata": {},
   "outputs": [],
   "source": [
    "def make_dominant_model(train_graph, train_node_features, \n",
    "                        label_train, test_graph, test_node_features):\n",
    "    \n",
    "    train_node_features = torch.tensor(train_node_features)\n",
    "    label_train = torch.tensor(label_train)\n",
    "    test_node_features = torch.tensor(test_node_features)\n",
    "\n",
    "    pyG_train = from_networkx(train_graph)\n",
    "    pyG_train = pyG_train\n",
    "    pyG_train.x = train_node_features\n",
    "\n",
    "    pyG_test = from_networkx(test_graph)\n",
    "    pyG_test = pyG_test\n",
    "    pyG_test.x = test_node_features\n",
    "    print(len(pyG_train))\n",
    "\n",
    "    dominant_model = DOMINANT(gpu=-1, weight=1, weight_decay=3, num_layers=16, hid_dim=16, contamination=0.37, lr=0.001, verbose=3, epoch=100)  \n",
    "    dominant_compile = dominant_model.fit(pyG_train)\n",
    "    return dominant_compile, pyG_test"
   ]
  },
  {
   "cell_type": "code",
   "execution_count": 29,
   "metadata": {},
   "outputs": [],
   "source": [
    "def predict_dominant(label_test, dominant_compile, pyG_test):\n",
    "    \n",
    "    label_test = torch.tensor(label_test)\n",
    "    dominant_ip_pred_res, dominant_ip_score_res = dominant_compile.predict(data=pyG_test, label = label_test, return_pred=True, return_score=True, prob_method='linear')\n",
    "    \n",
    "    unique_values, counts = torch.unique(dominant_ip_pred_res, return_counts=True)\n",
    "    print(unique_values, counts)\n",
    "\n",
    "    f1_pygod = eval_f1(label_test, dominant_ip_pred_res)\n",
    "    precision_pygod = eval_precision_at_k(label_test, dominant_ip_score_res)\n",
    "    recall_pygod = eval_recall_at_k(label_test, dominant_ip_score_res)\n",
    "    f1_score = 2 * (precision_pygod * recall_pygod) / (precision_pygod + recall_pygod)\n",
    "    \n",
    "    print(\"F1 score: \", f1_score)\n",
    "    print(\"Precision: \", precision_pygod)\n",
    "    print(\"Recall: \", recall_pygod)\n",
    "    return precision_pygod, recall_pygod, f1_pygod"
   ]
  },
  {
   "cell_type": "code",
   "execution_count": 30,
   "metadata": {},
   "outputs": [
    {
     "name": "stderr",
     "output_type": "stream",
     "text": [
      "C:\\Users\\asus\\AppData\\Local\\Temp\\ipykernel_9108\\1513033408.py:4: UserWarning: To copy construct from a tensor, it is recommended to use sourceTensor.clone().detach() or sourceTensor.clone().detach().requires_grad_(True), rather than torch.tensor(sourceTensor).\n",
      "  train_node_features = torch.tensor(train_node_features)\n",
      "C:\\Users\\asus\\AppData\\Local\\Temp\\ipykernel_9108\\1513033408.py:5: UserWarning: To copy construct from a tensor, it is recommended to use sourceTensor.clone().detach() or sourceTensor.clone().detach().requires_grad_(True), rather than torch.tensor(sourceTensor).\n",
      "  label_train = torch.tensor(label_train)\n",
      "C:\\Users\\asus\\AppData\\Local\\Temp\\ipykernel_9108\\1513033408.py:6: UserWarning: To copy construct from a tensor, it is recommended to use sourceTensor.clone().detach() or sourceTensor.clone().detach().requires_grad_(True), rather than torch.tensor(sourceTensor).\n",
      "  test_node_features = torch.tensor(test_node_features)\n"
     ]
    },
    {
     "name": "stdout",
     "output_type": "stream",
     "text": [
      "4\n",
      "torch.Size([15451, 1]) torch.Size([15451, 15451]) torch.Size([2, 32161])\n",
      "torch.Size([15451, 1]) torch.Size([15451, 15451])\n",
      "Epoch 0000: Loss 75.0444 |  | Time 4.18\n",
      "torch.Size([15451, 1]) torch.Size([15451, 15451]) torch.Size([2, 32161])\n",
      "torch.Size([15451, 1]) torch.Size([15451, 15451])\n",
      "Epoch 0001: Loss 75.0020 |  | Time 3.69\n",
      "torch.Size([15451, 1]) torch.Size([15451, 15451]) torch.Size([2, 32161])\n",
      "torch.Size([15451, 1]) torch.Size([15451, 15451])\n"
     ]
    },
    {
     "ename": "KeyboardInterrupt",
     "evalue": "",
     "output_type": "error",
     "traceback": [
      "\u001b[1;31m---------------------------------------------------------------------------\u001b[0m",
      "\u001b[1;31mKeyboardInterrupt\u001b[0m                         Traceback (most recent call last)",
      "\u001b[1;32mc:\\Users\\asus\\Documents\\tugas-akhir\\network-intrusion-detection\\nids-implementation\\nids_pgod_obs.ipynb Cell 37\u001b[0m in \u001b[0;36m<cell line: 1>\u001b[1;34m()\u001b[0m\n\u001b[1;32m----> <a href='vscode-notebook-cell:/c%3A/Users/asus/Documents/tugas-akhir/network-intrusion-detection/nids-implementation/nids_pgod_obs.ipynb#X46sZmlsZQ%3D%3D?line=0'>1</a>\u001b[0m dominant_model, graph_test \u001b[39m=\u001b[39m make_dominant_model(train_graph, train_node_features, label_train, test_graph, test_node_features)\n\u001b[0;32m      <a href='vscode-notebook-cell:/c%3A/Users/asus/Documents/tugas-akhir/network-intrusion-detection/nids-implementation/nids_pgod_obs.ipynb#X46sZmlsZQ%3D%3D?line=1'>2</a>\u001b[0m precision_score, recall_score, f1_score \u001b[39m=\u001b[39m predict_dominant(label_test, dominant_model, graph_test)\n",
      "\u001b[1;32mc:\\Users\\asus\\Documents\\tugas-akhir\\network-intrusion-detection\\nids-implementation\\nids_pgod_obs.ipynb Cell 37\u001b[0m in \u001b[0;36mmake_dominant_model\u001b[1;34m(train_graph, train_node_features, label_train, test_graph, test_node_features)\u001b[0m\n\u001b[0;32m     <a href='vscode-notebook-cell:/c%3A/Users/asus/Documents/tugas-akhir/network-intrusion-detection/nids-implementation/nids_pgod_obs.ipynb#X46sZmlsZQ%3D%3D?line=14'>15</a>\u001b[0m \u001b[39mprint\u001b[39m(\u001b[39mlen\u001b[39m(pyG_train))\n\u001b[0;32m     <a href='vscode-notebook-cell:/c%3A/Users/asus/Documents/tugas-akhir/network-intrusion-detection/nids-implementation/nids_pgod_obs.ipynb#X46sZmlsZQ%3D%3D?line=16'>17</a>\u001b[0m dominant_model \u001b[39m=\u001b[39m DOMINANT(gpu\u001b[39m=\u001b[39m\u001b[39m-\u001b[39m\u001b[39m1\u001b[39m, weight\u001b[39m=\u001b[39m\u001b[39m1\u001b[39m, weight_decay\u001b[39m=\u001b[39m\u001b[39m3\u001b[39m, num_layers\u001b[39m=\u001b[39m\u001b[39m16\u001b[39m, hid_dim\u001b[39m=\u001b[39m\u001b[39m16\u001b[39m, contamination\u001b[39m=\u001b[39m\u001b[39m0.37\u001b[39m, lr\u001b[39m=\u001b[39m\u001b[39m0.001\u001b[39m, verbose\u001b[39m=\u001b[39m\u001b[39m3\u001b[39m, epoch\u001b[39m=\u001b[39m\u001b[39m100\u001b[39m)  \n\u001b[1;32m---> <a href='vscode-notebook-cell:/c%3A/Users/asus/Documents/tugas-akhir/network-intrusion-detection/nids-implementation/nids_pgod_obs.ipynb#X46sZmlsZQ%3D%3D?line=17'>18</a>\u001b[0m dominant_compile \u001b[39m=\u001b[39m dominant_model\u001b[39m.\u001b[39;49mfit(pyG_train)\n\u001b[0;32m     <a href='vscode-notebook-cell:/c%3A/Users/asus/Documents/tugas-akhir/network-intrusion-detection/nids-implementation/nids_pgod_obs.ipynb#X46sZmlsZQ%3D%3D?line=18'>19</a>\u001b[0m \u001b[39mreturn\u001b[39;00m dominant_compile, pyG_test\n",
      "File \u001b[1;32mc:\\Users\\asus\\AppData\\Local\\Programs\\Python\\Python38\\lib\\site-packages\\pygod\\detector\\base.py:479\u001b[0m, in \u001b[0;36mDeepDetector.fit\u001b[1;34m(self, data, label)\u001b[0m\n\u001b[0;32m    476\u001b[0m     \u001b[39mself\u001b[39m\u001b[39m.\u001b[39mdecision_score_[node_idx[:batch_size]] \u001b[39m=\u001b[39m score\n\u001b[0;32m    478\u001b[0m     optimizer\u001b[39m.\u001b[39mzero_grad()\n\u001b[1;32m--> 479\u001b[0m     loss\u001b[39m.\u001b[39;49mbackward()\n\u001b[0;32m    480\u001b[0m     optimizer\u001b[39m.\u001b[39mstep()\n\u001b[0;32m    482\u001b[0m loss_value \u001b[39m=\u001b[39m epoch_loss \u001b[39m/\u001b[39m data\u001b[39m.\u001b[39mx\u001b[39m.\u001b[39mshape[\u001b[39m0\u001b[39m]\n",
      "File \u001b[1;32mc:\\Users\\asus\\AppData\\Local\\Programs\\Python\\Python38\\lib\\site-packages\\torch\\_tensor.py:488\u001b[0m, in \u001b[0;36mTensor.backward\u001b[1;34m(self, gradient, retain_graph, create_graph, inputs)\u001b[0m\n\u001b[0;32m    478\u001b[0m \u001b[39mif\u001b[39;00m has_torch_function_unary(\u001b[39mself\u001b[39m):\n\u001b[0;32m    479\u001b[0m     \u001b[39mreturn\u001b[39;00m handle_torch_function(\n\u001b[0;32m    480\u001b[0m         Tensor\u001b[39m.\u001b[39mbackward,\n\u001b[0;32m    481\u001b[0m         (\u001b[39mself\u001b[39m,),\n\u001b[1;32m   (...)\u001b[0m\n\u001b[0;32m    486\u001b[0m         inputs\u001b[39m=\u001b[39minputs,\n\u001b[0;32m    487\u001b[0m     )\n\u001b[1;32m--> 488\u001b[0m torch\u001b[39m.\u001b[39;49mautograd\u001b[39m.\u001b[39;49mbackward(\n\u001b[0;32m    489\u001b[0m     \u001b[39mself\u001b[39;49m, gradient, retain_graph, create_graph, inputs\u001b[39m=\u001b[39;49minputs\n\u001b[0;32m    490\u001b[0m )\n",
      "File \u001b[1;32mc:\\Users\\asus\\AppData\\Local\\Programs\\Python\\Python38\\lib\\site-packages\\torch\\autograd\\__init__.py:197\u001b[0m, in \u001b[0;36mbackward\u001b[1;34m(tensors, grad_tensors, retain_graph, create_graph, grad_variables, inputs)\u001b[0m\n\u001b[0;32m    192\u001b[0m     retain_graph \u001b[39m=\u001b[39m create_graph\n\u001b[0;32m    194\u001b[0m \u001b[39m# The reason we repeat same the comment below is that\u001b[39;00m\n\u001b[0;32m    195\u001b[0m \u001b[39m# some Python versions print out the first line of a multi-line function\u001b[39;00m\n\u001b[0;32m    196\u001b[0m \u001b[39m# calls in the traceback and some print out the last line\u001b[39;00m\n\u001b[1;32m--> 197\u001b[0m Variable\u001b[39m.\u001b[39;49m_execution_engine\u001b[39m.\u001b[39;49mrun_backward(  \u001b[39m# Calls into the C++ engine to run the backward pass\u001b[39;49;00m\n\u001b[0;32m    198\u001b[0m     tensors, grad_tensors_, retain_graph, create_graph, inputs,\n\u001b[0;32m    199\u001b[0m     allow_unreachable\u001b[39m=\u001b[39;49m\u001b[39mTrue\u001b[39;49;00m, accumulate_grad\u001b[39m=\u001b[39;49m\u001b[39mTrue\u001b[39;49;00m)\n",
      "\u001b[1;31mKeyboardInterrupt\u001b[0m: "
     ]
    }
   ],
   "source": [
    "dominant_model, graph_test = make_dominant_model(train_graph, train_node_features, label_train, test_graph, test_node_features)\n",
    "precision_score, recall_score, f1_score = predict_dominant(label_test, dominant_model, graph_test)"
   ]
  },
  {
   "cell_type": "code",
   "execution_count": 106,
   "metadata": {},
   "outputs": [
    {
     "name": "stdout",
     "output_type": "stream",
     "text": [
      "ini precision:  tensor(0.7065)\n",
      "ini recall:  tensor(0.7065)\n",
      "ini f1_score_unv:  0.7008086253369271\n"
     ]
    }
   ],
   "source": [
    "# print(\"ini f1: \", f1)\n",
    "print(\"ini precision: \", precision_score)\n",
    "print(\"ini recall: \", recall_score)\n",
    "print(\"ini f1_score_unv: \", f1_score_for)"
   ]
  },
  {
   "attachments": {},
   "cell_type": "markdown",
   "metadata": {},
   "source": [
    "## OCGNN"
   ]
  },
  {
   "cell_type": "code",
   "execution_count": 27,
   "metadata": {},
   "outputs": [],
   "source": [
    "def predict_ocgnn(label_test, ocgnn_compile, pyG_test, test_node_features):\n",
    "    \n",
    "    label_test = torch.tensor(label_test)\n",
    "    test_node_features = torch.tensor(test_node_features)\n",
    "\n",
    "    pyG_test = from_networkx(pyG_test)\n",
    "    pyG_test = pyG_test\n",
    "    pyG_test.x = test_node_features\n",
    "\n",
    "    ocgnn_ip_pred_res, ocgnn_ip_score_res = ocgnn_compile.predict(data=pyG_test, label = label_test,return_pred=True, return_score=True, prob_method='linear')\n",
    "    \n",
    "    unique_values, counts = torch.unique(ocgnn_ip_pred_res, return_counts=True)\n",
    "    print(unique_values, counts)\n",
    "\n",
    "    precision_pygod = eval_precision_at_k(label_test, ocgnn_ip_score_res)\n",
    "    recall_pygod = eval_recall_at_k(label_test, ocgnn_ip_score_res)\n",
    "    f1_score = 2 * (precision_pygod * recall_pygod) / (precision_pygod + recall_pygod)\n",
    "    print(\"F1 score: \", f1_score)\n",
    "    print(\"Precision: \", precision_pygod)\n",
    "    print(\"Recall: \", recall_pygod)\n",
    "\n",
    "    return precision_pygod, recall_pygod, f1_score"
   ]
  },
  {
   "cell_type": "code",
   "execution_count": 28,
   "metadata": {},
   "outputs": [],
   "source": [
    "def make_ocgnn_model(train_graph, train_node_features, \n",
    "                        label_train):\n",
    "    \n",
    "    train_node_features = torch.tensor(train_node_features)\n",
    "    label_train = torch.tensor(label_train)\n",
    "\n",
    "    pyG_train = from_networkx(train_graph)\n",
    "    pyG_train = pyG_train.cpu()\n",
    "    pyG_train.x = train_node_features.cpu()\n",
    "    label_train = label_train.cpu()\n",
    "\n",
    "    ocgnn_model = OCGNN(hid_dim=14, num_layers=32, weight_decay=1, \n",
    "                    contamination=0.37, lr=0.004, epoch=100, gpu=-1, \n",
    "                    verbose=3)\n",
    "    ocgnn_compile = ocgnn_model.fit(pyG_train, label_train)\n",
    "    return ocgnn_compile\n"
   ]
  },
  {
   "cell_type": "code",
   "execution_count": 33,
   "metadata": {},
   "outputs": [
    {
     "name": "stdout",
     "output_type": "stream",
     "text": [
      "Test: Loss 0.0000 | AUC 0.4945 | Recall 0.9573 | Precision 0.9573 | AP 0.4501 | F1 0.0479 | Time 0.06\n",
      "tensor([1]) tensor([9484])\n",
      "F1 score:  tensor(0.9573)\n",
      "Precision:  tensor(0.9573)\n",
      "Recall:  tensor(0.9573)\n",
      "ini f1:  tensor(0.9573)\n",
      "ini precision:  tensor(0.9573)\n",
      "ini recall:  tensor(0.9573)\n"
     ]
    }
   ],
   "source": [
    "# ocgnn_model = make_ocgnn_model(train_graph, train_node_features, label_train)\n",
    "precision_score, recall_score, f1_score= predict_ocgnn(label_test, ocgnn_model, test_graph, test_node_features)\n",
    "print(\"ini f1: \", f1_score)\n",
    "print(\"ini precision: \", precision_score)\n",
    "print(\"ini recall: \", recall_score)"
   ]
  },
  {
   "cell_type": "code",
   "execution_count": 170,
   "metadata": {},
   "outputs": [
    {
     "ename": "NameError",
     "evalue": "name 'f1_ocgnn' is not defined",
     "output_type": "error",
     "traceback": [
      "\u001b[1;31m---------------------------------------------------------------------------\u001b[0m",
      "\u001b[1;31mNameError\u001b[0m                                 Traceback (most recent call last)",
      "\u001b[1;32mc:\\Users\\asus\\Documents\\tugas-akhir\\network-intrusion-detection\\nids-implementation\\nids_pgod_obs.ipynb Cell 28\u001b[0m in \u001b[0;36m<cell line: 1>\u001b[1;34m()\u001b[0m\n\u001b[1;32m----> <a href='vscode-notebook-cell:/c%3A/Users/asus/Documents/tugas-akhir/network-intrusion-detection/nids-implementation/nids_pgod_obs.ipynb#X41sZmlsZQ%3D%3D?line=0'>1</a>\u001b[0m \u001b[39mprint\u001b[39m(f1_ocgnn)\n\u001b[0;32m      <a href='vscode-notebook-cell:/c%3A/Users/asus/Documents/tugas-akhir/network-intrusion-detection/nids-implementation/nids_pgod_obs.ipynb#X41sZmlsZQ%3D%3D?line=1'>2</a>\u001b[0m \u001b[39mprint\u001b[39m(precision_ocgnn)\n\u001b[0;32m      <a href='vscode-notebook-cell:/c%3A/Users/asus/Documents/tugas-akhir/network-intrusion-detection/nids-implementation/nids_pgod_obs.ipynb#X41sZmlsZQ%3D%3D?line=2'>3</a>\u001b[0m \u001b[39mprint\u001b[39m(recall_ocgnn)\n",
      "\u001b[1;31mNameError\u001b[0m: name 'f1_ocgnn' is not defined"
     ]
    }
   ],
   "source": [
    "print(f1_ocgnn)\n",
    "print(precision_ocgnn)\n",
    "print(recall_ocgnn)"
   ]
  },
  {
   "cell_type": "code",
   "execution_count": null,
   "metadata": {},
   "outputs": [
    {
     "name": "stdout",
     "output_type": "stream",
     "text": [
      "[37.998138189315796, 34.89245128631592, 37.14145493507385]\n",
      "[1.1997323036193848, 1.2506287097930908, 0.970118522644043]\n"
     ]
    }
   ],
   "source": [
    "print(train_durration_ocgnn)\n",
    "print(predict_durration_ocgnn)"
   ]
  },
  {
   "attachments": {},
   "cell_type": "markdown",
   "metadata": {},
   "source": [
    "## GAE"
   ]
  },
  {
   "cell_type": "code",
   "execution_count": 7,
   "metadata": {},
   "outputs": [],
   "source": [
    "def make_gae_model(train_graph, train_node_features, \n",
    "                        label_train):\n",
    "    \n",
    "    train_node_features = torch.tensor(train_node_features)\n",
    "    label_train = torch.tensor(label_train)\n",
    "\n",
    "    pyG_train = from_networkx(train_graph)\n",
    "    pyG_train = pyG_train.cpu()\n",
    "    pyG_train.x = train_node_features.cpu()\n",
    "    label_train = label_train.cpu()\n",
    "\n",
    "    gae_model = GAE(hid_dim=12, num_layers=12, weight_decay=3,\n",
    "                contamination=0.37, lr=0.001, epoch=100, gpu=-1,\n",
    "                verbose=3, recon_s=True, sigmoid_s=True)\n",
    "    \n",
    "    gae_compile = gae_model.fit(pyG_train, label_train)\n",
    "    return gae_compile"
   ]
  },
  {
   "cell_type": "code",
   "execution_count": 37,
   "metadata": {},
   "outputs": [],
   "source": [
    "def predict_gae(gae_compile, test_graph, test_node_features, label_test):\n",
    "    \n",
    "    test_node_features = torch.tensor(test_node_features)\n",
    "    label_test = torch.tensor(label_test)\n",
    "\n",
    "    pyG_test = from_networkx(test_graph)\n",
    "    pyG_test = pyG_test\n",
    "    pyG_test.x = test_node_features\n",
    "\n",
    "    gae_ip_pred_res, gae_ip_score_res = gae_compile.predict(data=pyG_test, label = label_test,return_pred=True, return_score=True, prob_method='linear')\n",
    "    f1_score_pygod = eval_f1(label_test, gae_ip_pred_res)\n",
    "    precision = eval_precision_at_k(label_test, gae_ip_score_res)\n",
    "    recall = eval_recall_at_k(label_test, gae_ip_score_res)\n",
    "    f1_score = 2*(precision*recall)/(precision+recall)\n",
    "    \n",
    "    print(\"F1 score: \", f1_score)\n",
    "    print(\"Precision: \", precision)\n",
    "    print(\"Recall: \", recall)\n",
    "    print(\"F1 score pygod: \", f1_score_pygod)\n",
    "    \n",
    "    return f1_score_pygod, precision, recall, f1_score"
   ]
  },
  {
   "cell_type": "code",
   "execution_count": 38,
   "metadata": {},
   "outputs": [
    {
     "name": "stdout",
     "output_type": "stream",
     "text": [
      "Epoch 0000: Loss 0.2514 | AUC 0.7764 | Recall 0.6538 | Precision 0.6538 | AP 0.6237 | F1 0.6998 | Time 4.66\n",
      "Epoch 0001: Loss 0.2510 | AUC 0.7768 | Recall 0.6533 | Precision 0.6533 | AP 0.6235 | F1 0.6997 | Time 4.18\n",
      "Epoch 0002: Loss 0.2507 | AUC 0.7771 | Recall 0.6535 | Precision 0.6535 | AP 0.6235 | F1 0.6995 | Time 3.92\n",
      "Epoch 0003: Loss 0.2505 | AUC 0.7772 | Recall 0.6535 | Precision 0.6535 | AP 0.6236 | F1 0.6996 | Time 3.79\n",
      "Epoch 0004: Loss 0.2504 | AUC 0.7771 | Recall 0.6531 | Precision 0.6531 | AP 0.6235 | F1 0.6995 | Time 3.72\n",
      "Epoch 0005: Loss 0.2504 | AUC 0.7771 | Recall 0.6531 | Precision 0.6531 | AP 0.6235 | F1 0.6994 | Time 3.71\n",
      "Epoch 0006: Loss 0.2504 | AUC 0.7772 | Recall 0.6533 | Precision 0.6533 | AP 0.6236 | F1 0.6995 | Time 3.73\n",
      "Epoch 0007: Loss 0.2504 | AUC 0.7771 | Recall 0.6529 | Precision 0.6529 | AP 0.6235 | F1 0.6992 | Time 3.73\n",
      "Epoch 0008: Loss 0.2504 | AUC 0.7720 | Recall 0.6533 | Precision 0.6533 | AP 0.6221 | F1 0.6994 | Time 3.61\n",
      "Epoch 0009: Loss 0.2505 | AUC 0.7712 | Recall 0.6531 | Precision 0.6531 | AP 0.6218 | F1 0.6994 | Time 3.76\n",
      "Epoch 0010: Loss 0.2505 | AUC 0.7699 | Recall 0.6527 | Precision 0.6527 | AP 0.6216 | F1 0.6995 | Time 3.76\n",
      "Epoch 0011: Loss 0.2506 | AUC 0.7711 | Recall 0.6529 | Precision 0.6529 | AP 0.6217 | F1 0.6993 | Time 3.84\n",
      "Epoch 0012: Loss 0.2506 | AUC 0.7770 | Recall 0.6531 | Precision 0.6531 | AP 0.6236 | F1 0.6995 | Time 3.98\n",
      "Epoch 0013: Loss 0.2506 | AUC 0.7772 | Recall 0.6529 | Precision 0.6529 | AP 0.6235 | F1 0.6994 | Time 4.03\n",
      "Epoch 0014: Loss 0.2506 | AUC 0.7772 | Recall 0.6531 | Precision 0.6531 | AP 0.6235 | F1 0.6995 | Time 4.68\n",
      "Epoch 0015: Loss 0.2506 | AUC 0.7772 | Recall 0.6531 | Precision 0.6531 | AP 0.6236 | F1 0.6995 | Time 4.67\n",
      "Epoch 0016: Loss 0.2506 | AUC 0.7772 | Recall 0.6529 | Precision 0.6529 | AP 0.6235 | F1 0.6994 | Time 4.66\n",
      "Epoch 0017: Loss 0.2506 | AUC 0.7772 | Recall 0.6531 | Precision 0.6531 | AP 0.6235 | F1 0.6995 | Time 4.71\n",
      "Epoch 0018: Loss 0.2506 | AUC 0.7772 | Recall 0.6529 | Precision 0.6529 | AP 0.6235 | F1 0.6994 | Time 4.55\n",
      "Epoch 0019: Loss 0.2506 | AUC 0.7772 | Recall 0.6529 | Precision 0.6529 | AP 0.6235 | F1 0.6993 | Time 4.62\n",
      "Epoch 0020: Loss 0.2505 | AUC 0.7770 | Recall 0.6531 | Precision 0.6531 | AP 0.6235 | F1 0.6995 | Time 4.80\n",
      "Epoch 0021: Loss 0.2505 | AUC 0.7772 | Recall 0.6531 | Precision 0.6531 | AP 0.6236 | F1 0.6995 | Time 4.24\n",
      "Epoch 0022: Loss 0.2505 | AUC 0.7772 | Recall 0.6531 | Precision 0.6531 | AP 0.6236 | F1 0.6995 | Time 4.23\n",
      "Epoch 0023: Loss 0.2505 | AUC 0.7772 | Recall 0.6531 | Precision 0.6531 | AP 0.6236 | F1 0.6995 | Time 4.06\n",
      "Epoch 0024: Loss 0.2505 | AUC 0.7772 | Recall 0.6531 | Precision 0.6531 | AP 0.6235 | F1 0.6995 | Time 4.41\n",
      "Epoch 0025: Loss 0.2505 | AUC 0.7771 | Recall 0.6529 | Precision 0.6529 | AP 0.6235 | F1 0.6993 | Time 3.99\n",
      "Epoch 0026: Loss 0.2505 | AUC 0.7762 | Recall 0.6531 | Precision 0.6531 | AP 0.6232 | F1 0.6995 | Time 4.00\n",
      "Epoch 0027: Loss 0.2505 | AUC 0.7712 | Recall 0.6531 | Precision 0.6531 | AP 0.6218 | F1 0.6995 | Time 4.21\n",
      "Epoch 0028: Loss 0.2504 | AUC 0.7746 | Recall 0.6531 | Precision 0.6531 | AP 0.6221 | F1 0.6995 | Time 3.76\n",
      "Epoch 0029: Loss 0.2504 | AUC 0.7771 | Recall 0.6529 | Precision 0.6529 | AP 0.6235 | F1 0.6993 | Time 4.04\n",
      "Epoch 0030: Loss 0.2504 | AUC 0.7770 | Recall 0.6531 | Precision 0.6531 | AP 0.6235 | F1 0.6995 | Time 3.83\n",
      "Epoch 0031: Loss 0.2504 | AUC 0.7721 | Recall 0.6531 | Precision 0.6531 | AP 0.6220 | F1 0.6995 | Time 3.94\n",
      "Epoch 0032: Loss 0.2504 | AUC 0.7721 | Recall 0.6531 | Precision 0.6531 | AP 0.6220 | F1 0.6995 | Time 3.93\n",
      "Epoch 0033: Loss 0.2504 | AUC 0.7723 | Recall 0.6531 | Precision 0.6531 | AP 0.6221 | F1 0.6995 | Time 3.90\n",
      "Epoch 0034: Loss 0.2504 | AUC 0.7772 | Recall 0.6531 | Precision 0.6531 | AP 0.6235 | F1 0.6995 | Time 3.77\n",
      "Epoch 0035: Loss 0.2504 | AUC 0.7772 | Recall 0.6533 | Precision 0.6533 | AP 0.6236 | F1 0.6996 | Time 3.75\n",
      "Epoch 0036: Loss 0.2504 | AUC 0.7772 | Recall 0.6531 | Precision 0.6531 | AP 0.6235 | F1 0.6995 | Time 3.74\n",
      "Epoch 0037: Loss 0.2504 | AUC 0.7772 | Recall 0.6533 | Precision 0.6533 | AP 0.6236 | F1 0.6996 | Time 4.00\n",
      "Epoch 0038: Loss 0.2503 | AUC 0.7772 | Recall 0.6533 | Precision 0.6533 | AP 0.6236 | F1 0.6996 | Time 4.18\n",
      "Epoch 0039: Loss 0.2503 | AUC 0.7772 | Recall 0.6533 | Precision 0.6533 | AP 0.6236 | F1 0.6996 | Time 4.16\n",
      "Epoch 0040: Loss 0.2503 | AUC 0.7772 | Recall 0.6533 | Precision 0.6533 | AP 0.6236 | F1 0.6996 | Time 3.80\n",
      "Epoch 0041: Loss 0.2503 | AUC 0.7772 | Recall 0.6533 | Precision 0.6533 | AP 0.6236 | F1 0.6996 | Time 3.71\n",
      "Epoch 0042: Loss 0.2503 | AUC 0.7772 | Recall 0.6533 | Precision 0.6533 | AP 0.6236 | F1 0.6996 | Time 3.84\n",
      "Epoch 0043: Loss 0.2503 | AUC 0.7772 | Recall 0.6531 | Precision 0.6531 | AP 0.6235 | F1 0.6995 | Time 3.74\n",
      "Epoch 0044: Loss 0.2503 | AUC 0.7772 | Recall 0.6533 | Precision 0.6533 | AP 0.6236 | F1 0.6996 | Time 3.85\n",
      "Epoch 0045: Loss 0.2503 | AUC 0.7772 | Recall 0.6533 | Precision 0.6533 | AP 0.6236 | F1 0.6996 | Time 3.72\n",
      "Epoch 0046: Loss 0.2503 | AUC 0.7772 | Recall 0.6533 | Precision 0.6533 | AP 0.6236 | F1 0.6996 | Time 3.77\n",
      "Epoch 0047: Loss 0.2503 | AUC 0.7772 | Recall 0.6533 | Precision 0.6533 | AP 0.6236 | F1 0.6996 | Time 3.71\n",
      "Epoch 0048: Loss 0.2503 | AUC 0.7772 | Recall 0.6533 | Precision 0.6533 | AP 0.6235 | F1 0.6996 | Time 3.96\n",
      "Epoch 0049: Loss 0.2502 | AUC 0.7768 | Recall 0.6533 | Precision 0.6533 | AP 0.6235 | F1 0.6996 | Time 3.72\n",
      "Epoch 0050: Loss 0.2502 | AUC 0.7772 | Recall 0.6533 | Precision 0.6533 | AP 0.6235 | F1 0.6996 | Time 3.79\n",
      "Epoch 0051: Loss 0.2502 | AUC 0.7772 | Recall 0.6533 | Precision 0.6533 | AP 0.6236 | F1 0.6996 | Time 3.91\n",
      "Epoch 0052: Loss 0.2502 | AUC 0.7772 | Recall 0.6533 | Precision 0.6533 | AP 0.6236 | F1 0.6996 | Time 4.00\n",
      "Epoch 0053: Loss 0.2502 | AUC 0.7772 | Recall 0.6533 | Precision 0.6533 | AP 0.6236 | F1 0.6996 | Time 4.03\n",
      "Epoch 0054: Loss 0.2502 | AUC 0.7772 | Recall 0.6533 | Precision 0.6533 | AP 0.6235 | F1 0.6996 | Time 3.91\n",
      "Epoch 0055: Loss 0.2502 | AUC 0.7772 | Recall 0.6533 | Precision 0.6533 | AP 0.6236 | F1 0.6996 | Time 3.78\n",
      "Epoch 0056: Loss 0.2502 | AUC 0.7772 | Recall 0.6533 | Precision 0.6533 | AP 0.6235 | F1 0.6996 | Time 3.70\n",
      "Epoch 0057: Loss 0.2502 | AUC 0.7772 | Recall 0.6533 | Precision 0.6533 | AP 0.6235 | F1 0.6996 | Time 3.73\n",
      "Epoch 0058: Loss 0.2502 | AUC 0.7772 | Recall 0.6533 | Precision 0.6533 | AP 0.6236 | F1 0.6996 | Time 3.70\n",
      "Epoch 0059: Loss 0.2502 | AUC 0.7772 | Recall 0.6533 | Precision 0.6533 | AP 0.6236 | F1 0.6996 | Time 3.68\n",
      "Epoch 0060: Loss 0.2502 | AUC 0.7771 | Recall 0.6533 | Precision 0.6533 | AP 0.6235 | F1 0.6995 | Time 3.83\n",
      "Epoch 0061: Loss 0.2502 | AUC 0.7771 | Recall 0.6531 | Precision 0.6531 | AP 0.6235 | F1 0.6995 | Time 3.72\n",
      "Epoch 0062: Loss 0.2501 | AUC 0.7771 | Recall 0.6531 | Precision 0.6531 | AP 0.6235 | F1 0.6995 | Time 3.73\n",
      "Epoch 0063: Loss 0.2501 | AUC 0.7771 | Recall 0.6531 | Precision 0.6531 | AP 0.6235 | F1 0.6995 | Time 3.69\n",
      "Epoch 0064: Loss 0.2501 | AUC 0.7772 | Recall 0.6533 | Precision 0.6533 | AP 0.6236 | F1 0.6996 | Time 3.83\n",
      "Epoch 0065: Loss 0.2501 | AUC 0.7772 | Recall 0.6533 | Precision 0.6533 | AP 0.6235 | F1 0.6995 | Time 3.62\n",
      "Epoch 0066: Loss 0.2501 | AUC 0.7771 | Recall 0.6592 | Precision 0.6592 | AP 0.6235 | F1 0.6995 | Time 3.73\n",
      "Epoch 0067: Loss 0.2501 | AUC 0.7771 | Recall 0.6531 | Precision 0.6531 | AP 0.6235 | F1 0.6995 | Time 3.70\n",
      "Epoch 0068: Loss 0.2501 | AUC 0.7771 | Recall 0.6590 | Precision 0.6590 | AP 0.6235 | F1 0.6994 | Time 3.79\n",
      "Epoch 0069: Loss 0.2501 | AUC 0.7762 | Recall 0.6525 | Precision 0.6525 | AP 0.6234 | F1 0.6994 | Time 3.89\n",
      "Epoch 0070: Loss 0.2501 | AUC 0.7771 | Recall 0.6531 | Precision 0.6531 | AP 0.6235 | F1 0.6995 | Time 3.77\n",
      "Epoch 0071: Loss 0.2501 | AUC 0.7771 | Recall 0.6531 | Precision 0.6531 | AP 0.6235 | F1 0.6995 | Time 3.83\n",
      "Epoch 0072: Loss 0.2501 | AUC 0.7771 | Recall 0.6592 | Precision 0.6592 | AP 0.6235 | F1 0.6995 | Time 4.30\n",
      "Epoch 0073: Loss 0.2501 | AUC 0.7770 | Recall 0.6590 | Precision 0.6590 | AP 0.6234 | F1 0.6994 | Time 4.41\n",
      "Epoch 0074: Loss 0.2501 | AUC 0.7771 | Recall 0.6594 | Precision 0.6594 | AP 0.6235 | F1 0.6995 | Time 4.33\n",
      "Epoch 0075: Loss 0.2501 | AUC 0.7771 | Recall 0.6592 | Precision 0.6592 | AP 0.6235 | F1 0.6995 | Time 4.50\n",
      "Epoch 0076: Loss 0.2501 | AUC 0.7771 | Recall 0.6590 | Precision 0.6590 | AP 0.6235 | F1 0.6995 | Time 4.49\n",
      "Epoch 0077: Loss 0.2501 | AUC 0.7771 | Recall 0.6592 | Precision 0.6592 | AP 0.6234 | F1 0.6993 | Time 4.50\n",
      "Epoch 0078: Loss 0.2501 | AUC 0.7771 | Recall 0.6592 | Precision 0.6592 | AP 0.6234 | F1 0.6993 | Time 4.48\n",
      "Epoch 0079: Loss 0.2501 | AUC 0.7770 | Recall 0.6592 | Precision 0.6592 | AP 0.6234 | F1 0.6993 | Time 4.43\n",
      "Epoch 0080: Loss 0.2500 | AUC 0.7771 | Recall 0.6531 | Precision 0.6531 | AP 0.6235 | F1 0.6995 | Time 4.52\n",
      "Epoch 0081: Loss 0.2500 | AUC 0.7771 | Recall 0.6531 | Precision 0.6531 | AP 0.6235 | F1 0.6995 | Time 4.61\n",
      "Epoch 0082: Loss 0.2500 | AUC 0.7771 | Recall 0.6531 | Precision 0.6531 | AP 0.6235 | F1 0.6995 | Time 4.58\n",
      "Epoch 0083: Loss 0.2500 | AUC 0.7771 | Recall 0.6531 | Precision 0.6531 | AP 0.6234 | F1 0.6995 | Time 4.57\n",
      "Epoch 0084: Loss 0.2500 | AUC 0.7771 | Recall 0.6531 | Precision 0.6531 | AP 0.6234 | F1 0.6995 | Time 4.61\n",
      "Epoch 0085: Loss 0.2500 | AUC 0.7771 | Recall 0.6531 | Precision 0.6531 | AP 0.6234 | F1 0.6995 | Time 4.59\n",
      "Epoch 0086: Loss 0.2500 | AUC 0.7771 | Recall 0.6531 | Precision 0.6531 | AP 0.6234 | F1 0.6995 | Time 4.70\n",
      "Epoch 0087: Loss 0.2500 | AUC 0.7771 | Recall 0.6531 | Precision 0.6531 | AP 0.6234 | F1 0.6995 | Time 4.51\n",
      "Epoch 0088: Loss 0.2500 | AUC 0.7771 | Recall 0.6531 | Precision 0.6531 | AP 0.6235 | F1 0.6995 | Time 4.74\n",
      "Epoch 0089: Loss 0.2500 | AUC 0.7770 | Recall 0.6531 | Precision 0.6531 | AP 0.6234 | F1 0.6995 | Time 4.54\n",
      "Epoch 0090: Loss 0.2500 | AUC 0.7770 | Recall 0.6531 | Precision 0.6531 | AP 0.6235 | F1 0.6995 | Time 4.56\n",
      "Epoch 0091: Loss 0.2500 | AUC 0.7771 | Recall 0.6531 | Precision 0.6531 | AP 0.6235 | F1 0.6995 | Time 4.58\n",
      "Epoch 0092: Loss 0.2500 | AUC 0.7771 | Recall 0.6531 | Precision 0.6531 | AP 0.6234 | F1 0.6995 | Time 4.62\n",
      "Epoch 0093: Loss 0.2500 | AUC 0.7770 | Recall 0.6594 | Precision 0.6594 | AP 0.6234 | F1 0.6995 | Time 4.64\n",
      "Epoch 0094: Loss 0.2500 | AUC 0.7771 | Recall 0.6533 | Precision 0.6533 | AP 0.6234 | F1 0.6995 | Time 4.59\n",
      "Epoch 0095: Loss 0.2500 | AUC 0.7771 | Recall 0.6531 | Precision 0.6531 | AP 0.6235 | F1 0.6995 | Time 4.58\n",
      "Epoch 0096: Loss 0.2500 | AUC 0.7771 | Recall 0.6533 | Precision 0.6533 | AP 0.6235 | F1 0.6995 | Time 4.60\n",
      "Epoch 0097: Loss 0.2500 | AUC 0.7771 | Recall 0.6535 | Precision 0.6535 | AP 0.6235 | F1 0.6995 | Time 4.75\n",
      "Epoch 0098: Loss 0.2500 | AUC 0.7770 | Recall 0.6529 | Precision 0.6529 | AP 0.6234 | F1 0.6994 | Time 4.55\n",
      "Epoch 0099: Loss 0.2500 | AUC 0.7770 | Recall 0.6592 | Precision 0.6592 | AP 0.6234 | F1 0.6993 | Time 4.58\n"
     ]
    },
    {
     "ename": "IndexError",
     "evalue": "index 9479 is out of bounds for dimension 0 with size 9479",
     "output_type": "error",
     "traceback": [
      "\u001b[1;31m---------------------------------------------------------------------------\u001b[0m",
      "\u001b[1;31mIndexError\u001b[0m                                Traceback (most recent call last)",
      "\u001b[1;32mc:\\Users\\asus\\Documents\\tugas-akhir\\network-intrusion-detection\\nids-implementation\\nids_pgod_obs.ipynb Cell 38\u001b[0m in \u001b[0;36m<cell line: 2>\u001b[1;34m()\u001b[0m\n\u001b[0;32m      <a href='vscode-notebook-cell:/c%3A/Users/asus/Documents/tugas-akhir/network-intrusion-detection/nids-implementation/nids_pgod_obs.ipynb#X44sZmlsZQ%3D%3D?line=0'>1</a>\u001b[0m gae_model \u001b[39m=\u001b[39m make_gae_model(train_graph, train_node_features, label_train)\n\u001b[1;32m----> <a href='vscode-notebook-cell:/c%3A/Users/asus/Documents/tugas-akhir/network-intrusion-detection/nids-implementation/nids_pgod_obs.ipynb#X44sZmlsZQ%3D%3D?line=1'>2</a>\u001b[0m f1_score_pygod, precision_score, recall_score, f1_score \u001b[39m=\u001b[39m predict_gae(gae_model, test_graph, test_node_features, label_test)\n",
      "\u001b[1;32mc:\\Users\\asus\\Documents\\tugas-akhir\\network-intrusion-detection\\nids-implementation\\nids_pgod_obs.ipynb Cell 38\u001b[0m in \u001b[0;36mpredict_gae\u001b[1;34m(gae_compile, test_graph, test_node_features, label_test)\u001b[0m\n\u001b[0;32m      <a href='vscode-notebook-cell:/c%3A/Users/asus/Documents/tugas-akhir/network-intrusion-detection/nids-implementation/nids_pgod_obs.ipynb#X44sZmlsZQ%3D%3D?line=6'>7</a>\u001b[0m pyG_test \u001b[39m=\u001b[39m pyG_test\n\u001b[0;32m      <a href='vscode-notebook-cell:/c%3A/Users/asus/Documents/tugas-akhir/network-intrusion-detection/nids-implementation/nids_pgod_obs.ipynb#X44sZmlsZQ%3D%3D?line=7'>8</a>\u001b[0m pyG_test\u001b[39m.\u001b[39mx \u001b[39m=\u001b[39m test_node_features\n\u001b[1;32m---> <a href='vscode-notebook-cell:/c%3A/Users/asus/Documents/tugas-akhir/network-intrusion-detection/nids-implementation/nids_pgod_obs.ipynb#X44sZmlsZQ%3D%3D?line=9'>10</a>\u001b[0m gae_ip_pred_res, gae_ip_score_res \u001b[39m=\u001b[39m gae_compile\u001b[39m.\u001b[39;49mpredict(data\u001b[39m=\u001b[39;49mpyG_test, label \u001b[39m=\u001b[39;49m label_test,return_pred\u001b[39m=\u001b[39;49m\u001b[39mTrue\u001b[39;49;00m, return_score\u001b[39m=\u001b[39;49m\u001b[39mTrue\u001b[39;49;00m, prob_method\u001b[39m=\u001b[39;49m\u001b[39m'\u001b[39;49m\u001b[39mlinear\u001b[39;49m\u001b[39m'\u001b[39;49m)\n\u001b[0;32m     <a href='vscode-notebook-cell:/c%3A/Users/asus/Documents/tugas-akhir/network-intrusion-detection/nids-implementation/nids_pgod_obs.ipynb#X44sZmlsZQ%3D%3D?line=10'>11</a>\u001b[0m f1_score_pygod \u001b[39m=\u001b[39m eval_f1(label_test, gae_ip_pred_res)\n\u001b[0;32m     <a href='vscode-notebook-cell:/c%3A/Users/asus/Documents/tugas-akhir/network-intrusion-detection/nids-implementation/nids_pgod_obs.ipynb#X44sZmlsZQ%3D%3D?line=11'>12</a>\u001b[0m precision \u001b[39m=\u001b[39m eval_precision_at_k(label_test, gae_ip_score_res)\n",
      "File \u001b[1;32mc:\\Users\\asus\\AppData\\Local\\Programs\\Python\\Python38\\lib\\site-packages\\pygod\\detector\\base.py:605\u001b[0m, in \u001b[0;36mDeepDetector.predict\u001b[1;34m(self, data, label, return_pred, return_score, return_prob, prob_method, return_conf, return_emb)\u001b[0m\n\u001b[0;32m    602\u001b[0m \u001b[39mif\u001b[39;00m return_emb:\n\u001b[0;32m    603\u001b[0m     \u001b[39mself\u001b[39m\u001b[39m.\u001b[39msave_emb \u001b[39m=\u001b[39m \u001b[39mTrue\u001b[39;00m\n\u001b[1;32m--> 605\u001b[0m output \u001b[39m=\u001b[39m \u001b[39msuper\u001b[39;49m(DeepDetector, \u001b[39mself\u001b[39;49m)\u001b[39m.\u001b[39;49mpredict(data,\n\u001b[0;32m    606\u001b[0m                                            label,\n\u001b[0;32m    607\u001b[0m                                            return_pred,\n\u001b[0;32m    608\u001b[0m                                            return_score,\n\u001b[0;32m    609\u001b[0m                                            return_prob,\n\u001b[0;32m    610\u001b[0m                                            prob_method,\n\u001b[0;32m    611\u001b[0m                                            return_conf)\n\u001b[0;32m    612\u001b[0m \u001b[39mif\u001b[39;00m return_emb:\n\u001b[0;32m    613\u001b[0m     \u001b[39mif\u001b[39;00m \u001b[39mtype\u001b[39m(output) \u001b[39m==\u001b[39m \u001b[39mtuple\u001b[39m:\n",
      "File \u001b[1;32mc:\\Users\\asus\\AppData\\Local\\Programs\\Python\\Python38\\lib\\site-packages\\pygod\\detector\\base.py:188\u001b[0m, in \u001b[0;36mDetector.predict\u001b[1;34m(self, data, label, return_pred, return_score, return_prob, prob_method, return_conf)\u001b[0m\n\u001b[0;32m    183\u001b[0m     logger(score\u001b[39m=\u001b[39m\u001b[39mself\u001b[39m\u001b[39m.\u001b[39mdecision_score_,\n\u001b[0;32m    184\u001b[0m            target\u001b[39m=\u001b[39mlabel,\n\u001b[0;32m    185\u001b[0m            verbose\u001b[39m=\u001b[39m\u001b[39mself\u001b[39m\u001b[39m.\u001b[39mverbose,\n\u001b[0;32m    186\u001b[0m            train\u001b[39m=\u001b[39m\u001b[39mFalse\u001b[39;00m)\n\u001b[0;32m    187\u001b[0m \u001b[39melse\u001b[39;00m:\n\u001b[1;32m--> 188\u001b[0m     score \u001b[39m=\u001b[39m \u001b[39mself\u001b[39;49m\u001b[39m.\u001b[39;49mdecision_function(data, label)\n\u001b[0;32m    189\u001b[0m \u001b[39mif\u001b[39;00m return_pred:\n\u001b[0;32m    190\u001b[0m     pred \u001b[39m=\u001b[39m (score \u001b[39m>\u001b[39m \u001b[39mself\u001b[39m\u001b[39m.\u001b[39mthreshold_)\u001b[39m.\u001b[39mlong()\n",
      "File \u001b[1;32mc:\\Users\\asus\\AppData\\Local\\Programs\\Python\\Python38\\lib\\site-packages\\pygod\\detector\\base.py:513\u001b[0m, in \u001b[0;36mDeepDetector.decision_function\u001b[1;34m(self, data, label)\u001b[0m\n\u001b[0;32m    511\u001b[0m start_time \u001b[39m=\u001b[39m time\u001b[39m.\u001b[39mtime()\n\u001b[0;32m    512\u001b[0m \u001b[39mfor\u001b[39;00m sampled_data \u001b[39min\u001b[39;00m loader:\n\u001b[1;32m--> 513\u001b[0m     loss, score \u001b[39m=\u001b[39m \u001b[39mself\u001b[39;49m\u001b[39m.\u001b[39;49mforward_model(sampled_data)\n\u001b[0;32m    514\u001b[0m     batch_size \u001b[39m=\u001b[39m sampled_data\u001b[39m.\u001b[39mbatch_size\n\u001b[0;32m    515\u001b[0m     node_idx \u001b[39m=\u001b[39m sampled_data\u001b[39m.\u001b[39mn_id\n",
      "File \u001b[1;32mc:\\Users\\asus\\AppData\\Local\\Programs\\Python\\Python38\\lib\\site-packages\\pygod\\detector\\gae.py:163\u001b[0m, in \u001b[0;36mGAE.forward_model\u001b[1;34m(self, data)\u001b[0m\n\u001b[0;32m    160\u001b[0m edge_index \u001b[39m=\u001b[39m data\u001b[39m.\u001b[39medge_index\u001b[39m.\u001b[39mto(\u001b[39mself\u001b[39m\u001b[39m.\u001b[39mdevice)\n\u001b[0;32m    162\u001b[0m \u001b[39mif\u001b[39;00m \u001b[39mself\u001b[39m\u001b[39m.\u001b[39mrecon_s:\n\u001b[1;32m--> 163\u001b[0m     s \u001b[39m=\u001b[39m data\u001b[39m.\u001b[39;49ms\u001b[39m.\u001b[39;49mto(\u001b[39mself\u001b[39;49m\u001b[39m.\u001b[39;49mdevice)[:, node_idx]\n\u001b[0;32m    165\u001b[0m h \u001b[39m=\u001b[39m \u001b[39mself\u001b[39m\u001b[39m.\u001b[39mmodel(x, edge_index)\n\u001b[0;32m    167\u001b[0m target \u001b[39m=\u001b[39m s \u001b[39mif\u001b[39;00m \u001b[39mself\u001b[39m\u001b[39m.\u001b[39mrecon_s \u001b[39melse\u001b[39;00m x\n",
      "\u001b[1;31mIndexError\u001b[0m: index 9479 is out of bounds for dimension 0 with size 9479"
     ]
    }
   ],
   "source": [
    "gae_model = make_gae_model(train_graph, train_node_features, label_train)\n",
    "f1_score_pygod, precision_score, recall_score, f1_score = predict_gae(gae_model, test_graph, test_node_features, label_test)"
   ]
  },
  {
   "cell_type": "markdown",
   "metadata": {},
   "source": [
    "## CONAD"
   ]
  },
  {
   "cell_type": "code",
   "execution_count": 16,
   "metadata": {},
   "outputs": [],
   "source": [
    "def make_conad_model(train_graph, train_node_features, \n",
    "                        label_train):\n",
    "    \n",
    "    train_node_features = torch.tensor(train_node_features)\n",
    "    label_train = torch.tensor(label_train)\n",
    "\n",
    "    print(train_node_features)\n",
    "    pyG_train = from_networkx(train_graph)\n",
    "    pyG_train = pyG_train.cpu()\n",
    "    pyG_train.x = train_node_features.cpu()\n",
    "    label_train = label_train.cpu()\n",
    "\n",
    "    conad_model = CONAD(hid_dim=5, num_layers=5, \n",
    "                        lr=0.001, weight_decay= 1, contamination=0.37,\n",
    "                        epoch=5, gpu=-1,  \n",
    "                        weight=1, dropout=0.2, verbose=3)\n",
    "    conad_compile = conad_model.fit(pyG_train, label_train)\n",
    "\n",
    "    return conad_compile"
   ]
  },
  {
   "cell_type": "code",
   "execution_count": 17,
   "metadata": {},
   "outputs": [],
   "source": [
    "def predict_conad(conda_compile, test_graph, test_node_features, label_test):\n",
    "    \n",
    "    test_node_features = torch.tensor(test_node_features)\n",
    "    label_test = torch.tensor(label_test)\n",
    "\n",
    "    pyG_test = from_networkx(test_graph)\n",
    "    pyG_test = pyG_test\n",
    "    pyG_test.x = test_node_features\n",
    "    \n",
    "    conad_ip_pred_res, conad_ip_score_res = conda_compile.predict(data=pyG_test, label = label_test, return_pred=True, return_score=True, prob_method='linear', )\n",
    "    f1_score_pygod = eval_f1(label_test, conad_ip_pred_res)\n",
    "    precision = eval_precision_at_k(label_test, conad_ip_score_res)\n",
    "    recall = eval_recall_at_k(label_test, conad_ip_score_res)\n",
    "    f1_score = 2*(precision*recall)/(precision+recall)\n",
    "    \n",
    "    unique_values, counts = torch.unique(conad_ip_pred_res, return_counts=True)\n",
    "    print(unique_values, counts)\n",
    "    \n",
    "    print(\"F1 score: \", f1_score)\n",
    "    print(\"Precision: \", precision)\n",
    "    print(\"Recall: \", recall)\n",
    "    print(\"F1 score pygod: \", f1_score_pygod)\n",
    "    return f1_score_pygod, precision, recall"
   ]
  },
  {
   "cell_type": "code",
   "execution_count": 18,
   "metadata": {},
   "outputs": [
    {
     "name": "stderr",
     "output_type": "stream",
     "text": [
      "C:\\Users\\asus\\AppData\\Local\\Temp\\ipykernel_25848\\3220961629.py:4: UserWarning: To copy construct from a tensor, it is recommended to use sourceTensor.clone().detach() or sourceTensor.clone().detach().requires_grad_(True), rather than torch.tensor(sourceTensor).\n",
      "  train_node_features = torch.tensor(train_node_features)\n",
      "C:\\Users\\asus\\AppData\\Local\\Temp\\ipykernel_25848\\3220961629.py:5: UserWarning: To copy construct from a tensor, it is recommended to use sourceTensor.clone().detach() or sourceTensor.clone().detach().requires_grad_(True), rather than torch.tensor(sourceTensor).\n",
      "  label_train = torch.tensor(label_train)\n"
     ]
    },
    {
     "name": "stdout",
     "output_type": "stream",
     "text": [
      "tensor([[ 15.],\n",
      "        [ 28.],\n",
      "        [ 15.],\n",
      "        ...,\n",
      "        [248.],\n",
      "        [ 24.],\n",
      "        [ 37.]])\n",
      "Epoch 0000: Loss 46.3383 | AUC 0.8649 | Recall 0.7577 | Precision 0.7577 | AP 0.7437 | F1 0.7577 | Time 7.64\n",
      "Epoch 0001: Loss 46.3969 | AUC 0.8632 | Recall 0.7530 | Precision 0.7530 | AP 0.7420 | F1 0.7530 | Time 4.79\n",
      "Epoch 0002: Loss 46.1873 | AUC 0.8648 | Recall 0.7579 | Precision 0.7579 | AP 0.7434 | F1 0.7579 | Time 4.23\n",
      "Epoch 0003: Loss 46.0007 | AUC 0.8627 | Recall 0.7543 | Precision 0.7543 | AP 0.7430 | F1 0.7543 | Time 3.90\n",
      "Epoch 0004: Loss 45.9383 | AUC 0.8664 | Recall 0.7629 | Precision 0.7629 | AP 0.7448 | F1 0.7629 | Time 3.98\n"
     ]
    },
    {
     "name": "stderr",
     "output_type": "stream",
     "text": [
      "C:\\Users\\asus\\AppData\\Local\\Temp\\ipykernel_25848\\2188174777.py:3: UserWarning: To copy construct from a tensor, it is recommended to use sourceTensor.clone().detach() or sourceTensor.clone().detach().requires_grad_(True), rather than torch.tensor(sourceTensor).\n",
      "  test_node_features = torch.tensor(test_node_features)\n",
      "C:\\Users\\asus\\AppData\\Local\\Temp\\ipykernel_25848\\2188174777.py:4: UserWarning: To copy construct from a tensor, it is recommended to use sourceTensor.clone().detach() or sourceTensor.clone().detach().requires_grad_(True), rather than torch.tensor(sourceTensor).\n",
      "  label_test = torch.tensor(label_test)\n"
     ]
    },
    {
     "ename": "IndexError",
     "evalue": "Dimension out of range (expected to be in range of [-1, 0], but got -2)",
     "output_type": "error",
     "traceback": [
      "\u001b[1;31m---------------------------------------------------------------------------\u001b[0m",
      "\u001b[1;31mIndexError\u001b[0m                                Traceback (most recent call last)",
      "\u001b[1;32mc:\\Users\\asus\\Documents\\tugas-akhir\\network-intrusion-detection\\nids-implementation\\nids_pgod_obs.ipynb Cell 52\u001b[0m in \u001b[0;36m<cell line: 2>\u001b[1;34m()\u001b[0m\n\u001b[0;32m      <a href='vscode-notebook-cell:/c%3A/Users/asus/Documents/tugas-akhir/network-intrusion-detection/nids-implementation/nids_pgod_obs.ipynb#Y102sZmlsZQ%3D%3D?line=0'>1</a>\u001b[0m conad_model \u001b[39m=\u001b[39m make_conad_model(train_graph, train_node_features, label_train)\n\u001b[1;32m----> <a href='vscode-notebook-cell:/c%3A/Users/asus/Documents/tugas-akhir/network-intrusion-detection/nids-implementation/nids_pgod_obs.ipynb#Y102sZmlsZQ%3D%3D?line=1'>2</a>\u001b[0m precision_score, recall_score, f1_score \u001b[39m=\u001b[39m predict_conad(conad_model, test_graph, label_test,  test_node_features)\n",
      "\u001b[1;32mc:\\Users\\asus\\Documents\\tugas-akhir\\network-intrusion-detection\\nids-implementation\\nids_pgod_obs.ipynb Cell 52\u001b[0m in \u001b[0;36mpredict_conad\u001b[1;34m(conda_compile, test_graph, test_node_features, label_test)\u001b[0m\n\u001b[0;32m      <a href='vscode-notebook-cell:/c%3A/Users/asus/Documents/tugas-akhir/network-intrusion-detection/nids-implementation/nids_pgod_obs.ipynb#Y102sZmlsZQ%3D%3D?line=6'>7</a>\u001b[0m pyG_test \u001b[39m=\u001b[39m pyG_test\n\u001b[0;32m      <a href='vscode-notebook-cell:/c%3A/Users/asus/Documents/tugas-akhir/network-intrusion-detection/nids-implementation/nids_pgod_obs.ipynb#Y102sZmlsZQ%3D%3D?line=7'>8</a>\u001b[0m pyG_test\u001b[39m.\u001b[39mx \u001b[39m=\u001b[39m test_node_features\n\u001b[1;32m---> <a href='vscode-notebook-cell:/c%3A/Users/asus/Documents/tugas-akhir/network-intrusion-detection/nids-implementation/nids_pgod_obs.ipynb#Y102sZmlsZQ%3D%3D?line=9'>10</a>\u001b[0m conad_ip_pred_res, conad_ip_score_res \u001b[39m=\u001b[39m conda_compile\u001b[39m.\u001b[39;49mpredict(data\u001b[39m=\u001b[39;49mpyG_test, label \u001b[39m=\u001b[39;49m label_test, return_pred\u001b[39m=\u001b[39;49m\u001b[39mTrue\u001b[39;49;00m, return_score\u001b[39m=\u001b[39;49m\u001b[39mTrue\u001b[39;49;00m, prob_method\u001b[39m=\u001b[39;49m\u001b[39m'\u001b[39;49m\u001b[39mlinear\u001b[39;49m\u001b[39m'\u001b[39;49m, )\n\u001b[0;32m     <a href='vscode-notebook-cell:/c%3A/Users/asus/Documents/tugas-akhir/network-intrusion-detection/nids-implementation/nids_pgod_obs.ipynb#Y102sZmlsZQ%3D%3D?line=10'>11</a>\u001b[0m f1_score_pygod \u001b[39m=\u001b[39m eval_f1(label_test, conad_ip_pred_res)\n\u001b[0;32m     <a href='vscode-notebook-cell:/c%3A/Users/asus/Documents/tugas-akhir/network-intrusion-detection/nids-implementation/nids_pgod_obs.ipynb#Y102sZmlsZQ%3D%3D?line=11'>12</a>\u001b[0m precision \u001b[39m=\u001b[39m eval_precision_at_k(label_test, conad_ip_score_res)\n",
      "File \u001b[1;32mc:\\Users\\asus\\AppData\\Local\\Programs\\Python\\Python38\\lib\\site-packages\\pygod\\detector\\base.py:605\u001b[0m, in \u001b[0;36mDeepDetector.predict\u001b[1;34m(self, data, label, return_pred, return_score, return_prob, prob_method, return_conf, return_emb)\u001b[0m\n\u001b[0;32m    602\u001b[0m \u001b[39mif\u001b[39;00m return_emb:\n\u001b[0;32m    603\u001b[0m     \u001b[39mself\u001b[39m\u001b[39m.\u001b[39msave_emb \u001b[39m=\u001b[39m \u001b[39mTrue\u001b[39;00m\n\u001b[1;32m--> 605\u001b[0m output \u001b[39m=\u001b[39m \u001b[39msuper\u001b[39;49m(DeepDetector, \u001b[39mself\u001b[39;49m)\u001b[39m.\u001b[39;49mpredict(data,\n\u001b[0;32m    606\u001b[0m                                            label,\n\u001b[0;32m    607\u001b[0m                                            return_pred,\n\u001b[0;32m    608\u001b[0m                                            return_score,\n\u001b[0;32m    609\u001b[0m                                            return_prob,\n\u001b[0;32m    610\u001b[0m                                            prob_method,\n\u001b[0;32m    611\u001b[0m                                            return_conf)\n\u001b[0;32m    612\u001b[0m \u001b[39mif\u001b[39;00m return_emb:\n\u001b[0;32m    613\u001b[0m     \u001b[39mif\u001b[39;00m \u001b[39mtype\u001b[39m(output) \u001b[39m==\u001b[39m \u001b[39mtuple\u001b[39m:\n",
      "File \u001b[1;32mc:\\Users\\asus\\AppData\\Local\\Programs\\Python\\Python38\\lib\\site-packages\\pygod\\detector\\base.py:188\u001b[0m, in \u001b[0;36mDetector.predict\u001b[1;34m(self, data, label, return_pred, return_score, return_prob, prob_method, return_conf)\u001b[0m\n\u001b[0;32m    183\u001b[0m     logger(score\u001b[39m=\u001b[39m\u001b[39mself\u001b[39m\u001b[39m.\u001b[39mdecision_score_,\n\u001b[0;32m    184\u001b[0m            target\u001b[39m=\u001b[39mlabel,\n\u001b[0;32m    185\u001b[0m            verbose\u001b[39m=\u001b[39m\u001b[39mself\u001b[39m\u001b[39m.\u001b[39mverbose,\n\u001b[0;32m    186\u001b[0m            train\u001b[39m=\u001b[39m\u001b[39mFalse\u001b[39;00m)\n\u001b[0;32m    187\u001b[0m \u001b[39melse\u001b[39;00m:\n\u001b[1;32m--> 188\u001b[0m     score \u001b[39m=\u001b[39m \u001b[39mself\u001b[39;49m\u001b[39m.\u001b[39;49mdecision_function(data, label)\n\u001b[0;32m    189\u001b[0m \u001b[39mif\u001b[39;00m return_pred:\n\u001b[0;32m    190\u001b[0m     pred \u001b[39m=\u001b[39m (score \u001b[39m>\u001b[39m \u001b[39mself\u001b[39m\u001b[39m.\u001b[39mthreshold_)\u001b[39m.\u001b[39mlong()\n",
      "File \u001b[1;32mc:\\Users\\asus\\AppData\\Local\\Programs\\Python\\Python38\\lib\\site-packages\\pygod\\detector\\base.py:513\u001b[0m, in \u001b[0;36mDeepDetector.decision_function\u001b[1;34m(self, data, label)\u001b[0m\n\u001b[0;32m    511\u001b[0m start_time \u001b[39m=\u001b[39m time\u001b[39m.\u001b[39mtime()\n\u001b[0;32m    512\u001b[0m \u001b[39mfor\u001b[39;00m sampled_data \u001b[39min\u001b[39;00m loader:\n\u001b[1;32m--> 513\u001b[0m     loss, score \u001b[39m=\u001b[39m \u001b[39mself\u001b[39;49m\u001b[39m.\u001b[39;49mforward_model(sampled_data)\n\u001b[0;32m    514\u001b[0m     batch_size \u001b[39m=\u001b[39m sampled_data\u001b[39m.\u001b[39mbatch_size\n\u001b[0;32m    515\u001b[0m     node_idx \u001b[39m=\u001b[39m sampled_data\u001b[39m.\u001b[39mn_id\n",
      "File \u001b[1;32mc:\\Users\\asus\\AppData\\Local\\Programs\\Python\\Python38\\lib\\site-packages\\pygod\\detector\\conad.py:205\u001b[0m, in \u001b[0;36mCONAD.forward_model\u001b[1;34m(self, data)\u001b[0m\n\u001b[0;32m    202\u001b[0m     _, _ \u001b[39m=\u001b[39m \u001b[39mself\u001b[39m\u001b[39m.\u001b[39mmodel(x_aug, edge_index_aug)\n\u001b[0;32m    203\u001b[0m     h_aug \u001b[39m=\u001b[39m \u001b[39mself\u001b[39m\u001b[39m.\u001b[39mmodel\u001b[39m.\u001b[39memb\n\u001b[1;32m--> 205\u001b[0m x_, s_ \u001b[39m=\u001b[39m \u001b[39mself\u001b[39;49m\u001b[39m.\u001b[39;49mmodel(x, edge_index)\n\u001b[0;32m    206\u001b[0m h \u001b[39m=\u001b[39m \u001b[39mself\u001b[39m\u001b[39m.\u001b[39mmodel\u001b[39m.\u001b[39memb\n\u001b[0;32m    208\u001b[0m score \u001b[39m=\u001b[39m \u001b[39mself\u001b[39m\u001b[39m.\u001b[39mmodel\u001b[39m.\u001b[39mloss_func(x[:batch_size],\n\u001b[0;32m    209\u001b[0m                              x_[:batch_size],\n\u001b[0;32m    210\u001b[0m                              s[:batch_size, node_idx],\n\u001b[0;32m    211\u001b[0m                              s_[:batch_size],\n\u001b[0;32m    212\u001b[0m                              \u001b[39mself\u001b[39m\u001b[39m.\u001b[39mweight)\n",
      "File \u001b[1;32mc:\\Users\\asus\\AppData\\Local\\Programs\\Python\\Python38\\lib\\site-packages\\torch\\nn\\modules\\module.py:1194\u001b[0m, in \u001b[0;36mModule._call_impl\u001b[1;34m(self, *input, **kwargs)\u001b[0m\n\u001b[0;32m   1190\u001b[0m \u001b[39m# If we don't have any hooks, we want to skip the rest of the logic in\u001b[39;00m\n\u001b[0;32m   1191\u001b[0m \u001b[39m# this function, and just call forward.\u001b[39;00m\n\u001b[0;32m   1192\u001b[0m \u001b[39mif\u001b[39;00m \u001b[39mnot\u001b[39;00m (\u001b[39mself\u001b[39m\u001b[39m.\u001b[39m_backward_hooks \u001b[39mor\u001b[39;00m \u001b[39mself\u001b[39m\u001b[39m.\u001b[39m_forward_hooks \u001b[39mor\u001b[39;00m \u001b[39mself\u001b[39m\u001b[39m.\u001b[39m_forward_pre_hooks \u001b[39mor\u001b[39;00m _global_backward_hooks\n\u001b[0;32m   1193\u001b[0m         \u001b[39mor\u001b[39;00m _global_forward_hooks \u001b[39mor\u001b[39;00m _global_forward_pre_hooks):\n\u001b[1;32m-> 1194\u001b[0m     \u001b[39mreturn\u001b[39;00m forward_call(\u001b[39m*\u001b[39;49m\u001b[39minput\u001b[39;49m, \u001b[39m*\u001b[39;49m\u001b[39m*\u001b[39;49mkwargs)\n\u001b[0;32m   1195\u001b[0m \u001b[39m# Do not call functions when jit is used\u001b[39;00m\n\u001b[0;32m   1196\u001b[0m full_backward_hooks, non_full_backward_hooks \u001b[39m=\u001b[39m [], []\n",
      "File \u001b[1;32mc:\\Users\\asus\\AppData\\Local\\Programs\\Python\\Python38\\lib\\site-packages\\pygod\\nn\\dominant.py:112\u001b[0m, in \u001b[0;36mDOMINANTBase.forward\u001b[1;34m(self, x, edge_index)\u001b[0m\n\u001b[0;32m     94\u001b[0m \u001b[39m\u001b[39m\u001b[39m\"\"\"\u001b[39;00m\n\u001b[0;32m     95\u001b[0m \u001b[39mForward computation.\u001b[39;00m\n\u001b[0;32m     96\u001b[0m \n\u001b[1;32m   (...)\u001b[0m\n\u001b[0;32m    109\u001b[0m \u001b[39m    Reconstructed adjacency matrix.\u001b[39;00m\n\u001b[0;32m    110\u001b[0m \u001b[39m\"\"\"\u001b[39;00m\n\u001b[0;32m    111\u001b[0m \u001b[39m# encode feature matrix\u001b[39;00m\n\u001b[1;32m--> 112\u001b[0m \u001b[39mself\u001b[39m\u001b[39m.\u001b[39memb \u001b[39m=\u001b[39m \u001b[39mself\u001b[39;49m\u001b[39m.\u001b[39;49mshared_encoder(x, edge_index)\n\u001b[0;32m    114\u001b[0m \u001b[39m# reconstruct feature matrix\u001b[39;00m\n\u001b[0;32m    115\u001b[0m x_ \u001b[39m=\u001b[39m \u001b[39mself\u001b[39m\u001b[39m.\u001b[39mattr_decoder(\u001b[39mself\u001b[39m\u001b[39m.\u001b[39memb, edge_index)\n",
      "File \u001b[1;32mc:\\Users\\asus\\AppData\\Local\\Programs\\Python\\Python38\\lib\\site-packages\\torch\\nn\\modules\\module.py:1194\u001b[0m, in \u001b[0;36mModule._call_impl\u001b[1;34m(self, *input, **kwargs)\u001b[0m\n\u001b[0;32m   1190\u001b[0m \u001b[39m# If we don't have any hooks, we want to skip the rest of the logic in\u001b[39;00m\n\u001b[0;32m   1191\u001b[0m \u001b[39m# this function, and just call forward.\u001b[39;00m\n\u001b[0;32m   1192\u001b[0m \u001b[39mif\u001b[39;00m \u001b[39mnot\u001b[39;00m (\u001b[39mself\u001b[39m\u001b[39m.\u001b[39m_backward_hooks \u001b[39mor\u001b[39;00m \u001b[39mself\u001b[39m\u001b[39m.\u001b[39m_forward_hooks \u001b[39mor\u001b[39;00m \u001b[39mself\u001b[39m\u001b[39m.\u001b[39m_forward_pre_hooks \u001b[39mor\u001b[39;00m _global_backward_hooks\n\u001b[0;32m   1193\u001b[0m         \u001b[39mor\u001b[39;00m _global_forward_hooks \u001b[39mor\u001b[39;00m _global_forward_pre_hooks):\n\u001b[1;32m-> 1194\u001b[0m     \u001b[39mreturn\u001b[39;00m forward_call(\u001b[39m*\u001b[39;49m\u001b[39minput\u001b[39;49m, \u001b[39m*\u001b[39;49m\u001b[39m*\u001b[39;49mkwargs)\n\u001b[0;32m   1195\u001b[0m \u001b[39m# Do not call functions when jit is used\u001b[39;00m\n\u001b[0;32m   1196\u001b[0m full_backward_hooks, non_full_backward_hooks \u001b[39m=\u001b[39m [], []\n",
      "File \u001b[1;32mc:\\Users\\asus\\AppData\\Local\\Programs\\Python\\Python38\\lib\\site-packages\\torch_geometric\\nn\\models\\basic_gnn.py:222\u001b[0m, in \u001b[0;36mBasicGNN.forward\u001b[1;34m(self, x, edge_index, edge_weight, edge_attr, num_sampled_nodes_per_hop, num_sampled_edges_per_hop)\u001b[0m\n\u001b[0;32m    219\u001b[0m     x \u001b[39m=\u001b[39m \u001b[39mself\u001b[39m\u001b[39m.\u001b[39mconvs[i](x, edge_index, edge_weight\u001b[39m=\u001b[39medge_weight,\n\u001b[0;32m    220\u001b[0m                       edge_attr\u001b[39m=\u001b[39medge_attr)\n\u001b[0;32m    221\u001b[0m \u001b[39melif\u001b[39;00m \u001b[39mself\u001b[39m\u001b[39m.\u001b[39msupports_edge_weight:\n\u001b[1;32m--> 222\u001b[0m     x \u001b[39m=\u001b[39m \u001b[39mself\u001b[39;49m\u001b[39m.\u001b[39;49mconvs[i](x, edge_index, edge_weight\u001b[39m=\u001b[39;49medge_weight)\n\u001b[0;32m    223\u001b[0m \u001b[39melif\u001b[39;00m \u001b[39mself\u001b[39m\u001b[39m.\u001b[39msupports_edge_attr:\n\u001b[0;32m    224\u001b[0m     x \u001b[39m=\u001b[39m \u001b[39mself\u001b[39m\u001b[39m.\u001b[39mconvs[i](x, edge_index, edge_attr\u001b[39m=\u001b[39medge_attr)\n",
      "File \u001b[1;32mc:\\Users\\asus\\AppData\\Local\\Programs\\Python\\Python38\\lib\\site-packages\\torch\\nn\\modules\\module.py:1194\u001b[0m, in \u001b[0;36mModule._call_impl\u001b[1;34m(self, *input, **kwargs)\u001b[0m\n\u001b[0;32m   1190\u001b[0m \u001b[39m# If we don't have any hooks, we want to skip the rest of the logic in\u001b[39;00m\n\u001b[0;32m   1191\u001b[0m \u001b[39m# this function, and just call forward.\u001b[39;00m\n\u001b[0;32m   1192\u001b[0m \u001b[39mif\u001b[39;00m \u001b[39mnot\u001b[39;00m (\u001b[39mself\u001b[39m\u001b[39m.\u001b[39m_backward_hooks \u001b[39mor\u001b[39;00m \u001b[39mself\u001b[39m\u001b[39m.\u001b[39m_forward_hooks \u001b[39mor\u001b[39;00m \u001b[39mself\u001b[39m\u001b[39m.\u001b[39m_forward_pre_hooks \u001b[39mor\u001b[39;00m _global_backward_hooks\n\u001b[0;32m   1193\u001b[0m         \u001b[39mor\u001b[39;00m _global_forward_hooks \u001b[39mor\u001b[39;00m _global_forward_pre_hooks):\n\u001b[1;32m-> 1194\u001b[0m     \u001b[39mreturn\u001b[39;00m forward_call(\u001b[39m*\u001b[39;49m\u001b[39minput\u001b[39;49m, \u001b[39m*\u001b[39;49m\u001b[39m*\u001b[39;49mkwargs)\n\u001b[0;32m   1195\u001b[0m \u001b[39m# Do not call functions when jit is used\u001b[39;00m\n\u001b[0;32m   1196\u001b[0m full_backward_hooks, non_full_backward_hooks \u001b[39m=\u001b[39m [], []\n",
      "File \u001b[1;32mc:\\Users\\asus\\AppData\\Local\\Programs\\Python\\Python38\\lib\\site-packages\\torch_geometric\\nn\\conv\\gcn_conv.py:211\u001b[0m, in \u001b[0;36mGCNConv.forward\u001b[1;34m(self, x, edge_index, edge_weight)\u001b[0m\n\u001b[0;32m    208\u001b[0m cache \u001b[39m=\u001b[39m \u001b[39mself\u001b[39m\u001b[39m.\u001b[39m_cached_edge_index\n\u001b[0;32m    209\u001b[0m \u001b[39mif\u001b[39;00m cache \u001b[39mis\u001b[39;00m \u001b[39mNone\u001b[39;00m:\n\u001b[0;32m    210\u001b[0m     edge_index, edge_weight \u001b[39m=\u001b[39m gcn_norm(  \u001b[39m# yapf: disable\u001b[39;00m\n\u001b[1;32m--> 211\u001b[0m         edge_index, edge_weight, x\u001b[39m.\u001b[39;49msize(\u001b[39mself\u001b[39;49m\u001b[39m.\u001b[39;49mnode_dim),\n\u001b[0;32m    212\u001b[0m         \u001b[39mself\u001b[39m\u001b[39m.\u001b[39mimproved, \u001b[39mself\u001b[39m\u001b[39m.\u001b[39madd_self_loops, \u001b[39mself\u001b[39m\u001b[39m.\u001b[39mflow, x\u001b[39m.\u001b[39mdtype)\n\u001b[0;32m    213\u001b[0m     \u001b[39mif\u001b[39;00m \u001b[39mself\u001b[39m\u001b[39m.\u001b[39mcached:\n\u001b[0;32m    214\u001b[0m         \u001b[39mself\u001b[39m\u001b[39m.\u001b[39m_cached_edge_index \u001b[39m=\u001b[39m (edge_index, edge_weight)\n",
      "\u001b[1;31mIndexError\u001b[0m: Dimension out of range (expected to be in range of [-1, 0], but got -2)"
     ]
    }
   ],
   "source": [
    "conad_model = make_conad_model(train_graph, train_node_features, label_train)\n",
    "precision_score, recall_score, f1_score = predict_conad(conad_model, test_graph, label_test,  test_node_features)"
   ]
  },
  {
   "cell_type": "markdown",
   "metadata": {},
   "source": [
    "## AnomalyDAE"
   ]
  },
  {
   "cell_type": "code",
   "execution_count": 12,
   "metadata": {},
   "outputs": [],
   "source": [
    "def make_anomalydae_model(train_graph, train_node_features, \n",
    "                        label_train):\n",
    "    train_node_features = torch.tensor(train_node_features)\n",
    "    label_train = torch.tensor(label_train)\n",
    "\n",
    "    pyG_train = from_networkx(train_graph)\n",
    "    pyG_train = pyG_train\n",
    "    pyG_train.x = train_node_features\n",
    "    label_train = label_train\n",
    "\n",
    "    anomalydae_model = AnomalyDAE(hid_dim=12, emb_dim=4, \n",
    "                        lr=0.001, contamination=0.37,\n",
    "                        epoch=10, gpu=-1,\n",
    "                        weight=1, verbose=3)\n",
    "    anomalydae_compile = anomalydae_model.fit(pyG_train, label_train)\n",
    "\n",
    "    return anomalydae_compile"
   ]
  },
  {
   "cell_type": "code",
   "execution_count": 13,
   "metadata": {},
   "outputs": [],
   "source": [
    "def predict_anomalydae(label_test, anomalydae_compile, pyG_test, test_node_features):\n",
    "\n",
    "    test_node_features = torch.tensor(test_node_features)\n",
    "    label_test = torch.tensor(label_test)\n",
    "    \n",
    "    pyG_test = from_networkx(pyG_test)\n",
    "    pyG_test.x = test_node_features\n",
    "\n",
    "    anomalydae_ip_pred_res, anomalydae_ip_score_res = anomalydae_compile.predict(data=pyG_test, label = label_test, return_pred=True, return_score=True, prob_method='linear', )\n",
    "    \n",
    "    precision_pygod = eval_precision_at_k(label_test, anomalydae_ip_score_res)\n",
    "    recall_pygod = eval_recall_at_k(label_test, anomalydae_ip_score_res)\n",
    "    f1_score = 2*(precision_pygod*recall_pygod)/(precision_pygod+recall_pygod)\n",
    "    \n",
    "    print(\"F1 score: \", f1_score)\n",
    "    print(\"Precision: \", precision_pygod)\n",
    "    print(\"Recall: \", recall_pygod)\n",
    "    return f1_score, precision_pygod, recall_pygod"
   ]
  },
  {
   "cell_type": "code",
   "execution_count": 14,
   "metadata": {},
   "outputs": [
    {
     "name": "stdout",
     "output_type": "stream",
     "text": [
      "Epoch 0000: Loss 678.8920 | AUC 0.7747 | Recall 0.6758 | Precision 0.6758 | AP 0.6249 | F1 0.7122 | Time 10.01\n",
      "Epoch 0001: Loss 84.9636 | AUC 0.7631 | Recall 0.6598 | Precision 0.6598 | AP 0.6209 | F1 0.6672 | Time 8.56\n",
      "Epoch 0002: Loss 84.8900 | AUC 0.7632 | Recall 0.6598 | Precision 0.6598 | AP 0.6207 | F1 0.6673 | Time 8.93\n",
      "Epoch 0003: Loss 84.8161 | AUC 0.7639 | Recall 0.6622 | Precision 0.6622 | AP 0.6211 | F1 0.6688 | Time 8.62\n",
      "Epoch 0004: Loss 84.7414 | AUC 0.7639 | Recall 0.6622 | Precision 0.6622 | AP 0.6210 | F1 0.6687 | Time 8.71\n",
      "Epoch 0005: Loss 84.6659 | AUC 0.7638 | Recall 0.6622 | Precision 0.6622 | AP 0.6208 | F1 0.6687 | Time 8.71\n",
      "Epoch 0006: Loss 84.5894 | AUC 0.7637 | Recall 0.6626 | Precision 0.6626 | AP 0.6206 | F1 0.6688 | Time 9.37\n",
      "Epoch 0007: Loss 84.5121 | AUC 0.7635 | Recall 0.6626 | Precision 0.6626 | AP 0.6203 | F1 0.6688 | Time 9.14\n",
      "Epoch 0008: Loss 84.4339 | AUC 0.7634 | Recall 0.6622 | Precision 0.6622 | AP 0.6199 | F1 0.6687 | Time 9.56\n",
      "Epoch 0009: Loss 84.3549 | AUC 0.7620 | Recall 0.6616 | Precision 0.6616 | AP 0.6175 | F1 0.6685 | Time 9.29\n",
      "Test: Loss 0.0055 | AUC 0.7618 | Recall 0.6616 | Precision 0.6616 | AP 0.6172 | F1 0.6683 | Time 6.85\n",
      "F1 score:  tensor(0.6616)\n",
      "Precision:  tensor(0.6616)\n",
      "Recall:  tensor(0.6616)\n"
     ]
    }
   ],
   "source": [
    "\n",
    "anomalydae_model = make_anomalydae_model(train_graph, train_node_features, label_train)\n",
    "precision_score, recall_score, f1_score = predict_anomalydae(label_train, anomalydae_model, train_graph, train_node_features)"
   ]
  },
  {
   "cell_type": "code",
   "execution_count": null,
   "metadata": {},
   "outputs": [],
   "source": []
  }
 ],
 "metadata": {
  "kernelspec": {
   "display_name": "Python 3",
   "language": "python",
   "name": "python3"
  },
  "language_info": {
   "codemirror_mode": {
    "name": "ipython",
    "version": 3
   },
   "file_extension": ".py",
   "mimetype": "text/x-python",
   "name": "python",
   "nbconvert_exporter": "python",
   "pygments_lexer": "ipython3",
   "version": "3.8.0"
  },
  "orig_nbformat": 4
 },
 "nbformat": 4,
 "nbformat_minor": 2
}
