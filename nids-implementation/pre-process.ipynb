{
 "cells": [
  {
   "attachments": {},
   "cell_type": "markdown",
   "metadata": {},
   "source": [
    "# Load Library"
   ]
  },
  {
   "cell_type": "code",
   "execution_count": 2,
   "metadata": {},
   "outputs": [],
   "source": [
    "import pandas as pd\n",
    "import matplotlib.pyplot as plt\n",
    "import numpy as np\n",
    "import chardet"
   ]
  },
  {
   "attachments": {},
   "cell_type": "markdown",
   "metadata": {},
   "source": [
    "# Pre-Process"
   ]
  },
  {
   "attachments": {},
   "cell_type": "markdown",
   "metadata": {},
   "source": [
    "## Data Labeling"
   ]
  },
  {
   "attachments": {},
   "cell_type": "markdown",
   "metadata": {},
   "source": [
    "### load origin dataset"
   ]
  },
  {
   "cell_type": "code",
   "execution_count": 5,
   "metadata": {},
   "outputs": [
    {
     "name": "stdout",
     "output_type": "stream",
     "text": [
      "<class 'pandas.core.frame.DataFrame'>\n",
      "RangeIndex: 489203 entries, 0 to 489202\n",
      "Data columns (total 7 columns):\n",
      " #   Column            Non-Null Count   Dtype  \n",
      "---  ------            --------------   -----  \n",
      " 0   source_ip         489203 non-null  object \n",
      " 1   destination_ip    489203 non-null  object \n",
      " 2   source_port       489203 non-null  int64  \n",
      " 3   destination_port  489203 non-null  int64  \n",
      " 4   protocol          489203 non-null  object \n",
      " 5   start_time        489203 non-null  float64\n",
      " 6   info_message      489203 non-null  object \n",
      "dtypes: float64(1), int64(2), object(4)\n",
      "memory usage: 145.8 MB\n"
     ]
    }
   ],
   "source": [
    "origin = pd.read_csv(\"C:\\\\Users\\\\asus\\\\Documents\\\\nids-pcap-dataset\\\\unsw_dataset.csv\", encoding='MacRoman'\n",
    "                   ,on_bad_lines='skip', index_col=None)\n",
    "origin.rename(columns = {'_ws.col.Index':'index_ws',\n",
    "                       '_ws.col.Info':'info_message',\n",
    "                       '_ws.col.start_time':'start_time',\n",
    "                       '_ws.col.Source':'source_ip',\n",
    "                       '_ws.col.Destination':'destination_ip',\n",
    "                       '_ws.col.Protocol':'protocol',\n",
    "                       '_ws.col.sport':'source_port',\n",
    "                       '_ws.col.dport':'destination_port'}, inplace = True)\n",
    "origin.head()\n",
    "origin.info(memory_usage='deep')"
   ]
  },
  {
   "cell_type": "code",
   "execution_count": 6,
   "metadata": {},
   "outputs": [
    {
     "name": "stdout",
     "output_type": "stream",
     "text": [
      "<class 'pandas.core.frame.DataFrame'>\n",
      "RangeIndex: 489203 entries, 0 to 489202\n",
      "Data columns (total 7 columns):\n",
      " #   Column            Non-Null Count   Dtype   \n",
      "---  ------            --------------   -----   \n",
      " 0   source_ip         489203 non-null  category\n",
      " 1   destination_ip    489203 non-null  category\n",
      " 2   source_port       489203 non-null  int32   \n",
      " 3   destination_port  489203 non-null  int32   \n",
      " 4   protocol          489203 non-null  category\n",
      " 5   start_time        489203 non-null  float32 \n",
      " 6   info_message      489203 non-null  category\n",
      "dtypes: category(4), float32(1), int32(2)\n",
      "memory usage: 10.9 MB\n"
     ]
    }
   ],
   "source": [
    "# memory optimization with fast.ai\n",
    "from fastai.tabular.core import df_shrink\n",
    "origin = df_shrink(origin)\n",
    "origin.info(memory_usage='deep')"
   ]
  },
  {
   "attachments": {},
   "cell_type": "markdown",
   "metadata": {},
   "source": [
    "### load gt dataset"
   ]
  },
  {
   "cell_type": "code",
   "execution_count": 7,
   "metadata": {},
   "outputs": [],
   "source": [
    "gt = pd.read_csv(\"C:\\\\Users\\\\asus\\\\Documents\\\\nids-pcap-dataset\\\\unsw_ground_truth\\\\NUSW-NB15_GT.csv\"\n",
    "                   ,on_bad_lines='skip')"
   ]
  },
  {
   "cell_type": "code",
   "execution_count": 8,
   "metadata": {},
   "outputs": [],
   "source": [
    "import re\n",
    "def clean_colname(colname):\n",
    "    return re.sub(r'\\s+', '_', colname.lower())"
   ]
  },
  {
   "cell_type": "code",
   "execution_count": 12,
   "metadata": {},
   "outputs": [
    {
     "name": "stdout",
     "output_type": "stream",
     "text": [
      "<class 'pandas.core.frame.DataFrame'>\n",
      "RangeIndex: 174347 entries, 0 to 174346\n",
      "Data columns (total 12 columns):\n",
      " #   Column              Non-Null Count   Dtype \n",
      "---  ------              --------------   ----- \n",
      " 0   start_time          174347 non-null  int64 \n",
      " 1   last_time           174347 non-null  int64 \n",
      " 2   attack_category     174347 non-null  object\n",
      " 3   attack_subcategory  170250 non-null  object\n",
      " 4   protocol            174347 non-null  object\n",
      " 5   source_ip           174347 non-null  object\n",
      " 6   source_port         174347 non-null  int64 \n",
      " 7   destination_ip      174347 non-null  object\n",
      " 8   destination_port    174347 non-null  int64 \n",
      " 9   attack_name         174346 non-null  object\n",
      " 10  attack_reference    123709 non-null  object\n",
      " 11  .                   174347 non-null  object\n",
      "dtypes: int64(4), object(8)\n",
      "memory usage: 156.5 MB\n"
     ]
    },
    {
     "data": {
      "text/html": [
       "<div>\n",
       "<style scoped>\n",
       "    .dataframe tbody tr th:only-of-type {\n",
       "        vertical-align: middle;\n",
       "    }\n",
       "\n",
       "    .dataframe tbody tr th {\n",
       "        vertical-align: top;\n",
       "    }\n",
       "\n",
       "    .dataframe thead th {\n",
       "        text-align: right;\n",
       "    }\n",
       "</style>\n",
       "<table border=\"1\" class=\"dataframe\">\n",
       "  <thead>\n",
       "    <tr style=\"text-align: right;\">\n",
       "      <th></th>\n",
       "      <th>start_time</th>\n",
       "      <th>last_time</th>\n",
       "      <th>attack_category</th>\n",
       "      <th>attack_subcategory</th>\n",
       "      <th>protocol</th>\n",
       "      <th>source_ip</th>\n",
       "      <th>source_port</th>\n",
       "      <th>destination_ip</th>\n",
       "      <th>destination_port</th>\n",
       "      <th>attack_name</th>\n",
       "      <th>attack_reference</th>\n",
       "      <th>.</th>\n",
       "    </tr>\n",
       "  </thead>\n",
       "  <tbody>\n",
       "    <tr>\n",
       "      <th>0</th>\n",
       "      <td>1421927414</td>\n",
       "      <td>1421927416</td>\n",
       "      <td>Reconnaissance</td>\n",
       "      <td>HTTP</td>\n",
       "      <td>tcp</td>\n",
       "      <td>175.45.176.0</td>\n",
       "      <td>13284</td>\n",
       "      <td>149.171.126.16</td>\n",
       "      <td>80</td>\n",
       "      <td>Domino Web Server Database Access: /doladmin.nsf (https://strikecenter.bpointsys.com/bps/strikes/recon/http/domino/access_domino_doladmin_nsf.xml)</td>\n",
       "      <td>-</td>\n",
       "      <td>.</td>\n",
       "    </tr>\n",
       "    <tr>\n",
       "      <th>1</th>\n",
       "      <td>1421927415</td>\n",
       "      <td>1421927415</td>\n",
       "      <td>Exploits</td>\n",
       "      <td>Unix 'r' Service</td>\n",
       "      <td>udp</td>\n",
       "      <td>175.45.176.3</td>\n",
       "      <td>21223</td>\n",
       "      <td>149.171.126.18</td>\n",
       "      <td>32780</td>\n",
       "      <td>Solaris rwalld Format String Vulnerability (https://strikecenter.bpointsys.com/bps/strikes/exploits/rservices/solaris_rwall_format_string.xml)</td>\n",
       "      <td>CVE 2002-0573 (http://cve.mitre.org/cgi-bin/cvename.cgi?name=2002%2d0573)BID 4639 (http://www.securityfocus.com/bid/4639)CVSS-High (https://strikecenter.bpointsys.com/bps/reference/CVSS/7.5%20%28AV%3aN%2fAC%3aL%2fAu%3aN%2fC%3aP%2fI%3aP%2fA%3aP%29)</td>\n",
       "      <td>.</td>\n",
       "    </tr>\n",
       "    <tr>\n",
       "      <th>2</th>\n",
       "      <td>1421927416</td>\n",
       "      <td>1421927416</td>\n",
       "      <td>Exploits</td>\n",
       "      <td>Browser</td>\n",
       "      <td>tcp</td>\n",
       "      <td>175.45.176.2</td>\n",
       "      <td>23357</td>\n",
       "      <td>149.171.126.16</td>\n",
       "      <td>80</td>\n",
       "      <td>Windows Metafile (WMF) SetAbortProc() Code Execution [009] (https://strikecenter.bpointsys.com/bps/strikes/exploits/browser/wmf_009.xml)</td>\n",
       "      <td>CVE 2005-4560 (http://cve.mitre.org/cgi-bin/cvename.cgi?name=2005%2d4560)BID 16074 (http://www.securityfocus.com/bid/16074)OSVDB 21987 (http://www.osvdb.org/21987)CVSS-High (https://strikecenter.bpointsys.com/bps/reference/CVSS/7.5%20%28AV%3aN%2fAC%3aL%2fAu%3aN%2fC%3aP%2fI%3aP%2fA%3aP%29)</td>\n",
       "      <td>.</td>\n",
       "    </tr>\n",
       "    <tr>\n",
       "      <th>3</th>\n",
       "      <td>1421927417</td>\n",
       "      <td>1421927417</td>\n",
       "      <td>Exploits</td>\n",
       "      <td>Miscellaneous Batch</td>\n",
       "      <td>tcp</td>\n",
       "      <td>175.45.176.2</td>\n",
       "      <td>13792</td>\n",
       "      <td>149.171.126.16</td>\n",
       "      <td>5555</td>\n",
       "      <td>HP Data Protector Backup (https://strikecenter.bpointsys.com/bps/strikes/exploits/misc/cve_2011_1729.xml)</td>\n",
       "      <td>CVE 2011-1729 (http://cve.mitre.org/cgi-bin/cvename.cgi?name=2011%2d1729)BID 47638 (http://www.securityfocus.com/bid/47638)OSVDB 72188 (http://www.osvdb.org/72188)CVSS-Critical (https://strikecenter.bpointsys.com/bps/reference/CVSS/10.0%20%28AV%3aN%2fAC%3aL%2fAu%3aN%2fC%3aC%2fI%3aC%2fA%3aC%29)</td>\n",
       "      <td>.</td>\n",
       "    </tr>\n",
       "    <tr>\n",
       "      <th>4</th>\n",
       "      <td>1421927418</td>\n",
       "      <td>1421927418</td>\n",
       "      <td>Exploits</td>\n",
       "      <td>Cisco IOS</td>\n",
       "      <td>tcp</td>\n",
       "      <td>175.45.176.2</td>\n",
       "      <td>26939</td>\n",
       "      <td>149.171.126.10</td>\n",
       "      <td>80</td>\n",
       "      <td>Cisco IOS HTTP Authentication Bypass Level 64 (https://strikecenter.bpointsys.com/bps/strikes/exploits/ios/cisco_auth_bypass_level_64.xml)</td>\n",
       "      <td>CVE 2001-0537 (http://cve.mitre.org/cgi-bin/cvename.cgi?name=2001%2d0537)BID 2936 (http://www.securityfocus.com/bid/2936)OSVDB 578 (http://www.osvdb.org/578)CVSS-High (https://strikecenter.bpointsys.com/bps/reference/CVSS/9.3%20%28AV%3aN%2fAC%3aM%2fAu%3aN%2fC%3aC%2fI%3aC%2fA%3aC%29)</td>\n",
       "      <td>.</td>\n",
       "    </tr>\n",
       "  </tbody>\n",
       "</table>\n",
       "</div>"
      ],
      "text/plain": [
       "   start_time   last_time attack_category   attack_subcategory protocol   \n",
       "0  1421927414  1421927416  Reconnaissance                 HTTP      tcp  \\\n",
       "1  1421927415  1421927415        Exploits     Unix 'r' Service      udp   \n",
       "2  1421927416  1421927416        Exploits              Browser      tcp   \n",
       "3  1421927417  1421927417        Exploits  Miscellaneous Batch      tcp   \n",
       "4  1421927418  1421927418        Exploits           Cisco IOS       tcp   \n",
       "\n",
       "      source_ip  source_port  destination_ip  destination_port   \n",
       "0  175.45.176.0        13284  149.171.126.16                80  \\\n",
       "1  175.45.176.3        21223  149.171.126.18             32780   \n",
       "2  175.45.176.2        23357  149.171.126.16                80   \n",
       "3  175.45.176.2        13792  149.171.126.16              5555   \n",
       "4  175.45.176.2        26939  149.171.126.10                80   \n",
       "\n",
       "                                                                                                                                          attack_name   \n",
       "0  Domino Web Server Database Access: /doladmin.nsf (https://strikecenter.bpointsys.com/bps/strikes/recon/http/domino/access_domino_doladmin_nsf.xml)  \\\n",
       "1      Solaris rwalld Format String Vulnerability (https://strikecenter.bpointsys.com/bps/strikes/exploits/rservices/solaris_rwall_format_string.xml)   \n",
       "2            Windows Metafile (WMF) SetAbortProc() Code Execution [009] (https://strikecenter.bpointsys.com/bps/strikes/exploits/browser/wmf_009.xml)   \n",
       "3                                           HP Data Protector Backup (https://strikecenter.bpointsys.com/bps/strikes/exploits/misc/cve_2011_1729.xml)   \n",
       "4          Cisco IOS HTTP Authentication Bypass Level 64 (https://strikecenter.bpointsys.com/bps/strikes/exploits/ios/cisco_auth_bypass_level_64.xml)   \n",
       "\n",
       "                                                                                                                                                                                                                                                                                         attack_reference   \n",
       "0                                                                                                                                                                                                                                                                                                       -  \\\n",
       "1                                                 CVE 2002-0573 (http://cve.mitre.org/cgi-bin/cvename.cgi?name=2002%2d0573)BID 4639 (http://www.securityfocus.com/bid/4639)CVSS-High (https://strikecenter.bpointsys.com/bps/reference/CVSS/7.5%20%28AV%3aN%2fAC%3aL%2fAu%3aN%2fC%3aP%2fI%3aP%2fA%3aP%29)   \n",
       "2       CVE 2005-4560 (http://cve.mitre.org/cgi-bin/cvename.cgi?name=2005%2d4560)BID 16074 (http://www.securityfocus.com/bid/16074)OSVDB 21987 (http://www.osvdb.org/21987)CVSS-High (https://strikecenter.bpointsys.com/bps/reference/CVSS/7.5%20%28AV%3aN%2fAC%3aL%2fAu%3aN%2fC%3aP%2fI%3aP%2fA%3aP%29)   \n",
       "3  CVE 2011-1729 (http://cve.mitre.org/cgi-bin/cvename.cgi?name=2011%2d1729)BID 47638 (http://www.securityfocus.com/bid/47638)OSVDB 72188 (http://www.osvdb.org/72188)CVSS-Critical (https://strikecenter.bpointsys.com/bps/reference/CVSS/10.0%20%28AV%3aN%2fAC%3aL%2fAu%3aN%2fC%3aC%2fI%3aC%2fA%3aC%29)   \n",
       "4             CVE 2001-0537 (http://cve.mitre.org/cgi-bin/cvename.cgi?name=2001%2d0537)BID 2936 (http://www.securityfocus.com/bid/2936)OSVDB 578 (http://www.osvdb.org/578)CVSS-High (https://strikecenter.bpointsys.com/bps/reference/CVSS/9.3%20%28AV%3aN%2fAC%3aM%2fAu%3aN%2fC%3aC%2fI%3aC%2fA%3aC%29)   \n",
       "\n",
       "   .  \n",
       "0  .  \n",
       "1  .  \n",
       "2  .  \n",
       "3  .  \n",
       "4  .  "
      ]
     },
     "execution_count": 12,
     "metadata": {},
     "output_type": "execute_result"
    }
   ],
   "source": [
    "gt = gt.rename(columns={colname: clean_colname(colname) for colname in gt.columns})\n",
    "gt.info(memory_usage='deep')\n",
    "gt.head()"
   ]
  },
  {
   "cell_type": "code",
   "execution_count": 13,
   "metadata": {},
   "outputs": [
    {
     "name": "stdout",
     "output_type": "stream",
     "text": [
      "<class 'pandas.core.frame.DataFrame'>\n",
      "RangeIndex: 174347 entries, 0 to 174346\n",
      "Data columns (total 12 columns):\n",
      " #   Column              Non-Null Count   Dtype   \n",
      "---  ------              --------------   -----   \n",
      " 0   start_time          174347 non-null  int32   \n",
      " 1   last_time           174347 non-null  int32   \n",
      " 2   attack_category     174347 non-null  category\n",
      " 3   attack_subcategory  170250 non-null  category\n",
      " 4   protocol            174347 non-null  category\n",
      " 5   source_ip           174347 non-null  category\n",
      " 6   source_port         174347 non-null  int32   \n",
      " 7   destination_ip      174347 non-null  category\n",
      " 8   destination_port    174347 non-null  int32   \n",
      " 9   attack_name         174346 non-null  category\n",
      " 10  attack_reference    123709 non-null  category\n",
      " 11  .                   174347 non-null  category\n",
      "dtypes: category(8), int32(4)\n",
      "memory usage: 11.8 MB\n"
     ]
    }
   ],
   "source": [
    "## memory optimization with fast.ai\n",
    "gt = df_shrink(gt)\n",
    "gt.info(memory_usage='deep')"
   ]
  },
  {
   "attachments": {},
   "cell_type": "markdown",
   "metadata": {},
   "source": [
    "### Merging original & gt dataset"
   ]
  },
  {
   "cell_type": "code",
   "execution_count": 14,
   "metadata": {},
   "outputs": [],
   "source": [
    "unsw_labeled = pd.merge(origin, gt, how='left', on=['source_ip', 'destination_ip', 'source_port', 'destination_port'])[\n",
    "                ['source_ip', 'destination_ip', 'source_port', 'destination_port', 'info_message', 'attack_category']\n",
    "                ]\n",
    "unsw_labeled['is_malware'] = np.where(unsw_labeled['attack_category'].isnull(), 0, 1)"
   ]
  },
  {
   "cell_type": "code",
   "execution_count": 15,
   "metadata": {},
   "outputs": [],
   "source": [
    "unsw_labeled['is_malware'] = np.where(unsw_labeled['attack_category'].isnull(), 0, 1)"
   ]
  },
  {
   "cell_type": "code",
   "execution_count": 16,
   "metadata": {},
   "outputs": [
    {
     "data": {
      "text/html": [
       "<div>\n",
       "<style scoped>\n",
       "    .dataframe tbody tr th:only-of-type {\n",
       "        vertical-align: middle;\n",
       "    }\n",
       "\n",
       "    .dataframe tbody tr th {\n",
       "        vertical-align: top;\n",
       "    }\n",
       "\n",
       "    .dataframe thead th {\n",
       "        text-align: right;\n",
       "    }\n",
       "</style>\n",
       "<table border=\"1\" class=\"dataframe\">\n",
       "  <thead>\n",
       "    <tr style=\"text-align: right;\">\n",
       "      <th></th>\n",
       "      <th>source_ip</th>\n",
       "      <th>destination_ip</th>\n",
       "      <th>source_port</th>\n",
       "      <th>destination_port</th>\n",
       "      <th>info_message</th>\n",
       "      <th>attack_category</th>\n",
       "      <th>is_malware</th>\n",
       "    </tr>\n",
       "  </thead>\n",
       "  <tbody>\n",
       "    <tr>\n",
       "      <th>0</th>\n",
       "      <td>149.171.126.18</td>\n",
       "      <td>175.45.176.1</td>\n",
       "      <td>80</td>\n",
       "      <td>4657</td>\n",
       "      <td>HTTP/1.1 200 OK [Malformed Packet]</td>\n",
       "      <td>NaN</td>\n",
       "      <td>0</td>\n",
       "    </tr>\n",
       "    <tr>\n",
       "      <th>1</th>\n",
       "      <td>175.45.176.1</td>\n",
       "      <td>149.171.126.18</td>\n",
       "      <td>4657</td>\n",
       "      <td>80</td>\n",
       "      <td>GET /oKmwKoVbq HTTP/1.1</td>\n",
       "      <td>NaN</td>\n",
       "      <td>0</td>\n",
       "    </tr>\n",
       "    <tr>\n",
       "      <th>2</th>\n",
       "      <td>175.45.176.3</td>\n",
       "      <td>149.171.126.18</td>\n",
       "      <td>32473</td>\n",
       "      <td>80</td>\n",
       "      <td>GET /level/15/exec/-/buffers/assigned/dump HTTP/1.1</td>\n",
       "      <td>NaN</td>\n",
       "      <td>0</td>\n",
       "    </tr>\n",
       "    <tr>\n",
       "      <th>3</th>\n",
       "      <td>175.45.176.2</td>\n",
       "      <td>149.171.126.19</td>\n",
       "      <td>59386</td>\n",
       "      <td>8020</td>\n",
       "      <td>POST /HttpFileUpload/FileUploadController.do HTTP/1.1</td>\n",
       "      <td>NaN</td>\n",
       "      <td>0</td>\n",
       "    </tr>\n",
       "    <tr>\n",
       "      <th>4</th>\n",
       "      <td>149.171.126.14</td>\n",
       "      <td>175.45.176.0</td>\n",
       "      <td>80</td>\n",
       "      <td>21873</td>\n",
       "      <td>[TCP ACKed unseen segment] HTTP/1.1 200 OK  (text/html)</td>\n",
       "      <td>NaN</td>\n",
       "      <td>0</td>\n",
       "    </tr>\n",
       "  </tbody>\n",
       "</table>\n",
       "</div>"
      ],
      "text/plain": [
       "        source_ip  destination_ip  source_port  destination_port   \n",
       "0  149.171.126.18    175.45.176.1           80              4657  \\\n",
       "1    175.45.176.1  149.171.126.18         4657                80   \n",
       "2    175.45.176.3  149.171.126.18        32473                80   \n",
       "3    175.45.176.2  149.171.126.19        59386              8020   \n",
       "4  149.171.126.14    175.45.176.0           80             21873   \n",
       "\n",
       "                                              info_message attack_category   \n",
       "0                       HTTP/1.1 200 OK [Malformed Packet]             NaN  \\\n",
       "1                                 GET /oKmwKoVbq HTTP/1.1              NaN   \n",
       "2     GET /level/15/exec/-/buffers/assigned/dump HTTP/1.1              NaN   \n",
       "3   POST /HttpFileUpload/FileUploadController.do HTTP/1.1              NaN   \n",
       "4  [TCP ACKed unseen segment] HTTP/1.1 200 OK  (text/html)             NaN   \n",
       "\n",
       "   is_malware  \n",
       "0           0  \n",
       "1           0  \n",
       "2           0  \n",
       "3           0  \n",
       "4           0  "
      ]
     },
     "execution_count": 16,
     "metadata": {},
     "output_type": "execute_result"
    }
   ],
   "source": [
    "unsw_labeled.head()"
   ]
  },
  {
   "cell_type": "code",
   "execution_count": 17,
   "metadata": {},
   "outputs": [
    {
     "data": {
      "image/png": "[encoded data removed]",
      "text/plain": [
       "<Figure size 432x288 with 1 Axes>"
      ]
     },
     "metadata": {
      "needs_background": "light"
     },
     "output_type": "display_data"
    }
   ],
   "source": [
    "unsw_labeled.is_malware.value_counts().plot(kind='bar', title='Malware vs Benign')\n",
    "plt.xlabel('is_malware')\n",
    "plt.ylabel('count')\n",
    "value_counts = unsw_labeled.is_malware.value_counts()\n",
    "for i, count in enumerate(value_counts):\n",
    "    plt.text(i, count, str(count), ha='center', va='bottom')\n",
    "plt.show()"
   ]
  },
  {
   "cell_type": "code",
   "execution_count": 19,
   "metadata": {},
   "outputs": [],
   "source": [
    "# create new columns for graph modeling\n",
    "unsw_labeled['source_ip_info'] = unsw_labeled['source_ip'].astype(str) + ' ' + unsw_labeled['info_message'].astype(str)\n",
    "unsw_labeled['source_ip_info'] = unsw_labeled['source_ip_info'].astype(str)\n",
    "unsw_labeled['source_port_info'] = unsw_labeled['source_port'].astype(str) + ' ' + unsw_labeled['info_message'].astype(str)\n",
    "unsw_labeled['source_port_info'] = unsw_labeled['source_port_info'].astype(str)\n",
    "unsw_labeled['dest_ip_info'] = unsw_labeled['destination_ip'].astype(str) + ' ' + unsw_labeled['info_message']\n",
    "unsw_labeled['dest_ip_info'] = unsw_labeled['dest_ip_info'].astype(str)\n",
    "unsw_labeled['dest_port_info'] = unsw_labeled['destination_port'].astype(str) + ' ' + unsw_labeled['info_message']\n",
    "unsw_labeled['dest_port_info'] = unsw_labeled['dest_port_info'].astype(str)"
   ]
  },
  {
   "attachments": {},
   "cell_type": "markdown",
   "metadata": {},
   "source": [
    "## Data Cleaning"
   ]
  },
  {
   "cell_type": "code",
   "execution_count": 24,
   "metadata": {},
   "outputs": [],
   "source": [
    "unsw_labeled = unsw_labeled[unsw_labeled['destination_port'] == '80']"
   ]
  },
  {
   "cell_type": "code",
   "execution_count": 63,
   "metadata": {},
   "outputs": [],
   "source": [
    "list_of_words = [\"GET\", \"HTTP\"]\n",
    "unsw_labeled = unsw_labeled[unsw_labeled['info_message'].str.contains('|'.join(list_of_words))]"
   ]
  },
  {
   "cell_type": "code",
   "execution_count": 64,
   "metadata": {},
   "outputs": [
    {
     "data": {
      "image/png": "[encoded data removed]",
      "text/plain": [
       "<Figure size 432x288 with 1 Axes>"
      ]
     },
     "metadata": {
      "needs_background": "light"
     },
     "output_type": "display_data"
    }
   ],
   "source": [
    "unsw_labeled.is_malware.value_counts().plot(kind='bar', title='Malware vs Benign')\n",
    "plt.xlabel('is_malware')\n",
    "plt.ylabel('count')\n",
    "value_counts = unsw_labeled.is_malware.value_counts()\n",
    "for i, count in enumerate(value_counts):\n",
    "    plt.text(i, count, str(count), ha='center', va='bottom')\n",
    "plt.show()"
   ]
  },
  {
   "cell_type": "code",
   "execution_count": null,
   "metadata": {},
   "outputs": [],
   "source": [
    "def make_conad_model(train_graph, train_node_features, \n",
    "                        label_train):\n",
    "    \n",
    "    train_node_features = torch.tensor(train_node_features)\n",
    "    label_train = torch.tensor(label_train)\n",
    "\n",
    "    pyG_train = from_networkx(train_graph)\n",
    "    pyG_train = pyG_train.cpu()\n",
    "    pyG_train.x = train_node_features.cpu()\n",
    "    label_train = label_train.cpu()\n",
    "\n",
    "    conad_model = CONAD(hid_dim=10, num_layers=16, \n",
    "                        lr=0.001, weight_decay= 1, contamination=0.37,\n",
    "                        epoch=100, gpu=-1,  \n",
    "                        weight=1, dropout=0.2, verbose=3)\n",
    "    conad_compile = conad_model.fit(pyG_train, label_train)\n",
    "\n",
    "    return conad_compile"
   ]
  },
  {
   "cell_type": "code",
   "execution_count": null,
   "metadata": {},
   "outputs": [],
   "source": [
    "def predict_conad(conda_compile, test_graph, test_node_features, label_test):\n",
    "    \n",
    "    test_node_features = torch.tensor(test_node_features)\n",
    "    label_test = torch.tensor(label_test)\n",
    "\n",
    "    pyG_test = from_networkx(test_graph)\n",
    "    pyG_test = pyG_test\n",
    "    pyG_test.x = test_node_features\n",
    "    \n",
    "    conad_ip_pred_res, conad_ip_score_res = conda_compile.predict(data=pyG_test, label = label_test, return_pred=True, return_score=True, prob_method='linear', )\n",
    "    f1_score_pygod = eval_f1(label_test, conad_ip_pred_res)\n",
    "    precision = eval_precision_at_k(label_test, conad_ip_score_res)\n",
    "    recall = eval_recall_at_k(label_test, conad_ip_score_res)\n",
    "    f1_score = 2*(precision*recall)/(precision+recall)\n",
    "    \n",
    "    unique_values, counts = torch.unique(conad_ip_pred_res, return_counts=True)\n",
    "    print(unique_values, counts)\n",
    "    \n",
    "    print(\"F1 score: \", f1_score)\n",
    "    print(\"Precision: \", precision)\n",
    "    print(\"Recall: \", recall)\n",
    "    print(\"F1 score pygod: \", f1_score_pygod)\n",
    "    return f1_score_pygod, precision, recall"
   ]
  },
  {
   "cell_type": "code",
   "execution_count": null,
   "metadata": {},
   "outputs": [
    {
     "name": "stdout",
     "output_type": "stream",
     "text": [
      "Epoch 0000: Loss 37.5968 | AUC 0.7805 | Recall 0.6532 | Precision 0.6532 | AP 0.6571 | F1 0.6532 | Time 8.91\n",
      "Epoch 0001: Loss 37.5945 | AUC 0.7805 | Recall 0.6521 | Precision 0.6521 | AP 0.6570 | F1 0.6521 | Time 8.62\n",
      "Epoch 0002: Loss 37.5923 | AUC 0.7808 | Recall 0.6532 | Precision 0.6532 | AP 0.6574 | F1 0.6532 | Time 6.91\n",
      "Epoch 0003: Loss 37.5907 | AUC 0.7807 | Recall 0.6540 | Precision 0.6540 | AP 0.6573 | F1 0.6540 | Time 7.60\n",
      "Epoch 0004: Loss 37.5878 | AUC 0.7810 | Recall 0.6538 | Precision 0.6538 | AP 0.6574 | F1 0.6538 | Time 6.55\n",
      "Epoch 0005: Loss 37.5842 | AUC 0.7817 | Recall 0.6549 | Precision 0.6549 | AP 0.6580 | F1 0.6549 | Time 7.04\n",
      "Epoch 0006: Loss 37.5851 | AUC 0.7819 | Recall 0.6555 | Precision 0.6555 | AP 0.6583 | F1 0.6555 | Time 5.68\n",
      "Epoch 0007: Loss 37.5827 | AUC 0.7820 | Recall 0.6543 | Precision 0.6543 | AP 0.6582 | F1 0.6543 | Time 6.49\n",
      "Epoch 0008: Loss 37.5815 | AUC 0.7821 | Recall 0.6555 | Precision 0.6555 | AP 0.6583 | F1 0.6555 | Time 6.45\n",
      "Epoch 0009: Loss 37.5794 | AUC 0.7824 | Recall 0.6551 | Precision 0.6551 | AP 0.6585 | F1 0.6551 | Time 6.64\n",
      "Epoch 0010: Loss 37.5778 | AUC 0.7827 | Recall 0.6560 | Precision 0.6560 | AP 0.6587 | F1 0.6560 | Time 6.87\n",
      "Epoch 0011: Loss 37.5760 | AUC 0.7834 | Recall 0.6573 | Precision 0.6573 | AP 0.6593 | F1 0.6573 | Time 5.97\n",
      "Epoch 0012: Loss 37.5722 | AUC 0.7832 | Recall 0.6577 | Precision 0.6577 | AP 0.6592 | F1 0.6577 | Time 5.86\n",
      "Epoch 0013: Loss 37.5707 | AUC 0.7832 | Recall 0.6558 | Precision 0.6558 | AP 0.6591 | F1 0.6558 | Time 5.59\n",
      "Epoch 0014: Loss 37.5694 | AUC 0.7829 | Recall 0.6566 | Precision 0.6566 | AP 0.6589 | F1 0.6566 | Time 6.50\n",
      "Epoch 0015: Loss 37.5677 | AUC 0.7845 | Recall 0.6579 | Precision 0.6579 | AP 0.6602 | F1 0.6579 | Time 5.42\n",
      "Epoch 0016: Loss 37.5657 | AUC 0.7843 | Recall 0.6579 | Precision 0.6579 | AP 0.6599 | F1 0.6579 | Time 5.80\n",
      "Epoch 0017: Loss 37.5632 | AUC 0.7833 | Recall 0.6560 | Precision 0.6560 | AP 0.6592 | F1 0.6560 | Time 5.80\n",
      "Epoch 0018: Loss 37.5619 | AUC 0.7842 | Recall 0.6573 | Precision 0.6573 | AP 0.6599 | F1 0.6573 | Time 6.36\n",
      "Epoch 0019: Loss 37.5612 | AUC 0.7848 | Recall 0.6586 | Precision 0.6586 | AP 0.6604 | F1 0.6586 | Time 7.39\n",
      "Epoch 0020: Loss 37.5590 | AUC 0.7847 | Recall 0.6581 | Precision 0.6581 | AP 0.6602 | F1 0.6581 | Time 6.72\n",
      "Epoch 0021: Loss 37.5566 | AUC 0.7841 | Recall 0.6579 | Precision 0.6579 | AP 0.6599 | F1 0.6579 | Time 5.39\n",
      "Epoch 0022: Loss 37.5541 | AUC 0.7841 | Recall 0.6566 | Precision 0.6566 | AP 0.6598 | F1 0.6566 | Time 4.95\n",
      "Epoch 0023: Loss 37.5526 | AUC 0.7856 | Recall 0.6584 | Precision 0.6584 | AP 0.6608 | F1 0.6584 | Time 5.70\n",
      "Epoch 0024: Loss 37.5505 | AUC 0.7844 | Recall 0.6562 | Precision 0.6562 | AP 0.6598 | F1 0.6563 | Time 5.96\n",
      "Epoch 0025: Loss 37.5473 | AUC 0.7853 | Recall 0.6581 | Precision 0.6581 | AP 0.6607 | F1 0.6581 | Time 5.17\n",
      "Epoch 0026: Loss 37.5463 | AUC 0.7856 | Recall 0.6590 | Precision 0.6590 | AP 0.6609 | F1 0.6590 | Time 4.82\n",
      "Epoch 0027: Loss 37.5432 | AUC 0.7852 | Recall 0.6584 | Precision 0.6584 | AP 0.6607 | F1 0.6584 | Time 6.22\n",
      "Epoch 0028: Loss 37.5420 | AUC 0.7861 | Recall 0.6581 | Precision 0.6581 | AP 0.6612 | F1 0.6581 | Time 5.19\n",
      "Epoch 0029: Loss 37.5414 | AUC 0.7858 | Recall 0.6597 | Precision 0.6597 | AP 0.6611 | F1 0.6597 | Time 4.78\n",
      "Epoch 0030: Loss 37.5410 | AUC 0.7861 | Recall 0.6592 | Precision 0.6592 | AP 0.6612 | F1 0.6592 | Time 5.76\n",
      "Epoch 0031: Loss 37.5378 | AUC 0.7862 | Recall 0.6595 | Precision 0.6595 | AP 0.6613 | F1 0.6595 | Time 5.63\n",
      "Epoch 0032: Loss 37.5334 | AUC 0.7856 | Recall 0.6584 | Precision 0.6584 | AP 0.6608 | F1 0.6584 | Time 4.87\n",
      "Epoch 0033: Loss 37.5344 | AUC 0.7858 | Recall 0.6597 | Precision 0.6597 | AP 0.6610 | F1 0.6597 | Time 4.78\n",
      "Epoch 0034: Loss 37.5311 | AUC 0.7863 | Recall 0.6610 | Precision 0.6610 | AP 0.6615 | F1 0.6610 | Time 4.77\n",
      "Epoch 0035: Loss 37.5303 | AUC 0.7858 | Recall 0.6594 | Precision 0.6594 | AP 0.6611 | F1 0.6594 | Time 4.75\n",
      "Epoch 0036: Loss 37.5296 | AUC 0.7861 | Recall 0.6586 | Precision 0.6586 | AP 0.6612 | F1 0.6586 | Time 4.81\n",
      "Epoch 0037: Loss 37.5258 | AUC 0.7859 | Recall 0.6592 | Precision 0.6592 | AP 0.6611 | F1 0.6592 | Time 4.80\n",
      "Epoch 0038: Loss 37.5264 | AUC 0.7859 | Recall 0.6584 | Precision 0.6584 | AP 0.6610 | F1 0.6584 | Time 4.94\n",
      "Epoch 0039: Loss 37.5256 | AUC 0.7866 | Recall 0.6608 | Precision 0.6608 | AP 0.6616 | F1 0.6608 | Time 6.43\n",
      "Epoch 0040: Loss 37.5216 | AUC 0.7862 | Recall 0.6597 | Precision 0.6597 | AP 0.6614 | F1 0.6597 | Time 6.72\n",
      "Epoch 0041: Loss 37.5211 | AUC 0.7857 | Recall 0.6586 | Precision 0.6586 | AP 0.6610 | F1 0.6586 | Time 5.26\n",
      "Epoch 0042: Loss 37.5186 | AUC 0.7862 | Recall 0.6595 | Precision 0.6595 | AP 0.6615 | F1 0.6596 | Time 5.71\n",
      "Epoch 0043: Loss 37.5173 | AUC 0.7861 | Recall 0.6582 | Precision 0.6582 | AP 0.6612 | F1 0.6583 | Time 5.89\n",
      "Epoch 0044: Loss 37.5149 | AUC 0.7865 | Recall 0.6594 | Precision 0.6594 | AP 0.6615 | F1 0.6594 | Time 5.38\n",
      "Epoch 0045: Loss 37.5159 | AUC 0.7860 | Recall 0.6590 | Precision 0.6590 | AP 0.6610 | F1 0.6590 | Time 6.32\n",
      "Epoch 0046: Loss 37.5124 | AUC 0.7866 | Recall 0.6618 | Precision 0.6618 | AP 0.6617 | F1 0.6618 | Time 5.83\n",
      "Epoch 0047: Loss 37.5111 | AUC 0.7866 | Recall 0.6605 | Precision 0.6605 | AP 0.6617 | F1 0.6605 | Time 5.93\n",
      "Epoch 0048: Loss 37.5107 | AUC 0.7871 | Recall 0.6612 | Precision 0.6612 | AP 0.6621 | F1 0.6612 | Time 6.41\n",
      "Epoch 0049: Loss 37.5097 | AUC 0.7864 | Recall 0.6603 | Precision 0.6603 | AP 0.6616 | F1 0.6603 | Time 5.76\n",
      "Epoch 0050: Loss 37.5073 | AUC 0.7862 | Recall 0.6577 | Precision 0.6577 | AP 0.6611 | F1 0.6577 | Time 5.97\n",
      "Epoch 0051: Loss 37.5071 | AUC 0.7863 | Recall 0.6601 | Precision 0.6601 | AP 0.6614 | F1 0.6601 | Time 6.37\n",
      "Epoch 0052: Loss 37.5041 | AUC 0.7859 | Recall 0.6581 | Precision 0.6581 | AP 0.6610 | F1 0.6581 | Time 5.61\n",
      "Epoch 0053: Loss 37.5041 | AUC 0.7863 | Recall 0.6594 | Precision 0.6594 | AP 0.6613 | F1 0.6594 | Time 5.93\n",
      "Epoch 0054: Loss 37.5031 | AUC 0.7866 | Recall 0.6614 | Precision 0.6614 | AP 0.6617 | F1 0.6614 | Time 5.13\n",
      "Epoch 0055: Loss 37.5011 | AUC 0.7871 | Recall 0.6620 | Precision 0.6620 | AP 0.6621 | F1 0.6620 | Time 4.85\n",
      "Epoch 0056: Loss 37.4999 | AUC 0.7869 | Recall 0.6614 | Precision 0.6614 | AP 0.6619 | F1 0.6614 | Time 6.89\n",
      "Epoch 0057: Loss 37.4990 | AUC 0.7862 | Recall 0.6599 | Precision 0.6599 | AP 0.6613 | F1 0.6599 | Time 5.65\n",
      "Epoch 0058: Loss 37.4974 | AUC 0.7864 | Recall 0.6594 | Precision 0.6594 | AP 0.6615 | F1 0.6594 | Time 6.51\n",
      "Epoch 0059: Loss 37.4974 | AUC 0.7864 | Recall 0.6597 | Precision 0.6597 | AP 0.6614 | F1 0.6597 | Time 5.51\n",
      "Epoch 0060: Loss 37.4953 | AUC 0.7863 | Recall 0.6601 | Precision 0.6601 | AP 0.6614 | F1 0.6601 | Time 5.55\n",
      "Epoch 0061: Loss 37.4937 | AUC 0.7861 | Recall 0.6579 | Precision 0.6579 | AP 0.6611 | F1 0.6579 | Time 4.85\n",
      "Epoch 0062: Loss 37.4926 | AUC 0.7866 | Recall 0.6599 | Precision 0.6599 | AP 0.6617 | F1 0.6599 | Time 6.03\n",
      "Epoch 0063: Loss 37.4919 | AUC 0.7864 | Recall 0.6605 | Precision 0.6605 | AP 0.6613 | F1 0.6605 | Time 5.85\n",
      "Epoch 0064: Loss 37.4909 | AUC 0.7867 | Recall 0.6597 | Precision 0.6597 | AP 0.6617 | F1 0.6597 | Time 5.82\n",
      "Epoch 0065: Loss 37.4901 | AUC 0.7863 | Recall 0.6584 | Precision 0.6584 | AP 0.6612 | F1 0.6584 | Time 5.95\n",
      "Epoch 0066: Loss 37.4902 | AUC 0.7863 | Recall 0.6607 | Precision 0.6607 | AP 0.6614 | F1 0.6607 | Time 6.23\n",
      "Epoch 0067: Loss 37.4883 | AUC 0.7877 | Recall 0.6634 | Precision 0.6634 | AP 0.6627 | F1 0.6634 | Time 5.52\n",
      "Epoch 0068: Loss 37.4894 | AUC 0.7860 | Recall 0.6581 | Precision 0.6581 | AP 0.6610 | F1 0.6581 | Time 6.21\n",
      "Epoch 0069: Loss 37.4878 | AUC 0.7873 | Recall 0.6618 | Precision 0.6618 | AP 0.6622 | F1 0.6618 | Time 6.60\n",
      "Epoch 0070: Loss 37.4870 | AUC 0.7865 | Recall 0.6605 | Precision 0.6605 | AP 0.6616 | F1 0.6605 | Time 5.39\n",
      "Epoch 0071: Loss 37.4852 | AUC 0.7864 | Recall 0.6592 | Precision 0.6592 | AP 0.6614 | F1 0.6592 | Time 5.99\n",
      "Epoch 0072: Loss 37.4838 | AUC 0.7865 | Recall 0.6584 | Precision 0.6584 | AP 0.6614 | F1 0.6584 | Time 6.08\n",
      "Epoch 0073: Loss 37.4825 | AUC 0.7867 | Recall 0.6590 | Precision 0.6590 | AP 0.6616 | F1 0.6590 | Time 5.27\n",
      "Epoch 0074: Loss 37.4842 | AUC 0.7866 | Recall 0.6601 | Precision 0.6601 | AP 0.6616 | F1 0.6601 | Time 6.17\n",
      "Epoch 0075: Loss 37.4810 | AUC 0.7868 | Recall 0.6599 | Precision 0.6599 | AP 0.6617 | F1 0.6599 | Time 5.79\n",
      "Epoch 0076: Loss 37.4807 | AUC 0.7866 | Recall 0.6608 | Precision 0.6608 | AP 0.6617 | F1 0.6608 | Time 5.46\n",
      "Epoch 0077: Loss 37.4819 | AUC 0.7870 | Recall 0.6586 | Precision 0.6586 | AP 0.6618 | F1 0.6586 | Time 6.38\n",
      "Epoch 0078: Loss 37.4813 | AUC 0.7859 | Recall 0.6579 | Precision 0.6579 | AP 0.6609 | F1 0.6579 | Time 5.72\n",
      "Epoch 0079: Loss 37.4800 | AUC 0.7864 | Recall 0.6582 | Precision 0.6582 | AP 0.6615 | F1 0.6582 | Time 6.01\n",
      "Epoch 0080: Loss 37.4784 | AUC 0.7871 | Recall 0.6607 | Precision 0.6607 | AP 0.6620 | F1 0.6607 | Time 6.28\n",
      "Epoch 0081: Loss 37.4788 | AUC 0.7861 | Recall 0.6582 | Precision 0.6582 | AP 0.6611 | F1 0.6582 | Time 5.40\n",
      "Epoch 0082: Loss 37.4771 | AUC 0.7860 | Recall 0.6584 | Precision 0.6584 | AP 0.6610 | F1 0.6584 | Time 6.25\n",
      "Epoch 0083: Loss 37.4775 | AUC 0.7862 | Recall 0.6569 | Precision 0.6569 | AP 0.6612 | F1 0.6569 | Time 5.78\n",
      "Epoch 0084: Loss 37.4771 | AUC 0.7870 | Recall 0.6605 | Precision 0.6605 | AP 0.6619 | F1 0.6605 | Time 5.56\n",
      "Epoch 0085: Loss 37.4750 | AUC 0.7872 | Recall 0.6614 | Precision 0.6614 | AP 0.6622 | F1 0.6614 | Time 6.05\n",
      "Epoch 0086: Loss 37.4750 | AUC 0.7866 | Recall 0.6594 | Precision 0.6594 | AP 0.6616 | F1 0.6594 | Time 6.77\n",
      "Epoch 0087: Loss 37.4743 | AUC 0.7873 | Recall 0.6612 | Precision 0.6612 | AP 0.6622 | F1 0.6612 | Time 6.06\n",
      "Epoch 0088: Loss 37.4734 | AUC 0.7864 | Recall 0.6601 | Precision 0.6601 | AP 0.6615 | F1 0.6601 | Time 6.80\n",
      "Epoch 0089: Loss 37.4741 | AUC 0.7866 | Recall 0.6594 | Precision 0.6594 | AP 0.6616 | F1 0.6594 | Time 5.71\n",
      "Epoch 0090: Loss 37.4731 | AUC 0.7867 | Recall 0.6592 | Precision 0.6592 | AP 0.6616 | F1 0.6592 | Time 5.73\n",
      "Epoch 0091: Loss 37.4747 | AUC 0.7863 | Recall 0.6582 | Precision 0.6582 | AP 0.6613 | F1 0.6582 | Time 5.85\n",
      "Epoch 0092: Loss 37.4719 | AUC 0.7861 | Recall 0.6584 | Precision 0.6584 | AP 0.6613 | F1 0.6585 | Time 5.61\n",
      "Epoch 0093: Loss 37.4732 | AUC 0.7867 | Recall 0.6597 | Precision 0.6597 | AP 0.6616 | F1 0.6597 | Time 6.58\n",
      "Epoch 0094: Loss 37.4723 | AUC 0.7862 | Recall 0.6584 | Precision 0.6584 | AP 0.6612 | F1 0.6584 | Time 6.88\n",
      "Epoch 0095: Loss 37.4717 | AUC 0.7872 | Recall 0.6618 | Precision 0.6618 | AP 0.6621 | F1 0.6618 | Time 6.03\n",
      "Epoch 0096: Loss 37.4710 | AUC 0.7868 | Recall 0.6608 | Precision 0.6608 | AP 0.6618 | F1 0.6608 | Time 5.66\n",
      "Epoch 0097: Loss 37.4703 | AUC 0.7863 | Recall 0.6584 | Precision 0.6584 | AP 0.6613 | F1 0.6584 | Time 5.77\n",
      "Epoch 0098: Loss 37.4709 | AUC 0.7866 | Recall 0.6599 | Precision 0.6599 | AP 0.6616 | F1 0.6599 | Time 5.47\n",
      "Epoch 0099: Loss 37.4719 | AUC 0.7865 | Recall 0.6590 | Precision 0.6590 | AP 0.6614 | F1 0.6590 | Time 6.32\n",
      "Test: Loss 0.0098 | AUC 0.7915 | Recall 0.6688 | Precision 0.6688 | AP 0.7448 | F1 0.6731 | Time 0.66\n",
      "tensor([0, 1]) tensor([6329, 3196])\n",
      "F1 score:  tensor(0.6688)\n",
      "Precision:  tensor(0.6688)\n",
      "Recall:  tensor(0.6688)\n",
      "F1 score pygod:  0.7549386011745863\n"
     ]
    }
   ],
   "source": [
    "conad_model = make_conad_model(train_graph, train_node_features, label_train)\n",
    "precision_score, recall_score, f1_score = predict_conad(conad_model, test_graph, label_test,  test_node_features)"
   ]
  },
  {
   "cell_type": "code",
   "execution_count": null,
   "metadata": {},
   "outputs": [],
   "source": [
    "def make_anomalydae_model(train_graph, train_node_features, \n",
    "                        label_train):\n",
    "\n",
    "    pyG_train = from_networkx(train_graph)\n",
    "    pyG_train = pyG_train\n",
    "    pyG_train.x = train_node_features\n",
    "    label_train = label_train\n",
    "\n",
    "    anomalydae_model = AnomalyDAE(hid_dim=12, emb_dim=4, \n",
    "                        lr=0.001, contamination=0.37,\n",
    "                        epoch=100, gpu=0,\n",
    "                        weight=1, verbose=3)\n",
    "    anomalydae_compile = anomalydae_model.fit(pyG_train, label_train)\n",
    "\n",
    "    return anomalydae_compile"
   ]
  },
  {
   "cell_type": "code",
   "execution_count": null,
   "metadata": {},
   "outputs": [],
   "source": [
    "def predict_anomalydae(label_test, anomalydae_compile, pyG_test):\n",
    "\n",
    "    test_node_features = torch.tensor(test_node_features)\n",
    "    label_test = torch.tensor(label_test)\n",
    "    \n",
    "    pyG_test = from_networkx(test_graph)\n",
    "    pyG_test = pyG_test\n",
    "    pyG_test.x = test_node_features\n",
    "\n",
    "    anomalydae_ip_pred_res, anomalydae_ip_score_res = anomalydae_compile.predict(data=pyG_test, label = label_test, return_pred=True, return_score=True, prob_method='linear', )\n",
    "    \n",
    "    precision_pygod = eval_precision_at_k(label_test, anomalydae_ip_score_res)\n",
    "    recall_pygod = eval_recall_at_k(label_test, anomalydae_ip_score_res)\n",
    "    f1_score = 2*(precision_pygod*recall_pygod)/(precision_pygod+recall_pygod)\n",
    "    \n",
    "    print(\"F1 score: \", f1_score)\n",
    "    print(\"Precision: \", precision_pygod)\n",
    "    print(\"Recall: \", recall_pygod)\n",
    "    return f1_score, precision_pygod, recall_pygod"
   ]
  },
  {
   "cell_type": "code",
   "execution_count": null,
   "metadata": {},
   "outputs": [
    {
     "name": "stdout",
     "output_type": "stream",
     "text": [
      "Epoch 0000: Loss 6808.8037 | AUC 0.8459 | Recall 0.6921 | Precision 0.6921 | AP 0.7182 | F1 0.6921 | Time 0.97\n",
      "Epoch 0001: Loss 146.2048 | AUC 0.8468 | Recall 0.6967 | Precision 0.6967 | AP 0.7175 | F1 0.6967 | Time 0.68\n",
      "Epoch 0002: Loss 146.1078 | AUC 0.8468 | Recall 0.6967 | Precision 0.6967 | AP 0.7175 | F1 0.6967 | Time 8.99\n",
      "Epoch 0003: Loss 145.8769 | AUC 0.8468 | Recall 0.6967 | Precision 0.6967 | AP 0.7175 | F1 0.6967 | Time 8.63\n",
      "Epoch 0004: Loss 145.5796 | AUC 0.8468 | Recall 0.6967 | Precision 0.6967 | AP 0.7176 | F1 0.6967 | Time 8.81\n",
      "Epoch 0005: Loss 145.2428 | AUC 0.8469 | Recall 0.6967 | Precision 0.6967 | AP 0.7177 | F1 0.6967 | Time 8.70\n",
      "Epoch 0006: Loss 144.8798 | AUC 0.8469 | Recall 0.6967 | Precision 0.6967 | AP 0.7178 | F1 0.6967 | Time 8.75\n",
      "Epoch 0007: Loss 144.4981 | AUC 0.8467 | Recall 0.6967 | Precision 0.6967 | AP 0.7178 | F1 0.6967 | Time 8.73\n",
      "Epoch 0008: Loss 144.1026 | AUC 0.8467 | Recall 0.6965 | Precision 0.6965 | AP 0.7179 | F1 0.6965 | Time 8.77\n",
      "Epoch 0009: Loss 143.6964 | AUC 0.8466 | Recall 0.6965 | Precision 0.6965 | AP 0.7180 | F1 0.6965 | Time 8.54\n",
      "Epoch 0010: Loss 143.2817 | AUC 0.8466 | Recall 0.6963 | Precision 0.6963 | AP 0.7181 | F1 0.6963 | Time 8.64\n",
      "Epoch 0011: Loss 142.8601 | AUC 0.8466 | Recall 0.6962 | Precision 0.6962 | AP 0.7182 | F1 0.6962 | Time 8.45\n",
      "Epoch 0012: Loss 142.4328 | AUC 0.8466 | Recall 0.6962 | Precision 0.6962 | AP 0.7183 | F1 0.6962 | Time 7.97\n",
      "Epoch 0013: Loss 142.0007 | AUC 0.8466 | Recall 0.6962 | Precision 0.6962 | AP 0.7185 | F1 0.6962 | Time 8.71\n",
      "Epoch 0014: Loss 141.5647 | AUC 0.8467 | Recall 0.6962 | Precision 0.6962 | AP 0.7187 | F1 0.6962 | Time 8.66\n",
      "Epoch 0015: Loss 141.1252 | AUC 0.8466 | Recall 0.6962 | Precision 0.6962 | AP 0.7187 | F1 0.6962 | Time 8.64\n",
      "Epoch 0016: Loss 140.6828 | AUC 0.8466 | Recall 0.6962 | Precision 0.6962 | AP 0.7188 | F1 0.6962 | Time 8.74\n",
      "Epoch 0017: Loss 140.2378 | AUC 0.8465 | Recall 0.6962 | Precision 0.6962 | AP 0.7188 | F1 0.6962 | Time 8.75\n",
      "Epoch 0018: Loss 139.7905 | AUC 0.8463 | Recall 0.6962 | Precision 0.6962 | AP 0.7188 | F1 0.6962 | Time 8.69\n",
      "Epoch 0019: Loss 139.3413 | AUC 0.8463 | Recall 0.6960 | Precision 0.6960 | AP 0.7189 | F1 0.6960 | Time 8.64\n",
      "Epoch 0020: Loss 138.8904 | AUC 0.8460 | Recall 0.6960 | Precision 0.6960 | AP 0.7188 | F1 0.6960 | Time 8.81\n",
      "Epoch 0021: Loss 138.4380 | AUC 0.8459 | Recall 0.6950 | Precision 0.6950 | AP 0.7187 | F1 0.6950 | Time 8.61\n",
      "Epoch 0022: Loss 137.9842 | AUC 0.8459 | Recall 0.6949 | Precision 0.6949 | AP 0.7188 | F1 0.6949 | Time 8.63\n",
      "Epoch 0023: Loss 137.5292 | AUC 0.8458 | Recall 0.6949 | Precision 0.6949 | AP 0.7189 | F1 0.6949 | Time 8.69\n",
      "Epoch 0024: Loss 137.0732 | AUC 0.8458 | Recall 0.6947 | Precision 0.6947 | AP 0.7190 | F1 0.6947 | Time 8.69\n",
      "Epoch 0025: Loss 136.6162 | AUC 0.8456 | Recall 0.6947 | Precision 0.6947 | AP 0.7189 | F1 0.6947 | Time 8.71\n",
      "Epoch 0026: Loss 136.1584 | AUC 0.8454 | Recall 0.6945 | Precision 0.6945 | AP 0.7189 | F1 0.6945 | Time 8.55\n",
      "Epoch 0027: Loss 135.6998 | AUC 0.8453 | Recall 0.6945 | Precision 0.6945 | AP 0.7189 | F1 0.6944 | Time 8.73\n",
      "Epoch 0028: Loss 135.2407 | AUC 0.8451 | Recall 0.6945 | Precision 0.6945 | AP 0.7189 | F1 0.6945 | Time 8.67\n",
      "Epoch 0029: Loss 134.7809 | AUC 0.8450 | Recall 0.6945 | Precision 0.6945 | AP 0.7190 | F1 0.6945 | Time 8.64\n",
      "Epoch 0030: Loss 134.3206 | AUC 0.8450 | Recall 0.6945 | Precision 0.6945 | AP 0.7191 | F1 0.6945 | Time 8.75\n",
      "Epoch 0031: Loss 133.8599 | AUC 0.8451 | Recall 0.6945 | Precision 0.6945 | AP 0.7194 | F1 0.6945 | Time 8.69\n",
      "Epoch 0032: Loss 133.3988 | AUC 0.8452 | Recall 0.6945 | Precision 0.6945 | AP 0.7196 | F1 0.6945 | Time 8.78\n",
      "Epoch 0033: Loss 132.9373 | AUC 0.8452 | Recall 0.6945 | Precision 0.6945 | AP 0.7198 | F1 0.6945 | Time 8.59\n",
      "Epoch 0034: Loss 132.4755 | AUC 0.8452 | Recall 0.6941 | Precision 0.6941 | AP 0.7199 | F1 0.6941 | Time 8.67\n",
      "Epoch 0035: Loss 132.0135 | AUC 0.8452 | Recall 0.6937 | Precision 0.6937 | AP 0.7201 | F1 0.6937 | Time 8.72\n",
      "Epoch 0036: Loss 131.5513 | AUC 0.8452 | Recall 0.6936 | Precision 0.6936 | AP 0.7203 | F1 0.6936 | Time 8.65\n",
      "Epoch 0037: Loss 131.0889 | AUC 0.8452 | Recall 0.6936 | Precision 0.6936 | AP 0.7204 | F1 0.6936 | Time 8.73\n",
      "Epoch 0038: Loss 130.6263 | AUC 0.8451 | Recall 0.6932 | Precision 0.6932 | AP 0.7205 | F1 0.6932 | Time 8.70\n",
      "Epoch 0039: Loss 130.1636 | AUC 0.8451 | Recall 0.6932 | Precision 0.6932 | AP 0.7206 | F1 0.6932 | Time 8.62\n",
      "Epoch 0040: Loss 129.7008 | AUC 0.8451 | Recall 0.6932 | Precision 0.6932 | AP 0.7207 | F1 0.6932 | Time 8.63\n",
      "Epoch 0041: Loss 129.2379 | AUC 0.8451 | Recall 0.6932 | Precision 0.6932 | AP 0.7208 | F1 0.6932 | Time 8.73\n",
      "Epoch 0042: Loss 128.7750 | AUC 0.8451 | Recall 0.6930 | Precision 0.6930 | AP 0.7210 | F1 0.6930 | Time 8.61\n",
      "Epoch 0043: Loss 128.3120 | AUC 0.8451 | Recall 0.6930 | Precision 0.6930 | AP 0.7211 | F1 0.6930 | Time 8.73\n",
      "Epoch 0044: Loss 127.8490 | AUC 0.8451 | Recall 0.6928 | Precision 0.6928 | AP 0.7212 | F1 0.6927 | Time 8.72\n",
      "Epoch 0045: Loss 127.3861 | AUC 0.8449 | Recall 0.6924 | Precision 0.6924 | AP 0.7212 | F1 0.6924 | Time 8.63\n",
      "Epoch 0046: Loss 126.9231 | AUC 0.8448 | Recall 0.6919 | Precision 0.6919 | AP 0.7213 | F1 0.6919 | Time 8.59\n",
      "Epoch 0047: Loss 126.4602 | AUC 0.8447 | Recall 0.6915 | Precision 0.6915 | AP 0.7214 | F1 0.6915 | Time 8.72\n",
      "Epoch 0048: Loss 125.9974 | AUC 0.8448 | Recall 0.6915 | Precision 0.6915 | AP 0.7215 | F1 0.6915 | Time 8.65\n",
      "Epoch 0049: Loss 125.5346 | AUC 0.8447 | Recall 0.6915 | Precision 0.6915 | AP 0.7217 | F1 0.6914 | Time 8.50\n",
      "Epoch 0050: Loss 125.0719 | AUC 0.8447 | Recall 0.6913 | Precision 0.6913 | AP 0.7219 | F1 0.6913 | Time 8.82\n",
      "Epoch 0051: Loss 124.6092 | AUC 0.8446 | Recall 0.6911 | Precision 0.6911 | AP 0.7220 | F1 0.6911 | Time 8.58\n",
      "Epoch 0052: Loss 124.1467 | AUC 0.8443 | Recall 0.6911 | Precision 0.6911 | AP 0.7222 | F1 0.6911 | Time 8.67\n",
      "Epoch 0053: Loss 123.6842 | AUC 0.8441 | Recall 0.6911 | Precision 0.6911 | AP 0.7223 | F1 0.6910 | Time 8.61\n",
      "Epoch 0054: Loss 123.2219 | AUC 0.8441 | Recall 0.6909 | Precision 0.6909 | AP 0.7225 | F1 0.6909 | Time 8.66\n",
      "Epoch 0055: Loss 122.7597 | AUC 0.8440 | Recall 0.6906 | Precision 0.6906 | AP 0.7226 | F1 0.6906 | Time 8.71\n",
      "Epoch 0056: Loss 122.2977 | AUC 0.8439 | Recall 0.6898 | Precision 0.6898 | AP 0.7228 | F1 0.6898 | Time 8.63\n",
      "Epoch 0057: Loss 121.8357 | AUC 0.8437 | Recall 0.6893 | Precision 0.6893 | AP 0.7228 | F1 0.6893 | Time 8.84\n",
      "Epoch 0058: Loss 121.3739 | AUC 0.8436 | Recall 0.6885 | Precision 0.6885 | AP 0.7228 | F1 0.6885 | Time 8.49\n",
      "Epoch 0059: Loss 120.9122 | AUC 0.8432 | Recall 0.6883 | Precision 0.6883 | AP 0.7226 | F1 0.6883 | Time 8.43\n",
      "Epoch 0060: Loss 120.4507 | AUC 0.8428 | Recall 0.6882 | Precision 0.6882 | AP 0.7224 | F1 0.6882 | Time 8.72\n",
      "Epoch 0061: Loss 119.9893 | AUC 0.8424 | Recall 0.6882 | Precision 0.6882 | AP 0.7221 | F1 0.6882 | Time 8.72\n",
      "Epoch 0062: Loss 119.5281 | AUC 0.8414 | Recall 0.6882 | Precision 0.6882 | AP 0.7215 | F1 0.6882 | Time 8.63\n",
      "Epoch 0063: Loss 119.0670 | AUC 0.8409 | Recall 0.6880 | Precision 0.6880 | AP 0.7213 | F1 0.6880 | Time 8.69\n",
      "Epoch 0064: Loss 118.6061 | AUC 0.8405 | Recall 0.6878 | Precision 0.6878 | AP 0.7211 | F1 0.6878 | Time 8.69\n",
      "Epoch 0065: Loss 118.1453 | AUC 0.8404 | Recall 0.6874 | Precision 0.6874 | AP 0.7212 | F1 0.6874 | Time 8.63\n",
      "Epoch 0066: Loss 117.6848 | AUC 0.8404 | Recall 0.6869 | Precision 0.6869 | AP 0.7214 | F1 0.6869 | Time 8.59\n",
      "Epoch 0067: Loss 117.2243 | AUC 0.8404 | Recall 0.6865 | Precision 0.6865 | AP 0.7216 | F1 0.6865 | Time 8.57\n",
      "Epoch 0068: Loss 116.7640 | AUC 0.8399 | Recall 0.6863 | Precision 0.6863 | AP 0.7215 | F1 0.6863 | Time 8.64\n",
      "Epoch 0069: Loss 116.3039 | AUC 0.8397 | Recall 0.6863 | Precision 0.6863 | AP 0.7217 | F1 0.6862 | Time 8.32\n",
      "Epoch 0070: Loss 115.8440 | AUC 0.8397 | Recall 0.6863 | Precision 0.6863 | AP 0.7221 | F1 0.6863 | Time 8.72\n",
      "Epoch 0071: Loss 115.3842 | AUC 0.8396 | Recall 0.6863 | Precision 0.6863 | AP 0.7225 | F1 0.6863 | Time 8.57\n",
      "Epoch 0072: Loss 114.9246 | AUC 0.8397 | Recall 0.6863 | Precision 0.6863 | AP 0.7231 | F1 0.6862 | Time 8.68\n",
      "Epoch 0073: Loss 114.4651 | AUC 0.8393 | Recall 0.6861 | Precision 0.6861 | AP 0.7233 | F1 0.6861 | Time 8.61\n",
      "Epoch 0074: Loss 114.0058 | AUC 0.8392 | Recall 0.6859 | Precision 0.6859 | AP 0.7237 | F1 0.6859 | Time 8.72\n",
      "Epoch 0075: Loss 113.5467 | AUC 0.8389 | Recall 0.6857 | Precision 0.6857 | AP 0.7238 | F1 0.6857 | Time 8.73\n",
      "Epoch 0076: Loss 113.0877 | AUC 0.8385 | Recall 0.6857 | Precision 0.6857 | AP 0.7238 | F1 0.6856 | Time 8.57\n",
      "Epoch 0077: Loss 112.6289 | AUC 0.8381 | Recall 0.6856 | Precision 0.6856 | AP 0.7239 | F1 0.6856 | Time 8.69\n",
      "Epoch 0078: Loss 112.1702 | AUC 0.8378 | Recall 0.6854 | Precision 0.6854 | AP 0.7239 | F1 0.6853 | Time 8.69\n",
      "Epoch 0079: Loss 111.7117 | AUC 0.8378 | Recall 0.6876 | Precision 0.6876 | AP 0.7241 | F1 0.6877 | Time 8.68\n",
      "Epoch 0080: Loss 111.2533 | AUC 0.8377 | Recall 0.6895 | Precision 0.6895 | AP 0.7243 | F1 0.6893 | Time 8.58\n",
      "Epoch 0081: Loss 110.7950 | AUC 0.8378 | Recall 0.6936 | Precision 0.6936 | AP 0.7246 | F1 0.6936 | Time 8.74\n",
      "Epoch 0082: Loss 110.3369 | AUC 0.8373 | Recall 0.7038 | Precision 0.7038 | AP 0.7246 | F1 0.7053 | Time 8.66\n",
      "Epoch 0083: Loss 109.8790 | AUC 0.8369 | Recall 0.7103 | Precision 0.7103 | AP 0.7246 | F1 0.7102 | Time 8.56\n",
      "Epoch 0084: Loss 109.4212 | AUC 0.8362 | Recall 0.7255 | Precision 0.7255 | AP 0.7243 | F1 0.7267 | Time 8.70\n",
      "Epoch 0085: Loss 108.9635 | AUC 0.8358 | Recall 0.7382 | Precision 0.7382 | AP 0.7243 | F1 0.7380 | Time 8.70\n",
      "Epoch 0086: Loss 108.5059 | AUC 0.8355 | Recall 0.7447 | Precision 0.7447 | AP 0.7242 | F1 0.7447 | Time 8.58\n",
      "Epoch 0087: Loss 108.0485 | AUC 0.8347 | Recall 0.7569 | Precision 0.7569 | AP 0.7239 | F1 0.7568 | Time 8.76\n",
      "Epoch 0088: Loss 107.5912 | AUC 0.8343 | Recall 0.7645 | Precision 0.7645 | AP 0.7240 | F1 0.7647 | Time 8.47\n",
      "Epoch 0089: Loss 107.1340 | AUC 0.8342 | Recall 0.7673 | Precision 0.7673 | AP 0.7240 | F1 0.7673 | Time 8.60\n",
      "Epoch 0090: Loss 106.6769 | AUC 0.8334 | Recall 0.7671 | Precision 0.7671 | AP 0.7230 | F1 0.7671 | Time 8.68\n",
      "Epoch 0091: Loss 106.2199 | AUC 0.8327 | Recall 0.7668 | Precision 0.7668 | AP 0.7218 | F1 0.7668 | Time 8.70\n",
      "Epoch 0092: Loss 105.7631 | AUC 0.8325 | Recall 0.7670 | Precision 0.7670 | AP 0.7208 | F1 0.7670 | Time 8.72\n",
      "Epoch 0093: Loss 105.3063 | AUC 0.8316 | Recall 0.7666 | Precision 0.7666 | AP 0.7191 | F1 0.7665 | Time 8.62\n",
      "Epoch 0094: Loss 104.8496 | AUC 0.8311 | Recall 0.7666 | Precision 0.7666 | AP 0.7175 | F1 0.7666 | Time 8.69\n",
      "Epoch 0095: Loss 104.3930 | AUC 0.8294 | Recall 0.7658 | Precision 0.7658 | AP 0.7152 | F1 0.7658 | Time 8.67\n",
      "Epoch 0096: Loss 103.9365 | AUC 0.8261 | Recall 0.7651 | Precision 0.7651 | AP 0.7082 | F1 0.7651 | Time 8.75\n",
      "Epoch 0097: Loss 103.4801 | AUC 0.8230 | Recall 0.7644 | Precision 0.7644 | AP 0.6997 | F1 0.7646 | Time 8.49\n",
      "Epoch 0098: Loss 103.0237 | AUC 0.8220 | Recall 0.7588 | Precision 0.7588 | AP 0.6976 | F1 0.7608 | Time 8.68\n",
      "Epoch 0099: Loss 102.5674 | AUC 0.8196 | Recall 0.7510 | Precision 0.7510 | AP 0.6940 | F1 0.7560 | Time 8.64\n",
      "Test: Loss 1.7728 | AUC 0.8477 | Recall 0.7945 | Precision 0.7945 | AP 0.7929 | F1 0.7945 | Time 8.18\n",
      "tensor([1]) tensor([9525])\n",
      "F1 score:  tensor(0.7945)\n",
      "Precision:  tensor(0.7945)\n",
      "Recall:  tensor(0.7945)\n",
      "F1 score pygod:  0.6216626872151074\n"
     ]
    }
   ],
   "source": [
    "\n",
    "anomalydae_model = make_anomalydae_model(train_graph, train_node_features, label_train)\n",
    "precision_score, recall_score, f1_score = predict_anomalydae(label_test, anomalydae_model, graph_test)"
   ]
  },
  {
   "cell_type": "code",
   "execution_count": null,
   "metadata": {},
   "outputs": [],
   "source": [
    "print()"
   ]
  },
  {
   "cell_type": "code",
   "execution_count": 65,
   "metadata": {},
   "outputs": [],
   "source": [
    "voting_dataset = unsw_labeled[['info_message', 'is_malware']].copy()"
   ]
  },
  {
   "cell_type": "code",
   "execution_count": 66,
   "metadata": {},
   "outputs": [],
   "source": [
    "voting_dataset['count_benign'] = voting_dataset.groupby(['info_message'])['is_malware'].transform(lambda x: (x == 0).sum())\n",
    "voting_dataset['count_malware'] = voting_dataset.groupby(['info_message'])['is_malware'].transform(lambda x: (x == 1).sum())"
   ]
  },
  {
   "cell_type": "code",
   "execution_count": 67,
   "metadata": {},
   "outputs": [],
   "source": [
    "voting_dataset['label'] = voting_dataset.apply(lambda x: 1 if x['count_malware'] > x['count_benign'] else 0, axis=1)"
   ]
  },
  {
   "cell_type": "code",
   "execution_count": 138,
   "metadata": {},
   "outputs": [],
   "source": [
    "unsw_labeled['is_malware']  = np.where(unsw_labeled['info_message'] == voting_dataset['info_message'], voting_dataset['label'], voting_dataset['label'])"
   ]
  },
  {
   "cell_type": "code",
   "execution_count": null,
   "metadata": {},
   "outputs": [],
   "source": [
    "unsw_labeled['count_benign'] = voting_dataset['count_benign'].copy()\n",
    "unsw_labeled['count_malware'] = voting_dataset['count_malware'].copy()"
   ]
  },
  {
   "cell_type": "code",
   "execution_count": null,
   "metadata": {},
   "outputs": [
    {
     "data": {
      "text/html": [
       "<div>\n",
       "<style scoped>\n",
       "    .dataframe tbody tr th:only-of-type {\n",
       "        vertical-align: middle;\n",
       "    }\n",
       "\n",
       "    .dataframe tbody tr th {\n",
       "        vertical-align: top;\n",
       "    }\n",
       "\n",
       "    .dataframe thead th {\n",
       "        text-align: right;\n",
       "    }\n",
       "</style>\n",
       "<table border=\"1\" class=\"dataframe\">\n",
       "  <thead>\n",
       "    <tr style=\"text-align: right;\">\n",
       "      <th></th>\n",
       "      <th>source_ip</th>\n",
       "      <th>destination_ip</th>\n",
       "      <th>source_port</th>\n",
       "      <th>destination_port</th>\n",
       "      <th>info_message</th>\n",
       "      <th>attack_category</th>\n",
       "      <th>is_malware</th>\n",
       "      <th>source_ip_info</th>\n",
       "      <th>source_port_info</th>\n",
       "      <th>dest_ip_info</th>\n",
       "      <th>dest_port_info</th>\n",
       "      <th>count_benign</th>\n",
       "      <th>count_malware</th>\n",
       "    </tr>\n",
       "  </thead>\n",
       "  <tbody>\n",
       "    <tr>\n",
       "      <th>1</th>\n",
       "      <td>175.45.176.1</td>\n",
       "      <td>149.171.126.18</td>\n",
       "      <td>4657</td>\n",
       "      <td>80</td>\n",
       "      <td>GET /oKmwKoVbq HTTP/1.1</td>\n",
       "      <td>NaN</td>\n",
       "      <td>0</td>\n",
       "      <td>175.45.176.1 GET /oKmwKoVbq HTTP/1.1</td>\n",
       "      <td>4657 GET /oKmwKoVbq HTTP/1.1</td>\n",
       "      <td>149.171.126.18 GET /oKmwKoVbq HTTP/1.1</td>\n",
       "      <td>80 GET /oKmwKoVbq HTTP/1.1</td>\n",
       "      <td>1</td>\n",
       "      <td>0</td>\n",
       "    </tr>\n",
       "    <tr>\n",
       "      <th>2</th>\n",
       "      <td>175.45.176.3</td>\n",
       "      <td>149.171.126.18</td>\n",
       "      <td>32473</td>\n",
       "      <td>80</td>\n",
       "      <td>GET /level/15/exec/-/buffers/assigned/dump HTTP/1.1</td>\n",
       "      <td>NaN</td>\n",
       "      <td>1</td>\n",
       "      <td>175.45.176.3 GET /level/15/exec/-/buffers/assigned/dump HTTP/1.1</td>\n",
       "      <td>32473 GET /level/15/exec/-/buffers/assigned/dump HTTP/1.1</td>\n",
       "      <td>149.171.126.18 GET /level/15/exec/-/buffers/assigned/dump HTTP/1.1</td>\n",
       "      <td>80 GET /level/15/exec/-/buffers/assigned/dump HTTP/1.1</td>\n",
       "      <td>1</td>\n",
       "      <td>7</td>\n",
       "    </tr>\n",
       "    <tr>\n",
       "      <th>6</th>\n",
       "      <td>175.45.176.0</td>\n",
       "      <td>149.171.126.17</td>\n",
       "      <td>49194</td>\n",
       "      <td>80</td>\n",
       "      <td>GET eLWfxXSPkc HTTP/1.1</td>\n",
       "      <td>NaN</td>\n",
       "      <td>0</td>\n",
       "      <td>175.45.176.0 GET eLWfxXSPkc HTTP/1.1</td>\n",
       "      <td>49194 GET eLWfxXSPkc HTTP/1.1</td>\n",
       "      <td>149.171.126.17 GET eLWfxXSPkc HTTP/1.1</td>\n",
       "      <td>80 GET eLWfxXSPkc HTTP/1.1</td>\n",
       "      <td>1</td>\n",
       "      <td>0</td>\n",
       "    </tr>\n",
       "    <tr>\n",
       "      <th>9</th>\n",
       "      <td>175.45.176.1</td>\n",
       "      <td>149.171.126.14</td>\n",
       "      <td>51435</td>\n",
       "      <td>80</td>\n",
       "      <td>GET / HTTP/1.1</td>\n",
       "      <td>NaN</td>\n",
       "      <td>0</td>\n",
       "      <td>175.45.176.1 GET / HTTP/1.1</td>\n",
       "      <td>51435 GET / HTTP/1.1</td>\n",
       "      <td>149.171.126.14 GET / HTTP/1.1</td>\n",
       "      <td>80 GET / HTTP/1.1</td>\n",
       "      <td>46862</td>\n",
       "      <td>1313</td>\n",
       "    </tr>\n",
       "    <tr>\n",
       "      <th>10</th>\n",
       "      <td>175.45.176.1</td>\n",
       "      <td>149.171.126.19</td>\n",
       "      <td>64694</td>\n",
       "      <td>80</td>\n",
       "      <td>GET /scripts/cbag/ag.exe?page=FileDownload&amp;id=../../../../../../../../../../../11G&amp;notimecard=1&amp;type=text&amp;subtype=html&amp;ct=1 HTTP/1.1</td>\n",
       "      <td>NaN</td>\n",
       "      <td>0</td>\n",
       "      <td>175.45.176.1 GET /scripts/cbag/ag.exe?page=FileDownload&amp;id=../../../../../../../../../../../11G&amp;notimecard=1&amp;type=text&amp;subtype=html&amp;ct=1 HTTP/1.1</td>\n",
       "      <td>64694 GET /scripts/cbag/ag.exe?page=FileDownload&amp;id=../../../../../../../../../../../11G&amp;notimecard=1&amp;type=text&amp;subtype=html&amp;ct=1 HTTP/1.1</td>\n",
       "      <td>149.171.126.19 GET /scripts/cbag/ag.exe?page=FileDownload&amp;id=../../../../../../../../../../../11G&amp;notimecard=1&amp;type=text&amp;subtype=html&amp;ct=1 HTTP/1.1</td>\n",
       "      <td>80 GET /scripts/cbag/ag.exe?page=FileDownload&amp;id=../../../../../../../../../../../11G&amp;notimecard=1&amp;type=text&amp;subtype=html&amp;ct=1 HTTP/1.1</td>\n",
       "      <td>1</td>\n",
       "      <td>0</td>\n",
       "    </tr>\n",
       "  </tbody>\n",
       "</table>\n",
       "</div>"
      ],
      "text/plain": [
       "       source_ip  destination_ip source_port destination_port   \n",
       "1   175.45.176.1  149.171.126.18        4657               80  \\\n",
       "2   175.45.176.3  149.171.126.18       32473               80   \n",
       "6   175.45.176.0  149.171.126.17       49194               80   \n",
       "9   175.45.176.1  149.171.126.14       51435               80   \n",
       "10  175.45.176.1  149.171.126.19       64694               80   \n",
       "\n",
       "                                                                                                                             info_message   \n",
       "1                                                                                                                GET /oKmwKoVbq HTTP/1.1   \\\n",
       "2                                                                                    GET /level/15/exec/-/buffers/assigned/dump HTTP/1.1    \n",
       "6                                                                                                                GET eLWfxXSPkc HTTP/1.1    \n",
       "9                                                                                                                         GET / HTTP/1.1    \n",
       "10  GET /scripts/cbag/ag.exe?page=FileDownload&id=../../../../../../../../../../../11G&notimecard=1&type=text&subtype=html&ct=1 HTTP/1.1    \n",
       "\n",
       "   attack_category  is_malware   \n",
       "1              NaN           0  \\\n",
       "2              NaN           1   \n",
       "6              NaN           0   \n",
       "9              NaN           0   \n",
       "10             NaN           0   \n",
       "\n",
       "                                                                                                                                        source_ip_info   \n",
       "1                                                                                                                175.45.176.1 GET /oKmwKoVbq HTTP/1.1   \\\n",
       "2                                                                                    175.45.176.3 GET /level/15/exec/-/buffers/assigned/dump HTTP/1.1    \n",
       "6                                                                                                                175.45.176.0 GET eLWfxXSPkc HTTP/1.1    \n",
       "9                                                                                                                         175.45.176.1 GET / HTTP/1.1    \n",
       "10  175.45.176.1 GET /scripts/cbag/ag.exe?page=FileDownload&id=../../../../../../../../../../../11G&notimecard=1&type=text&subtype=html&ct=1 HTTP/1.1    \n",
       "\n",
       "                                                                                                                               source_port_info   \n",
       "1                                                                                                                 4657 GET /oKmwKoVbq HTTP/1.1   \\\n",
       "2                                                                                    32473 GET /level/15/exec/-/buffers/assigned/dump HTTP/1.1    \n",
       "6                                                                                                                49194 GET eLWfxXSPkc HTTP/1.1    \n",
       "9                                                                                                                         51435 GET / HTTP/1.1    \n",
       "10  64694 GET /scripts/cbag/ag.exe?page=FileDownload&id=../../../../../../../../../../../11G&notimecard=1&type=text&subtype=html&ct=1 HTTP/1.1    \n",
       "\n",
       "                                                                                                                                            dest_ip_info   \n",
       "1                                                                                                                149.171.126.18 GET /oKmwKoVbq HTTP/1.1   \\\n",
       "2                                                                                    149.171.126.18 GET /level/15/exec/-/buffers/assigned/dump HTTP/1.1    \n",
       "6                                                                                                                149.171.126.17 GET eLWfxXSPkc HTTP/1.1    \n",
       "9                                                                                                                         149.171.126.14 GET / HTTP/1.1    \n",
       "10  149.171.126.19 GET /scripts/cbag/ag.exe?page=FileDownload&id=../../../../../../../../../../../11G&notimecard=1&type=text&subtype=html&ct=1 HTTP/1.1    \n",
       "\n",
       "                                                                                                                              dest_port_info   \n",
       "1                                                                                                                80 GET /oKmwKoVbq HTTP/1.1   \\\n",
       "2                                                                                    80 GET /level/15/exec/-/buffers/assigned/dump HTTP/1.1    \n",
       "6                                                                                                                80 GET eLWfxXSPkc HTTP/1.1    \n",
       "9                                                                                                                         80 GET / HTTP/1.1    \n",
       "10  80 GET /scripts/cbag/ag.exe?page=FileDownload&id=../../../../../../../../../../../11G&notimecard=1&type=text&subtype=html&ct=1 HTTP/1.1    \n",
       "\n",
       "    count_benign  count_malware  \n",
       "1              1              0  \n",
       "2              1              7  \n",
       "6              1              0  \n",
       "9          46862           1313  \n",
       "10             1              0  "
      ]
     },
     "execution_count": 32,
     "metadata": {},
     "output_type": "execute_result"
    }
   ],
   "source": [
    "unsw_labeled.head()"
   ]
  },
  {
   "cell_type": "code",
   "execution_count": null,
   "metadata": {},
   "outputs": [],
   "source": [
    "ambigous_data = unsw_labeled[unsw_labeled.count_benign == unsw_labeled.count_malware]"
   ]
  },
  {
   "cell_type": "code",
   "execution_count": 69,
   "metadata": {},
   "outputs": [
    {
     "data": {
      "text/html": [
       "<div>\n",
       "<style scoped>\n",
       "    .dataframe tbody tr th:only-of-type {\n",
       "        vertical-align: middle;\n",
       "    }\n",
       "\n",
       "    .dataframe tbody tr th {\n",
       "        vertical-align: top;\n",
       "    }\n",
       "\n",
       "    .dataframe thead th {\n",
       "        text-align: right;\n",
       "    }\n",
       "</style>\n",
       "<table border=\"1\" class=\"dataframe\">\n",
       "  <thead>\n",
       "    <tr style=\"text-align: right;\">\n",
       "      <th></th>\n",
       "      <th>source_ip</th>\n",
       "      <th>destination_ip</th>\n",
       "      <th>source_port</th>\n",
       "      <th>destination_port</th>\n",
       "      <th>info_message</th>\n",
       "      <th>attack_category</th>\n",
       "      <th>is_malware</th>\n",
       "      <th>source_ip_info</th>\n",
       "      <th>source_port_info</th>\n",
       "      <th>dest_ip_info</th>\n",
       "      <th>dest_port_info</th>\n",
       "      <th>count_benign</th>\n",
       "      <th>count_malware</th>\n",
       "    </tr>\n",
       "  </thead>\n",
       "  <tbody>\n",
       "    <tr>\n",
       "      <th>23911</th>\n",
       "      <td>175.45.176.1</td>\n",
       "      <td>149.171.126.11</td>\n",
       "      <td>31627</td>\n",
       "      <td>80</td>\n",
       "      <td>GET /%25s%25s%25s%25s%25s%25s%25s%25s%25s%25s%25s%25s%25s%25s%25s%25s%25s%25s%25s%25s%25s%25s%25s%25s%25s%25s%25s%25s%25s%25s%25s%25s HTTP/1.1</td>\n",
       "      <td>Fuzzers</td>\n",
       "      <td>0</td>\n",
       "      <td>175.45.176.1 GET /%25s%25s%25s%25s%25s%25s%25s%25s%25s%25s%25s%25s%25s%25s%25s%25s%25s%25s%25s%25s%25s%25s%25s%25s%25s%25s%25s%25s%25s%25s%25s%25s HTTP/1.1</td>\n",
       "      <td>31627 GET /%25s%25s%25s%25s%25s%25s%25s%25s%25s%25s%25s%25s%25s%25s%25s%25s%25s%25s%25s%25s%25s%25s%25s%25s%25s%25s%25s%25s%25s%25s%25s%25s HTTP/1.1</td>\n",
       "      <td>149.171.126.11 GET /%25s%25s%25s%25s%25s%25s%25s%25s%25s%25s%25s%25s%25s%25s%25s%25s%25s%25s%25s%25s%25s%25s%25s%25s%25s%25s%25s%25s%25s%25s%25s%25s HTTP/1.1</td>\n",
       "      <td>80 GET /%25s%25s%25s%25s%25s%25s%25s%25s%25s%25s%25s%25s%25s%25s%25s%25s%25s%25s%25s%25s%25s%25s%25s%25s%25s%25s%25s%25s%25s%25s%25s%25s HTTP/1.1</td>\n",
       "      <td>4</td>\n",
       "      <td>4</td>\n",
       "    </tr>\n",
       "    <tr>\n",
       "      <th>36334</th>\n",
       "      <td>175.45.176.3</td>\n",
       "      <td>149.171.126.11</td>\n",
       "      <td>65394</td>\n",
       "      <td>80</td>\n",
       "      <td>GET /V.php HTTP/1.1</td>\n",
       "      <td>Fuzzers</td>\n",
       "      <td>0</td>\n",
       "      <td>175.45.176.3 GET /V.php HTTP/1.1</td>\n",
       "      <td>65394 GET /V.php HTTP/1.1</td>\n",
       "      <td>149.171.126.11 GET /V.php HTTP/1.1</td>\n",
       "      <td>80 GET /V.php HTTP/1.1</td>\n",
       "      <td>1</td>\n",
       "      <td>1</td>\n",
       "    </tr>\n",
       "    <tr>\n",
       "      <th>44278</th>\n",
       "      <td>175.45.176.0</td>\n",
       "      <td>149.171.126.17</td>\n",
       "      <td>53573</td>\n",
       "      <td>80</td>\n",
       "      <td>GET /~aakuney/Aug20-flash/poc.html HTTP/1.1</td>\n",
       "      <td>Generic</td>\n",
       "      <td>0</td>\n",
       "      <td>175.45.176.0 GET /~aakuney/Aug20-flash/poc.html HTTP/1.1</td>\n",
       "      <td>53573 GET /~aakuney/Aug20-flash/poc.html HTTP/1.1</td>\n",
       "      <td>149.171.126.17 GET /~aakuney/Aug20-flash/poc.html HTTP/1.1</td>\n",
       "      <td>80 GET /~aakuney/Aug20-flash/poc.html HTTP/1.1</td>\n",
       "      <td>1</td>\n",
       "      <td>1</td>\n",
       "    </tr>\n",
       "    <tr>\n",
       "      <th>44279</th>\n",
       "      <td>175.45.176.0</td>\n",
       "      <td>149.171.126.17</td>\n",
       "      <td>53573</td>\n",
       "      <td>80</td>\n",
       "      <td>GET /~aakuney/Aug20-flash/poc.swf HTTP/1.1</td>\n",
       "      <td>Generic</td>\n",
       "      <td>0</td>\n",
       "      <td>175.45.176.0 GET /~aakuney/Aug20-flash/poc.swf HTTP/1.1</td>\n",
       "      <td>53573 GET /~aakuney/Aug20-flash/poc.swf HTTP/1.1</td>\n",
       "      <td>149.171.126.17 GET /~aakuney/Aug20-flash/poc.swf HTTP/1.1</td>\n",
       "      <td>80 GET /~aakuney/Aug20-flash/poc.swf HTTP/1.1</td>\n",
       "      <td>1</td>\n",
       "      <td>1</td>\n",
       "    </tr>\n",
       "    <tr>\n",
       "      <th>46843</th>\n",
       "      <td>175.45.176.1</td>\n",
       "      <td>149.171.126.16</td>\n",
       "      <td>30871</td>\n",
       "      <td>80</td>\n",
       "      <td>GET /~the/poc.mov HTTP/1.1</td>\n",
       "      <td>Generic</td>\n",
       "      <td>0</td>\n",
       "      <td>175.45.176.1 GET /~the/poc.mov HTTP/1.1</td>\n",
       "      <td>30871 GET /~the/poc.mov HTTP/1.1</td>\n",
       "      <td>149.171.126.16 GET /~the/poc.mov HTTP/1.1</td>\n",
       "      <td>80 GET /~the/poc.mov HTTP/1.1</td>\n",
       "      <td>1</td>\n",
       "      <td>1</td>\n",
       "    </tr>\n",
       "  </tbody>\n",
       "</table>\n",
       "</div>"
      ],
      "text/plain": [
       "          source_ip  destination_ip source_port destination_port   \n",
       "23911  175.45.176.1  149.171.126.11       31627               80  \\\n",
       "36334  175.45.176.3  149.171.126.11       65394               80   \n",
       "44278  175.45.176.0  149.171.126.17       53573               80   \n",
       "44279  175.45.176.0  149.171.126.17       53573               80   \n",
       "46843  175.45.176.1  149.171.126.16       30871               80   \n",
       "\n",
       "                                                                                                                                          info_message   \n",
       "23911  GET /%25s%25s%25s%25s%25s%25s%25s%25s%25s%25s%25s%25s%25s%25s%25s%25s%25s%25s%25s%25s%25s%25s%25s%25s%25s%25s%25s%25s%25s%25s%25s%25s HTTP/1.1   \\\n",
       "36334                                                                                                                             GET /V.php HTTP/1.1    \n",
       "44278                                                                                                     GET /~aakuney/Aug20-flash/poc.html HTTP/1.1    \n",
       "44279                                                                                                      GET /~aakuney/Aug20-flash/poc.swf HTTP/1.1    \n",
       "46843                                                                                                                      GET /~the/poc.mov HTTP/1.1    \n",
       "\n",
       "      attack_category  is_malware   \n",
       "23911        Fuzzers            0  \\\n",
       "36334        Fuzzers            0   \n",
       "44278         Generic           0   \n",
       "44279         Generic           0   \n",
       "46843         Generic           0   \n",
       "\n",
       "                                                                                                                                                     source_ip_info   \n",
       "23911  175.45.176.1 GET /%25s%25s%25s%25s%25s%25s%25s%25s%25s%25s%25s%25s%25s%25s%25s%25s%25s%25s%25s%25s%25s%25s%25s%25s%25s%25s%25s%25s%25s%25s%25s%25s HTTP/1.1   \\\n",
       "36334                                                                                                                             175.45.176.3 GET /V.php HTTP/1.1    \n",
       "44278                                                                                                     175.45.176.0 GET /~aakuney/Aug20-flash/poc.html HTTP/1.1    \n",
       "44279                                                                                                      175.45.176.0 GET /~aakuney/Aug20-flash/poc.swf HTTP/1.1    \n",
       "46843                                                                                                                      175.45.176.1 GET /~the/poc.mov HTTP/1.1    \n",
       "\n",
       "                                                                                                                                            source_port_info   \n",
       "23911  31627 GET /%25s%25s%25s%25s%25s%25s%25s%25s%25s%25s%25s%25s%25s%25s%25s%25s%25s%25s%25s%25s%25s%25s%25s%25s%25s%25s%25s%25s%25s%25s%25s%25s HTTP/1.1   \\\n",
       "36334                                                                                                                             65394 GET /V.php HTTP/1.1    \n",
       "44278                                                                                                     53573 GET /~aakuney/Aug20-flash/poc.html HTTP/1.1    \n",
       "44279                                                                                                      53573 GET /~aakuney/Aug20-flash/poc.swf HTTP/1.1    \n",
       "46843                                                                                                                      30871 GET /~the/poc.mov HTTP/1.1    \n",
       "\n",
       "                                                                                                                                                         dest_ip_info   \n",
       "23911  149.171.126.11 GET /%25s%25s%25s%25s%25s%25s%25s%25s%25s%25s%25s%25s%25s%25s%25s%25s%25s%25s%25s%25s%25s%25s%25s%25s%25s%25s%25s%25s%25s%25s%25s%25s HTTP/1.1   \\\n",
       "36334                                                                                                                             149.171.126.11 GET /V.php HTTP/1.1    \n",
       "44278                                                                                                     149.171.126.17 GET /~aakuney/Aug20-flash/poc.html HTTP/1.1    \n",
       "44279                                                                                                      149.171.126.17 GET /~aakuney/Aug20-flash/poc.swf HTTP/1.1    \n",
       "46843                                                                                                                      149.171.126.16 GET /~the/poc.mov HTTP/1.1    \n",
       "\n",
       "                                                                                                                                           dest_port_info   \n",
       "23911  80 GET /%25s%25s%25s%25s%25s%25s%25s%25s%25s%25s%25s%25s%25s%25s%25s%25s%25s%25s%25s%25s%25s%25s%25s%25s%25s%25s%25s%25s%25s%25s%25s%25s HTTP/1.1   \\\n",
       "36334                                                                                                                             80 GET /V.php HTTP/1.1    \n",
       "44278                                                                                                     80 GET /~aakuney/Aug20-flash/poc.html HTTP/1.1    \n",
       "44279                                                                                                      80 GET /~aakuney/Aug20-flash/poc.swf HTTP/1.1    \n",
       "46843                                                                                                                      80 GET /~the/poc.mov HTTP/1.1    \n",
       "\n",
       "       count_benign  count_malware  \n",
       "23911             4              4  \n",
       "36334             1              1  \n",
       "44278             1              1  \n",
       "44279             1              1  \n",
       "46843             1              1  "
      ]
     },
     "execution_count": 69,
     "metadata": {},
     "output_type": "execute_result"
    }
   ],
   "source": [
    "ambigous_data.head()"
   ]
  },
  {
   "cell_type": "code",
   "execution_count": 70,
   "metadata": {},
   "outputs": [],
   "source": [
    "unsw_labeled = unsw_labeled.drop(unsw_labeled[unsw_labeled.count_benign == unsw_labeled.count_malware].index)"
   ]
  },
  {
   "cell_type": "code",
   "execution_count": 71,
   "metadata": {},
   "outputs": [
    {
     "data": {
      "image/png": "[encoded data removed]",
      "text/plain": [
       "<Figure size 432x288 with 1 Axes>"
      ]
     },
     "metadata": {
      "needs_background": "light"
     },
     "output_type": "display_data"
    }
   ],
   "source": [
    "unsw_labeled.is_malware.value_counts().plot(kind='bar', title='Malware vs Benign')\n",
    "plt.xlabel('is_malware')\n",
    "plt.ylabel('count')\n",
    "value_counts = unsw_labeled.is_malware.value_counts()\n",
    "for i, count in enumerate(value_counts):\n",
    "    plt.text(i, count, str(count), ha='center', va='bottom')\n",
    "plt.show()"
   ]
  },
  {
   "cell_type": "code",
   "execution_count": 72,
   "metadata": {},
   "outputs": [],
   "source": [
    "unsw_labeled.to_parquet('C:\\\\Users\\\\asus\\\\Documents\\\\nids-pcap-dataset\\\\unsw_parquet_used_dataset\\\\unsw_labeled.parquet')"
   ]
  },
  {
   "cell_type": "code",
   "execution_count": 104,
   "metadata": {},
   "outputs": [
    {
     "data": {
      "text/plain": [
       "is_malware\n",
       "0    110274\n",
       "1     14906\n",
       "Name: count, dtype: int64"
      ]
     },
     "execution_count": 104,
     "metadata": {},
     "output_type": "execute_result"
    }
   ],
   "source": [
    "unsw_labeled.is_malware.value_counts()"
   ]
  },
  {
   "cell_type": "code",
   "execution_count": 88,
   "metadata": {},
   "outputs": [],
   "source": [
    "unsw_nd = unsw_labeled.drop_duplicates(subset=['info_message'], keep='first')"
   ]
  },
  {
   "cell_type": "code",
   "execution_count": 89,
   "metadata": {},
   "outputs": [
    {
     "data": {
      "text/plain": [
       "is_malware\n",
       "1    8009\n",
       "0    2252\n",
       "Name: count, dtype: int64"
      ]
     },
     "execution_count": 89,
     "metadata": {},
     "output_type": "execute_result"
    }
   ],
   "source": [
    "unsw_nd.is_malware.value_counts()"
   ]
  },
  {
   "cell_type": "code",
   "execution_count": 91,
   "metadata": {},
   "outputs": [],
   "source": [
    "unsw_nd_sip = unsw_labeled.drop_duplicates(subset=['source_ip_info'], keep='first')"
   ]
  },
  {
   "cell_type": "code",
   "execution_count": 94,
   "metadata": {},
   "outputs": [
    {
     "data": {
      "text/plain": [
       "is_malware\n",
       "1    9996\n",
       "0    3640\n",
       "Name: count, dtype: int64"
      ]
     },
     "execution_count": 94,
     "metadata": {},
     "output_type": "execute_result"
    }
   ],
   "source": [
    "unsw_nd_sip.is_malware.value_counts()"
   ]
  },
  {
   "cell_type": "code",
   "execution_count": 95,
   "metadata": {},
   "outputs": [],
   "source": [
    "unsw_nd_dip = unsw_labeled.drop_duplicates(subset=['dest_ip_info'], keep='first')"
   ]
  },
  {
   "cell_type": "code",
   "execution_count": 96,
   "metadata": {},
   "outputs": [
    {
     "data": {
      "text/plain": [
       "is_malware\n",
       "1    11331\n",
       "0     3623\n",
       "Name: count, dtype: int64"
      ]
     },
     "execution_count": 96,
     "metadata": {},
     "output_type": "execute_result"
    }
   ],
   "source": [
    "unsw_nd_dip.is_malware.value_counts()"
   ]
  },
  {
   "cell_type": "code",
   "execution_count": 97,
   "metadata": {},
   "outputs": [],
   "source": [
    "unsw_nd_sp = unsw_labeled.drop_duplicates(subset=['source_port_info'], keep='first')"
   ]
  },
  {
   "cell_type": "code",
   "execution_count": 98,
   "metadata": {},
   "outputs": [
    {
     "data": {
      "text/plain": [
       "is_malware\n",
       "0    81007\n",
       "1    13683\n",
       "Name: count, dtype: int64"
      ]
     },
     "execution_count": 98,
     "metadata": {},
     "output_type": "execute_result"
    }
   ],
   "source": [
    "unsw_nd_sp.is_malware.value_counts()"
   ]
  },
  {
   "cell_type": "code",
   "execution_count": 100,
   "metadata": {},
   "outputs": [],
   "source": [
    "unsw_nd_dp = unsw_labeled.drop_duplicates(subset=['dest_port_info'], keep='first')"
   ]
  },
  {
   "cell_type": "code",
   "execution_count": 102,
   "metadata": {},
   "outputs": [
    {
     "data": {
      "text/plain": [
       "is_malware\n",
       "1    8009\n",
       "0    2252\n",
       "Name: count, dtype: int64"
      ]
     },
     "execution_count": 102,
     "metadata": {},
     "output_type": "execute_result"
    }
   ],
   "source": [
    "unsw_nd_dp.is_malware.value_counts()"
   ]
  },
  {
   "attachments": {},
   "cell_type": "markdown",
   "metadata": {},
   "source": [
    "# Graph Modeling"
   ]
  },
  {
   "cell_type": "code",
   "execution_count": 1,
   "metadata": {},
   "outputs": [],
   "source": [
    "import networkx as nx\n",
    "import torch\n",
    "import pickle"
   ]
  },
  {
   "cell_type": "code",
   "execution_count": 3,
   "metadata": {},
   "outputs": [],
   "source": [
    "unsw_labeled_path = \"C:\\\\Users\\\\asus\\\\Documents\\\\nids-pcap-dataset\\\\unsw_parquet_used_dataset\\\\unsw_labeled.parquet\""
   ]
  },
  {
   "cell_type": "code",
   "execution_count": 4,
   "metadata": {},
   "outputs": [],
   "source": [
    "unsw_labeled = pd.read_parquet(unsw_labeled_path)"
   ]
  },
  {
   "cell_type": "code",
   "execution_count": 7,
   "metadata": {},
   "outputs": [
    {
     "data": {
      "text/plain": [
       "<AxesSubplot:title={'center':'Malware vs Benign'}, xlabel='is_malware'>"
      ]
     },
     "execution_count": 7,
     "metadata": {},
     "output_type": "execute_result"
    },
    {
     "data": {
      "image/png": "[encoded data removed]",
      "text/plain": [
       "<Figure size 432x288 with 1 Axes>"
      ]
     },
     "metadata": {
      "needs_background": "light"
     },
     "output_type": "display_data"
    }
   ],
   "source": [
    "unsw_labeled.is_malware.value_counts().plot(kind='bar', title='Malware vs Benign')"
   ]
  },
  {
   "attachments": {},
   "cell_type": "markdown",
   "metadata": {},
   "source": [
    "## Combination A\n",
    "### info_message as Node & source_ip as Edge"
   ]
  },
  {
   "cell_type": "code",
   "execution_count": 6,
   "metadata": {},
   "outputs": [],
   "source": [
    "graph_A = nx.Graph()\n",
    "for info_message in unsw_labeled[\"info_message\"].unique():\n",
    "    graph_A.add_node(info_message)\n",
    "\n",
    "for (source_ip), group in unsw_labeled.groupby([\"source_ip\"]):\n",
    "    for i in range(len(group) - 1):\n",
    "        from_node = group.iloc[i][\"info_message\"]\n",
    "        to_node = group.iloc[i+1][\"info_message\"]\n",
    "        if graph_A.has_edge(from_node, to_node):\n",
    "            graph_A[from_node][to_node][\"weight\"] += 1\n",
    "        else:\n",
    "            graph_A.add_edge(from_node, to_node, weight=1)"
   ]
  },
  {
   "cell_type": "code",
   "execution_count": 78,
   "metadata": {},
   "outputs": [],
   "source": [
    "pickle.dump(graph_A, open('model_graph/graph_A.pickle', 'wb'))"
   ]
  },
  {
   "cell_type": "code",
   "execution_count": 126,
   "metadata": {},
   "outputs": [],
   "source": [
    "## open the graph\n",
    "graph_A = pickle.load(open('model_graph/graph_A.pickle', 'rb'))"
   ]
  },
  {
   "cell_type": "code",
   "execution_count": 127,
   "metadata": {},
   "outputs": [
    {
     "name": "stdout",
     "output_type": "stream",
     "text": [
      "Isolated nodes: 0 \n",
      "\n",
      "Number of nodes: 10261 \n",
      "\n"
     ]
    }
   ],
   "source": [
    "# Get a list of nodes with no edges\n",
    "isolated_nodes = list(nx.isolates(graph_A))\n",
    "# Print the isolated nodes\n",
    "print(\"Isolated nodes:\", len(isolated_nodes), \"\\n\")\n",
    "# get the number of nodes in the graph\n",
    "print(\"Number of nodes:\", len(graph_A.nodes()), \"\\n\")"
   ]
  },
  {
   "attachments": {},
   "cell_type": "markdown",
   "metadata": {},
   "source": [
    "## Combination B\n",
    "### Info_message as Node & source_port as Edge"
   ]
  },
  {
   "cell_type": "code",
   "execution_count": 80,
   "metadata": {},
   "outputs": [],
   "source": [
    "graph_B = nx.Graph()\n",
    "for info_message in unsw_labeled[\"info_message\"].unique():\n",
    "    graph_B.add_node(info_message)\n",
    "\n",
    "for (source_port), group in unsw_labeled.groupby([\"source_port\"]):\n",
    "    for i in range(len(group) - 1):\n",
    "        from_node = group.iloc[i][\"info_message\"]\n",
    "        to_node = group.iloc[i+1][\"info_message\"]\n",
    "        if graph_B.has_edge(from_node, to_node):\n",
    "            graph_B[from_node][to_node][\"weight\"] += 1\n",
    "        else:\n",
    "            graph_B.add_edge(from_node, to_node, weight=1)"
   ]
  },
  {
   "cell_type": "code",
   "execution_count": 81,
   "metadata": {},
   "outputs": [],
   "source": [
    "pickle.dump(graph_B, open('model_graph/graph_B.pickle', 'wb'))"
   ]
  },
  {
   "cell_type": "code",
   "execution_count": 128,
   "metadata": {},
   "outputs": [],
   "source": [
    "## open the graph\n",
    "graph_B = pickle.load(open('model_graph/graph_B.pickle', 'rb'))"
   ]
  },
  {
   "cell_type": "code",
   "execution_count": 129,
   "metadata": {},
   "outputs": [
    {
     "name": "stdout",
     "output_type": "stream",
     "text": [
      "Isolated nodes: 2251 \n",
      "\n",
      "Number of nodes: 10261 \n",
      "\n"
     ]
    }
   ],
   "source": [
    "# Get a list of nodes with no edges\n",
    "isolated_nodes = list(nx.isolates(graph_B))\n",
    "\n",
    "# Print the isolated nodes\n",
    "print(\"Isolated nodes:\", len(isolated_nodes), \"\\n\")\n",
    "# get the number of nodes in the graph\n",
    "print(\"Number of nodes:\", len(graph_B.nodes()), \"\\n\")"
   ]
  },
  {
   "attachments": {},
   "cell_type": "markdown",
   "metadata": {},
   "source": [
    "## Combination C\n",
    "### 1. info_message as Node\n",
    "#### 2. source_ip & source_port as Edge"
   ]
  },
  {
   "cell_type": "code",
   "execution_count": 83,
   "metadata": {},
   "outputs": [],
   "source": [
    "graph_C = nx.Graph()\n",
    "for info_message in unsw_labeled[\"info_message\"].unique():\n",
    "    graph_C.add_node(info_message)\n",
    "\n",
    "for (source_ip, source_port), group in unsw_labeled.groupby([\"source_ip\", \"source_port\"]):\n",
    "    for i in range(len(group) - 1):\n",
    "        from_node = group.iloc[i][\"info_message\"]\n",
    "        to_node = group.iloc[i+1][\"info_message\"]\n",
    "        if graph_C.has_edge(from_node, to_node):\n",
    "            graph_C[from_node][to_node][\"weight\"] += 1\n",
    "        else:\n",
    "            graph_C.add_edge(from_node, to_node, weight=1)"
   ]
  },
  {
   "cell_type": "code",
   "execution_count": 84,
   "metadata": {},
   "outputs": [],
   "source": [
    "pickle.dump(graph_C, open('model_graph/graph_C.pickle', 'wb'))"
   ]
  },
  {
   "cell_type": "code",
   "execution_count": 130,
   "metadata": {},
   "outputs": [],
   "source": [
    "## open the graph\n",
    "graph_C = pickle.load(open('model_graph/graph_C.pickle', 'rb'))"
   ]
  },
  {
   "cell_type": "code",
   "execution_count": 131,
   "metadata": {},
   "outputs": [
    {
     "name": "stdout",
     "output_type": "stream",
     "text": [
      "Isolated nodes: 7413 \n",
      "\n",
      "Number of nodes: 10261 \n",
      "\n"
     ]
    }
   ],
   "source": [
    "# Get a list of nodes with no edges\n",
    "isolated_nodes = list(nx.isolates(graph_C))\n",
    "\n",
    "# Print the isolated nodes\n",
    "print(\"Isolated nodes:\", len(isolated_nodes), \"\\n\")\n",
    "# get the number of nodes in the graph\n",
    "print(\"Number of nodes:\", len(graph_C.nodes()), \"\\n\")"
   ]
  },
  {
   "attachments": {},
   "cell_type": "markdown",
   "metadata": {},
   "source": [
    "## Combination D\n",
    "### source_port_info as Node & source_ip as Edge"
   ]
  },
  {
   "cell_type": "code",
   "execution_count": 8,
   "metadata": {},
   "outputs": [],
   "source": [
    "graph_D = nx.Graph()\n",
    "for info_message in unsw_labeled[\"source_port_info\"].unique():\n",
    "    graph_D.add_node(info_message)\n",
    "for (source_ip), group in unsw_labeled.groupby([\"source_ip\"]):\n",
    "    for i in range(len(group) - 1):\n",
    "        from_node = group.iloc[i][\"source_port_info\"]\n",
    "        to_node = group.iloc[i+1][\"source_port_info\"]\n",
    "        if graph_D.has_edge(from_node, to_node):\n",
    "            graph_D[from_node][to_node][\"weight\"] += 1\n",
    "        else:\n",
    "            graph_D.add_edge(from_node, to_node, weight=1)"
   ]
  },
  {
   "cell_type": "code",
   "execution_count": 119,
   "metadata": {},
   "outputs": [],
   "source": [
    "pickle.dump(graph_D, open('model_graph/graph_D.pickle', 'wb'))"
   ]
  },
  {
   "cell_type": "code",
   "execution_count": 132,
   "metadata": {},
   "outputs": [],
   "source": [
    "## open the graph\n",
    "graph_D = pickle.load(open('model_graph/graph_D.pickle', 'rb'))"
   ]
  },
  {
   "cell_type": "code",
   "execution_count": 133,
   "metadata": {},
   "outputs": [
    {
     "name": "stdout",
     "output_type": "stream",
     "text": [
      "Isolated nodes: 0 \n",
      "\n",
      "Number of nodes: 94690 \n",
      "\n"
     ]
    }
   ],
   "source": [
    "# Get a list of nodes with no edges\n",
    "isolated_nodes = list(nx.isolates(graph_D))\n",
    "# Print the isolated nodes\n",
    "print(\"Isolated nodes:\", len(isolated_nodes), \"\\n\")\n",
    "# get the number of nodes in the graph\n",
    "print(\"Number of nodes:\", len(graph_D.nodes()), \"\\n\")"
   ]
  },
  {
   "attachments": {},
   "cell_type": "markdown",
   "metadata": {},
   "source": [
    "## Combination E\n",
    "### source_port_info as Node & source_port as Edge"
   ]
  },
  {
   "cell_type": "code",
   "execution_count": 117,
   "metadata": {},
   "outputs": [],
   "source": [
    "graph_E = nx.Graph()\n",
    "for info_message in unsw_labeled[\"source_port_info\"].unique():\n",
    "    graph_E.add_node(info_message)\n",
    "for (source_port) , group in unsw_labeled.groupby([\"source_port\"]):\n",
    "    for i in range(len(group) - 1):\n",
    "        from_node = group.iloc[i][\"source_port_info\"]\n",
    "        to_node = group.iloc[i+1][\"source_port_info\"]\n",
    "        if graph_E.has_edge(from_node, to_node):\n",
    "            graph_E[from_node][to_node][\"weight\"] += 1\n",
    "        else:\n",
    "            graph_E.add_edge(from_node, to_node, weight=1)"
   ]
  },
  {
   "cell_type": "code",
   "execution_count": 120,
   "metadata": {},
   "outputs": [],
   "source": [
    "pickle.dump(graph_E, open('model_graph/graph_E.pickle', 'wb'))"
   ]
  },
  {
   "cell_type": "code",
   "execution_count": 134,
   "metadata": {},
   "outputs": [],
   "source": [
    "## open the graph\n",
    "graph_E = pickle.load(open('model_graph/graph_E.pickle', 'rb'))"
   ]
  },
  {
   "cell_type": "code",
   "execution_count": 135,
   "metadata": {},
   "outputs": [
    {
     "name": "stdout",
     "output_type": "stream",
     "text": [
      "Isolated nodes: 8749 \n",
      "\n",
      "Number of nodes: 94690 \n",
      "\n"
     ]
    }
   ],
   "source": [
    "# Get a list of nodes with no edges\n",
    "isolated_nodes = list(nx.isolates(graph_E))\n",
    "\n",
    "# Print the isolated nodes\n",
    "print(\"Isolated nodes:\", len(isolated_nodes), \"\\n\")\n",
    "# get the number of nodes in the graph\n",
    "print(\"Number of nodes:\", len(graph_E.nodes()), \"\\n\")"
   ]
  },
  {
   "attachments": {},
   "cell_type": "markdown",
   "metadata": {},
   "source": [
    "## Combination F\n",
    "### source_port_info as Node & source_ip|source_port as Edge"
   ]
  },
  {
   "cell_type": "code",
   "execution_count": 122,
   "metadata": {},
   "outputs": [],
   "source": [
    "graph_F = nx.Graph()\n",
    "for info_message in unsw_labeled[\"source_port_info\"].unique():\n",
    "    graph_F.add_node(info_message)\n",
    "for (source_ip, source_port), group in unsw_labeled.groupby([\"source_ip\", \"source_port\"]):\n",
    "    for i in range(len(group) - 1):\n",
    "        from_node = group.iloc[i][\"source_port_info\"]\n",
    "        to_node = group.iloc[i+1][\"source_port_info\"]\n",
    "        if graph_F.has_edge(from_node, to_node):\n",
    "            graph_F[from_node][to_node][\"weight\"] += 1\n",
    "        else:\n",
    "            graph_F.add_edge(from_node, to_node, weight=1)"
   ]
  },
  {
   "cell_type": "code",
   "execution_count": 125,
   "metadata": {},
   "outputs": [],
   "source": [
    "pickle.dump(graph_F, open('model_graph/graph_F.pickle', 'wb'))"
   ]
  },
  {
   "cell_type": "code",
   "execution_count": 136,
   "metadata": {},
   "outputs": [],
   "source": [
    "## open the graph\n",
    "graph_F = pickle.load(open('model_graph/graph_F.pickle', 'rb'))"
   ]
  },
  {
   "cell_type": "code",
   "execution_count": 137,
   "metadata": {},
   "outputs": [
    {
     "name": "stdout",
     "output_type": "stream",
     "text": [
      "Isolated nodes: 24693 \n",
      "\n",
      "Number of nodes: 94690 \n",
      "\n"
     ]
    }
   ],
   "source": [
    "# Get a list of nodes with no edges\n",
    "isolated_nodes = list(nx.isolates(graph_F))\n",
    "\n",
    "# Print the isolated nodes\n",
    "print(\"Isolated nodes:\", len(isolated_nodes), \"\\n\")\n",
    "# get the number of nodes in the graph\n",
    "print(\"Number of nodes:\", len(graph_F.nodes()), \"\\n\")"
   ]
  }
 ],
 "metadata": {
  "kernelspec": {
   "display_name": "Python 3",
   "language": "python",
   "name": "python3"
  },
  "language_info": {
   "codemirror_mode": {
    "name": "ipython",
    "version": 3
   },
   "file_extension": ".py",
   "mimetype": "text/x-python",
   "name": "python",
   "nbconvert_exporter": "python",
   "pygments_lexer": "ipython3",
   "version": "3.8.0"
  },
  "orig_nbformat": 4
 },
 "nbformat": 4,
 "nbformat_minor": 2
}
