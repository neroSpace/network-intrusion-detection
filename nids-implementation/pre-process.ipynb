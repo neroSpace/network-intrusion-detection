{
 "cells": [
  {
   "attachments": {},
   "cell_type": "markdown",
   "metadata": {},
   "source": [
    "# Load Library"
   ]
  },
  {
   "cell_type": "code",
   "execution_count": 1,
   "metadata": {},
   "outputs": [],
   "source": [
    "import pandas as pd\n",
    "import matplotlib.pyplot as plt\n",
    "import numpy as np\n",
    "import chardet"
   ]
  },
  {
   "attachments": {},
   "cell_type": "markdown",
   "metadata": {},
   "source": [
    "# Pre-Process"
   ]
  },
  {
   "attachments": {},
   "cell_type": "markdown",
   "metadata": {},
   "source": [
    "## Data Labeling"
   ]
  },
  {
   "attachments": {},
   "cell_type": "markdown",
   "metadata": {},
   "source": [
    "### load origin dataset"
   ]
  },
  {
   "cell_type": "code",
   "execution_count": 5,
   "metadata": {},
   "outputs": [
    {
     "name": "stdout",
     "output_type": "stream",
     "text": [
      "<class 'pandas.core.frame.DataFrame'>\n",
      "RangeIndex: 489203 entries, 0 to 489202\n",
      "Data columns (total 7 columns):\n",
      " #   Column            Non-Null Count   Dtype  \n",
      "---  ------            --------------   -----  \n",
      " 0   source_ip         489203 non-null  object \n",
      " 1   destination_ip    489203 non-null  object \n",
      " 2   source_port       489203 non-null  int64  \n",
      " 3   destination_port  489203 non-null  int64  \n",
      " 4   protocol          489203 non-null  object \n",
      " 5   start_time        489203 non-null  float64\n",
      " 6   info_message      489203 non-null  object \n",
      "dtypes: float64(1), int64(2), object(4)\n",
      "memory usage: 145.8 MB\n"
     ]
    }
   ],
   "source": [
    "origin = pd.read_csv(\"C:\\\\Users\\\\asus\\\\Documents\\\\nids-pcap-dataset\\\\unsw_dataset.csv\", encoding='MacRoman'\n",
    "                   ,on_bad_lines='skip', index_col=None)\n",
    "origin.rename(columns = {'_ws.col.Index':'index_ws',\n",
    "                       '_ws.col.Info':'info_message',\n",
    "                       '_ws.col.start_time':'start_time',\n",
    "                       '_ws.col.Source':'source_ip',\n",
    "                       '_ws.col.Destination':'destination_ip',\n",
    "                       '_ws.col.Protocol':'protocol',\n",
    "                       '_ws.col.sport':'source_port',\n",
    "                       '_ws.col.dport':'destination_port'}, inplace = True)\n",
    "origin.head()\n",
    "origin.info(memory_usage='deep')"
   ]
  },
  {
   "cell_type": "code",
   "execution_count": 6,
   "metadata": {},
   "outputs": [
    {
     "name": "stdout",
     "output_type": "stream",
     "text": [
      "<class 'pandas.core.frame.DataFrame'>\n",
      "RangeIndex: 489203 entries, 0 to 489202\n",
      "Data columns (total 7 columns):\n",
      " #   Column            Non-Null Count   Dtype   \n",
      "---  ------            --------------   -----   \n",
      " 0   source_ip         489203 non-null  category\n",
      " 1   destination_ip    489203 non-null  category\n",
      " 2   source_port       489203 non-null  int32   \n",
      " 3   destination_port  489203 non-null  int32   \n",
      " 4   protocol          489203 non-null  category\n",
      " 5   start_time        489203 non-null  float32 \n",
      " 6   info_message      489203 non-null  category\n",
      "dtypes: category(4), float32(1), int32(2)\n",
      "memory usage: 10.9 MB\n"
     ]
    }
   ],
   "source": [
    "# memory optimization with fast.ai\n",
    "from fastai.tabular.core import df_shrink\n",
    "origin = df_shrink(origin)\n",
    "origin.info(memory_usage='deep')"
   ]
  },
  {
   "attachments": {},
   "cell_type": "markdown",
   "metadata": {},
   "source": [
    "### load gt dataset"
   ]
  },
  {
   "cell_type": "code",
   "execution_count": 7,
   "metadata": {},
   "outputs": [],
   "source": [
    "gt = pd.read_csv(\"C:\\\\Users\\\\asus\\\\Documents\\\\nids-pcap-dataset\\\\unsw_ground_truth\\\\NUSW-NB15_GT.csv\"\n",
    "                   ,on_bad_lines='skip')"
   ]
  },
  {
   "cell_type": "code",
   "execution_count": 8,
   "metadata": {},
   "outputs": [],
   "source": [
    "import re\n",
    "def clean_colname(colname):\n",
    "    return re.sub(r'\\s+', '_', colname.lower())"
   ]
  },
  {
   "cell_type": "code",
   "execution_count": 12,
   "metadata": {},
   "outputs": [
    {
     "name": "stdout",
     "output_type": "stream",
     "text": [
      "<class 'pandas.core.frame.DataFrame'>\n",
      "RangeIndex: 174347 entries, 0 to 174346\n",
      "Data columns (total 12 columns):\n",
      " #   Column              Non-Null Count   Dtype \n",
      "---  ------              --------------   ----- \n",
      " 0   start_time          174347 non-null  int64 \n",
      " 1   last_time           174347 non-null  int64 \n",
      " 2   attack_category     174347 non-null  object\n",
      " 3   attack_subcategory  170250 non-null  object\n",
      " 4   protocol            174347 non-null  object\n",
      " 5   source_ip           174347 non-null  object\n",
      " 6   source_port         174347 non-null  int64 \n",
      " 7   destination_ip      174347 non-null  object\n",
      " 8   destination_port    174347 non-null  int64 \n",
      " 9   attack_name         174346 non-null  object\n",
      " 10  attack_reference    123709 non-null  object\n",
      " 11  .                   174347 non-null  object\n",
      "dtypes: int64(4), object(8)\n",
      "memory usage: 156.5 MB\n"
     ]
    },
    {
     "data": {
      "text/html": [
       "<div>\n",
       "<style scoped>\n",
       "    .dataframe tbody tr th:only-of-type {\n",
       "        vertical-align: middle;\n",
       "    }\n",
       "\n",
       "    .dataframe tbody tr th {\n",
       "        vertical-align: top;\n",
       "    }\n",
       "\n",
       "    .dataframe thead th {\n",
       "        text-align: right;\n",
       "    }\n",
       "</style>\n",
       "<table border=\"1\" class=\"dataframe\">\n",
       "  <thead>\n",
       "    <tr style=\"text-align: right;\">\n",
       "      <th></th>\n",
       "      <th>start_time</th>\n",
       "      <th>last_time</th>\n",
       "      <th>attack_category</th>\n",
       "      <th>attack_subcategory</th>\n",
       "      <th>protocol</th>\n",
       "      <th>source_ip</th>\n",
       "      <th>source_port</th>\n",
       "      <th>destination_ip</th>\n",
       "      <th>destination_port</th>\n",
       "      <th>attack_name</th>\n",
       "      <th>attack_reference</th>\n",
       "      <th>.</th>\n",
       "    </tr>\n",
       "  </thead>\n",
       "  <tbody>\n",
       "    <tr>\n",
       "      <th>0</th>\n",
       "      <td>1421927414</td>\n",
       "      <td>1421927416</td>\n",
       "      <td>Reconnaissance</td>\n",
       "      <td>HTTP</td>\n",
       "      <td>tcp</td>\n",
       "      <td>175.45.176.0</td>\n",
       "      <td>13284</td>\n",
       "      <td>149.171.126.16</td>\n",
       "      <td>80</td>\n",
       "      <td>Domino Web Server Database Access: /doladmin.nsf (https://strikecenter.bpointsys.com/bps/strikes/recon/http/domino/access_domino_doladmin_nsf.xml)</td>\n",
       "      <td>-</td>\n",
       "      <td>.</td>\n",
       "    </tr>\n",
       "    <tr>\n",
       "      <th>1</th>\n",
       "      <td>1421927415</td>\n",
       "      <td>1421927415</td>\n",
       "      <td>Exploits</td>\n",
       "      <td>Unix 'r' Service</td>\n",
       "      <td>udp</td>\n",
       "      <td>175.45.176.3</td>\n",
       "      <td>21223</td>\n",
       "      <td>149.171.126.18</td>\n",
       "      <td>32780</td>\n",
       "      <td>Solaris rwalld Format String Vulnerability (https://strikecenter.bpointsys.com/bps/strikes/exploits/rservices/solaris_rwall_format_string.xml)</td>\n",
       "      <td>CVE 2002-0573 (http://cve.mitre.org/cgi-bin/cvename.cgi?name=2002%2d0573)BID 4639 (http://www.securityfocus.com/bid/4639)CVSS-High (https://strikecenter.bpointsys.com/bps/reference/CVSS/7.5%20%28AV%3aN%2fAC%3aL%2fAu%3aN%2fC%3aP%2fI%3aP%2fA%3aP%29)</td>\n",
       "      <td>.</td>\n",
       "    </tr>\n",
       "    <tr>\n",
       "      <th>2</th>\n",
       "      <td>1421927416</td>\n",
       "      <td>1421927416</td>\n",
       "      <td>Exploits</td>\n",
       "      <td>Browser</td>\n",
       "      <td>tcp</td>\n",
       "      <td>175.45.176.2</td>\n",
       "      <td>23357</td>\n",
       "      <td>149.171.126.16</td>\n",
       "      <td>80</td>\n",
       "      <td>Windows Metafile (WMF) SetAbortProc() Code Execution [009] (https://strikecenter.bpointsys.com/bps/strikes/exploits/browser/wmf_009.xml)</td>\n",
       "      <td>CVE 2005-4560 (http://cve.mitre.org/cgi-bin/cvename.cgi?name=2005%2d4560)BID 16074 (http://www.securityfocus.com/bid/16074)OSVDB 21987 (http://www.osvdb.org/21987)CVSS-High (https://strikecenter.bpointsys.com/bps/reference/CVSS/7.5%20%28AV%3aN%2fAC%3aL%2fAu%3aN%2fC%3aP%2fI%3aP%2fA%3aP%29)</td>\n",
       "      <td>.</td>\n",
       "    </tr>\n",
       "    <tr>\n",
       "      <th>3</th>\n",
       "      <td>1421927417</td>\n",
       "      <td>1421927417</td>\n",
       "      <td>Exploits</td>\n",
       "      <td>Miscellaneous Batch</td>\n",
       "      <td>tcp</td>\n",
       "      <td>175.45.176.2</td>\n",
       "      <td>13792</td>\n",
       "      <td>149.171.126.16</td>\n",
       "      <td>5555</td>\n",
       "      <td>HP Data Protector Backup (https://strikecenter.bpointsys.com/bps/strikes/exploits/misc/cve_2011_1729.xml)</td>\n",
       "      <td>CVE 2011-1729 (http://cve.mitre.org/cgi-bin/cvename.cgi?name=2011%2d1729)BID 47638 (http://www.securityfocus.com/bid/47638)OSVDB 72188 (http://www.osvdb.org/72188)CVSS-Critical (https://strikecenter.bpointsys.com/bps/reference/CVSS/10.0%20%28AV%3aN%2fAC%3aL%2fAu%3aN%2fC%3aC%2fI%3aC%2fA%3aC%29)</td>\n",
       "      <td>.</td>\n",
       "    </tr>\n",
       "    <tr>\n",
       "      <th>4</th>\n",
       "      <td>1421927418</td>\n",
       "      <td>1421927418</td>\n",
       "      <td>Exploits</td>\n",
       "      <td>Cisco IOS</td>\n",
       "      <td>tcp</td>\n",
       "      <td>175.45.176.2</td>\n",
       "      <td>26939</td>\n",
       "      <td>149.171.126.10</td>\n",
       "      <td>80</td>\n",
       "      <td>Cisco IOS HTTP Authentication Bypass Level 64 (https://strikecenter.bpointsys.com/bps/strikes/exploits/ios/cisco_auth_bypass_level_64.xml)</td>\n",
       "      <td>CVE 2001-0537 (http://cve.mitre.org/cgi-bin/cvename.cgi?name=2001%2d0537)BID 2936 (http://www.securityfocus.com/bid/2936)OSVDB 578 (http://www.osvdb.org/578)CVSS-High (https://strikecenter.bpointsys.com/bps/reference/CVSS/9.3%20%28AV%3aN%2fAC%3aM%2fAu%3aN%2fC%3aC%2fI%3aC%2fA%3aC%29)</td>\n",
       "      <td>.</td>\n",
       "    </tr>\n",
       "  </tbody>\n",
       "</table>\n",
       "</div>"
      ],
      "text/plain": [
       "   start_time   last_time attack_category   attack_subcategory protocol   \n",
       "0  1421927414  1421927416  Reconnaissance                 HTTP      tcp  \\\n",
       "1  1421927415  1421927415        Exploits     Unix 'r' Service      udp   \n",
       "2  1421927416  1421927416        Exploits              Browser      tcp   \n",
       "3  1421927417  1421927417        Exploits  Miscellaneous Batch      tcp   \n",
       "4  1421927418  1421927418        Exploits           Cisco IOS       tcp   \n",
       "\n",
       "      source_ip  source_port  destination_ip  destination_port   \n",
       "0  175.45.176.0        13284  149.171.126.16                80  \\\n",
       "1  175.45.176.3        21223  149.171.126.18             32780   \n",
       "2  175.45.176.2        23357  149.171.126.16                80   \n",
       "3  175.45.176.2        13792  149.171.126.16              5555   \n",
       "4  175.45.176.2        26939  149.171.126.10                80   \n",
       "\n",
       "                                                                                                                                          attack_name   \n",
       "0  Domino Web Server Database Access: /doladmin.nsf (https://strikecenter.bpointsys.com/bps/strikes/recon/http/domino/access_domino_doladmin_nsf.xml)  \\\n",
       "1      Solaris rwalld Format String Vulnerability (https://strikecenter.bpointsys.com/bps/strikes/exploits/rservices/solaris_rwall_format_string.xml)   \n",
       "2            Windows Metafile (WMF) SetAbortProc() Code Execution [009] (https://strikecenter.bpointsys.com/bps/strikes/exploits/browser/wmf_009.xml)   \n",
       "3                                           HP Data Protector Backup (https://strikecenter.bpointsys.com/bps/strikes/exploits/misc/cve_2011_1729.xml)   \n",
       "4          Cisco IOS HTTP Authentication Bypass Level 64 (https://strikecenter.bpointsys.com/bps/strikes/exploits/ios/cisco_auth_bypass_level_64.xml)   \n",
       "\n",
       "                                                                                                                                                                                                                                                                                         attack_reference   \n",
       "0                                                                                                                                                                                                                                                                                                       -  \\\n",
       "1                                                 CVE 2002-0573 (http://cve.mitre.org/cgi-bin/cvename.cgi?name=2002%2d0573)BID 4639 (http://www.securityfocus.com/bid/4639)CVSS-High (https://strikecenter.bpointsys.com/bps/reference/CVSS/7.5%20%28AV%3aN%2fAC%3aL%2fAu%3aN%2fC%3aP%2fI%3aP%2fA%3aP%29)   \n",
       "2       CVE 2005-4560 (http://cve.mitre.org/cgi-bin/cvename.cgi?name=2005%2d4560)BID 16074 (http://www.securityfocus.com/bid/16074)OSVDB 21987 (http://www.osvdb.org/21987)CVSS-High (https://strikecenter.bpointsys.com/bps/reference/CVSS/7.5%20%28AV%3aN%2fAC%3aL%2fAu%3aN%2fC%3aP%2fI%3aP%2fA%3aP%29)   \n",
       "3  CVE 2011-1729 (http://cve.mitre.org/cgi-bin/cvename.cgi?name=2011%2d1729)BID 47638 (http://www.securityfocus.com/bid/47638)OSVDB 72188 (http://www.osvdb.org/72188)CVSS-Critical (https://strikecenter.bpointsys.com/bps/reference/CVSS/10.0%20%28AV%3aN%2fAC%3aL%2fAu%3aN%2fC%3aC%2fI%3aC%2fA%3aC%29)   \n",
       "4             CVE 2001-0537 (http://cve.mitre.org/cgi-bin/cvename.cgi?name=2001%2d0537)BID 2936 (http://www.securityfocus.com/bid/2936)OSVDB 578 (http://www.osvdb.org/578)CVSS-High (https://strikecenter.bpointsys.com/bps/reference/CVSS/9.3%20%28AV%3aN%2fAC%3aM%2fAu%3aN%2fC%3aC%2fI%3aC%2fA%3aC%29)   \n",
       "\n",
       "   .  \n",
       "0  .  \n",
       "1  .  \n",
       "2  .  \n",
       "3  .  \n",
       "4  .  "
      ]
     },
     "execution_count": 12,
     "metadata": {},
     "output_type": "execute_result"
    }
   ],
   "source": [
    "gt = gt.rename(columns={colname: clean_colname(colname) for colname in gt.columns})\n",
    "gt.info(memory_usage='deep')\n",
    "gt.head()"
   ]
  },
  {
   "cell_type": "code",
   "execution_count": 13,
   "metadata": {},
   "outputs": [
    {
     "name": "stdout",
     "output_type": "stream",
     "text": [
      "<class 'pandas.core.frame.DataFrame'>\n",
      "RangeIndex: 174347 entries, 0 to 174346\n",
      "Data columns (total 12 columns):\n",
      " #   Column              Non-Null Count   Dtype   \n",
      "---  ------              --------------   -----   \n",
      " 0   start_time          174347 non-null  int32   \n",
      " 1   last_time           174347 non-null  int32   \n",
      " 2   attack_category     174347 non-null  category\n",
      " 3   attack_subcategory  170250 non-null  category\n",
      " 4   protocol            174347 non-null  category\n",
      " 5   source_ip           174347 non-null  category\n",
      " 6   source_port         174347 non-null  int32   \n",
      " 7   destination_ip      174347 non-null  category\n",
      " 8   destination_port    174347 non-null  int32   \n",
      " 9   attack_name         174346 non-null  category\n",
      " 10  attack_reference    123709 non-null  category\n",
      " 11  .                   174347 non-null  category\n",
      "dtypes: category(8), int32(4)\n",
      "memory usage: 11.8 MB\n"
     ]
    }
   ],
   "source": [
    "## memory optimization with fast.ai\n",
    "gt = df_shrink(gt)\n",
    "gt.info(memory_usage='deep')"
   ]
  },
  {
   "attachments": {},
   "cell_type": "markdown",
   "metadata": {},
   "source": [
    "### Merging original & gt dataset"
   ]
  },
  {
   "cell_type": "code",
   "execution_count": 14,
   "metadata": {},
   "outputs": [],
   "source": [
    "unsw_labeled = pd.merge(origin, gt, how='left', on=['source_ip', 'destination_ip', 'source_port', 'destination_port'])[\n",
    "                ['source_ip', 'destination_ip', 'source_port', 'destination_port', 'info_message', 'attack_category']\n",
    "                ]\n",
    "unsw_labeled['is_malware'] = np.where(unsw_labeled['attack_category'].isnull(), 0, 1)"
   ]
  },
  {
   "cell_type": "code",
   "execution_count": 15,
   "metadata": {},
   "outputs": [],
   "source": [
    "unsw_labeled['is_malware'] = np.where(unsw_labeled['attack_category'].isnull(), 0, 1)"
   ]
  },
  {
   "cell_type": "code",
   "execution_count": 16,
   "metadata": {},
   "outputs": [
    {
     "data": {
      "text/html": [
       "<div>\n",
       "<style scoped>\n",
       "    .dataframe tbody tr th:only-of-type {\n",
       "        vertical-align: middle;\n",
       "    }\n",
       "\n",
       "    .dataframe tbody tr th {\n",
       "        vertical-align: top;\n",
       "    }\n",
       "\n",
       "    .dataframe thead th {\n",
       "        text-align: right;\n",
       "    }\n",
       "</style>\n",
       "<table border=\"1\" class=\"dataframe\">\n",
       "  <thead>\n",
       "    <tr style=\"text-align: right;\">\n",
       "      <th></th>\n",
       "      <th>source_ip</th>\n",
       "      <th>destination_ip</th>\n",
       "      <th>source_port</th>\n",
       "      <th>destination_port</th>\n",
       "      <th>info_message</th>\n",
       "      <th>attack_category</th>\n",
       "      <th>is_malware</th>\n",
       "    </tr>\n",
       "  </thead>\n",
       "  <tbody>\n",
       "    <tr>\n",
       "      <th>0</th>\n",
       "      <td>149.171.126.18</td>\n",
       "      <td>175.45.176.1</td>\n",
       "      <td>80</td>\n",
       "      <td>4657</td>\n",
       "      <td>HTTP/1.1 200 OK [Malformed Packet]</td>\n",
       "      <td>NaN</td>\n",
       "      <td>0</td>\n",
       "    </tr>\n",
       "    <tr>\n",
       "      <th>1</th>\n",
       "      <td>175.45.176.1</td>\n",
       "      <td>149.171.126.18</td>\n",
       "      <td>4657</td>\n",
       "      <td>80</td>\n",
       "      <td>GET /oKmwKoVbq HTTP/1.1</td>\n",
       "      <td>NaN</td>\n",
       "      <td>0</td>\n",
       "    </tr>\n",
       "    <tr>\n",
       "      <th>2</th>\n",
       "      <td>175.45.176.3</td>\n",
       "      <td>149.171.126.18</td>\n",
       "      <td>32473</td>\n",
       "      <td>80</td>\n",
       "      <td>GET /level/15/exec/-/buffers/assigned/dump HTTP/1.1</td>\n",
       "      <td>NaN</td>\n",
       "      <td>0</td>\n",
       "    </tr>\n",
       "    <tr>\n",
       "      <th>3</th>\n",
       "      <td>175.45.176.2</td>\n",
       "      <td>149.171.126.19</td>\n",
       "      <td>59386</td>\n",
       "      <td>8020</td>\n",
       "      <td>POST /HttpFileUpload/FileUploadController.do HTTP/1.1</td>\n",
       "      <td>NaN</td>\n",
       "      <td>0</td>\n",
       "    </tr>\n",
       "    <tr>\n",
       "      <th>4</th>\n",
       "      <td>149.171.126.14</td>\n",
       "      <td>175.45.176.0</td>\n",
       "      <td>80</td>\n",
       "      <td>21873</td>\n",
       "      <td>[TCP ACKed unseen segment] HTTP/1.1 200 OK  (text/html)</td>\n",
       "      <td>NaN</td>\n",
       "      <td>0</td>\n",
       "    </tr>\n",
       "  </tbody>\n",
       "</table>\n",
       "</div>"
      ],
      "text/plain": [
       "        source_ip  destination_ip  source_port  destination_port   \n",
       "0  149.171.126.18    175.45.176.1           80              4657  \\\n",
       "1    175.45.176.1  149.171.126.18         4657                80   \n",
       "2    175.45.176.3  149.171.126.18        32473                80   \n",
       "3    175.45.176.2  149.171.126.19        59386              8020   \n",
       "4  149.171.126.14    175.45.176.0           80             21873   \n",
       "\n",
       "                                              info_message attack_category   \n",
       "0                       HTTP/1.1 200 OK [Malformed Packet]             NaN  \\\n",
       "1                                 GET /oKmwKoVbq HTTP/1.1              NaN   \n",
       "2     GET /level/15/exec/-/buffers/assigned/dump HTTP/1.1              NaN   \n",
       "3   POST /HttpFileUpload/FileUploadController.do HTTP/1.1              NaN   \n",
       "4  [TCP ACKed unseen segment] HTTP/1.1 200 OK  (text/html)             NaN   \n",
       "\n",
       "   is_malware  \n",
       "0           0  \n",
       "1           0  \n",
       "2           0  \n",
       "3           0  \n",
       "4           0  "
      ]
     },
     "execution_count": 16,
     "metadata": {},
     "output_type": "execute_result"
    }
   ],
   "source": [
    "unsw_labeled.head()"
   ]
  },
  {
   "cell_type": "code",
   "execution_count": 17,
   "metadata": {},
   "outputs": [
    {
     "data": {
      "image/png": "[encoded data removed]",
      "text/plain": [
       "<Figure size 432x288 with 1 Axes>"
      ]
     },
     "metadata": {
      "needs_background": "light"
     },
     "output_type": "display_data"
    }
   ],
   "source": [
    "unsw_labeled.is_malware.value_counts().plot(kind='bar', title='Malware vs Benign')\n",
    "plt.xlabel('is_malware')\n",
    "plt.ylabel('count')\n",
    "value_counts = unsw_labeled.is_malware.value_counts()\n",
    "for i, count in enumerate(value_counts):\n",
    "    plt.text(i, count, str(count), ha='center', va='bottom')\n",
    "plt.show()"
   ]
  },
  {
   "cell_type": "code",
   "execution_count": 19,
   "metadata": {},
   "outputs": [],
   "source": [
    "# create new columns for graph modeling\n",
    "unsw_labeled['source_ip_info'] = unsw_labeled['source_ip'].astype(str) + ' ' + unsw_labeled['info_message'].astype(str)\n",
    "unsw_labeled['source_ip_info'] = unsw_labeled['source_ip_info'].astype(str)\n",
    "unsw_labeled['source_port_info'] = unsw_labeled['source_port'].astype(str) + ' ' + unsw_labeled['info_message'].astype(str)\n",
    "unsw_labeled['source_port_info'] = unsw_labeled['source_port_info'].astype(str)\n",
    "unsw_labeled['dest_ip_info'] = unsw_labeled['destination_ip'].astype(str) + ' ' + unsw_labeled['info_message']\n",
    "unsw_labeled['dest_ip_info'] = unsw_labeled['dest_ip_info'].astype(str)\n",
    "unsw_labeled['dest_port_info'] = unsw_labeled['destination_port'].astype(str) + ' ' + unsw_labeled['info_message']\n",
    "unsw_labeled['dest_port_info'] = unsw_labeled['dest_port_info'].astype(str)"
   ]
  },
  {
   "attachments": {},
   "cell_type": "markdown",
   "metadata": {},
   "source": [
    "## Data Cleaning"
   ]
  },
  {
   "cell_type": "code",
   "execution_count": 24,
   "metadata": {},
   "outputs": [],
   "source": [
    "unsw_labeled = unsw_labeled[unsw_labeled['destination_port'] == '80']"
   ]
  },
  {
   "cell_type": "code",
   "execution_count": 63,
   "metadata": {},
   "outputs": [],
   "source": [
    "list_of_words = [\"GET\", \"HTTP\"]\n",
    "unsw_labeled = unsw_labeled[unsw_labeled['info_message'].str.contains('|'.join(list_of_words))]"
   ]
  },
  {
   "cell_type": "code",
   "execution_count": 64,
   "metadata": {},
   "outputs": [
    {
     "data": {
      "image/png": "[encoded data removed]",
      "text/plain": [
       "<Figure size 432x288 with 1 Axes>"
      ]
     },
     "metadata": {
      "needs_background": "light"
     },
     "output_type": "display_data"
    }
   ],
   "source": [
    "unsw_labeled.is_malware.value_counts().plot(kind='bar', title='Malware vs Benign')\n",
    "plt.xlabel('is_malware')\n",
    "plt.ylabel('count')\n",
    "value_counts = unsw_labeled.is_malware.value_counts()\n",
    "for i, count in enumerate(value_counts):\n",
    "    plt.text(i, count, str(count), ha='center', va='bottom')\n",
    "plt.show()"
   ]
  },
  {
   "cell_type": "code",
   "execution_count": 65,
   "metadata": {},
   "outputs": [],
   "source": [
    "voting_dataset = unsw_labeled[['info_message', 'is_malware']].copy()"
   ]
  },
  {
   "cell_type": "code",
   "execution_count": 66,
   "metadata": {},
   "outputs": [],
   "source": [
    "voting_dataset['count_benign'] = voting_dataset.groupby(['info_message'])['is_malware'].transform(lambda x: (x == 0).sum())\n",
    "voting_dataset['count_malware'] = voting_dataset.groupby(['info_message'])['is_malware'].transform(lambda x: (x == 1).sum())"
   ]
  },
  {
   "cell_type": "code",
   "execution_count": 67,
   "metadata": {},
   "outputs": [],
   "source": [
    "voting_dataset['label'] = voting_dataset.apply(lambda x: 1 if x['count_malware'] > x['count_benign'] else 0, axis=1)"
   ]
  },
  {
   "cell_type": "code",
   "execution_count": 138,
   "metadata": {},
   "outputs": [],
   "source": [
    "unsw_labeled['is_malware']  = np.where(unsw_labeled['info_message'] == voting_dataset['info_message'], voting_dataset['label'], voting_dataset['label'])"
   ]
  },
  {
   "cell_type": "code",
   "execution_count": null,
   "metadata": {},
   "outputs": [],
   "source": [
    "unsw_labeled['count_benign'] = voting_dataset['count_benign'].copy()\n",
    "unsw_labeled['count_malware'] = voting_dataset['count_malware'].copy()"
   ]
  },
  {
   "cell_type": "code",
   "execution_count": null,
   "metadata": {},
   "outputs": [
    {
     "data": {
      "text/html": [
       "<div>\n",
       "<style scoped>\n",
       "    .dataframe tbody tr th:only-of-type {\n",
       "        vertical-align: middle;\n",
       "    }\n",
       "\n",
       "    .dataframe tbody tr th {\n",
       "        vertical-align: top;\n",
       "    }\n",
       "\n",
       "    .dataframe thead th {\n",
       "        text-align: right;\n",
       "    }\n",
       "</style>\n",
       "<table border=\"1\" class=\"dataframe\">\n",
       "  <thead>\n",
       "    <tr style=\"text-align: right;\">\n",
       "      <th></th>\n",
       "      <th>source_ip</th>\n",
       "      <th>destination_ip</th>\n",
       "      <th>source_port</th>\n",
       "      <th>destination_port</th>\n",
       "      <th>info_message</th>\n",
       "      <th>attack_category</th>\n",
       "      <th>is_malware</th>\n",
       "      <th>source_ip_info</th>\n",
       "      <th>source_port_info</th>\n",
       "      <th>dest_ip_info</th>\n",
       "      <th>dest_port_info</th>\n",
       "      <th>count_benign</th>\n",
       "      <th>count_malware</th>\n",
       "    </tr>\n",
       "  </thead>\n",
       "  <tbody>\n",
       "    <tr>\n",
       "      <th>1</th>\n",
       "      <td>175.45.176.1</td>\n",
       "      <td>149.171.126.18</td>\n",
       "      <td>4657</td>\n",
       "      <td>80</td>\n",
       "      <td>GET /oKmwKoVbq HTTP/1.1</td>\n",
       "      <td>NaN</td>\n",
       "      <td>0</td>\n",
       "      <td>175.45.176.1 GET /oKmwKoVbq HTTP/1.1</td>\n",
       "      <td>4657 GET /oKmwKoVbq HTTP/1.1</td>\n",
       "      <td>149.171.126.18 GET /oKmwKoVbq HTTP/1.1</td>\n",
       "      <td>80 GET /oKmwKoVbq HTTP/1.1</td>\n",
       "      <td>1</td>\n",
       "      <td>0</td>\n",
       "    </tr>\n",
       "    <tr>\n",
       "      <th>2</th>\n",
       "      <td>175.45.176.3</td>\n",
       "      <td>149.171.126.18</td>\n",
       "      <td>32473</td>\n",
       "      <td>80</td>\n",
       "      <td>GET /level/15/exec/-/buffers/assigned/dump HTTP/1.1</td>\n",
       "      <td>NaN</td>\n",
       "      <td>1</td>\n",
       "      <td>175.45.176.3 GET /level/15/exec/-/buffers/assigned/dump HTTP/1.1</td>\n",
       "      <td>32473 GET /level/15/exec/-/buffers/assigned/dump HTTP/1.1</td>\n",
       "      <td>149.171.126.18 GET /level/15/exec/-/buffers/assigned/dump HTTP/1.1</td>\n",
       "      <td>80 GET /level/15/exec/-/buffers/assigned/dump HTTP/1.1</td>\n",
       "      <td>1</td>\n",
       "      <td>7</td>\n",
       "    </tr>\n",
       "    <tr>\n",
       "      <th>6</th>\n",
       "      <td>175.45.176.0</td>\n",
       "      <td>149.171.126.17</td>\n",
       "      <td>49194</td>\n",
       "      <td>80</td>\n",
       "      <td>GET eLWfxXSPkc HTTP/1.1</td>\n",
       "      <td>NaN</td>\n",
       "      <td>0</td>\n",
       "      <td>175.45.176.0 GET eLWfxXSPkc HTTP/1.1</td>\n",
       "      <td>49194 GET eLWfxXSPkc HTTP/1.1</td>\n",
       "      <td>149.171.126.17 GET eLWfxXSPkc HTTP/1.1</td>\n",
       "      <td>80 GET eLWfxXSPkc HTTP/1.1</td>\n",
       "      <td>1</td>\n",
       "      <td>0</td>\n",
       "    </tr>\n",
       "    <tr>\n",
       "      <th>9</th>\n",
       "      <td>175.45.176.1</td>\n",
       "      <td>149.171.126.14</td>\n",
       "      <td>51435</td>\n",
       "      <td>80</td>\n",
       "      <td>GET / HTTP/1.1</td>\n",
       "      <td>NaN</td>\n",
       "      <td>0</td>\n",
       "      <td>175.45.176.1 GET / HTTP/1.1</td>\n",
       "      <td>51435 GET / HTTP/1.1</td>\n",
       "      <td>149.171.126.14 GET / HTTP/1.1</td>\n",
       "      <td>80 GET / HTTP/1.1</td>\n",
       "      <td>46862</td>\n",
       "      <td>1313</td>\n",
       "    </tr>\n",
       "    <tr>\n",
       "      <th>10</th>\n",
       "      <td>175.45.176.1</td>\n",
       "      <td>149.171.126.19</td>\n",
       "      <td>64694</td>\n",
       "      <td>80</td>\n",
       "      <td>GET /scripts/cbag/ag.exe?page=FileDownload&amp;id=../../../../../../../../../../../11G&amp;notimecard=1&amp;type=text&amp;subtype=html&amp;ct=1 HTTP/1.1</td>\n",
       "      <td>NaN</td>\n",
       "      <td>0</td>\n",
       "      <td>175.45.176.1 GET /scripts/cbag/ag.exe?page=FileDownload&amp;id=../../../../../../../../../../../11G&amp;notimecard=1&amp;type=text&amp;subtype=html&amp;ct=1 HTTP/1.1</td>\n",
       "      <td>64694 GET /scripts/cbag/ag.exe?page=FileDownload&amp;id=../../../../../../../../../../../11G&amp;notimecard=1&amp;type=text&amp;subtype=html&amp;ct=1 HTTP/1.1</td>\n",
       "      <td>149.171.126.19 GET /scripts/cbag/ag.exe?page=FileDownload&amp;id=../../../../../../../../../../../11G&amp;notimecard=1&amp;type=text&amp;subtype=html&amp;ct=1 HTTP/1.1</td>\n",
       "      <td>80 GET /scripts/cbag/ag.exe?page=FileDownload&amp;id=../../../../../../../../../../../11G&amp;notimecard=1&amp;type=text&amp;subtype=html&amp;ct=1 HTTP/1.1</td>\n",
       "      <td>1</td>\n",
       "      <td>0</td>\n",
       "    </tr>\n",
       "  </tbody>\n",
       "</table>\n",
       "</div>"
      ],
      "text/plain": [
       "       source_ip  destination_ip source_port destination_port   \n",
       "1   175.45.176.1  149.171.126.18        4657               80  \\\n",
       "2   175.45.176.3  149.171.126.18       32473               80   \n",
       "6   175.45.176.0  149.171.126.17       49194               80   \n",
       "9   175.45.176.1  149.171.126.14       51435               80   \n",
       "10  175.45.176.1  149.171.126.19       64694               80   \n",
       "\n",
       "                                                                                                                             info_message   \n",
       "1                                                                                                                GET /oKmwKoVbq HTTP/1.1   \\\n",
       "2                                                                                    GET /level/15/exec/-/buffers/assigned/dump HTTP/1.1    \n",
       "6                                                                                                                GET eLWfxXSPkc HTTP/1.1    \n",
       "9                                                                                                                         GET / HTTP/1.1    \n",
       "10  GET /scripts/cbag/ag.exe?page=FileDownload&id=../../../../../../../../../../../11G&notimecard=1&type=text&subtype=html&ct=1 HTTP/1.1    \n",
       "\n",
       "   attack_category  is_malware   \n",
       "1              NaN           0  \\\n",
       "2              NaN           1   \n",
       "6              NaN           0   \n",
       "9              NaN           0   \n",
       "10             NaN           0   \n",
       "\n",
       "                                                                                                                                        source_ip_info   \n",
       "1                                                                                                                175.45.176.1 GET /oKmwKoVbq HTTP/1.1   \\\n",
       "2                                                                                    175.45.176.3 GET /level/15/exec/-/buffers/assigned/dump HTTP/1.1    \n",
       "6                                                                                                                175.45.176.0 GET eLWfxXSPkc HTTP/1.1    \n",
       "9                                                                                                                         175.45.176.1 GET / HTTP/1.1    \n",
       "10  175.45.176.1 GET /scripts/cbag/ag.exe?page=FileDownload&id=../../../../../../../../../../../11G&notimecard=1&type=text&subtype=html&ct=1 HTTP/1.1    \n",
       "\n",
       "                                                                                                                               source_port_info   \n",
       "1                                                                                                                 4657 GET /oKmwKoVbq HTTP/1.1   \\\n",
       "2                                                                                    32473 GET /level/15/exec/-/buffers/assigned/dump HTTP/1.1    \n",
       "6                                                                                                                49194 GET eLWfxXSPkc HTTP/1.1    \n",
       "9                                                                                                                         51435 GET / HTTP/1.1    \n",
       "10  64694 GET /scripts/cbag/ag.exe?page=FileDownload&id=../../../../../../../../../../../11G&notimecard=1&type=text&subtype=html&ct=1 HTTP/1.1    \n",
       "\n",
       "                                                                                                                                            dest_ip_info   \n",
       "1                                                                                                                149.171.126.18 GET /oKmwKoVbq HTTP/1.1   \\\n",
       "2                                                                                    149.171.126.18 GET /level/15/exec/-/buffers/assigned/dump HTTP/1.1    \n",
       "6                                                                                                                149.171.126.17 GET eLWfxXSPkc HTTP/1.1    \n",
       "9                                                                                                                         149.171.126.14 GET / HTTP/1.1    \n",
       "10  149.171.126.19 GET /scripts/cbag/ag.exe?page=FileDownload&id=../../../../../../../../../../../11G&notimecard=1&type=text&subtype=html&ct=1 HTTP/1.1    \n",
       "\n",
       "                                                                                                                              dest_port_info   \n",
       "1                                                                                                                80 GET /oKmwKoVbq HTTP/1.1   \\\n",
       "2                                                                                    80 GET /level/15/exec/-/buffers/assigned/dump HTTP/1.1    \n",
       "6                                                                                                                80 GET eLWfxXSPkc HTTP/1.1    \n",
       "9                                                                                                                         80 GET / HTTP/1.1    \n",
       "10  80 GET /scripts/cbag/ag.exe?page=FileDownload&id=../../../../../../../../../../../11G&notimecard=1&type=text&subtype=html&ct=1 HTTP/1.1    \n",
       "\n",
       "    count_benign  count_malware  \n",
       "1              1              0  \n",
       "2              1              7  \n",
       "6              1              0  \n",
       "9          46862           1313  \n",
       "10             1              0  "
      ]
     },
     "execution_count": 32,
     "metadata": {},
     "output_type": "execute_result"
    }
   ],
   "source": [
    "unsw_labeled.head()"
   ]
  },
  {
   "cell_type": "code",
   "execution_count": null,
   "metadata": {},
   "outputs": [],
   "source": [
    "ambigous_data = unsw_labeled[unsw_labeled.count_benign == unsw_labeled.count_malware]"
   ]
  },
  {
   "cell_type": "code",
   "execution_count": 69,
   "metadata": {},
   "outputs": [
    {
     "data": {
      "text/html": [
       "<div>\n",
       "<style scoped>\n",
       "    .dataframe tbody tr th:only-of-type {\n",
       "        vertical-align: middle;\n",
       "    }\n",
       "\n",
       "    .dataframe tbody tr th {\n",
       "        vertical-align: top;\n",
       "    }\n",
       "\n",
       "    .dataframe thead th {\n",
       "        text-align: right;\n",
       "    }\n",
       "</style>\n",
       "<table border=\"1\" class=\"dataframe\">\n",
       "  <thead>\n",
       "    <tr style=\"text-align: right;\">\n",
       "      <th></th>\n",
       "      <th>source_ip</th>\n",
       "      <th>destination_ip</th>\n",
       "      <th>source_port</th>\n",
       "      <th>destination_port</th>\n",
       "      <th>info_message</th>\n",
       "      <th>attack_category</th>\n",
       "      <th>is_malware</th>\n",
       "      <th>source_ip_info</th>\n",
       "      <th>source_port_info</th>\n",
       "      <th>dest_ip_info</th>\n",
       "      <th>dest_port_info</th>\n",
       "      <th>count_benign</th>\n",
       "      <th>count_malware</th>\n",
       "    </tr>\n",
       "  </thead>\n",
       "  <tbody>\n",
       "    <tr>\n",
       "      <th>23911</th>\n",
       "      <td>175.45.176.1</td>\n",
       "      <td>149.171.126.11</td>\n",
       "      <td>31627</td>\n",
       "      <td>80</td>\n",
       "      <td>GET /%25s%25s%25s%25s%25s%25s%25s%25s%25s%25s%25s%25s%25s%25s%25s%25s%25s%25s%25s%25s%25s%25s%25s%25s%25s%25s%25s%25s%25s%25s%25s%25s HTTP/1.1</td>\n",
       "      <td>Fuzzers</td>\n",
       "      <td>0</td>\n",
       "      <td>175.45.176.1 GET /%25s%25s%25s%25s%25s%25s%25s%25s%25s%25s%25s%25s%25s%25s%25s%25s%25s%25s%25s%25s%25s%25s%25s%25s%25s%25s%25s%25s%25s%25s%25s%25s HTTP/1.1</td>\n",
       "      <td>31627 GET /%25s%25s%25s%25s%25s%25s%25s%25s%25s%25s%25s%25s%25s%25s%25s%25s%25s%25s%25s%25s%25s%25s%25s%25s%25s%25s%25s%25s%25s%25s%25s%25s HTTP/1.1</td>\n",
       "      <td>149.171.126.11 GET /%25s%25s%25s%25s%25s%25s%25s%25s%25s%25s%25s%25s%25s%25s%25s%25s%25s%25s%25s%25s%25s%25s%25s%25s%25s%25s%25s%25s%25s%25s%25s%25s HTTP/1.1</td>\n",
       "      <td>80 GET /%25s%25s%25s%25s%25s%25s%25s%25s%25s%25s%25s%25s%25s%25s%25s%25s%25s%25s%25s%25s%25s%25s%25s%25s%25s%25s%25s%25s%25s%25s%25s%25s HTTP/1.1</td>\n",
       "      <td>4</td>\n",
       "      <td>4</td>\n",
       "    </tr>\n",
       "    <tr>\n",
       "      <th>36334</th>\n",
       "      <td>175.45.176.3</td>\n",
       "      <td>149.171.126.11</td>\n",
       "      <td>65394</td>\n",
       "      <td>80</td>\n",
       "      <td>GET /V.php HTTP/1.1</td>\n",
       "      <td>Fuzzers</td>\n",
       "      <td>0</td>\n",
       "      <td>175.45.176.3 GET /V.php HTTP/1.1</td>\n",
       "      <td>65394 GET /V.php HTTP/1.1</td>\n",
       "      <td>149.171.126.11 GET /V.php HTTP/1.1</td>\n",
       "      <td>80 GET /V.php HTTP/1.1</td>\n",
       "      <td>1</td>\n",
       "      <td>1</td>\n",
       "    </tr>\n",
       "    <tr>\n",
       "      <th>44278</th>\n",
       "      <td>175.45.176.0</td>\n",
       "      <td>149.171.126.17</td>\n",
       "      <td>53573</td>\n",
       "      <td>80</td>\n",
       "      <td>GET /~aakuney/Aug20-flash/poc.html HTTP/1.1</td>\n",
       "      <td>Generic</td>\n",
       "      <td>0</td>\n",
       "      <td>175.45.176.0 GET /~aakuney/Aug20-flash/poc.html HTTP/1.1</td>\n",
       "      <td>53573 GET /~aakuney/Aug20-flash/poc.html HTTP/1.1</td>\n",
       "      <td>149.171.126.17 GET /~aakuney/Aug20-flash/poc.html HTTP/1.1</td>\n",
       "      <td>80 GET /~aakuney/Aug20-flash/poc.html HTTP/1.1</td>\n",
       "      <td>1</td>\n",
       "      <td>1</td>\n",
       "    </tr>\n",
       "    <tr>\n",
       "      <th>44279</th>\n",
       "      <td>175.45.176.0</td>\n",
       "      <td>149.171.126.17</td>\n",
       "      <td>53573</td>\n",
       "      <td>80</td>\n",
       "      <td>GET /~aakuney/Aug20-flash/poc.swf HTTP/1.1</td>\n",
       "      <td>Generic</td>\n",
       "      <td>0</td>\n",
       "      <td>175.45.176.0 GET /~aakuney/Aug20-flash/poc.swf HTTP/1.1</td>\n",
       "      <td>53573 GET /~aakuney/Aug20-flash/poc.swf HTTP/1.1</td>\n",
       "      <td>149.171.126.17 GET /~aakuney/Aug20-flash/poc.swf HTTP/1.1</td>\n",
       "      <td>80 GET /~aakuney/Aug20-flash/poc.swf HTTP/1.1</td>\n",
       "      <td>1</td>\n",
       "      <td>1</td>\n",
       "    </tr>\n",
       "    <tr>\n",
       "      <th>46843</th>\n",
       "      <td>175.45.176.1</td>\n",
       "      <td>149.171.126.16</td>\n",
       "      <td>30871</td>\n",
       "      <td>80</td>\n",
       "      <td>GET /~the/poc.mov HTTP/1.1</td>\n",
       "      <td>Generic</td>\n",
       "      <td>0</td>\n",
       "      <td>175.45.176.1 GET /~the/poc.mov HTTP/1.1</td>\n",
       "      <td>30871 GET /~the/poc.mov HTTP/1.1</td>\n",
       "      <td>149.171.126.16 GET /~the/poc.mov HTTP/1.1</td>\n",
       "      <td>80 GET /~the/poc.mov HTTP/1.1</td>\n",
       "      <td>1</td>\n",
       "      <td>1</td>\n",
       "    </tr>\n",
       "  </tbody>\n",
       "</table>\n",
       "</div>"
      ],
      "text/plain": [
       "          source_ip  destination_ip source_port destination_port   \n",
       "23911  175.45.176.1  149.171.126.11       31627               80  \\\n",
       "36334  175.45.176.3  149.171.126.11       65394               80   \n",
       "44278  175.45.176.0  149.171.126.17       53573               80   \n",
       "44279  175.45.176.0  149.171.126.17       53573               80   \n",
       "46843  175.45.176.1  149.171.126.16       30871               80   \n",
       "\n",
       "                                                                                                                                          info_message   \n",
       "23911  GET /%25s%25s%25s%25s%25s%25s%25s%25s%25s%25s%25s%25s%25s%25s%25s%25s%25s%25s%25s%25s%25s%25s%25s%25s%25s%25s%25s%25s%25s%25s%25s%25s HTTP/1.1   \\\n",
       "36334                                                                                                                             GET /V.php HTTP/1.1    \n",
       "44278                                                                                                     GET /~aakuney/Aug20-flash/poc.html HTTP/1.1    \n",
       "44279                                                                                                      GET /~aakuney/Aug20-flash/poc.swf HTTP/1.1    \n",
       "46843                                                                                                                      GET /~the/poc.mov HTTP/1.1    \n",
       "\n",
       "      attack_category  is_malware   \n",
       "23911        Fuzzers            0  \\\n",
       "36334        Fuzzers            0   \n",
       "44278         Generic           0   \n",
       "44279         Generic           0   \n",
       "46843         Generic           0   \n",
       "\n",
       "                                                                                                                                                     source_ip_info   \n",
       "23911  175.45.176.1 GET /%25s%25s%25s%25s%25s%25s%25s%25s%25s%25s%25s%25s%25s%25s%25s%25s%25s%25s%25s%25s%25s%25s%25s%25s%25s%25s%25s%25s%25s%25s%25s%25s HTTP/1.1   \\\n",
       "36334                                                                                                                             175.45.176.3 GET /V.php HTTP/1.1    \n",
       "44278                                                                                                     175.45.176.0 GET /~aakuney/Aug20-flash/poc.html HTTP/1.1    \n",
       "44279                                                                                                      175.45.176.0 GET /~aakuney/Aug20-flash/poc.swf HTTP/1.1    \n",
       "46843                                                                                                                      175.45.176.1 GET /~the/poc.mov HTTP/1.1    \n",
       "\n",
       "                                                                                                                                            source_port_info   \n",
       "23911  31627 GET /%25s%25s%25s%25s%25s%25s%25s%25s%25s%25s%25s%25s%25s%25s%25s%25s%25s%25s%25s%25s%25s%25s%25s%25s%25s%25s%25s%25s%25s%25s%25s%25s HTTP/1.1   \\\n",
       "36334                                                                                                                             65394 GET /V.php HTTP/1.1    \n",
       "44278                                                                                                     53573 GET /~aakuney/Aug20-flash/poc.html HTTP/1.1    \n",
       "44279                                                                                                      53573 GET /~aakuney/Aug20-flash/poc.swf HTTP/1.1    \n",
       "46843                                                                                                                      30871 GET /~the/poc.mov HTTP/1.1    \n",
       "\n",
       "                                                                                                                                                         dest_ip_info   \n",
       "23911  149.171.126.11 GET /%25s%25s%25s%25s%25s%25s%25s%25s%25s%25s%25s%25s%25s%25s%25s%25s%25s%25s%25s%25s%25s%25s%25s%25s%25s%25s%25s%25s%25s%25s%25s%25s HTTP/1.1   \\\n",
       "36334                                                                                                                             149.171.126.11 GET /V.php HTTP/1.1    \n",
       "44278                                                                                                     149.171.126.17 GET /~aakuney/Aug20-flash/poc.html HTTP/1.1    \n",
       "44279                                                                                                      149.171.126.17 GET /~aakuney/Aug20-flash/poc.swf HTTP/1.1    \n",
       "46843                                                                                                                      149.171.126.16 GET /~the/poc.mov HTTP/1.1    \n",
       "\n",
       "                                                                                                                                           dest_port_info   \n",
       "23911  80 GET /%25s%25s%25s%25s%25s%25s%25s%25s%25s%25s%25s%25s%25s%25s%25s%25s%25s%25s%25s%25s%25s%25s%25s%25s%25s%25s%25s%25s%25s%25s%25s%25s HTTP/1.1   \\\n",
       "36334                                                                                                                             80 GET /V.php HTTP/1.1    \n",
       "44278                                                                                                     80 GET /~aakuney/Aug20-flash/poc.html HTTP/1.1    \n",
       "44279                                                                                                      80 GET /~aakuney/Aug20-flash/poc.swf HTTP/1.1    \n",
       "46843                                                                                                                      80 GET /~the/poc.mov HTTP/1.1    \n",
       "\n",
       "       count_benign  count_malware  \n",
       "23911             4              4  \n",
       "36334             1              1  \n",
       "44278             1              1  \n",
       "44279             1              1  \n",
       "46843             1              1  "
      ]
     },
     "execution_count": 69,
     "metadata": {},
     "output_type": "execute_result"
    }
   ],
   "source": [
    "ambigous_data.head()"
   ]
  },
  {
   "cell_type": "code",
   "execution_count": 70,
   "metadata": {},
   "outputs": [],
   "source": [
    "unsw_labeled = unsw_labeled.drop(unsw_labeled[unsw_labeled.count_benign == unsw_labeled.count_malware].index)"
   ]
  },
  {
   "cell_type": "code",
   "execution_count": 71,
   "metadata": {},
   "outputs": [
    {
     "data": {
      "image/png": "[encoded data removed]",
      "text/plain": [
       "<Figure size 432x288 with 1 Axes>"
      ]
     },
     "metadata": {
      "needs_background": "light"
     },
     "output_type": "display_data"
    }
   ],
   "source": [
    "unsw_labeled.is_malware.value_counts().plot(kind='bar', title='Malware vs Benign')\n",
    "plt.xlabel('is_malware')\n",
    "plt.ylabel('count')\n",
    "value_counts = unsw_labeled.is_malware.value_counts()\n",
    "for i, count in enumerate(value_counts):\n",
    "    plt.text(i, count, str(count), ha='center', va='bottom')\n",
    "plt.show()"
   ]
  },
  {
   "cell_type": "code",
   "execution_count": 72,
   "metadata": {},
   "outputs": [],
   "source": [
    "unsw_labeled.to_parquet('C:\\\\Users\\\\asus\\\\Documents\\\\nids-pcap-dataset\\\\unsw_parquet_used_dataset\\\\unsw_labeled.parquet')"
   ]
  },
  {
   "cell_type": "code",
   "execution_count": 104,
   "metadata": {},
   "outputs": [
    {
     "data": {
      "text/plain": [
       "is_malware\n",
       "0    110274\n",
       "1     14906\n",
       "Name: count, dtype: int64"
      ]
     },
     "execution_count": 104,
     "metadata": {},
     "output_type": "execute_result"
    }
   ],
   "source": [
    "unsw_labeled.is_malware.value_counts()"
   ]
  },
  {
   "cell_type": "code",
   "execution_count": 88,
   "metadata": {},
   "outputs": [],
   "source": [
    "unsw_nd = unsw_labeled.drop_duplicates(subset=['info_message'], keep='first')"
   ]
  },
  {
   "cell_type": "code",
   "execution_count": 89,
   "metadata": {},
   "outputs": [
    {
     "data": {
      "text/plain": [
       "is_malware\n",
       "1    8009\n",
       "0    2252\n",
       "Name: count, dtype: int64"
      ]
     },
     "execution_count": 89,
     "metadata": {},
     "output_type": "execute_result"
    }
   ],
   "source": [
    "unsw_nd.is_malware.value_counts()"
   ]
  },
  {
   "cell_type": "code",
   "execution_count": 91,
   "metadata": {},
   "outputs": [],
   "source": [
    "unsw_nd_sip = unsw_labeled.drop_duplicates(subset=['source_ip_info'], keep='first')"
   ]
  },
  {
   "cell_type": "code",
   "execution_count": 94,
   "metadata": {},
   "outputs": [
    {
     "data": {
      "text/plain": [
       "is_malware\n",
       "1    9996\n",
       "0    3640\n",
       "Name: count, dtype: int64"
      ]
     },
     "execution_count": 94,
     "metadata": {},
     "output_type": "execute_result"
    }
   ],
   "source": [
    "unsw_nd_sip.is_malware.value_counts()"
   ]
  },
  {
   "cell_type": "code",
   "execution_count": 95,
   "metadata": {},
   "outputs": [],
   "source": [
    "unsw_nd_dip = unsw_labeled.drop_duplicates(subset=['dest_ip_info'], keep='first')"
   ]
  },
  {
   "cell_type": "code",
   "execution_count": 96,
   "metadata": {},
   "outputs": [
    {
     "data": {
      "text/plain": [
       "is_malware\n",
       "1    11331\n",
       "0     3623\n",
       "Name: count, dtype: int64"
      ]
     },
     "execution_count": 96,
     "metadata": {},
     "output_type": "execute_result"
    }
   ],
   "source": [
    "unsw_nd_dip.is_malware.value_counts()"
   ]
  },
  {
   "cell_type": "code",
   "execution_count": 97,
   "metadata": {},
   "outputs": [],
   "source": [
    "unsw_nd_sp = unsw_labeled.drop_duplicates(subset=['source_port_info'], keep='first')"
   ]
  },
  {
   "cell_type": "code",
   "execution_count": 98,
   "metadata": {},
   "outputs": [
    {
     "data": {
      "text/plain": [
       "is_malware\n",
       "0    81007\n",
       "1    13683\n",
       "Name: count, dtype: int64"
      ]
     },
     "execution_count": 98,
     "metadata": {},
     "output_type": "execute_result"
    }
   ],
   "source": [
    "unsw_nd_sp.is_malware.value_counts()"
   ]
  },
  {
   "cell_type": "code",
   "execution_count": 100,
   "metadata": {},
   "outputs": [],
   "source": [
    "unsw_nd_dp = unsw_labeled.drop_duplicates(subset=['dest_port_info'], keep='first')"
   ]
  },
  {
   "cell_type": "code",
   "execution_count": 102,
   "metadata": {},
   "outputs": [
    {
     "data": {
      "text/plain": [
       "is_malware\n",
       "1    8009\n",
       "0    2252\n",
       "Name: count, dtype: int64"
      ]
     },
     "execution_count": 102,
     "metadata": {},
     "output_type": "execute_result"
    }
   ],
   "source": [
    "unsw_nd_dp.is_malware.value_counts()"
   ]
  },
  {
   "attachments": {},
   "cell_type": "markdown",
   "metadata": {},
   "source": [
    "# Graph Modeling"
   ]
  },
  {
   "cell_type": "code",
   "execution_count": 73,
   "metadata": {},
   "outputs": [],
   "source": [
    "import networkx as nx\n",
    "import torch\n",
    "import pickle"
   ]
  },
  {
   "cell_type": "code",
   "execution_count": 1,
   "metadata": {},
   "outputs": [],
   "source": [
    "unsw_labeled_path = \"C:\\\\Users\\\\asus\\\\Documents\\\\nids-pcap-dataset\\\\unsw_parquet_used_dataset\\\\unsw_labeled.parquet\""
   ]
  },
  {
   "cell_type": "code",
   "execution_count": 75,
   "metadata": {},
   "outputs": [],
   "source": [
    "unsw_labeled = pd.read_parquet(unsw_labeled_path)"
   ]
  },
  {
   "cell_type": "code",
   "execution_count": 76,
   "metadata": {},
   "outputs": [
    {
     "data": {
      "text/plain": [
       "<AxesSubplot:title={'center':'Malware vs Benign'}, xlabel='is_malware'>"
      ]
     },
     "execution_count": 76,
     "metadata": {},
     "output_type": "execute_result"
    },
    {
     "data": {
      "image/png": "[encoded data removed]",
      "text/plain": [
       "<Figure size 432x288 with 1 Axes>"
      ]
     },
     "metadata": {
      "needs_background": "light"
     },
     "output_type": "display_data"
    }
   ],
   "source": [
    "unsw_labeled.is_malware.value_counts().plot(kind='bar', title='Malware vs Benign')"
   ]
  },
  {
   "attachments": {},
   "cell_type": "markdown",
   "metadata": {},
   "source": [
    "## Combination A\n",
    "### info_message as Node & source_ip as Edge"
   ]
  },
  {
   "cell_type": "code",
   "execution_count": 77,
   "metadata": {},
   "outputs": [],
   "source": [
    "graph_A = nx.Graph()\n",
    "for info_message in unsw_labeled[\"info_message\"].unique():\n",
    "    graph_A.add_node(info_message)\n",
    "\n",
    "for (source_ip), group in unsw_labeled.groupby([\"source_ip\"]):\n",
    "    for i in range(len(group) - 1):\n",
    "        from_node = group.iloc[i][\"info_message\"]\n",
    "        to_node = group.iloc[i+1][\"info_message\"]\n",
    "        if graph_A.has_edge(from_node, to_node):\n",
    "            graph_A[from_node][to_node][\"weight\"] += 1\n",
    "        else:\n",
    "            graph_A.add_edge(from_node, to_node, weight=1)"
   ]
  },
  {
   "cell_type": "code",
   "execution_count": 78,
   "metadata": {},
   "outputs": [],
   "source": [
    "pickle.dump(graph_A, open('model_graph/graph_A.pickle', 'wb'))"
   ]
  },
  {
   "cell_type": "code",
   "execution_count": 126,
   "metadata": {},
   "outputs": [],
   "source": [
    "## open the graph\n",
    "graph_A = pickle.load(open('model_graph/graph_A.pickle', 'rb'))"
   ]
  },
  {
   "cell_type": "code",
   "execution_count": 127,
   "metadata": {},
   "outputs": [
    {
     "name": "stdout",
     "output_type": "stream",
     "text": [
      "Isolated nodes: 0 \n",
      "\n",
      "Number of nodes: 10261 \n",
      "\n"
     ]
    }
   ],
   "source": [
    "# Get a list of nodes with no edges\n",
    "isolated_nodes = list(nx.isolates(graph_A))\n",
    "# Print the isolated nodes\n",
    "print(\"Isolated nodes:\", len(isolated_nodes), \"\\n\")\n",
    "# get the number of nodes in the graph\n",
    "print(\"Number of nodes:\", len(graph_A.nodes()), \"\\n\")"
   ]
  },
  {
   "attachments": {},
   "cell_type": "markdown",
   "metadata": {},
   "source": [
    "## Combination B\n",
    "### Info_message as Node & source_port as Edge"
   ]
  },
  {
   "cell_type": "code",
   "execution_count": 80,
   "metadata": {},
   "outputs": [],
   "source": [
    "graph_B = nx.Graph()\n",
    "for info_message in unsw_labeled[\"info_message\"].unique():\n",
    "    graph_B.add_node(info_message)\n",
    "\n",
    "for (source_port), group in unsw_labeled.groupby([\"source_port\"]):\n",
    "    for i in range(len(group) - 1):\n",
    "        from_node = group.iloc[i][\"info_message\"]\n",
    "        to_node = group.iloc[i+1][\"info_message\"]\n",
    "        if graph_B.has_edge(from_node, to_node):\n",
    "            graph_B[from_node][to_node][\"weight\"] += 1\n",
    "        else:\n",
    "            graph_B.add_edge(from_node, to_node, weight=1)"
   ]
  },
  {
   "cell_type": "code",
   "execution_count": 81,
   "metadata": {},
   "outputs": [],
   "source": [
    "pickle.dump(graph_B, open('model_graph/graph_B.pickle', 'wb'))"
   ]
  },
  {
   "cell_type": "code",
   "execution_count": 128,
   "metadata": {},
   "outputs": [],
   "source": [
    "## open the graph\n",
    "graph_B = pickle.load(open('model_graph/graph_B.pickle', 'rb'))"
   ]
  },
  {
   "cell_type": "code",
   "execution_count": 129,
   "metadata": {},
   "outputs": [
    {
     "name": "stdout",
     "output_type": "stream",
     "text": [
      "Isolated nodes: 2251 \n",
      "\n",
      "Number of nodes: 10261 \n",
      "\n"
     ]
    }
   ],
   "source": [
    "# Get a list of nodes with no edges\n",
    "isolated_nodes = list(nx.isolates(graph_B))\n",
    "\n",
    "# Print the isolated nodes\n",
    "print(\"Isolated nodes:\", len(isolated_nodes), \"\\n\")\n",
    "# get the number of nodes in the graph\n",
    "print(\"Number of nodes:\", len(graph_B.nodes()), \"\\n\")"
   ]
  },
  {
   "attachments": {},
   "cell_type": "markdown",
   "metadata": {},
   "source": [
    "## Combination C\n",
    "### 1. info_message as Node\n",
    "#### 2. source_ip & source_port as Edge"
   ]
  },
  {
   "cell_type": "code",
   "execution_count": 83,
   "metadata": {},
   "outputs": [],
   "source": [
    "graph_C = nx.Graph()\n",
    "for info_message in unsw_labeled[\"info_message\"].unique():\n",
    "    graph_C.add_node(info_message)\n",
    "\n",
    "for (source_ip, source_port), group in unsw_labeled.groupby([\"source_ip\", \"source_port\"]):\n",
    "    for i in range(len(group) - 1):\n",
    "        from_node = group.iloc[i][\"info_message\"]\n",
    "        to_node = group.iloc[i+1][\"info_message\"]\n",
    "        if graph_C.has_edge(from_node, to_node):\n",
    "            graph_C[from_node][to_node][\"weight\"] += 1\n",
    "        else:\n",
    "            graph_C.add_edge(from_node, to_node, weight=1)"
   ]
  },
  {
   "cell_type": "code",
   "execution_count": 84,
   "metadata": {},
   "outputs": [],
   "source": [
    "pickle.dump(graph_C, open('model_graph/graph_C.pickle', 'wb'))"
   ]
  },
  {
   "cell_type": "code",
   "execution_count": 130,
   "metadata": {},
   "outputs": [],
   "source": [
    "## open the graph\n",
    "graph_C = pickle.load(open('model_graph/graph_C.pickle', 'rb'))"
   ]
  },
  {
   "cell_type": "code",
   "execution_count": 131,
   "metadata": {},
   "outputs": [
    {
     "name": "stdout",
     "output_type": "stream",
     "text": [
      "Isolated nodes: 7413 \n",
      "\n",
      "Number of nodes: 10261 \n",
      "\n"
     ]
    }
   ],
   "source": [
    "# Get a list of nodes with no edges\n",
    "isolated_nodes = list(nx.isolates(graph_C))\n",
    "\n",
    "# Print the isolated nodes\n",
    "print(\"Isolated nodes:\", len(isolated_nodes), \"\\n\")\n",
    "# get the number of nodes in the graph\n",
    "print(\"Number of nodes:\", len(graph_C.nodes()), \"\\n\")"
   ]
  },
  {
   "attachments": {},
   "cell_type": "markdown",
   "metadata": {},
   "source": [
    "## Combination D\n",
    "### source_port_info as Node & source_ip as Edge"
   ]
  },
  {
   "cell_type": "code",
   "execution_count": 115,
   "metadata": {},
   "outputs": [],
   "source": [
    "graph_D = nx.Graph()\n",
    "for info_message in unsw_labeled[\"source_port_info\"].unique():\n",
    "    graph_D.add_node(info_message)\n",
    "for (source_ip), group in unsw_labeled.groupby([\"source_ip\"]):\n",
    "    for i in range(len(group) - 1):\n",
    "        from_node = group.iloc[i][\"source_port_info\"]\n",
    "        to_node = group.iloc[i+1][\"source_port_info\"]\n",
    "        if graph_D.has_edge(from_node, to_node):\n",
    "            graph_D[from_node][to_node][\"weight\"] += 1\n",
    "        else:\n",
    "            graph_D.add_edge(from_node, to_node, weight=1)"
   ]
  },
  {
   "cell_type": "code",
   "execution_count": 119,
   "metadata": {},
   "outputs": [],
   "source": [
    "pickle.dump(graph_D, open('model_graph/graph_D.pickle', 'wb'))"
   ]
  },
  {
   "cell_type": "code",
   "execution_count": 132,
   "metadata": {},
   "outputs": [],
   "source": [
    "## open the graph\n",
    "graph_D = pickle.load(open('model_graph/graph_D.pickle', 'rb'))"
   ]
  },
  {
   "cell_type": "code",
   "execution_count": 133,
   "metadata": {},
   "outputs": [
    {
     "name": "stdout",
     "output_type": "stream",
     "text": [
      "Isolated nodes: 0 \n",
      "\n",
      "Number of nodes: 94690 \n",
      "\n"
     ]
    }
   ],
   "source": [
    "# Get a list of nodes with no edges\n",
    "isolated_nodes = list(nx.isolates(graph_D))\n",
    "# Print the isolated nodes\n",
    "print(\"Isolated nodes:\", len(isolated_nodes), \"\\n\")\n",
    "# get the number of nodes in the graph\n",
    "print(\"Number of nodes:\", len(graph_D.nodes()), \"\\n\")"
   ]
  },
  {
   "attachments": {},
   "cell_type": "markdown",
   "metadata": {},
   "source": [
    "## Combination E\n",
    "### source_port_info as Node & source_port as Edge"
   ]
  },
  {
   "cell_type": "code",
   "execution_count": 117,
   "metadata": {},
   "outputs": [],
   "source": [
    "graph_E = nx.Graph()\n",
    "for info_message in unsw_labeled[\"source_port_info\"].unique():\n",
    "    graph_E.add_node(info_message)\n",
    "for (source_port) , group in unsw_labeled.groupby([\"source_port\"]):\n",
    "    for i in range(len(group) - 1):\n",
    "        from_node = group.iloc[i][\"source_port_info\"]\n",
    "        to_node = group.iloc[i+1][\"source_port_info\"]\n",
    "        if graph_E.has_edge(from_node, to_node):\n",
    "            graph_E[from_node][to_node][\"weight\"] += 1\n",
    "        else:\n",
    "            graph_E.add_edge(from_node, to_node, weight=1)"
   ]
  },
  {
   "cell_type": "code",
   "execution_count": 120,
   "metadata": {},
   "outputs": [],
   "source": [
    "pickle.dump(graph_E, open('model_graph/graph_E.pickle', 'wb'))"
   ]
  },
  {
   "cell_type": "code",
   "execution_count": 134,
   "metadata": {},
   "outputs": [],
   "source": [
    "## open the graph\n",
    "graph_E = pickle.load(open('model_graph/graph_E.pickle', 'rb'))"
   ]
  },
  {
   "cell_type": "code",
   "execution_count": 135,
   "metadata": {},
   "outputs": [
    {
     "name": "stdout",
     "output_type": "stream",
     "text": [
      "Isolated nodes: 8749 \n",
      "\n",
      "Number of nodes: 94690 \n",
      "\n"
     ]
    }
   ],
   "source": [
    "# Get a list of nodes with no edges\n",
    "isolated_nodes = list(nx.isolates(graph_E))\n",
    "\n",
    "# Print the isolated nodes\n",
    "print(\"Isolated nodes:\", len(isolated_nodes), \"\\n\")\n",
    "# get the number of nodes in the graph\n",
    "print(\"Number of nodes:\", len(graph_E.nodes()), \"\\n\")"
   ]
  },
  {
   "attachments": {},
   "cell_type": "markdown",
   "metadata": {},
   "source": [
    "## Combination F\n",
    "### source_port_info as Node & source_ip|source_port as Edge"
   ]
  },
  {
   "cell_type": "code",
   "execution_count": 122,
   "metadata": {},
   "outputs": [],
   "source": [
    "graph_F = nx.Graph()\n",
    "for info_message in unsw_labeled[\"source_port_info\"].unique():\n",
    "    graph_F.add_node(info_message)\n",
    "for (source_ip, source_port), group in unsw_labeled.groupby([\"source_ip\", \"source_port\"]):\n",
    "    for i in range(len(group) - 1):\n",
    "        from_node = group.iloc[i][\"source_port_info\"]\n",
    "        to_node = group.iloc[i+1][\"source_port_info\"]\n",
    "        if graph_F.has_edge(from_node, to_node):\n",
    "            graph_F[from_node][to_node][\"weight\"] += 1\n",
    "        else:\n",
    "            graph_F.add_edge(from_node, to_node, weight=1)"
   ]
  },
  {
   "cell_type": "code",
   "execution_count": 125,
   "metadata": {},
   "outputs": [],
   "source": [
    "pickle.dump(graph_F, open('model_graph/graph_F.pickle', 'wb'))"
   ]
  },
  {
   "cell_type": "code",
   "execution_count": 136,
   "metadata": {},
   "outputs": [],
   "source": [
    "## open the graph\n",
    "graph_F = pickle.load(open('model_graph/graph_F.pickle', 'rb'))"
   ]
  },
  {
   "cell_type": "code",
   "execution_count": 137,
   "metadata": {},
   "outputs": [
    {
     "name": "stdout",
     "output_type": "stream",
     "text": [
      "Isolated nodes: 24693 \n",
      "\n",
      "Number of nodes: 94690 \n",
      "\n"
     ]
    }
   ],
   "source": [
    "# Get a list of nodes with no edges\n",
    "isolated_nodes = list(nx.isolates(graph_F))\n",
    "\n",
    "# Print the isolated nodes\n",
    "print(\"Isolated nodes:\", len(isolated_nodes), \"\\n\")\n",
    "# get the number of nodes in the graph\n",
    "print(\"Number of nodes:\", len(graph_F.nodes()), \"\\n\")"
   ]
  }
 ],
 "metadata": {
  "kernelspec": {
   "display_name": "Python 3",
   "language": "python",
   "name": "python3"
  },
  "language_info": {
   "codemirror_mode": {
    "name": "ipython",
    "version": 3
   },
   "file_extension": ".py",
   "mimetype": "text/x-python",
   "name": "python",
   "nbconvert_exporter": "python",
   "pygments_lexer": "ipython3",
   "version": "3.8.0"
  },
  "orig_nbformat": 4
 },
 "nbformat": 4,
 "nbformat_minor": 2
}
